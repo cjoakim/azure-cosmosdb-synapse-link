{
  "nbformat": 4,
  "nbformat_minor": 2,
  "cells": [
    {
      "cell_type": "code",
      "execution_count": 42,
      "outputs": [
        {
          "output_type": "display_data",
          "data": {
            "application/vnd.livy.statement-meta+json": {
              "spark_pool": "poolspark3s",
              "session_id": 31,
              "statement_id": 1,
              "state": "finished",
              "livy_statement_state": "available",
              "queued_time": "2022-02-04T16:06:28.018322Z",
              "session_start_time": "2022-02-04T16:06:28.0619385Z",
              "execution_start_time": "2022-02-04T16:07:34.9886144Z",
              "execution_finish_time": "2022-02-04T16:07:55.8524048Z"
            },
            "text/plain": "StatementMeta(poolspark3s, 31, 1, Finished, Available)"
          },
          "metadata": {}
        },
        {
          "output_type": "stream",
          "name": "stdout",
          "text": "dv_v\n<class 'pyspark.sql.dataframe.DataFrame'>\nroot\n |-- id: string (nullable = true)\n |-- label: string (nullable = true)\n |-- name: string (nullable = true)\n |-- attributes: string (nullable = true)\n\n\ndv_e\n<class 'pyspark.sql.dataframe.DataFrame'>\nroot\n |-- src: string (nullable = true)\n |-- dst: string (nullable = true)\n |-- relationship: string (nullable = true)\n |-- attributes: string (nullable = true)\n\n"
        },
        {
          "output_type": "display_data",
          "data": {
            "application/vnd.synapse.widget-view+json": {
              "widget_id": "b7277cea-0be8-4fc1-855d-eaf3960d6c0a",
              "widget_type": "Synapse.DataFrame"
            },
            "text/plain": "SynapseWidget(Synapse.DataFrame, b7277cea-0be8-4fc1-855d-eaf3960d6c0a)"
          },
          "metadata": {}
        },
        {
          "output_type": "display_data",
          "data": {
            "application/vnd.synapse.widget-view+json": {
              "widget_id": "44fc454f-2b0f-4e61-adb8-cfd34d6f556a",
              "widget_type": "Synapse.DataFrame"
            },
            "text/plain": "SynapseWidget(Synapse.DataFrame, 44fc454f-2b0f-4e61-adb8-cfd34d6f556a)"
          },
          "metadata": {}
        }
      ],
      "metadata": {
        "microsoft": {
          "language": "python"
        },
        "collapsed": false
      },
      "source": [
        "%%pyspark\n",
        "\n",
        "from pyspark.sql.types import * \n",
        "from graphframes import *\n",
        "\n",
        "blob_account_name = \"cjoakimstorage\"\n",
        "blob_container_name = \"synapse\"\n",
        "from pyspark.sql import SparkSession\n",
        "\n",
        "sc = SparkSession.builder.getOrCreate()\n",
        "token_library = sc._jvm.com.microsoft.azure.synapse.tokenlibrary.TokenLibrary\n",
        "blob_sas_token = token_library.getConnectionString(\"cjoakimstorageAzureBlobStorage\")\n",
        "\n",
        "vertices_csv_blob = 'wasbs://synapse@cjoakimstorage.blob.core.windows.net/graphframes/imdb_vertices.csv'\n",
        "edges_csv_blob    = 'wasbs://synapse@cjoakimstorage.blob.core.windows.net/graphframes/imdb_edges.csv'\n",
        "\n",
        "spark.conf.set(\n",
        "    'fs.azure.sas.%s.%s.blob.core.windows.net' % (blob_container_name, blob_account_name),\n",
        "    blob_sas_token)\n",
        "\n",
        "v_fields = [\n",
        "    StructField(\"id\", StringType(), True),\n",
        "    StructField(\"label\", StringType(), True),\n",
        "    StructField(\"name\", StringType(), True),\n",
        "    StructField(\"attributes\", StringType(), True)\n",
        "]\n",
        "\n",
        "e_fields = [\n",
        "    StructField(\"src\", StringType(), True),\n",
        "    StructField(\"dst\", StringType(), True),\n",
        "    StructField(\"relationship\", StringType(), True),\n",
        "    StructField(\"attributes\", StringType(), True)\n",
        "]\n",
        "\n",
        "df_v = spark.read.load(\n",
        "    vertices_csv_blob, \n",
        "    format='csv', \n",
        "    header=True, \n",
        "    delimiter='|',\n",
        "    schema=StructType(v_fields))\n",
        "\n",
        "df_e = spark.read.load(\n",
        "    edges_csv_blob,\n",
        "    format='csv',\n",
        "    header=True,\n",
        "    delimiter='|',\n",
        "    schema=StructType(e_fields))\n",
        "\n",
        "print('dv_v')\n",
        "print(str(type(df_v)))  # <class 'pyspark.sql.dataframe.DataFrame'>\n",
        "df_v.printSchema()\n",
        "display(df_v.limit(10))\n",
        "\n",
        "\n",
        "print('dv_e')\n",
        "print(str(type(df_e)))\n",
        "df_e.printSchema()\n",
        "display(df_e.limit(10))\n",
        ""
      ]
    },
    {
      "cell_type": "code",
      "execution_count": 43,
      "outputs": [
        {
          "output_type": "display_data",
          "data": {
            "application/vnd.livy.statement-meta+json": {
              "spark_pool": "poolspark3s",
              "session_id": 31,
              "statement_id": 2,
              "state": "finished",
              "livy_statement_state": "available",
              "queued_time": "2022-02-04T16:06:28.1333315Z",
              "session_start_time": null,
              "execution_start_time": "2022-02-04T16:07:55.98922Z",
              "execution_finish_time": "2022-02-04T16:07:56.1487138Z"
            },
            "text/plain": "StatementMeta(poolspark3s, 31, 2, Finished, Available)"
          },
          "metadata": {}
        }
      ],
      "metadata": {
        "jupyter": {
          "source_hidden": false,
          "outputs_hidden": false
        },
        "nteract": {
          "transient": {
            "deleting": false
          }
        }
      },
      "source": [
        "from pyspark.sql import SparkSession\n",
        "from pyspark.sql.types import *\n",
        "\n",
        "import pyspark.sql.functions as F \n",
        "\n",
        "def write_df_to_csv_blob(df, out_csv):\n",
        "    # See https://github.com/Azure-Samples/Synapse/tree/main/Notebooks/PySpark\n",
        "\n",
        "    # Azure storage account info\n",
        "    blob_account_name   = 'cjoakimstorage'\n",
        "    blob_container_name = 'synapse'\n",
        "    blob_relative_path  = 'graphframes'\n",
        "    linked_service_name = 'cjoakimstorageAzureBlobStorage'\n",
        "\n",
        "    blob_sas_token = mssparkutils.credentials.getConnectionStringOrCreds(linked_service_name)\n",
        "    #print('blob_sas_token: {}'.format(blob_sas_token))\n",
        "\n",
        "    # Allow Spark to access from Blob remotely\n",
        "    wasbs_path = 'wasbs://%s@%s.blob.core.windows.net/%s' % (\n",
        "        blob_container_name, blob_account_name, blob_relative_path)\n",
        "\n",
        "    spark.conf.set('fs.azure.sas.%s.%s.blob.core.windows.net' % (\n",
        "        blob_container_name, blob_account_name), blob_sas_token)\n",
        "\n",
        "    csv_path = '{}{}'.format(wasbs_path, out_csv)\n",
        "\n",
        "    print('wasbs_path: ' + wasbs_path)\n",
        "    print('csv_path:   ' + csv_path)\n",
        "\n",
        "    # Write to blob storage, coalesce it into one CSV file\n",
        "    df.coalesce(1).write.csv(csv_path, mode='overwrite', header='true')\n",
        "    print('written')\n",
        "\n",
        "def write_df_to_json_blob(df, out):\n",
        "    # See https://github.com/Azure-Samples/Synapse/tree/main/Notebooks/PySpark\n",
        "\n",
        "    # Azure storage account info\n",
        "    blob_account_name   = 'cjoakimstorage'\n",
        "    blob_container_name = 'synapse'\n",
        "    blob_relative_path  = 'graphframes'\n",
        "    linked_service_name = 'cjoakimstorageAzureBlobStorage'\n",
        "\n",
        "    blob_sas_token = mssparkutils.credentials.getConnectionStringOrCreds(linked_service_name)\n",
        "    #print('blob_sas_token: {}'.format(blob_sas_token))\n",
        "\n",
        "    # Allow Spark to access from Blob remotely\n",
        "    wasbs_path = 'wasbs://%s@%s.blob.core.windows.net/%s' % (\n",
        "        blob_container_name, blob_account_name, blob_relative_path)\n",
        "\n",
        "    spark.conf.set('fs.azure.sas.%s.%s.blob.core.windows.net' % (\n",
        "        blob_container_name, blob_account_name), blob_sas_token)\n",
        "\n",
        "    out_path = '{}{}'.format(wasbs_path, out)\n",
        "\n",
        "    print('wasbs_path: ' + wasbs_path)\n",
        "    print('out_path:   ' + out_path)\n",
        "\n",
        "    # Write to blob storage, coalesce it into one file\n",
        "    df.coalesce(1).write.json(out_path, mode='overwrite')\n",
        "    print('written')\n",
        ""
      ]
    },
    {
      "cell_type": "code",
      "execution_count": 44,
      "outputs": [
        {
          "output_type": "display_data",
          "data": {
            "application/vnd.livy.statement-meta+json": {
              "spark_pool": "poolspark3s",
              "session_id": 31,
              "statement_id": 3,
              "state": "finished",
              "livy_statement_state": "available",
              "queued_time": "2022-02-04T16:06:28.3094754Z",
              "session_start_time": null,
              "execution_start_time": "2022-02-04T16:07:56.2605951Z",
              "execution_finish_time": "2022-02-04T16:07:56.7936746Z"
            },
            "text/plain": "StatementMeta(poolspark3s, 31, 3, Finished, Available)"
          },
          "metadata": {}
        },
        {
          "output_type": "stream",
          "name": "stdout",
          "text": "df_v cached\ndf_e cached"
        }
      ],
      "metadata": {
        "jupyter": {
          "source_hidden": false,
          "outputs_hidden": false
        },
        "nteract": {
          "transient": {
            "deleting": false
          }
        },
        "microsoft": {
          "language": "python"
        }
      },
      "source": [
        "%%pyspark\n",
        "\n",
        "# https://docs.microsoft.com/en-us/azure/synapse-analytics/spark/apache-spark-development-using-notebooks\n",
        "\n",
        "df_v.createOrReplaceTempView('dfv')\n",
        "print('df_v cached')\n",
        "\n",
        "df_e.createOrReplaceTempView('dfe')\n",
        "print('df_e cached')\n",
        ""
      ]
    },
    {
      "cell_type": "code",
      "execution_count": 45,
      "outputs": [
        {
          "output_type": "display_data",
          "data": {
            "application/vnd.livy.statement-meta+json": {
              "spark_pool": "poolspark3s",
              "session_id": 31,
              "statement_id": 4,
              "state": "finished",
              "livy_statement_state": "available",
              "queued_time": "2022-02-04T16:06:28.40582Z",
              "session_start_time": null,
              "execution_start_time": "2022-02-04T16:07:56.8993717Z",
              "execution_finish_time": "2022-02-04T16:07:59.6430179Z"
            },
            "text/plain": "StatementMeta(poolspark3s, 31, 4, Finished, Available)"
          },
          "metadata": {}
        },
        {
          "output_type": "execute_result",
          "data": {
            "application/vnd.synapse.sparksql-result+json": {
              "schema": {
                "type": "struct",
                "fields": [
                  {
                    "name": "id",
                    "type": "string",
                    "nullable": true,
                    "metadata": {}
                  },
                  {
                    "name": "label",
                    "type": "string",
                    "nullable": true,
                    "metadata": {}
                  },
                  {
                    "name": "name",
                    "type": "string",
                    "nullable": true,
                    "metadata": {}
                  },
                  {
                    "name": "attributes",
                    "type": "string",
                    "nullable": true,
                    "metadata": {}
                  }
                ]
              },
              "data": [
                [
                  "tt0015724",
                  "Movie",
                  "Dama de noche",
                  "{\"year\": 1993, \"minutes\": 102, \"row_idx\": 1}"
                ],
                [
                  "tt0035423",
                  "Movie",
                  "Kate & Leopold",
                  "{\"year\": 2001, \"minutes\": 118, \"row_idx\": 2}"
                ],
                [
                  "tt0036177",
                  "Movie",
                  "Muhomatsu no issho",
                  "{\"year\": 2008, \"minutes\": 100, \"row_idx\": 3}"
                ]
              ]
            },
            "text/plain": "<Spark SQL result set with 3 rows and 4 fields>"
          },
          "execution_count": 45,
          "metadata": {}
        }
      ],
      "metadata": {
        "jupyter": {
          "source_hidden": false,
          "outputs_hidden": false
        },
        "nteract": {
          "transient": {
            "deleting": false
          }
        },
        "microsoft": {
          "language": "sparksql"
        },
        "collapsed": false
      },
      "source": [
        "%%sql\n",
        "select * from dfv limit 3\n",
        ""
      ]
    },
    {
      "cell_type": "code",
      "execution_count": 46,
      "outputs": [
        {
          "output_type": "display_data",
          "data": {
            "application/vnd.livy.statement-meta+json": {
              "spark_pool": "poolspark3s",
              "session_id": 31,
              "statement_id": 5,
              "state": "finished",
              "livy_statement_state": "available",
              "queued_time": "2022-02-04T16:06:28.4696781Z",
              "session_start_time": null,
              "execution_start_time": "2022-02-04T16:07:59.7456884Z",
              "execution_finish_time": "2022-02-04T16:08:00.8012032Z"
            },
            "text/plain": "StatementMeta(poolspark3s, 31, 5, Finished, Available)"
          },
          "metadata": {}
        },
        {
          "output_type": "execute_result",
          "data": {
            "application/vnd.synapse.sparksql-result+json": {
              "schema": {
                "type": "struct",
                "fields": [
                  {
                    "name": "src",
                    "type": "string",
                    "nullable": true,
                    "metadata": {}
                  },
                  {
                    "name": "dst",
                    "type": "string",
                    "nullable": true,
                    "metadata": {}
                  },
                  {
                    "name": "relationship",
                    "type": "string",
                    "nullable": true,
                    "metadata": {}
                  },
                  {
                    "name": "attributes",
                    "type": "string",
                    "nullable": true,
                    "metadata": {}
                  }
                ]
              },
              "data": [
                [
                  "tt0015724",
                  "nm0844752",
                  "has_person",
                  "{\"src_label\": \"Movie\", \"dst_label\": \"Person\", \"row_idx\": 1}"
                ],
                [
                  "tt0015724",
                  "nm0869732",
                  "has_person",
                  "{\"src_label\": \"Movie\", \"dst_label\": \"Person\", \"row_idx\": 2}"
                ],
                [
                  "tt0015724",
                  "nm0194720",
                  "has_person",
                  "{\"src_label\": \"Movie\", \"dst_label\": \"Person\", \"row_idx\": 3}"
                ]
              ]
            },
            "text/plain": "<Spark SQL result set with 3 rows and 4 fields>"
          },
          "execution_count": 46,
          "metadata": {}
        }
      ],
      "metadata": {
        "jupyter": {
          "source_hidden": false,
          "outputs_hidden": false
        },
        "nteract": {
          "transient": {
            "deleting": false
          }
        },
        "microsoft": {
          "language": "sparksql"
        },
        "collapsed": false
      },
      "source": [
        "%%sql\n",
        "select * from dfe limit 3"
      ]
    },
    {
      "cell_type": "code",
      "execution_count": 47,
      "outputs": [
        {
          "output_type": "display_data",
          "data": {
            "application/vnd.livy.statement-meta+json": {
              "spark_pool": "poolspark3s",
              "session_id": 31,
              "statement_id": 7,
              "state": "finished",
              "livy_statement_state": "available",
              "queued_time": "2022-02-04T16:06:28.5695353Z",
              "session_start_time": null,
              "execution_start_time": "2022-02-04T16:08:04.6491529Z",
              "execution_finish_time": "2022-02-04T16:08:07.4534004Z"
            },
            "text/plain": "StatementMeta(poolspark3s, 31, 7, Finished, Available)"
          },
          "metadata": {}
        },
        {
          "output_type": "stream",
          "name": "stdout",
          "text": "df_v: org.apache.spark.sql.DataFrame = [id: string, label: string ... 2 more fields]\nroot\n |-- id: string (nullable = true)\n |-- label: string (nullable = true)\n |-- name: string (nullable = true)\n |-- attributes: string (nullable = true)\n\ndf_e: org.apache.spark.sql.DataFrame = [src: string, dst: string ... 2 more fields]\nroot\n |-- src: string (nullable = true)\n |-- dst: string (nullable = true)\n |-- relationship: string (nullable = true)\n |-- attributes: string (nullable = true)\n\n"
        }
      ],
      "metadata": {
        "jupyter": {
          "source_hidden": false,
          "outputs_hidden": false
        },
        "nteract": {
          "transient": {
            "deleting": false
          }
        },
        "microsoft": {
          "language": "scala"
        }
      },
      "source": [
        "%%spark\n",
        "\n",
        "val df_v = spark.sql(\"select * from dfv\")\n",
        "df_v.printSchema()\n",
        "\n",
        "\n",
        "val df_e = spark.sql(\"select * from dfe\")\n",
        "df_e.printSchema()\n",
        ""
      ]
    },
    {
      "cell_type": "code",
      "execution_count": 48,
      "outputs": [
        {
          "output_type": "display_data",
          "data": {
            "application/vnd.livy.statement-meta+json": {
              "spark_pool": "poolspark3s",
              "session_id": 31,
              "statement_id": 8,
              "state": "finished",
              "livy_statement_state": "available",
              "queued_time": "2022-02-04T16:06:28.6269384Z",
              "session_start_time": null,
              "execution_start_time": "2022-02-04T16:08:07.5643898Z",
              "execution_finish_time": "2022-02-04T16:08:07.7065467Z"
            },
            "text/plain": "StatementMeta(poolspark3s, 31, 8, Finished, Available)"
          },
          "metadata": {}
        },
        {
          "output_type": "stream",
          "name": "stdout",
          "text": "done"
        }
      ],
      "metadata": {
        "jupyter": {
          "source_hidden": false,
          "outputs_hidden": false
        },
        "nteract": {
          "transient": {
            "deleting": false
          }
        },
        "microsoft": {
          "language": "python"
        },
        "collapsed": false
      },
      "source": [
        "%%pyspark \n",
        "\n",
        "# Create the GraphFrame, g, from the Vertices DataFrame and Edges DataFrame\n",
        "\n",
        "from graphframes import *\n",
        "\n",
        "g = GraphFrame(df_v, df_e)\n",
        "print('done')\n",
        ""
      ]
    },
    {
      "cell_type": "code",
      "execution_count": 49,
      "outputs": [
        {
          "output_type": "display_data",
          "data": {
            "application/vnd.livy.statement-meta+json": {
              "spark_pool": "poolspark3s",
              "session_id": 31,
              "statement_id": 9,
              "state": "finished",
              "livy_statement_state": "available",
              "queued_time": "2022-02-04T16:06:28.7003356Z",
              "session_start_time": null,
              "execution_start_time": "2022-02-04T16:08:07.8212642Z",
              "execution_finish_time": "2022-02-04T16:08:16.4272217Z"
            },
            "text/plain": "StatementMeta(poolspark3s, 31, 9, Finished, Available)"
          },
          "metadata": {}
        },
        {
          "output_type": "display_data",
          "data": {
            "application/vnd.synapse.widget-view+json": {
              "widget_id": "cea4853c-0f88-4438-a651-7f634d751798",
              "widget_type": "Synapse.DataFrame"
            },
            "text/plain": "SynapseWidget(Synapse.DataFrame, cea4853c-0f88-4438-a651-7f634d751798)"
          },
          "metadata": {}
        }
      ],
      "metadata": {
        "jupyter": {
          "source_hidden": false,
          "outputs_hidden": false
        },
        "nteract": {
          "transient": {
            "deleting": false
          }
        },
        "collapsed": false
      },
      "source": [
        "# inDegrees\n",
        "\n",
        "display(g.inDegrees)"
      ]
    },
    {
      "cell_type": "code",
      "execution_count": 50,
      "outputs": [
        {
          "output_type": "display_data",
          "data": {
            "application/vnd.livy.statement-meta+json": {
              "spark_pool": "poolspark3s",
              "session_id": 31,
              "statement_id": 10,
              "state": "finished",
              "livy_statement_state": "available",
              "queued_time": "2022-02-04T16:06:28.7819804Z",
              "session_start_time": null,
              "execution_start_time": "2022-02-04T16:08:16.5558937Z",
              "execution_finish_time": "2022-02-04T16:09:27.4674491Z"
            },
            "text/plain": "StatementMeta(poolspark3s, 31, 10, Finished, Available)"
          },
          "metadata": {}
        },
        {
          "output_type": "stream",
          "name": "stdout",
          "text": "+--------------------+--------------------+--------------------+--------------------+--------------------+--------------------+--------------------+--------------------+--------------------+\n|                from|                  e0|                  v1|                  e1|                  v2|                  e2|                  v3|                  e3|                  to|\n+--------------------+--------------------+--------------------+--------------------+--------------------+--------------------+--------------------+--------------------+--------------------+\n|{nm0000102, Perso...|{nm0000102, tt127...|{tt1270798, Movie...|{tt1270798, nm222...|{nm2225369, Perso...|{nm2225369, tt287...|{tt2873282, Movie...|{tt2873282, nm000...|{nm0001648, Perso...|\n|{nm0000102, Perso...|{nm0000102, tt009...|{tt0097125, Movie...|{tt0097125, nm094...|{nm0949744, Perso...|{nm0949744, tt038...|{tt0381690, Movie...|{tt0381690, nm000...|{nm0001648, Perso...|\n|{nm0000102, Perso...|{nm0000102, tt011...|{tt0117665, Movie...|{tt0117665, nm000...|{nm0000134, Perso...|{nm0000134, tt009...|{tt0092563, Movie...|{tt0092563, nm000...|{nm0001648, Perso...|\n|{nm0000102, Perso...|{nm0000102, tt008...|{tt0083833, Movie...|{tt0083833, nm000...|{nm0000620, Perso...|{nm0000620, tt009...|{tt0092563, Movie...|{tt0092563, nm000...|{nm0001648, Perso...|\n+--------------------+--------------------+--------------------+--------------------+--------------------+--------------------+--------------------+--------------------+--------------------+"
        }
      ],
      "metadata": {
        "jupyter": {
          "source_hidden": false,
          "outputs_hidden": false
        },
        "nteract": {
          "transient": {
            "deleting": false
          }
        }
      },
      "source": [
        "# Search the paths from Kevin Bacon (nm0000102) to Charlotte Rampling (nm0001648).\n",
        "\n",
        "paths = g.bfs(\"id = 'nm0000102'\", \"id = 'nm0001648'\")\n",
        "paths.show()\n",
        ""
      ]
    },
    {
      "cell_type": "code",
      "execution_count": 51,
      "outputs": [
        {
          "output_type": "display_data",
          "data": {
            "application/vnd.livy.statement-meta+json": {
              "spark_pool": "poolspark3s",
              "session_id": 31,
              "statement_id": 11,
              "state": "finished",
              "livy_statement_state": "available",
              "queued_time": "2022-02-04T16:06:28.8600882Z",
              "session_start_time": null,
              "execution_start_time": "2022-02-04T16:09:27.5741981Z",
              "execution_finish_time": "2022-02-04T16:09:50.5382177Z"
            },
            "text/plain": "StatementMeta(poolspark3s, 31, 11, Finished, Available)"
          },
          "metadata": {}
        },
        {
          "output_type": "stream",
          "name": "stdout",
          "text": "<class 'pyspark.sql.dataframe.DataFrame'>\n+---------+------+--------+---------+\n|       id|degree|inDegree|outDegree|\n+---------+------+--------+---------+\n|nm0103977|   586|     293|      293|\n|nm0482320|   474|     237|      237|\n|nm0007123|   454|     227|      227|\n|nm0149822|   408|     204|      204|\n|nm0695177|   348|     174|      174|\n|nm0621937|   286|     143|      143|\n|nm0451600|   276|     138|      138|\n|nm0019382|   260|     130|      130|\n|nm0007106|   258|     129|      129|\n|nm0154146|   252|     126|      126|\n|nm0419688|   252|     126|      126|\n|nm0474774|   242|     121|      121|\n|nm0000821|   230|     115|      115|\n|nm0154164|   230|     115|      115|\n|nm0006763|   224|     112|      112|\n|nm0158112|   218|     109|      109|\n|nm0893449|   218|     109|      109|\n|nm0004569|   216|     108|      108|\n|nm0595934|   214|     107|      107|\n|nm0415549|   210|     105|      105|\n+---------+------+--------+---------+\nonly showing top 20 rows\n\nwasbs_path: wasbs://synapse@cjoakimstorage.blob.core.windows.net/graphframes\ncsv_path:   wasbs://synapse@cjoakimstorage.blob.core.windows.net/graphframesdegrees\nwritten"
        }
      ],
      "metadata": {
        "jupyter": {
          "source_hidden": false,
          "outputs_hidden": false
        },
        "nteract": {
          "transient": {
            "deleting": false
          }
        }
      },
      "source": [
        "# \n",
        "\n",
        "total_degree = g.degrees\n",
        "in_degree = g.inDegrees\n",
        "out_degree = g.outDegrees\n",
        "\n",
        "result = (total_degree.join(in_degree, \"id\", how=\"left\")\n",
        "    .join(out_degree, \"id\", how=\"left\")\n",
        "    .fillna(0)\n",
        "    .sort(\"inDegree\", ascending=False))\n",
        "\n",
        "print(str(type(result)))  # <class 'pyspark.sql.dataframe.DataFrame'>\n",
        "result.show()\n",
        "\n",
        "write_df_to_csv_blob(result, 'degrees')\n",
        ""
      ]
    },
    {
      "cell_type": "code",
      "execution_count": 52,
      "outputs": [
        {
          "output_type": "display_data",
          "data": {
            "application/vnd.livy.statement-meta+json": {
              "spark_pool": "poolspark3s",
              "session_id": 31,
              "statement_id": 12,
              "state": "finished",
              "livy_statement_state": "available",
              "queued_time": "2022-02-04T16:06:28.9377938Z",
              "session_start_time": null,
              "execution_start_time": "2022-02-04T16:09:50.6380955Z",
              "execution_finish_time": "2022-02-04T16:10:55.9896648Z"
            },
            "text/plain": "StatementMeta(poolspark3s, 31, 12, Finished, Available)"
          },
          "metadata": {}
        },
        {
          "output_type": "stream",
          "name": "stdout",
          "text": "+--------------------+--------------------+--------------------+--------------------+--------------------+--------------------+--------------------+--------------------+--------------------+\n|                from|                  e0|                  v1|                  e1|                  v2|                  e2|                  v3|                  e3|                  to|\n+--------------------+--------------------+--------------------+--------------------+--------------------+--------------------+--------------------+--------------------+--------------------+\n|{nm0000102, Perso...|{nm0000102, tt127...|{tt1270798, Movie...|{tt1270798, nm222...|{nm2225369, Perso...|{nm2225369, tt287...|{tt2873282, Movie...|{tt2873282, nm000...|{nm0001648, Perso...|\n|{nm0000102, Perso...|{nm0000102, tt009...|{tt0097125, Movie...|{tt0097125, nm094...|{nm0949744, Perso...|{nm0949744, tt038...|{tt0381690, Movie...|{tt0381690, nm000...|{nm0001648, Perso...|\n|{nm0000102, Perso...|{nm0000102, tt011...|{tt0117665, Movie...|{tt0117665, nm000...|{nm0000134, Perso...|{nm0000134, tt009...|{tt0092563, Movie...|{tt0092563, nm000...|{nm0001648, Perso...|\n|{nm0000102, Perso...|{nm0000102, tt008...|{tt0083833, Movie...|{tt0083833, nm000...|{nm0000620, Perso...|{nm0000620, tt009...|{tt0092563, Movie...|{tt0092563, nm000...|{nm0001648, Perso...|\n+--------------------+--------------------+--------------------+--------------------+--------------------+--------------------+--------------------+--------------------+--------------------+\n\n<class 'pyspark.sql.dataframe.DataFrame'>\nwasbs_path: wasbs://synapse@cjoakimstorage.blob.core.windows.net/graphframes\nout_path:   wasbs://synapse@cjoakimstorage.blob.core.windows.net/graphframespaths_bacon_rampling\nwritten"
        }
      ],
      "metadata": {
        "jupyter": {
          "source_hidden": false,
          "outputs_hidden": false
        },
        "nteract": {
          "transient": {
            "deleting": false
          }
        }
      },
      "source": [
        "# Search the paths from Kevin Bacon (nm0000102) to Charlotte Rampling (nm0001648).\n",
        "\n",
        "result = g.bfs(\"id = 'nm0000102'\", \"id = 'nm0001648'\")\n",
        "result.show()\n",
        "\n",
        "print(str(type(result)))  # <class 'pyspark.sql.dataframe.DataFrame'>\n",
        "\n",
        "write_df_to_json_blob(result, 'paths_bacon_rampling')\n",
        ""
      ]
    },
    {
      "cell_type": "code",
      "execution_count": 53,
      "outputs": [
        {
          "output_type": "display_data",
          "data": {
            "application/vnd.livy.statement-meta+json": {
              "spark_pool": "poolspark3s",
              "session_id": 31,
              "statement_id": 13,
              "state": "finished",
              "livy_statement_state": "available",
              "queued_time": "2022-02-04T16:06:29.0052574Z",
              "session_start_time": null,
              "execution_start_time": "2022-02-04T16:10:56.1196498Z",
              "execution_finish_time": "2022-02-04T16:11:39.8584428Z"
            },
            "text/plain": "StatementMeta(poolspark3s, 31, 13, Finished, Available)"
          },
          "metadata": {}
        },
        {
          "output_type": "stream",
          "name": "stdout",
          "text": "+--------------------+--------------------+--------------------+--------------------+--------------------+--------------------+--------------------+--------------------+--------------------+\n|                from|                  e0|                  v1|                  e1|                  v2|                  e2|                  v3|                  e3|                  to|\n+--------------------+--------------------+--------------------+--------------------+--------------------+--------------------+--------------------+--------------------+--------------------+\n|{nm0001742, Perso...|{nm0001742, tt010...|{tt0109765, Movie...|{tt0109765, nm000...|{nm0000620, Perso...|{nm0000620, tt009...|{tt0092563, Movie...|{tt0092563, nm000...|{nm0001648, Perso...|\n+--------------------+--------------------+--------------------+--------------------+--------------------+--------------------+--------------------+--------------------+--------------------+"
        }
      ],
      "metadata": {
        "jupyter": {
          "source_hidden": false,
          "outputs_hidden": false
        },
        "nteract": {
          "transient": {
            "deleting": false
          }
        }
      },
      "source": [
        "# Search the Breadth First Search (bfs) paths from Lori Singer (nm0001742) to Charlotte Rampling (nm0001648).\n",
        "\n",
        "paths = g.bfs(\"id = 'nm0001742'\", \"id = 'nm0001648'\")\n",
        "paths.show()"
      ]
    },
    {
      "cell_type": "code",
      "execution_count": 54,
      "outputs": [
        {
          "output_type": "display_data",
          "data": {
            "application/vnd.livy.statement-meta+json": {
              "spark_pool": "poolspark3s",
              "session_id": 31,
              "statement_id": 14,
              "state": "finished",
              "livy_statement_state": "available",
              "queued_time": "2022-02-04T16:06:29.084214Z",
              "session_start_time": null,
              "execution_start_time": "2022-02-04T16:11:39.9642236Z",
              "execution_finish_time": "2022-02-04T16:15:01.721395Z"
            },
            "text/plain": "StatementMeta(poolspark3s, 31, 14, Finished, Available)"
          },
          "metadata": {}
        },
        {
          "output_type": "error",
          "ename": "AnalysisException",
          "evalue": "CSV data source does not support map<string,int> data type.",
          "traceback": [
            "AnalysisException: CSV data source does not support map<string,int> data type.",
            "Traceback (most recent call last):\n",
            "  File \"<stdin>\", line 31, in write_df_to_csv_blob\n",
            "  File \"/opt/spark/python/lib/pyspark.zip/pyspark/sql/readwriter.py\", line 1372, in csv\n    self._jwrite.csv(path)\n",
            "  File \"/home/trusted-service-user/cluster-env/env/lib/python3.8/site-packages/py4j/java_gateway.py\", line 1304, in __call__\n    return_value = get_return_value(\n",
            "  File \"/opt/spark/python/lib/pyspark.zip/pyspark/sql/utils.py\", line 117, in deco\n    raise converted from None\n",
            "pyspark.sql.utils.AnalysisException: CSV data source does not support map<string,int> data type.\n"
          ]
        }
      ],
      "metadata": {
        "jupyter": {
          "source_hidden": false,
          "outputs_hidden": false
        },
        "nteract": {
          "transient": {
            "deleting": false
          }
        }
      },
      "source": [
        "# Search the paths from Kevin Bacon (nm0001742) to Charlotte Rampling (nm0001648).\n",
        "\n",
        "paths = g.shortestPaths(['nm0000102','nm0001648'])\n",
        "paths.show()\n",
        "\n",
        "write_df_to_csv_blob(paths, 'shortest_paths.csv')\n",
        "\n",
        "#  CSV data source does not support map<string,int> data type\n",
        ""
      ]
    },
    {
      "cell_type": "code",
      "execution_count": null,
      "outputs": [],
      "metadata": {
        "jupyter": {
          "source_hidden": false,
          "outputs_hidden": false
        },
        "nteract": {
          "transient": {
            "deleting": false
          }
        }
      },
      "source": [
        ""
      ]
    }
  ],
  "metadata": {
    "description": null,
    "save_output": true,
    "kernelspec": {
      "name": "synapse_pyspark",
      "display_name": "Synapse PySpark"
    },
    "language_info": {
      "name": "python"
    },
    "synapse_widget": {
      "version": "0.1",
      "state": {
        "b7277cea-0be8-4fc1-855d-eaf3960d6c0a": {
          "type": "Synapse.DataFrame",
          "sync_state": {
            "table": {
              "rows": [
                {
                  "0": "tt3451350",
                  "1": "Movie",
                  "2": "Alles ist Liebe",
                  "3": "{\"year\": 2014, \"minutes\": 120, \"row_idx\": 50973}"
                },
                {
                  "0": "tt3451376",
                  "1": "Movie",
                  "2": "Prejuicio",
                  "3": "{\"year\": 2013, \"minutes\": 120, \"row_idx\": 50974}"
                },
                {
                  "0": "tt3451406",
                  "1": "Movie",
                  "2": "Pinned",
                  "3": "{\"year\": 2014, \"minutes\": 100, \"row_idx\": 50975}"
                },
                {
                  "0": "tt3451500",
                  "1": "Movie",
                  "2": "Sürgün Inek",
                  "3": "{\"year\": 2014, \"minutes\": 122, \"row_idx\": 50976}"
                },
                {
                  "0": "tt3451660",
                  "1": "Movie",
                  "2": "Golden Chickensss",
                  "3": "{\"year\": 2014, \"minutes\": 100, \"row_idx\": 50977}"
                },
                {
                  "0": "tt3451716",
                  "1": "Movie",
                  "2": "Ritu",
                  "3": "{\"year\": 2014, \"minutes\": 129, \"row_idx\": 50978}"
                },
                {
                  "0": "tt3452038",
                  "1": "Movie",
                  "2": "Chantier A",
                  "3": "{\"year\": 2013, \"minutes\": 104, \"row_idx\": 50979}"
                },
                {
                  "0": "tt3452106",
                  "1": "Movie",
                  "2": "Kuvia Suomesta",
                  "3": "{\"year\": 2013, \"minutes\": 104, \"row_idx\": 50980}"
                },
                {
                  "0": "tt3453052",
                  "1": "Movie",
                  "2": "10 Days in a Madhouse",
                  "3": "{\"year\": 2015, \"minutes\": 111, \"row_idx\": 50981}"
                },
                {
                  "0": "tt3453938",
                  "1": "Movie",
                  "2": "Room 236",
                  "3": "{\"year\": 2015, \"minutes\": 120, \"row_idx\": 50982}"
                }
              ],
              "schema": [
                {
                  "key": "0",
                  "name": "id",
                  "type": "string"
                },
                {
                  "key": "1",
                  "name": "label",
                  "type": "string"
                },
                {
                  "key": "2",
                  "name": "name",
                  "type": "string"
                },
                {
                  "key": "3",
                  "name": "attributes",
                  "type": "string"
                }
              ],
              "truncated": false
            },
            "isSummary": false,
            "language": "scala"
          },
          "persist_state": {
            "view": {
              "type": "details",
              "tableOptions": {},
              "chartOptions": {
                "chartType": "bar",
                "aggregationType": "count",
                "categoryFieldKeys": [
                  "0"
                ],
                "seriesFieldKeys": [
                  "0"
                ],
                "isStacked": false
              }
            }
          }
        },
        "44fc454f-2b0f-4e61-adb8-cfd34d6f556a": {
          "type": "Synapse.DataFrame",
          "sync_state": {
            "table": {
              "rows": [
                {
                  "0": "tt0369267",
                  "1": "nm1142519",
                  "2": "has_person",
                  "3": "{\"src_label\": \"Movie\", \"dst_label\": \"Person\", \"row_idx\": 73495}"
                },
                {
                  "0": "tt0369267",
                  "1": "nm0899156",
                  "2": "has_person",
                  "3": "{\"src_label\": \"Movie\", \"dst_label\": \"Person\", \"row_idx\": 73496}"
                },
                {
                  "0": "tt0369267",
                  "1": "nm1381839",
                  "2": "has_person",
                  "3": "{\"src_label\": \"Movie\", \"dst_label\": \"Person\", \"row_idx\": 73497}"
                },
                {
                  "0": "tt0369267",
                  "1": "nm1391025",
                  "2": "has_person",
                  "3": "{\"src_label\": \"Movie\", \"dst_label\": \"Person\", \"row_idx\": 73498}"
                },
                {
                  "0": "tt0369339",
                  "1": "nm0000129",
                  "2": "has_person",
                  "3": "{\"src_label\": \"Movie\", \"dst_label\": \"Person\", \"row_idx\": 73499}"
                },
                {
                  "0": "tt0369339",
                  "1": "nm0004937",
                  "2": "has_person",
                  "3": "{\"src_label\": \"Movie\", \"dst_label\": \"Person\", \"row_idx\": 73500}"
                },
                {
                  "0": "tt0369339",
                  "1": "nm0000586",
                  "2": "has_person",
                  "3": "{\"src_label\": \"Movie\", \"dst_label\": \"Person\", \"row_idx\": 73501}"
                },
                {
                  "0": "tt0369339",
                  "1": "nm0749263",
                  "2": "has_person",
                  "3": "{\"src_label\": \"Movie\", \"dst_label\": \"Person\", \"row_idx\": 73502}"
                },
                {
                  "0": "tt0369357",
                  "1": "nm0432601",
                  "2": "has_person",
                  "3": "{\"src_label\": \"Movie\", \"dst_label\": \"Person\", \"row_idx\": 73503}"
                },
                {
                  "0": "tt0369357",
                  "1": "nm0453448",
                  "2": "has_person",
                  "3": "{\"src_label\": \"Movie\", \"dst_label\": \"Person\", \"row_idx\": 73504}"
                }
              ],
              "schema": [
                {
                  "key": "0",
                  "name": "src",
                  "type": "string"
                },
                {
                  "key": "1",
                  "name": "dst",
                  "type": "string"
                },
                {
                  "key": "2",
                  "name": "relationship",
                  "type": "string"
                },
                {
                  "key": "3",
                  "name": "attributes",
                  "type": "string"
                }
              ],
              "truncated": false
            },
            "isSummary": false,
            "language": "scala"
          },
          "persist_state": {
            "view": {
              "type": "details",
              "tableOptions": {},
              "chartOptions": {
                "chartType": "bar",
                "aggregationType": "count",
                "categoryFieldKeys": [
                  "0"
                ],
                "seriesFieldKeys": [
                  "0"
                ],
                "isStacked": false
              }
            }
          }
        },
        "cea4853c-0f88-4438-a651-7f634d751798": {
          "type": "Synapse.DataFrame",
          "sync_state": {
            "table": {
              "rows": [
                {
                  "0": "nm0191412",
                  "1": "9"
                },
                {
                  "0": "nm0000354",
                  "1": "42"
                },
                {
                  "0": "nm3096625",
                  "1": "1"
                },
                {
                  "0": "nm0847128",
                  "1": "3"
                },
                {
                  "0": "nm0350453",
                  "1": "25"
                },
                {
                  "0": "nm0796513",
                  "1": "4"
                },
                {
                  "0": "nm0280071",
                  "1": "2"
                },
                {
                  "0": "nm0438497",
                  "1": "7"
                },
                {
                  "0": "nm0303599",
                  "1": "4"
                },
                {
                  "0": "nm1461118",
                  "1": "2"
                },
                {
                  "0": "nm0474429",
                  "1": "1"
                },
                {
                  "0": "nm1708107",
                  "1": "1"
                },
                {
                  "0": "nm1295740",
                  "1": "4"
                },
                {
                  "0": "nm1367819",
                  "1": "12"
                },
                {
                  "0": "nm1480555",
                  "1": "8"
                },
                {
                  "0": "nm1167655",
                  "1": "1"
                },
                {
                  "0": "nm1327166",
                  "1": "14"
                },
                {
                  "0": "nm0151539",
                  "1": "18"
                },
                {
                  "0": "nm1012343",
                  "1": "5"
                },
                {
                  "0": "nm2427372",
                  "1": "1"
                },
                {
                  "0": "nm0794887",
                  "1": "6"
                },
                {
                  "0": "nm1369971",
                  "1": "1"
                },
                {
                  "0": "nm2103508",
                  "1": "3"
                },
                {
                  "0": "nm1616624",
                  "1": "1"
                },
                {
                  "0": "nm0695266",
                  "1": "22"
                },
                {
                  "0": "nm8326844",
                  "1": "7"
                },
                {
                  "0": "nm0209670",
                  "1": "5"
                },
                {
                  "0": "nm0235577",
                  "1": "1"
                },
                {
                  "0": "nm0427274",
                  "1": "6"
                },
                {
                  "0": "nm0213142",
                  "1": "1"
                },
                {
                  "0": "nm1640274",
                  "1": "1"
                },
                {
                  "0": "nm1653342",
                  "1": "1"
                },
                {
                  "0": "nm0000362",
                  "1": "23"
                },
                {
                  "0": "nm4342365",
                  "1": "2"
                },
                {
                  "0": "nm1246742",
                  "1": "12"
                },
                {
                  "0": "nm0694893",
                  "1": "85"
                },
                {
                  "0": "nm0022343",
                  "1": "2"
                },
                {
                  "0": "nm1727323",
                  "1": "1"
                },
                {
                  "0": "nm0065191",
                  "1": "1"
                },
                {
                  "0": "nm1763256",
                  "1": "1"
                },
                {
                  "0": "nm1773122",
                  "1": "1"
                },
                {
                  "0": "nm1006993",
                  "1": "9"
                },
                {
                  "0": "nm0494066",
                  "1": "6"
                },
                {
                  "0": "nm0421105",
                  "1": "6"
                },
                {
                  "0": "nm1784592",
                  "1": "1"
                },
                {
                  "0": "nm0215229",
                  "1": "3"
                },
                {
                  "0": "nm0321587",
                  "1": "3"
                },
                {
                  "0": "nm0647091",
                  "1": "1"
                },
                {
                  "0": "nm0157262",
                  "1": "10"
                },
                {
                  "0": "nm1594301",
                  "1": "1"
                },
                {
                  "0": "nm4137220",
                  "1": "1"
                },
                {
                  "0": "nm1897035",
                  "1": "1"
                },
                {
                  "0": "nm0000767",
                  "1": "25"
                },
                {
                  "0": "nm2750848",
                  "1": "1"
                },
                {
                  "0": "nm1441714",
                  "1": "15"
                },
                {
                  "0": "nm1130777",
                  "1": "1"
                },
                {
                  "0": "nm0005037",
                  "1": "1"
                },
                {
                  "0": "nm1135119",
                  "1": "1"
                },
                {
                  "0": "nm1993201",
                  "1": "1"
                },
                {
                  "0": "nm1994603",
                  "1": "1"
                },
                {
                  "0": "nm0118840",
                  "1": "2"
                },
                {
                  "0": "nm2030899",
                  "1": "1"
                },
                {
                  "0": "nm2068418",
                  "1": "1"
                },
                {
                  "0": "nm2054908",
                  "1": "1"
                },
                {
                  "0": "nm0820286",
                  "1": "50"
                },
                {
                  "0": "nm0139175",
                  "1": "3"
                },
                {
                  "0": "nm0212204",
                  "1": "1"
                },
                {
                  "0": "nm0068551",
                  "1": "4"
                },
                {
                  "0": "nm2115926",
                  "1": "2"
                },
                {
                  "0": "nm4093837",
                  "1": "1"
                },
                {
                  "0": "nm0863599",
                  "1": "10"
                },
                {
                  "0": "nm0030894",
                  "1": "18"
                },
                {
                  "0": "nm0102522",
                  "1": "12"
                },
                {
                  "0": "nm2131133",
                  "1": "2"
                },
                {
                  "0": "nm0770773",
                  "1": "2"
                },
                {
                  "0": "nm1816263",
                  "1": "10"
                },
                {
                  "0": "nm1492784",
                  "1": "1"
                },
                {
                  "0": "nm2244829",
                  "1": "1"
                },
                {
                  "0": "nm0256040",
                  "1": "1"
                },
                {
                  "0": "nm1945061",
                  "1": "2"
                },
                {
                  "0": "nm1167195",
                  "1": "1"
                },
                {
                  "0": "nm0452817",
                  "1": "16"
                },
                {
                  "0": "nm2322671",
                  "1": "1"
                },
                {
                  "0": "nm2335222",
                  "1": "2"
                },
                {
                  "0": "nm0070094",
                  "1": "2"
                },
                {
                  "0": "nm0352921",
                  "1": "2"
                },
                {
                  "0": "nm1669979",
                  "1": "5"
                },
                {
                  "0": "nm2473241",
                  "1": "1"
                },
                {
                  "0": "nm2423577",
                  "1": "1"
                },
                {
                  "0": "nm0201638",
                  "1": "2"
                },
                {
                  "0": "nm1027678",
                  "1": "1"
                },
                {
                  "0": "nm2518213",
                  "1": "1"
                },
                {
                  "0": "nm1391994",
                  "1": "1"
                },
                {
                  "0": "nm1400283",
                  "1": "2"
                },
                {
                  "0": "nm1462363",
                  "1": "3"
                },
                {
                  "0": "nm0538303",
                  "1": "8"
                },
                {
                  "0": "nm4089047",
                  "1": "1"
                },
                {
                  "0": "nm0005258",
                  "1": "4"
                },
                {
                  "0": "nm4818582",
                  "1": "1"
                },
                {
                  "0": "nm2760504",
                  "1": "4"
                },
                {
                  "0": "nm12381967",
                  "1": "1"
                },
                {
                  "0": "nm8685327",
                  "1": "1"
                },
                {
                  "0": "nm0463622",
                  "1": "1"
                },
                {
                  "0": "nm9593143",
                  "1": "24"
                },
                {
                  "0": "nm0000198",
                  "1": "37"
                },
                {
                  "0": "nm1172478",
                  "1": "10"
                },
                {
                  "0": "nm10634669",
                  "1": "1"
                },
                {
                  "0": "nm9956891",
                  "1": "2"
                },
                {
                  "0": "nm10654676",
                  "1": "1"
                },
                {
                  "0": "nm2616518",
                  "1": "11"
                },
                {
                  "0": "nm7588522",
                  "1": "3"
                },
                {
                  "0": "nm3495920",
                  "1": "5"
                },
                {
                  "0": "nm0320759",
                  "1": "9"
                },
                {
                  "0": "nm10731470",
                  "1": "1"
                },
                {
                  "0": "nm3603254",
                  "1": "2"
                },
                {
                  "0": "nm5465692",
                  "1": "17"
                },
                {
                  "0": "nm9209960",
                  "1": "1"
                },
                {
                  "0": "nm5041879",
                  "1": "2"
                },
                {
                  "0": "nm8760959",
                  "1": "1"
                },
                {
                  "0": "nm4270477",
                  "1": "1"
                },
                {
                  "0": "nm12272112",
                  "1": "1"
                },
                {
                  "0": "nm9435424",
                  "1": "4"
                },
                {
                  "0": "nm0076427",
                  "1": "4"
                },
                {
                  "0": "nm0091035",
                  "1": "8"
                },
                {
                  "0": "nm7536570",
                  "1": "1"
                },
                {
                  "0": "nm9381266",
                  "1": "1"
                },
                {
                  "0": "nm0758318",
                  "1": "1"
                },
                {
                  "0": "nm2847302",
                  "1": "1"
                },
                {
                  "0": "nm7588232",
                  "1": "2"
                },
                {
                  "0": "nm10944253",
                  "1": "2"
                },
                {
                  "0": "nm1127071",
                  "1": "1"
                },
                {
                  "0": "nm10986528",
                  "1": "1"
                },
                {
                  "0": "nm6981978",
                  "1": "1"
                },
                {
                  "0": "nm6279152",
                  "1": "2"
                },
                {
                  "0": "nm0201911",
                  "1": "5"
                },
                {
                  "0": "nm4369447",
                  "1": "1"
                },
                {
                  "0": "nm11185116",
                  "1": "1"
                },
                {
                  "0": "nm0057741",
                  "1": "2"
                },
                {
                  "0": "nm2144572",
                  "1": "3"
                },
                {
                  "0": "nm0149802",
                  "1": "2"
                },
                {
                  "0": "nm2041709",
                  "1": "2"
                },
                {
                  "0": "nm2658331",
                  "1": "3"
                },
                {
                  "0": "nm9088756",
                  "1": "1"
                },
                {
                  "0": "nm5326495",
                  "1": "1"
                },
                {
                  "0": "nm2620667",
                  "1": "1"
                },
                {
                  "0": "nm0706537",
                  "1": "1"
                },
                {
                  "0": "nm0080387",
                  "1": "1"
                },
                {
                  "0": "nm9822601",
                  "1": "1"
                },
                {
                  "0": "nm11206900",
                  "1": "1"
                },
                {
                  "0": "nm11220819",
                  "1": "10"
                },
                {
                  "0": "nm6383800",
                  "1": "1"
                },
                {
                  "0": "nm1327219",
                  "1": "1"
                },
                {
                  "0": "nm3764693",
                  "1": "1"
                },
                {
                  "0": "nm10245341",
                  "1": "1"
                },
                {
                  "0": "nm1759049",
                  "1": "3"
                },
                {
                  "0": "nm2916176",
                  "1": "1"
                },
                {
                  "0": "nm11380556",
                  "1": "1"
                },
                {
                  "0": "nm11419578",
                  "1": "1"
                },
                {
                  "0": "nm11459780",
                  "1": "1"
                },
                {
                  "0": "nm11485911",
                  "1": "1"
                },
                {
                  "0": "nm11485221",
                  "1": "2"
                },
                {
                  "0": "nm2932341",
                  "1": "1"
                },
                {
                  "0": "nm11528182",
                  "1": "1"
                },
                {
                  "0": "nm3044837",
                  "1": "1"
                },
                {
                  "0": "nm3008267",
                  "1": "1"
                },
                {
                  "0": "nm3079942",
                  "1": "1"
                },
                {
                  "0": "nm1745170",
                  "1": "1"
                },
                {
                  "0": "nm11110692",
                  "1": "1"
                },
                {
                  "0": "nm11655271",
                  "1": "1"
                },
                {
                  "0": "nm6058580",
                  "1": "2"
                },
                {
                  "0": "nm0467379",
                  "1": "3"
                },
                {
                  "0": "nm1406053",
                  "1": "4"
                },
                {
                  "0": "nm8646645",
                  "1": "1"
                },
                {
                  "0": "nm3088934",
                  "1": "4"
                },
                {
                  "0": "nm10698341",
                  "1": "1"
                },
                {
                  "0": "nm1485036",
                  "1": "1"
                },
                {
                  "0": "nm2956251",
                  "1": "1"
                },
                {
                  "0": "nm3106967",
                  "1": "1"
                },
                {
                  "0": "nm11807898",
                  "1": "1"
                },
                {
                  "0": "nm0121898",
                  "1": "1"
                },
                {
                  "0": "nm1213235",
                  "1": "2"
                },
                {
                  "0": "nm11840569",
                  "1": "1"
                },
                {
                  "0": "nm11848668",
                  "1": "1"
                },
                {
                  "0": "nm11858580",
                  "1": "1"
                },
                {
                  "0": "nm11870201",
                  "1": "1"
                },
                {
                  "0": "nm11876353",
                  "1": "1"
                },
                {
                  "0": "nm11888125",
                  "1": "1"
                },
                {
                  "0": "nm0259074",
                  "1": "2"
                },
                {
                  "0": "nm11896133",
                  "1": "1"
                },
                {
                  "0": "nm3167202",
                  "1": "3"
                },
                {
                  "0": "nm5796422",
                  "1": "2"
                },
                {
                  "0": "nm3413454",
                  "1": "1"
                },
                {
                  "0": "nm12413090",
                  "1": "1"
                },
                {
                  "0": "nm11982090",
                  "1": "1"
                },
                {
                  "0": "nm3210271",
                  "1": "2"
                },
                {
                  "0": "nm3222869",
                  "1": "1"
                },
                {
                  "0": "nm3229056",
                  "1": "1"
                },
                {
                  "0": "nm3583367",
                  "1": "1"
                },
                {
                  "0": "nm10814962",
                  "1": "1"
                },
                {
                  "0": "nm0405966",
                  "1": "1"
                },
                {
                  "0": "nm12103226",
                  "1": "1"
                },
                {
                  "0": "nm12082116",
                  "1": "1"
                },
                {
                  "0": "nm4559648",
                  "1": "1"
                },
                {
                  "0": "nm2267821",
                  "1": "1"
                },
                {
                  "0": "nm2259542",
                  "1": "1"
                },
                {
                  "0": "nm0837817",
                  "1": "10"
                },
                {
                  "0": "nm3313693",
                  "1": "1"
                },
                {
                  "0": "nm8860218",
                  "1": "1"
                },
                {
                  "0": "nm4349521",
                  "1": "1"
                },
                {
                  "0": "nm1327092",
                  "1": "2"
                },
                {
                  "0": "nm2309449",
                  "1": "2"
                },
                {
                  "0": "nm1492443",
                  "1": "3"
                },
                {
                  "0": "nm1204465",
                  "1": "6"
                },
                {
                  "0": "nm3351160",
                  "1": "1"
                },
                {
                  "0": "nm3086518",
                  "1": "1"
                },
                {
                  "0": "nm3020303",
                  "1": "1"
                },
                {
                  "0": "nm10365133",
                  "1": "1"
                },
                {
                  "0": "nm2058531",
                  "1": "1"
                },
                {
                  "0": "nm3452831",
                  "1": "1"
                },
                {
                  "0": "nm3455049",
                  "1": "1"
                },
                {
                  "0": "nm12449167",
                  "1": "1"
                },
                {
                  "0": "nm12469228",
                  "1": "1"
                },
                {
                  "0": "nm3009275",
                  "1": "5"
                },
                {
                  "0": "nm11574973",
                  "1": "1"
                },
                {
                  "0": "nm0791513",
                  "1": "1"
                },
                {
                  "0": "nm2200825",
                  "1": "1"
                },
                {
                  "0": "nm12224121",
                  "1": "1"
                },
                {
                  "0": "nm5845865",
                  "1": "1"
                },
                {
                  "0": "nm12317016",
                  "1": "1"
                },
                {
                  "0": "nm12398444",
                  "1": "1"
                },
                {
                  "0": "nm12400889",
                  "1": "1"
                },
                {
                  "0": "nm0287055",
                  "1": "1"
                },
                {
                  "0": "nm7553103",
                  "1": "1"
                },
                {
                  "0": "nm2676053",
                  "1": "1"
                },
                {
                  "0": "nm5596419",
                  "1": "1"
                },
                {
                  "0": "nm7905338",
                  "1": "1"
                },
                {
                  "0": "nm0292263",
                  "1": "1"
                },
                {
                  "0": "nm4527299",
                  "1": "1"
                },
                {
                  "0": "nm0699132",
                  "1": "1"
                },
                {
                  "0": "nm10524619",
                  "1": "1"
                },
                {
                  "0": "nm1712139",
                  "1": "1"
                },
                {
                  "0": "nm0149234",
                  "1": "6"
                },
                {
                  "0": "nm7761260",
                  "1": "1"
                },
                {
                  "0": "nm2487121",
                  "1": "9"
                },
                {
                  "0": "nm1208116",
                  "1": "1"
                },
                {
                  "0": "nm7815555",
                  "1": "1"
                },
                {
                  "0": "nm4873340",
                  "1": "1"
                },
                {
                  "0": "nm7825093",
                  "1": "1"
                },
                {
                  "0": "nm0602071",
                  "1": "1"
                },
                {
                  "0": "nm10645740",
                  "1": "1"
                },
                {
                  "0": "nm8776574",
                  "1": "1"
                },
                {
                  "0": "nm5516210",
                  "1": "2"
                },
                {
                  "0": "nm7967450",
                  "1": "1"
                },
                {
                  "0": "nm2975741",
                  "1": "3"
                },
                {
                  "0": "nm5019500",
                  "1": "1"
                },
                {
                  "0": "nm3833663",
                  "1": "1"
                },
                {
                  "0": "nm8069564",
                  "1": "1"
                },
                {
                  "0": "nm4622625",
                  "1": "1"
                },
                {
                  "0": "nm8093160",
                  "1": "1"
                },
                {
                  "0": "nm1174035",
                  "1": "1"
                },
                {
                  "0": "nm5208689",
                  "1": "3"
                },
                {
                  "0": "nm3652171",
                  "1": "1"
                },
                {
                  "0": "nm9135997",
                  "1": "3"
                },
                {
                  "0": "nm1603571",
                  "1": "1"
                },
                {
                  "0": "nm6440280",
                  "1": "1"
                },
                {
                  "0": "nm2418386",
                  "1": "3"
                },
                {
                  "0": "nm8203643",
                  "1": "1"
                },
                {
                  "0": "nm0792354",
                  "1": "3"
                },
                {
                  "0": "nm4649141",
                  "1": "1"
                },
                {
                  "0": "nm8331288",
                  "1": "1"
                },
                {
                  "0": "nm4835385",
                  "1": "2"
                },
                {
                  "0": "nm0266135",
                  "1": "2"
                },
                {
                  "0": "nm7590015",
                  "1": "1"
                },
                {
                  "0": "nm8406265",
                  "1": "1"
                },
                {
                  "0": "nm3371002",
                  "1": "1"
                },
                {
                  "0": "nm6870283",
                  "1": "2"
                },
                {
                  "0": "nm4178571",
                  "1": "1"
                },
                {
                  "0": "nm7333113",
                  "1": "2"
                },
                {
                  "0": "nm7785652",
                  "1": "1"
                },
                {
                  "0": "nm8468921",
                  "1": "1"
                },
                {
                  "0": "nm8469376",
                  "1": "1"
                },
                {
                  "0": "nm8486501",
                  "1": "1"
                },
                {
                  "0": "nm8448750",
                  "1": "1"
                },
                {
                  "0": "nm6089493",
                  "1": "1"
                },
                {
                  "0": "nm7993287",
                  "1": "1"
                },
                {
                  "0": "nm3974605",
                  "1": "2"
                },
                {
                  "0": "nm3898384",
                  "1": "3"
                },
                {
                  "0": "nm3239235",
                  "1": "1"
                },
                {
                  "0": "nm9225337",
                  "1": "1"
                },
                {
                  "0": "nm3411072",
                  "1": "1"
                },
                {
                  "0": "nm8336901",
                  "1": "1"
                },
                {
                  "0": "nm2995654",
                  "1": "1"
                },
                {
                  "0": "nm2099797",
                  "1": "1"
                },
                {
                  "0": "nm8759922",
                  "1": "1"
                },
                {
                  "0": "nm1515028",
                  "1": "1"
                },
                {
                  "0": "nm3088708",
                  "1": "1"
                },
                {
                  "0": "nm7550596",
                  "1": "1"
                },
                {
                  "0": "nm9289149",
                  "1": "1"
                },
                {
                  "0": "nm4477894",
                  "1": "4"
                },
                {
                  "0": "nm0759437",
                  "1": "3"
                },
                {
                  "0": "nm7029055",
                  "1": "3"
                },
                {
                  "0": "nm0008161",
                  "1": "7"
                },
                {
                  "0": "nm3598225",
                  "1": "2"
                },
                {
                  "0": "nm0593864",
                  "1": "1"
                },
                {
                  "0": "nm8594291",
                  "1": "1"
                },
                {
                  "0": "nm1486647",
                  "1": "1"
                },
                {
                  "0": "nm6476224",
                  "1": "4"
                },
                {
                  "0": "nm2340879",
                  "1": "1"
                },
                {
                  "0": "nm0877270",
                  "1": "4"
                },
                {
                  "0": "nm9018113",
                  "1": "1"
                },
                {
                  "0": "nm1568413",
                  "1": "1"
                },
                {
                  "0": "nm7806140",
                  "1": "1"
                },
                {
                  "0": "nm9147339",
                  "1": "2"
                },
                {
                  "0": "nm4802218",
                  "1": "3"
                },
                {
                  "0": "nm0574206",
                  "1": "1"
                },
                {
                  "0": "nm8861629",
                  "1": "1"
                },
                {
                  "0": "nm8806049",
                  "1": "1"
                },
                {
                  "0": "nm0293255",
                  "1": "1"
                },
                {
                  "0": "nm7771377",
                  "1": "1"
                },
                {
                  "0": "nm9240819",
                  "1": "1"
                },
                {
                  "0": "nm2214392",
                  "1": "1"
                },
                {
                  "0": "nm0246570",
                  "1": "3"
                },
                {
                  "0": "nm1687462",
                  "1": "1"
                },
                {
                  "0": "nm3290486",
                  "1": "1"
                },
                {
                  "0": "nm8139904",
                  "1": "1"
                },
                {
                  "0": "nm3622076",
                  "1": "1"
                },
                {
                  "0": "nm0224882",
                  "1": "5"
                },
                {
                  "0": "nm2216385",
                  "1": "1"
                },
                {
                  "0": "nm1416640",
                  "1": "3"
                },
                {
                  "0": "nm9430259",
                  "1": "1"
                },
                {
                  "0": "nm5333857",
                  "1": "1"
                },
                {
                  "0": "nm3188225",
                  "1": "1"
                },
                {
                  "0": "nm9505721",
                  "1": "1"
                },
                {
                  "0": "nm1273366",
                  "1": "1"
                },
                {
                  "0": "nm9520786",
                  "1": "2"
                },
                {
                  "0": "nm5903182",
                  "1": "2"
                },
                {
                  "0": "nm8531386",
                  "1": "1"
                },
                {
                  "0": "nm9575332",
                  "1": "4"
                },
                {
                  "0": "nm0199546",
                  "1": "1"
                },
                {
                  "0": "nm9603690",
                  "1": "1"
                },
                {
                  "0": "nm9653613",
                  "1": "1"
                },
                {
                  "0": "nm8543695",
                  "1": "1"
                },
                {
                  "0": "nm9004182",
                  "1": "1"
                },
                {
                  "0": "nm9763459",
                  "1": "1"
                },
                {
                  "0": "nm4683248",
                  "1": "2"
                },
                {
                  "0": "nm2822547",
                  "1": "3"
                },
                {
                  "0": "nm0004763",
                  "1": "2"
                },
                {
                  "0": "nm0561114",
                  "1": "1"
                },
                {
                  "0": "nm1597014",
                  "1": "1"
                },
                {
                  "0": "nm3311160",
                  "1": "1"
                },
                {
                  "0": "nm9755962",
                  "1": "1"
                },
                {
                  "0": "nm9820934",
                  "1": "1"
                },
                {
                  "0": "nm9829771",
                  "1": "1"
                },
                {
                  "0": "nm9852412",
                  "1": "1"
                },
                {
                  "0": "nm3297166",
                  "1": "1"
                },
                {
                  "0": "nm2162912",
                  "1": "2"
                },
                {
                  "0": "nm0113463",
                  "1": "3"
                },
                {
                  "0": "nm9928881",
                  "1": "1"
                },
                {
                  "0": "nm9965195",
                  "1": "1"
                },
                {
                  "0": "nm9975532",
                  "1": "1"
                },
                {
                  "0": "nm10018614",
                  "1": "1"
                },
                {
                  "0": "nm3257155",
                  "1": "2"
                },
                {
                  "0": "nm1415658",
                  "1": "1"
                },
                {
                  "0": "nm3041586",
                  "1": "1"
                },
                {
                  "0": "nm8350768",
                  "1": "1"
                },
                {
                  "0": "nm10096309",
                  "1": "1"
                },
                {
                  "0": "nm9449408",
                  "1": "1"
                },
                {
                  "0": "nm9367333",
                  "1": "1"
                },
                {
                  "0": "nm10114454",
                  "1": "2"
                },
                {
                  "0": "nm0608067",
                  "1": "1"
                },
                {
                  "0": "nm10172937",
                  "1": "1"
                },
                {
                  "0": "nm10180701",
                  "1": "1"
                },
                {
                  "0": "nm10183831",
                  "1": "1"
                },
                {
                  "0": "nm7957298",
                  "1": "1"
                },
                {
                  "0": "nm1870526",
                  "1": "2"
                },
                {
                  "0": "nm10188497",
                  "1": "1"
                },
                {
                  "0": "nm6050412",
                  "1": "1"
                },
                {
                  "0": "nm10427150",
                  "1": "1"
                },
                {
                  "0": "nm9958842",
                  "1": "1"
                },
                {
                  "0": "nm10382280",
                  "1": "1"
                },
                {
                  "0": "nm1104698",
                  "1": "1"
                },
                {
                  "0": "nm11683550",
                  "1": "1"
                },
                {
                  "0": "nm0432531",
                  "1": "1"
                },
                {
                  "0": "nm4367523",
                  "1": "1"
                },
                {
                  "0": "nm3478396",
                  "1": "5"
                },
                {
                  "0": "nm8221260",
                  "1": "1"
                },
                {
                  "0": "nm0277932",
                  "1": "1"
                },
                {
                  "0": "tt0082017",
                  "1": "4"
                },
                {
                  "0": "tt0083519",
                  "1": "4"
                },
                {
                  "0": "tt0088950",
                  "1": "4"
                },
                {
                  "0": "tt0089218",
                  "1": "4"
                },
                {
                  "0": "tt0090679",
                  "1": "4"
                },
                {
                  "0": "tt0091537",
                  "1": "4"
                },
                {
                  "0": "tt0092125",
                  "1": "4"
                },
                {
                  "0": "tt0092306",
                  "1": "4"
                },
                {
                  "0": "tt0093416",
                  "1": "4"
                },
                {
                  "0": "tt0094093",
                  "1": "6"
                },
                {
                  "0": "tt0096329",
                  "1": "4"
                },
                {
                  "0": "tt0098153",
                  "1": "4"
                },
                {
                  "0": "tt0098251",
                  "1": "4"
                },
                {
                  "0": "nm9582768",
                  "1": "1"
                },
                {
                  "0": "nm5331311",
                  "1": "1"
                },
                {
                  "0": "nm7027141",
                  "1": "1"
                },
                {
                  "0": "nm7665715",
                  "1": "1"
                },
                {
                  "0": "nm1564283",
                  "1": "1"
                },
                {
                  "0": "nm9253868",
                  "1": "1"
                },
                {
                  "0": "nm10524220",
                  "1": "1"
                },
                {
                  "0": "tt0086657",
                  "1": "4"
                },
                {
                  "0": "tt0093780",
                  "1": "4"
                },
                {
                  "0": "tt0779768",
                  "1": "4"
                },
                {
                  "0": "tt0810922",
                  "1": "4"
                },
                {
                  "0": "tt0844286",
                  "1": "4"
                },
                {
                  "0": "tt0847205",
                  "1": "4"
                },
                {
                  "0": "tt0893548",
                  "1": "4"
                },
                {
                  "0": "tt0905979",
                  "1": "4"
                },
                {
                  "0": "tt0964185",
                  "1": "4"
                },
                {
                  "0": "tt10140922",
                  "1": "4"
                },
                {
                  "0": "tt1031969",
                  "1": "4"
                },
                {
                  "0": "tt10321890",
                  "1": "1"
                },
                {
                  "0": "tt10356932",
                  "1": "4"
                },
                {
                  "0": "tt1060253",
                  "1": "4"
                },
                {
                  "0": "tt10733938",
                  "1": "4"
                },
                {
                  "0": "tt1085711",
                  "1": "4"
                },
                {
                  "0": "tt10883272",
                  "1": "4"
                },
                {
                  "0": "tt10986084",
                  "1": "4"
                },
                {
                  "0": "tt1102286",
                  "1": "5"
                },
                {
                  "0": "tt11042658",
                  "1": "4"
                },
                {
                  "0": "tt11242528",
                  "1": "6"
                },
                {
                  "0": "tt1141263",
                  "1": "4"
                },
                {
                  "0": "tt11525812",
                  "1": "8"
                },
                {
                  "0": "tt11554586",
                  "1": "4"
                },
                {
                  "0": "tt11903004",
                  "1": "4"
                },
                {
                  "0": "tt12099366",
                  "1": "4"
                },
                {
                  "0": "tt12134868",
                  "1": "4"
                },
                {
                  "0": "tt12247534",
                  "1": "4"
                },
                {
                  "0": "tt1228736",
                  "1": "5"
                },
                {
                  "0": "tt12373518",
                  "1": "2"
                },
                {
                  "0": "tt1262982",
                  "1": "3"
                },
                {
                  "0": "tt1280558",
                  "1": "4"
                },
                {
                  "0": "tt1329350",
                  "1": "4"
                },
                {
                  "0": "tt13304670",
                  "1": "2"
                },
                {
                  "0": "tt13369452",
                  "1": "4"
                },
                {
                  "0": "tt13406130",
                  "1": "4"
                },
                {
                  "0": "tt13417218",
                  "1": "4"
                },
                {
                  "0": "tt13667212",
                  "1": "2"
                },
                {
                  "0": "tt1378378",
                  "1": "4"
                },
                {
                  "0": "tt1386588",
                  "1": "4"
                },
                {
                  "0": "tt13915036",
                  "1": "3"
                },
                {
                  "0": "tt13927218",
                  "1": "4"
                },
                {
                  "0": "tt14072100",
                  "1": "4"
                },
                {
                  "0": "tt1414357",
                  "1": "4"
                },
                {
                  "0": "tt14160990",
                  "1": "4"
                },
                {
                  "0": "tt1419916",
                  "1": "5"
                },
                {
                  "0": "tt14484896",
                  "1": "4"
                },
                {
                  "0": "tt1466467",
                  "1": "4"
                },
                {
                  "0": "tt1473361",
                  "1": "7"
                },
                {
                  "0": "tt1477018",
                  "1": "4"
                },
                {
                  "0": "tt1483773",
                  "1": "4"
                },
                {
                  "0": "tt1485055",
                  "1": "4"
                },
                {
                  "0": "tt1505380",
                  "1": "6"
                },
                {
                  "0": "tt1521224",
                  "1": "4"
                },
                {
                  "0": "tt1525836",
                  "1": "4"
                },
                {
                  "0": "tt1529572",
                  "1": "4"
                },
                {
                  "0": "tt1536051",
                  "1": "4"
                },
                {
                  "0": "tt1596752",
                  "1": "4"
                },
                {
                  "0": "tt1602476",
                  "1": "4"
                },
                {
                  "0": "tt1615466",
                  "1": "4"
                },
                {
                  "0": "tt1615885",
                  "1": "4"
                },
                {
                  "0": "tt1616552",
                  "1": "4"
                },
                {
                  "0": "tt1617123",
                  "1": "4"
                },
                {
                  "0": "tt1640548",
                  "1": "4"
                },
                {
                  "0": "tt1672133",
                  "1": "2"
                },
                {
                  "0": "tt1704142",
                  "1": "4"
                },
                {
                  "0": "tt1709118",
                  "1": "4"
                },
                {
                  "0": "tt1821328",
                  "1": "4"
                },
                {
                  "0": "tt1833127",
                  "1": "4"
                },
                {
                  "0": "tt1846449",
                  "1": "4"
                },
                {
                  "0": "tt1855385",
                  "1": "7"
                },
                {
                  "0": "tt1874708",
                  "1": "7"
                },
                {
                  "0": "tt1884296",
                  "1": "4"
                },
                {
                  "0": "tt1927172",
                  "1": "4"
                },
                {
                  "0": "tt1945122",
                  "1": "4"
                },
                {
                  "0": "tt1954442",
                  "1": "4"
                },
                {
                  "0": "tt1954480",
                  "1": "4"
                },
                {
                  "0": "tt1961530",
                  "1": "4"
                },
                {
                  "0": "tt2009503",
                  "1": "4"
                },
                {
                  "0": "tt2049543",
                  "1": "4"
                },
                {
                  "0": "tt2074390",
                  "1": "5"
                },
                {
                  "0": "tt7217128",
                  "1": "4"
                },
                {
                  "0": "tt7224328",
                  "1": "8"
                },
                {
                  "0": "tt7322816",
                  "1": "6"
                },
                {
                  "0": "tt7363104",
                  "1": "4"
                },
                {
                  "0": "tt7575440",
                  "1": "4"
                },
                {
                  "0": "tt7617622",
                  "1": "4"
                },
                {
                  "0": "tt7690076",
                  "1": "2"
                },
                {
                  "0": "tt7709860",
                  "1": "4"
                },
                {
                  "0": "tt7831702",
                  "1": "6"
                },
                {
                  "0": "tt7858114",
                  "1": "4"
                },
                {
                  "0": "tt7859048",
                  "1": "4"
                },
                {
                  "0": "tt7893416",
                  "1": "4"
                },
                {
                  "0": "tt7919794",
                  "1": "2"
                },
                {
                  "0": "tt7960488",
                  "1": "4"
                },
                {
                  "0": "tt7998260",
                  "1": "4"
                },
                {
                  "0": "tt8083504",
                  "1": "4"
                },
                {
                  "0": "tt8180058",
                  "1": "6"
                },
                {
                  "0": "tt8235296",
                  "1": "4"
                },
                {
                  "0": "tt8383028",
                  "1": "4"
                },
                {
                  "0": "tt8398908",
                  "1": "4"
                },
                {
                  "0": "tt8427252",
                  "1": "8"
                },
                {
                  "0": "tt8477134",
                  "1": "4"
                },
                {
                  "0": "tt8529186",
                  "1": "4"
                },
                {
                  "0": "tt8695030",
                  "1": "4"
                },
                {
                  "0": "tt8824552",
                  "1": "2"
                },
                {
                  "0": "tt8878780",
                  "1": "4"
                },
                {
                  "0": "tt8892632",
                  "1": "4"
                },
                {
                  "0": "tt8976682",
                  "1": "5"
                },
                {
                  "0": "tt8983306",
                  "1": "4"
                },
                {
                  "0": "tt9044604",
                  "1": "9"
                },
                {
                  "0": "tt9395528",
                  "1": "4"
                },
                {
                  "0": "tt9573686",
                  "1": "4"
                },
                {
                  "0": "tt9623586",
                  "1": "3"
                },
                {
                  "0": "tt9680090",
                  "1": "4"
                },
                {
                  "0": "tt9777644",
                  "1": "4"
                },
                {
                  "0": "nm0844752",
                  "1": "6"
                },
                {
                  "0": "nm0000086",
                  "1": "2"
                },
                {
                  "0": "nm0380489",
                  "1": "1"
                },
                {
                  "0": "nm0286617",
                  "1": "1"
                },
                {
                  "0": "nm0001079",
                  "1": "2"
                },
                {
                  "0": "nm0225216",
                  "1": "2"
                },
                {
                  "0": "nm0572229",
                  "1": "1"
                },
                {
                  "0": "nm0935768",
                  "1": "3"
                },
                {
                  "0": "nm0000493",
                  "1": "11"
                },
                {
                  "0": "nm0166388",
                  "1": "2"
                },
                {
                  "0": "nm0344950",
                  "1": "1"
                },
                {
                  "0": "nm0057029",
                  "1": "1"
                },
                {
                  "0": "nm0549603",
                  "1": "3"
                },
                {
                  "0": "nm0375570",
                  "1": "3"
                },
                {
                  "0": "nm0046770",
                  "1": "1"
                },
                {
                  "0": "nm0682893",
                  "1": "1"
                },
                {
                  "0": "nm0165049",
                  "1": "1"
                },
                {
                  "0": "nm0096107",
                  "1": "1"
                },
                {
                  "0": "nm0598201",
                  "1": "1"
                },
                {
                  "0": "nm0812556",
                  "1": "8"
                },
                {
                  "0": "nm0664440",
                  "1": "1"
                },
                {
                  "0": "nm0638159",
                  "1": "1"
                },
                {
                  "0": "nm0754122",
                  "1": "1"
                },
                {
                  "0": "nm0048122",
                  "1": "5"
                },
                {
                  "0": "nm0481714",
                  "1": "1"
                },
                {
                  "0": "nm0679242",
                  "1": "1"
                },
                {
                  "0": "nm1101862",
                  "1": "5"
                },
                {
                  "0": "nm0733586",
                  "1": "1"
                },
                {
                  "0": "nm0131169",
                  "1": "1"
                },
                {
                  "0": "nm0689057",
                  "1": "2"
                },
                {
                  "0": "nm0423885",
                  "1": "1"
                },
                {
                  "0": "nm0690074",
                  "1": "1"
                },
                {
                  "0": "nm0071744",
                  "1": "1"
                },
                {
                  "0": "nm0046175",
                  "1": "1"
                },
                {
                  "0": "nm0651528",
                  "1": "3"
                },
                {
                  "0": "nm2983825",
                  "1": "1"
                },
                {
                  "0": "nm0289359",
                  "1": "1"
                },
                {
                  "0": "nm0710490",
                  "1": "2"
                },
                {
                  "0": "nm0922671",
                  "1": "1"
                },
                {
                  "0": "nm0892991",
                  "1": "1"
                },
                {
                  "0": "nm0114931",
                  "1": "1"
                },
                {
                  "0": "nm0466119",
                  "1": "1"
                },
                {
                  "0": "nm0897197",
                  "1": "6"
                },
                {
                  "0": "nm0284482",
                  "1": "1"
                },
                {
                  "0": "nm0736705",
                  "1": "1"
                },
                {
                  "0": "nm0601105",
                  "1": "1"
                },
                {
                  "0": "nm0002222",
                  "1": "1"
                },
                {
                  "0": "nm1209534",
                  "1": "1"
                },
                {
                  "0": "nm0155923",
                  "1": "1"
                },
                {
                  "0": "nm0006620",
                  "1": "2"
                },
                {
                  "0": "nm0780975",
                  "1": "1"
                },
                {
                  "0": "nm0369213",
                  "1": "1"
                },
                {
                  "0": "nm0032810",
                  "1": "1"
                },
                {
                  "0": "nm1616742",
                  "1": "1"
                },
                {
                  "0": "nm0359497",
                  "1": "1"
                },
                {
                  "0": "nm0847027",
                  "1": "1"
                },
                {
                  "0": "nm0311343",
                  "1": "1"
                },
                {
                  "0": "nm0134743",
                  "1": "1"
                },
                {
                  "0": "nm0197580",
                  "1": "1"
                },
                {
                  "0": "nm0910860",
                  "1": "1"
                },
                {
                  "0": "nm0661611",
                  "1": "1"
                },
                {
                  "0": "nm0707174",
                  "1": "1"
                },
                {
                  "0": "nm0445407",
                  "1": "1"
                },
                {
                  "0": "nm0202497",
                  "1": "1"
                },
                {
                  "0": "nm0744776",
                  "1": "1"
                },
                {
                  "0": "nm0843994",
                  "1": "1"
                },
                {
                  "0": "nm0691386",
                  "1": "1"
                },
                {
                  "0": "nm3769061",
                  "1": "1"
                },
                {
                  "0": "nm0039516",
                  "1": "1"
                },
                {
                  "0": "nm0141400",
                  "1": "1"
                },
                {
                  "0": "nm0804093",
                  "1": "1"
                },
                {
                  "0": "nm0397721",
                  "1": "1"
                },
                {
                  "0": "nm0820715",
                  "1": "1"
                },
                {
                  "0": "nm0424582",
                  "1": "1"
                },
                {
                  "0": "nm0166394",
                  "1": "1"
                },
                {
                  "0": "nm0766307",
                  "1": "1"
                },
                {
                  "0": "nm0919442",
                  "1": "1"
                },
                {
                  "0": "nm0901229",
                  "1": "1"
                },
                {
                  "0": "nm0950428",
                  "1": "1"
                },
                {
                  "0": "nm0895005",
                  "1": "1"
                },
                {
                  "0": "nm3056376",
                  "1": "1"
                },
                {
                  "0": "nm1372250",
                  "1": "1"
                },
                {
                  "0": "nm1778990",
                  "1": "1"
                },
                {
                  "0": "nm0412064",
                  "1": "1"
                },
                {
                  "0": "nm1131893",
                  "1": "1"
                },
                {
                  "0": "nm0352203",
                  "1": "1"
                },
                {
                  "0": "nm0695048",
                  "1": "1"
                },
                {
                  "0": "nm0871777",
                  "1": "1"
                },
                {
                  "0": "nm1374515",
                  "1": "2"
                },
                {
                  "0": "nm1220842",
                  "1": "2"
                },
                {
                  "0": "nm0266958",
                  "1": "1"
                },
                {
                  "0": "nm0437183",
                  "1": "1"
                },
                {
                  "0": "nm3744055",
                  "1": "1"
                },
                {
                  "0": "nm0698614",
                  "1": "1"
                },
                {
                  "0": "nm0500542",
                  "1": "1"
                },
                {
                  "0": "nm0463279",
                  "1": "1"
                },
                {
                  "0": "nm0585651",
                  "1": "1"
                },
                {
                  "0": "nm1145937",
                  "1": "1"
                },
                {
                  "0": "nm0539605",
                  "1": "1"
                },
                {
                  "0": "nm0536653",
                  "1": "1"
                },
                {
                  "0": "nm0884408",
                  "1": "2"
                },
                {
                  "0": "nm0628054",
                  "1": "1"
                },
                {
                  "0": "nm1040528",
                  "1": "1"
                },
                {
                  "0": "nm1045583",
                  "1": "1"
                },
                {
                  "0": "nm1074201",
                  "1": "1"
                },
                {
                  "0": "nm1812207",
                  "1": "1"
                },
                {
                  "0": "nm1363882",
                  "1": "1"
                },
                {
                  "0": "nm0911320",
                  "1": "2"
                },
                {
                  "0": "nm1118783",
                  "1": "1"
                },
                {
                  "0": "nm0121141",
                  "1": "1"
                },
                {
                  "0": "nm0640669",
                  "1": "1"
                },
                {
                  "0": "nm1536771",
                  "1": "1"
                },
                {
                  "0": "nm1333457",
                  "1": "1"
                },
                {
                  "0": "nm1382280",
                  "1": "1"
                },
                {
                  "0": "nm0328601",
                  "1": "1"
                },
                {
                  "0": "nm1105565",
                  "1": "1"
                },
                {
                  "0": "nm1288136",
                  "1": "1"
                },
                {
                  "0": "nm0005535",
                  "1": "1"
                },
                {
                  "0": "nm2807269",
                  "1": "1"
                },
                {
                  "0": "nm6228559",
                  "1": "1"
                },
                {
                  "0": "nm3872229",
                  "1": "1"
                },
                {
                  "0": "nm3646871",
                  "1": "1"
                },
                {
                  "0": "nm2492304",
                  "1": "1"
                },
                {
                  "0": "nm0998254",
                  "1": "1"
                },
                {
                  "0": "nm3590786",
                  "1": "1"
                },
                {
                  "0": "nm2156145",
                  "1": "1"
                },
                {
                  "0": "nm3743057",
                  "1": "1"
                },
                {
                  "0": "nm0933264",
                  "1": "1"
                },
                {
                  "0": "nm1924615",
                  "1": "1"
                },
                {
                  "0": "nm2764011",
                  "1": "1"
                },
                {
                  "0": "nm4394850",
                  "1": "1"
                },
                {
                  "0": "nm4885520",
                  "1": "1"
                },
                {
                  "0": "nm0279996",
                  "1": "1"
                },
                {
                  "0": "nm3888054",
                  "1": "2"
                },
                {
                  "0": "nm3485230",
                  "1": "1"
                },
                {
                  "0": "nm3936285",
                  "1": "1"
                },
                {
                  "0": "nm2658780",
                  "1": "1"
                },
                {
                  "0": "nm7316147",
                  "1": "2"
                },
                {
                  "0": "nm1366703",
                  "1": "1"
                },
                {
                  "0": "nm4018652",
                  "1": "1"
                },
                {
                  "0": "nm4285320",
                  "1": "1"
                },
                {
                  "0": "nm4518939",
                  "1": "1"
                },
                {
                  "0": "nm1616937",
                  "1": "2"
                },
                {
                  "0": "nm4073737",
                  "1": "1"
                },
                {
                  "0": "nm4101466",
                  "1": "1"
                },
                {
                  "0": "nm4100703",
                  "1": "1"
                },
                {
                  "0": "nm0035700",
                  "1": "1"
                },
                {
                  "0": "nm4111335",
                  "1": "1"
                },
                {
                  "0": "nm4168095",
                  "1": "1"
                },
                {
                  "0": "nm4175363",
                  "1": "1"
                },
                {
                  "0": "nm4217244",
                  "1": "1"
                },
                {
                  "0": "nm0080335",
                  "1": "1"
                },
                {
                  "0": "nm3849008",
                  "1": "2"
                },
                {
                  "0": "nm1843960",
                  "1": "1"
                },
                {
                  "0": "nm2009906",
                  "1": "1"
                },
                {
                  "0": "nm11419217",
                  "1": "1"
                },
                {
                  "0": "nm0005349",
                  "1": "1"
                },
                {
                  "0": "nm1110009",
                  "1": "1"
                },
                {
                  "0": "nm4291564",
                  "1": "1"
                },
                {
                  "0": "nm4309686",
                  "1": "2"
                },
                {
                  "0": "nm4623592",
                  "1": "1"
                },
                {
                  "0": "nm4319059",
                  "1": "1"
                },
                {
                  "0": "nm4344684",
                  "1": "1"
                },
                {
                  "0": "nm1067213",
                  "1": "1"
                },
                {
                  "0": "nm0900644",
                  "1": "1"
                },
                {
                  "0": "nm0287880",
                  "1": "1"
                },
                {
                  "0": "nm4415248",
                  "1": "1"
                },
                {
                  "0": "nm0466651",
                  "1": "1"
                },
                {
                  "0": "nm0668241",
                  "1": "2"
                },
                {
                  "0": "nm4528481",
                  "1": "1"
                },
                {
                  "0": "nm4130945",
                  "1": "1"
                },
                {
                  "0": "nm5146066",
                  "1": "1"
                },
                {
                  "0": "nm4625497",
                  "1": "1"
                },
                {
                  "0": "nm4649709",
                  "1": "1"
                },
                {
                  "0": "nm2570728",
                  "1": "1"
                },
                {
                  "0": "nm4664904",
                  "1": "1"
                },
                {
                  "0": "nm8695880",
                  "1": "1"
                },
                {
                  "0": "nm4957659",
                  "1": "1"
                },
                {
                  "0": "nm0889900",
                  "1": "2"
                },
                {
                  "0": "nm4923026",
                  "1": "1"
                },
                {
                  "0": "nm4815663",
                  "1": "1"
                },
                {
                  "0": "nm0102195",
                  "1": "1"
                },
                {
                  "0": "nm5093758",
                  "1": "1"
                },
                {
                  "0": "nm5172259",
                  "1": "1"
                },
                {
                  "0": "nm4170069",
                  "1": "1"
                },
                {
                  "0": "nm5140094",
                  "1": "1"
                },
                {
                  "0": "nm5160723",
                  "1": "1"
                },
                {
                  "0": "nm1755975",
                  "1": "1"
                },
                {
                  "0": "nm4174217",
                  "1": "1"
                },
                {
                  "0": "nm3340197",
                  "1": "1"
                },
                {
                  "0": "nm5496871",
                  "1": "1"
                },
                {
                  "0": "nm1923909",
                  "1": "1"
                },
                {
                  "0": "nm5256883",
                  "1": "1"
                },
                {
                  "0": "nm5269798",
                  "1": "1"
                },
                {
                  "0": "nm1794961",
                  "1": "1"
                },
                {
                  "0": "nm5450287",
                  "1": "1"
                },
                {
                  "0": "nm5388507",
                  "1": "1"
                },
                {
                  "0": "nm2733870",
                  "1": "1"
                },
                {
                  "0": "nm3741831",
                  "1": "2"
                },
                {
                  "0": "nm1162399",
                  "1": "1"
                },
                {
                  "0": "nm5036154",
                  "1": "1"
                },
                {
                  "0": "nm4262200",
                  "1": "1"
                },
                {
                  "0": "nm5171405",
                  "1": "2"
                },
                {
                  "0": "nm3868668",
                  "1": "1"
                },
                {
                  "0": "nm5741905",
                  "1": "1"
                },
                {
                  "0": "nm5930143",
                  "1": "1"
                },
                {
                  "0": "nm5829670",
                  "1": "1"
                },
                {
                  "0": "nm0915452",
                  "1": "1"
                },
                {
                  "0": "nm6015094",
                  "1": "1"
                },
                {
                  "0": "nm5657192",
                  "1": "1"
                },
                {
                  "0": "nm3993020",
                  "1": "1"
                },
                {
                  "0": "nm7580059",
                  "1": "1"
                },
                {
                  "0": "nm3513522",
                  "1": "1"
                },
                {
                  "0": "nm0993232",
                  "1": "1"
                },
                {
                  "0": "nm5509676",
                  "1": "1"
                },
                {
                  "0": "nm6175619",
                  "1": "1"
                },
                {
                  "0": "nm6183936",
                  "1": "1"
                },
                {
                  "0": "nm6059811",
                  "1": "1"
                },
                {
                  "0": "nm6212807",
                  "1": "1"
                },
                {
                  "0": "nm0103169",
                  "1": "1"
                },
                {
                  "0": "nm3236159",
                  "1": "1"
                },
                {
                  "0": "nm6519972",
                  "1": "1"
                },
                {
                  "0": "nm6355156",
                  "1": "1"
                },
                {
                  "0": "nm6373245",
                  "1": "1"
                },
                {
                  "0": "nm6387275",
                  "1": "1"
                },
                {
                  "0": "nm2907715",
                  "1": "1"
                },
                {
                  "0": "nm6404325",
                  "1": "2"
                },
                {
                  "0": "nm6576647",
                  "1": "1"
                },
                {
                  "0": "nm6598954",
                  "1": "1"
                },
                {
                  "0": "nm6477880",
                  "1": "1"
                },
                {
                  "0": "nm4353779",
                  "1": "1"
                },
                {
                  "0": "nm5672994",
                  "1": "1"
                },
                {
                  "0": "nm6020391",
                  "1": "1"
                },
                {
                  "0": "nm0131254",
                  "1": "1"
                },
                {
                  "0": "nm8900096",
                  "1": "1"
                },
                {
                  "0": "nm6823137",
                  "1": "1"
                },
                {
                  "0": "nm6313782",
                  "1": "1"
                },
                {
                  "0": "nm3135433",
                  "1": "1"
                },
                {
                  "0": "nm6884828",
                  "1": "1"
                },
                {
                  "0": "nm8662870",
                  "1": "1"
                },
                {
                  "0": "nm1551484",
                  "1": "1"
                },
                {
                  "0": "nm0147022",
                  "1": "1"
                },
                {
                  "0": "nm6349670",
                  "1": "1"
                },
                {
                  "0": "nm0892471",
                  "1": "1"
                },
                {
                  "0": "nm9619182",
                  "1": "1"
                },
                {
                  "0": "nm6317127",
                  "1": "1"
                },
                {
                  "0": "nm7185107",
                  "1": "1"
                },
                {
                  "0": "nm9125919",
                  "1": "1"
                },
                {
                  "0": "nm7212894",
                  "1": "1"
                },
                {
                  "0": "nm7313937",
                  "1": "1"
                },
                {
                  "0": "nm5029255",
                  "1": "1"
                },
                {
                  "0": "nm7478662",
                  "1": "1"
                },
                {
                  "0": "nm5629577",
                  "1": "1"
                },
                {
                  "0": "nm1250555",
                  "1": "1"
                },
                {
                  "0": "nm3989661",
                  "1": "1"
                },
                {
                  "0": "nm0948058",
                  "1": "1"
                },
                {
                  "0": "nm3632950",
                  "1": "1"
                },
                {
                  "0": "nm4871306",
                  "1": "1"
                },
                {
                  "0": "nm4756974",
                  "1": "1"
                },
                {
                  "0": "nm3277942",
                  "1": "1"
                },
                {
                  "0": "nm2612218",
                  "1": "1"
                },
                {
                  "0": "nm8770311",
                  "1": "1"
                },
                {
                  "0": "nm1589584",
                  "1": "1"
                },
                {
                  "0": "nm3963070",
                  "1": "1"
                },
                {
                  "0": "nm6153540",
                  "1": "1"
                },
                {
                  "0": "nm5695519",
                  "1": "1"
                },
                {
                  "0": "nm3288299",
                  "1": "1"
                },
                {
                  "0": "nm5161567",
                  "1": "1"
                },
                {
                  "0": "tt0102701",
                  "1": "4"
                },
                {
                  "0": "tt0103190",
                  "1": "4"
                },
                {
                  "0": "tt0104357",
                  "1": "4"
                },
                {
                  "0": "tt0105127",
                  "1": "4"
                },
                {
                  "0": "tt0107388",
                  "1": "6"
                },
                {
                  "0": "tt0107840",
                  "1": "4"
                },
                {
                  "0": "tt0108413",
                  "1": "4"
                },
                {
                  "0": "tt0108602",
                  "1": "4"
                },
                {
                  "0": "tt0110900",
                  "1": "4"
                },
                {
                  "0": "tt0113627",
                  "1": "4"
                },
                {
                  "0": "tt0113731",
                  "1": "4"
                },
                {
                  "0": "tt0114126",
                  "1": "4"
                },
                {
                  "0": "tt0114367",
                  "1": "4"
                },
                {
                  "0": "tt0117718",
                  "1": "4"
                },
                {
                  "0": "tt0121766",
                  "1": "4"
                },
                {
                  "0": "tt0122625",
                  "1": "4"
                },
                {
                  "0": "tt0124864",
                  "1": "4"
                },
                {
                  "0": "tt0126838",
                  "1": "4"
                },
                {
                  "0": "tt0140067",
                  "1": "4"
                },
                {
                  "0": "tt0143245",
                  "1": "6"
                },
                {
                  "0": "tt0145503",
                  "1": "4"
                },
                {
                  "0": "tt0177073",
                  "1": "4"
                },
                {
                  "0": "tt0181310",
                  "1": "4"
                },
                {
                  "0": "tt0189744",
                  "1": "4"
                },
                {
                  "0": "tt0203217",
                  "1": "4"
                },
                {
                  "0": "tt0203672",
                  "1": "4"
                },
                {
                  "0": "tt0207354",
                  "1": "4"
                },
                {
                  "0": "tt0208088",
                  "1": "4"
                },
                {
                  "0": "tt0214519",
                  "1": "4"
                },
                {
                  "0": "tt0241025",
                  "1": "4"
                },
                {
                  "0": "tt0242635",
                  "1": "8"
                },
                {
                  "0": "tt0254626",
                  "1": "4"
                },
                {
                  "0": "tt0255643",
                  "1": "7"
                },
                {
                  "0": "tt0256898",
                  "1": "4"
                },
                {
                  "0": "tt0259495",
                  "1": "7"
                },
                {
                  "0": "tt0264534",
                  "1": "4"
                },
                {
                  "0": "tt0265730",
                  "1": "4"
                },
                {
                  "0": "tt0266391",
                  "1": "4"
                },
                {
                  "0": "tt0267469",
                  "1": "4"
                },
                {
                  "0": "tt0268943",
                  "1": "6"
                },
                {
                  "0": "tt0289622",
                  "1": "8"
                },
                {
                  "0": "tt0295634",
                  "1": "8"
                },
                {
                  "0": "tt0298242",
                  "1": "4"
                },
                {
                  "0": "tt0298607",
                  "1": "5"
                },
                {
                  "0": "tt0302031",
                  "1": "5"
                },
                {
                  "0": "tt0317775",
                  "1": "6"
                },
                {
                  "0": "tt0319337",
                  "1": "4"
                },
                {
                  "0": "tt0327116",
                  "1": "4"
                },
                {
                  "0": "tt0342913",
                  "1": "4"
                },
                {
                  "0": "tt0349363",
                  "1": "4"
                },
                {
                  "0": "tt0353496",
                  "1": "4"
                },
                {
                  "0": "tt0354911",
                  "1": "5"
                },
                {
                  "0": "tt0361771",
                  "1": "4"
                },
                {
                  "0": "tt0367116",
                  "1": "4"
                },
                {
                  "0": "tt0368769",
                  "1": "6"
                },
                {
                  "0": "tt0376503",
                  "1": "6"
                },
                {
                  "0": "tt0382019",
                  "1": "4"
                },
                {
                  "0": "tt0383028",
                  "1": "4"
                },
                {
                  "0": "tt0384163",
                  "1": "4"
                },
                {
                  "0": "tt0388687",
                  "1": "4"
                },
                {
                  "0": "tt0398791",
                  "1": "4"
                },
                {
                  "0": "tt0426097",
                  "1": "4"
                },
                {
                  "0": "tt0433650",
                  "1": "4"
                },
                {
                  "0": "tt0434292",
                  "1": "4"
                },
                {
                  "0": "tt0439997",
                  "1": "3"
                },
                {
                  "0": "tt0441253",
                  "1": "9"
                },
                {
                  "0": "tt0449010",
                  "1": "4"
                },
                {
                  "0": "tt0456165",
                  "1": "4"
                },
                {
                  "0": "tt0457661",
                  "1": "6"
                },
                {
                  "0": "tt0462684",
                  "1": "4"
                },
                {
                  "0": "tt0463854",
                  "1": "4"
                },
                {
                  "0": "tt0464049",
                  "1": "4"
                },
                {
                  "0": "tt0464636",
                  "1": "7"
                },
                {
                  "0": "tt0466208",
                  "1": "6"
                },
                {
                  "0": "tt0469640",
                  "1": "4"
                },
                {
                  "0": "tt0475723",
                  "1": "4"
                },
                {
                  "0": "tt0476819",
                  "1": "4"
                },
                {
                  "0": "tt0764671",
                  "1": "4"
                },
                {
                  "0": "tt0768837",
                  "1": "4"
                },
                {
                  "0": "tt0102468",
                  "1": "4"
                },
                {
                  "0": "tt0222027",
                  "1": "4"
                },
                {
                  "0": "tt2102497",
                  "1": "4"
                },
                {
                  "0": "tt2137064",
                  "1": "4"
                },
                {
                  "0": "tt2148142",
                  "1": "7"
                },
                {
                  "0": "tt2317090",
                  "1": "4"
                },
                {
                  "0": "tt2338287",
                  "1": "4"
                },
                {
                  "0": "tt2343536",
                  "1": "4"
                },
                {
                  "0": "tt2396870",
                  "1": "4"
                },
                {
                  "0": "tt2482482",
                  "1": "4"
                },
                {
                  "0": "tt2570056",
                  "1": "4"
                },
                {
                  "0": "tt2610468",
                  "1": "3"
                },
                {
                  "0": "tt2802144",
                  "1": "4"
                },
                {
                  "0": "tt2979044",
                  "1": "4"
                },
                {
                  "0": "tt3103360",
                  "1": "4"
                },
                {
                  "0": "tt3120022",
                  "1": "7"
                },
                {
                  "0": "tt3122216",
                  "1": "4"
                },
                {
                  "0": "tt3207378",
                  "1": "4"
                },
                {
                  "0": "tt3303416",
                  "1": "4"
                },
                {
                  "0": "tt3355434",
                  "1": "4"
                },
                {
                  "0": "tt3362750",
                  "1": "1"
                },
                {
                  "0": "tt3446852",
                  "1": "4"
                },
                {
                  "0": "tt3449978",
                  "1": "4"
                },
                {
                  "0": "tt3476780",
                  "1": "4"
                },
                {
                  "0": "tt3500478",
                  "1": "5"
                },
                {
                  "0": "tt3515520",
                  "1": "4"
                },
                {
                  "0": "tt3524792",
                  "1": "4"
                },
                {
                  "0": "tt3530960",
                  "1": "4"
                },
                {
                  "0": "tt3595966",
                  "1": "4"
                },
                {
                  "0": "tt3611440",
                  "1": "9"
                },
                {
                  "0": "tt3722884",
                  "1": "4"
                },
                {
                  "0": "tt3756806",
                  "1": "4"
                },
                {
                  "0": "tt3763980",
                  "1": "3"
                },
                {
                  "0": "tt3808342",
                  "1": "4"
                },
                {
                  "0": "tt4006724",
                  "1": "7"
                },
                {
                  "0": "tt4040386",
                  "1": "4"
                },
                {
                  "0": "tt4222746",
                  "1": "9"
                },
                {
                  "0": "tt4288286",
                  "1": "9"
                },
                {
                  "0": "tt4337194",
                  "1": "4"
                },
                {
                  "0": "tt4342506",
                  "1": "7"
                },
                {
                  "0": "tt4374570",
                  "1": "4"
                },
                {
                  "0": "tt4489078",
                  "1": "4"
                },
                {
                  "0": "tt4511054",
                  "1": "4"
                },
                {
                  "0": "tt4570742",
                  "1": "4"
                },
                {
                  "0": "tt4627694",
                  "1": "4"
                },
                {
                  "0": "tt4707756",
                  "1": "4"
                },
                {
                  "0": "tt4738892",
                  "1": "4"
                },
                {
                  "0": "tt4742102",
                  "1": "4"
                },
                {
                  "0": "tt4772786",
                  "1": "5"
                },
                {
                  "0": "tt4875598",
                  "1": "4"
                },
                {
                  "0": "tt4882548",
                  "1": "4"
                },
                {
                  "0": "tt4954472",
                  "1": "3"
                },
                {
                  "0": "tt4964550",
                  "1": "5"
                },
                {
                  "0": "tt4973430",
                  "1": "4"
                },
                {
                  "0": "tt5005462",
                  "1": "4"
                },
                {
                  "0": "tt5065290",
                  "1": "4"
                },
                {
                  "0": "tt5148580",
                  "1": "5"
                },
                {
                  "0": "tt5227020",
                  "1": "6"
                },
                {
                  "0": "tt5340534",
                  "1": "4"
                },
                {
                  "0": "tt5478254",
                  "1": "4"
                },
                {
                  "0": "tt5550226",
                  "1": "7"
                },
                {
                  "0": "tt5632164",
                  "1": "4"
                },
                {
                  "0": "tt5657846",
                  "1": "4"
                },
                {
                  "0": "tt5739748",
                  "1": "7"
                },
                {
                  "0": "tt5768328",
                  "1": "1"
                },
                {
                  "0": "tt5804946",
                  "1": "4"
                },
                {
                  "0": "tt5871080",
                  "1": "4"
                },
                {
                  "0": "tt6010630",
                  "1": "4"
                },
                {
                  "0": "tt6131414",
                  "1": "4"
                },
                {
                  "0": "tt6212486",
                  "1": "1"
                },
                {
                  "0": "tt6215368",
                  "1": "4"
                },
                {
                  "0": "tt6261146",
                  "1": "2"
                },
                {
                  "0": "tt6319010",
                  "1": "4"
                },
                {
                  "0": "tt6353716",
                  "1": "4"
                },
                {
                  "0": "tt6383278",
                  "1": "3"
                },
                {
                  "0": "tt6559642",
                  "1": "4"
                },
                {
                  "0": "tt6649794",
                  "1": "4"
                },
                {
                  "0": "tt6828390",
                  "1": "4"
                },
                {
                  "0": "tt6840738",
                  "1": "6"
                },
                {
                  "0": "tt6843812",
                  "1": "4"
                },
                {
                  "0": "nm0000237",
                  "1": "27"
                },
                {
                  "0": "nm0273076",
                  "1": "7"
                },
                {
                  "0": "nm1395574",
                  "1": "1"
                },
                {
                  "0": "nm0270032",
                  "1": "5"
                },
                {
                  "0": "nm1066022",
                  "1": "4"
                },
                {
                  "0": "nm0000301",
                  "1": "10"
                },
                {
                  "0": "nm2226774",
                  "1": "31"
                },
                {
                  "0": "nm1102813",
                  "1": "5"
                },
                {
                  "0": "nm0785897",
                  "1": "4"
                },
                {
                  "0": "nm0542035",
                  "1": "5"
                },
                {
                  "0": "nm0814718",
                  "1": "9"
                },
                {
                  "0": "nm1071507",
                  "1": "15"
                },
                {
                  "0": "nm3411611",
                  "1": "4"
                },
                {
                  "0": "nm0101604",
                  "1": "1"
                },
                {
                  "0": "nm1457062",
                  "1": "1"
                },
                {
                  "0": "nm0536095",
                  "1": "33"
                },
                {
                  "0": "nm0297873",
                  "1": "7"
                },
                {
                  "0": "nm0308041",
                  "1": "1"
                },
                {
                  "0": "nm0357718",
                  "1": "1"
                },
                {
                  "0": "nm6895070",
                  "1": "1"
                },
                {
                  "0": "nm8489316",
                  "1": "1"
                },
                {
                  "0": "nm0662536",
                  "1": "1"
                },
                {
                  "0": "nm1664753",
                  "1": "1"
                },
                {
                  "0": "nm0253708",
                  "1": "10"
                },
                {
                  "0": "nm1699244",
                  "1": "3"
                },
                {
                  "0": "nm1284379",
                  "1": "2"
                },
                {
                  "0": "nm0269021",
                  "1": "1"
                },
                {
                  "0": "nm0209850",
                  "1": "2"
                },
                {
                  "0": "nm1141656",
                  "1": "6"
                },
                {
                  "0": "nm0961306",
                  "1": "1"
                },
                {
                  "0": "nm1092034",
                  "1": "1"
                },
                {
                  "0": "nm0410719",
                  "1": "6"
                },
                {
                  "0": "nm0889218",
                  "1": "1"
                },
                {
                  "0": "nm0000194",
                  "1": "41"
                },
                {
                  "0": "nm0523486",
                  "1": "1"
                },
                {
                  "0": "nm0131297",
                  "1": "1"
                },
                {
                  "0": "nm0005351",
                  "1": "25"
                },
                {
                  "0": "nm0162773",
                  "1": "2"
                },
                {
                  "0": "nm1883920",
                  "1": "1"
                },
                {
                  "0": "nm1133791",
                  "1": "2"
                },
                {
                  "0": "nm2262678",
                  "1": "1"
                },
                {
                  "0": "nm2184494",
                  "1": "1"
                },
                {
                  "0": "nm1861533",
                  "1": "2"
                },
                {
                  "0": "nm0128756",
                  "1": "2"
                },
                {
                  "0": "nm1672246",
                  "1": "1"
                },
                {
                  "0": "nm1341923",
                  "1": "2"
                },
                {
                  "0": "nm0213045",
                  "1": "1"
                },
                {
                  "0": "nm1989067",
                  "1": "1"
                },
                {
                  "0": "nm0361753",
                  "1": "18"
                },
                {
                  "0": "nm1513235",
                  "1": "2"
                },
                {
                  "0": "nm0001848",
                  "1": "15"
                }
              ],
              "schema": [
                {
                  "key": "0",
                  "name": "id",
                  "type": "string"
                },
                {
                  "key": "1",
                  "name": "inDegree",
                  "type": "int"
                }
              ],
              "truncated": false
            },
            "isSummary": false,
            "language": "scala"
          },
          "persist_state": {
            "view": {
              "type": "details",
              "tableOptions": {},
              "chartOptions": {
                "chartType": "bar",
                "aggregationType": "sum",
                "categoryFieldKeys": [
                  "0"
                ],
                "seriesFieldKeys": [
                  "1"
                ],
                "isStacked": false
              }
            }
          }
        }
      }
    }
  }
}