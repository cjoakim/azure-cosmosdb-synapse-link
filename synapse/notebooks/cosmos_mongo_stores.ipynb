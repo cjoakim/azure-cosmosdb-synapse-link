{
  "nbformat": 4,
  "nbformat_minor": 2,
  "cells": [
    {
      "cell_type": "code",
      "execution_count": 1,
      "outputs": [
        {
          "output_type": "display_data",
          "data": {
            "application/vnd.livy.statement-meta+json": {
              "spark_pool": "poolspark3s",
              "session_id": 4,
              "statement_id": 1,
              "state": "finished",
              "livy_statement_state": "available",
              "queued_time": "2022-01-23T19:28:04.6369285Z",
              "session_start_time": "2022-01-23T19:28:04.6732935Z",
              "execution_start_time": "2022-01-23T19:31:03.1175511Z",
              "execution_finish_time": "2022-01-23T19:31:37.2692968Z"
            },
            "text/plain": "StatementMeta(poolspark3s, 4, 1, Finished, Available)"
          },
          "metadata": {}
        },
        {
          "output_type": "display_data",
          "data": {
            "application/vnd.synapse.widget-view+json": {
              "widget_id": "729d04f9-b30a-4973-88c3-51f078c60e1a",
              "widget_type": "Synapse.DataFrame"
            },
            "text/plain": "SynapseWidget(Synapse.DataFrame, 729d04f9-b30a-4973-88c3-51f078c60e1a)"
          },
          "metadata": {}
        }
      ],
      "metadata": {
        "collapsed": false
      },
      "source": [
        "# Read from Cosmos DB analytical store into a Spark DataFrame and display 10 rows from the DataFrame\n",
        "# To select a preferred list of regions in a multi-region Cosmos DB account, add .option(\"spark.cosmos.preferredRegions\", \"<Region1>,<Region2>\")\n",
        "\n",
        "df = spark.read\\\n",
        "    .format(\"cosmos.olap\")\\\n",
        "    .option(\"spark.synapse.linkedService\", \"CosmosMongoDemoDB\")\\\n",
        "    .option(\"spark.cosmos.container\", \"stores\")\\\n",
        "    .load()\n",
        "\n",
        "display(df.limit(10))"
      ]
    }
  ],
  "metadata": {
    "description": null,
    "save_output": true,
    "kernelspec": {
      "name": "synapse_pyspark",
      "display_name": "Synapse PySpark"
    },
    "language_info": {
      "name": "python"
    },
    "synapse_widget": {
      "version": "0.1",
      "state": {
        "729d04f9-b30a-4973-88c3-51f078c60e1a": {
          "type": "Synapse.DataFrame",
          "sync_state": {
            "table": {
              "rows": [
                {
                  "0": "ou0lAOMFaYoBAAAAAAAAAA==",
                  "1": "1642964184",
                  "2": "NjFlZGE0ZDY5MGY4NGY1MjFhYmFlNzY4",
                  "3": "\"01006eec-0000-0100-0000-61eda4d80000\"",
                  "4": {
                    "objectId": "a�֐�OR\u001a��h"
                  },
                  "5": {
                    "int32": 1
                  },
                  "6": {
                    "string": "eCommerce"
                  },
                  "7": {
                    "string": "2048 Peachtree St"
                  },
                  "8": {
                    "string": "GA"
                  },
                  "9": {
                    "string": "1"
                  },
                  "10": {
                    "string": "ou0lAOMFaYo="
                  }
                },
                {
                  "0": "ou0lAOMFaYoCAAAAAAAAAA==",
                  "1": "1642964184",
                  "2": "NjFlZGE0ZDg5MGY4NGY1MjFhYmFlNzY5",
                  "3": "\"01006fec-0000-0100-0000-61eda4d80000\"",
                  "4": {
                    "objectId": "a�ؐ�OR\u001a��i"
                  },
                  "5": {
                    "int32": 2
                  },
                  "6": {
                    "string": "East Kevin"
                  },
                  "7": {
                    "string": "960 Morris Expressway"
                  },
                  "8": {
                    "string": "WI"
                  },
                  "9": {
                    "string": "2"
                  },
                  "10": {
                    "string": "ou0lAOMFaYo="
                  }
                },
                {
                  "0": "ou0lAOMFaYoDAAAAAAAAAA==",
                  "1": "1642964184",
                  "2": "NjFlZGE0ZDg5MGY4NGY1MjFhYmFlNzZh",
                  "3": "\"010070ec-0000-0100-0000-61eda4d80000\"",
                  "4": {
                    "objectId": "a�ؐ�OR\u001a��j"
                  },
                  "5": {
                    "int32": 3
                  },
                  "6": {
                    "string": "Dillonstad"
                  },
                  "7": {
                    "string": "76020 Hunt Valleys Apt. 828"
                  },
                  "8": {
                    "string": "NH"
                  },
                  "9": {
                    "string": "3"
                  },
                  "10": {
                    "string": "ou0lAOMFaYo="
                  }
                },
                {
                  "0": "ou0lAOMFaYoEAAAAAAAAAA==",
                  "1": "1642964185",
                  "2": "NjFlZGE0ZDg5MGY4NGY1MjFhYmFlNzZi",
                  "3": "\"010071ec-0000-0100-0000-61eda4d90000\"",
                  "4": {
                    "objectId": "a�ؐ�OR\u001a��k"
                  },
                  "5": {
                    "int32": 4
                  },
                  "6": {
                    "string": "North Leah"
                  },
                  "7": {
                    "string": "441 Michael Pike Apt. 513"
                  },
                  "8": {
                    "string": "IN"
                  },
                  "9": {
                    "string": "4"
                  },
                  "10": {
                    "string": "ou0lAOMFaYo="
                  }
                },
                {
                  "0": "ou0lAOMFaYoFAAAAAAAAAA==",
                  "1": "1642964185",
                  "2": "NjFlZGE0ZDg5MGY4NGY1MjFhYmFlNzZj",
                  "3": "\"010072ec-0000-0100-0000-61eda4d90000\"",
                  "4": {
                    "objectId": "a�ؐ�OR\u001a��l"
                  },
                  "5": {
                    "int32": 5
                  },
                  "6": {
                    "string": "Marieport"
                  },
                  "7": {
                    "string": "9250 Escobar Islands Suite 950"
                  },
                  "8": {
                    "string": "MD"
                  },
                  "9": {
                    "string": "5"
                  },
                  "10": {
                    "string": "ou0lAOMFaYo="
                  }
                },
                {
                  "0": "ou0lAOMFaYoGAAAAAAAAAA==",
                  "1": "1642964185",
                  "2": "NjFlZGE0ZDg5MGY4NGY1MjFhYmFlNzZk",
                  "3": "\"010073ec-0000-0100-0000-61eda4d90000\"",
                  "4": {
                    "objectId": "a�ؐ�OR\u001a��m"
                  },
                  "5": {
                    "int32": 6
                  },
                  "6": {
                    "string": "North Nicholas"
                  },
                  "7": {
                    "string": "53191 Kathleen Mission"
                  },
                  "8": {
                    "string": "MO"
                  },
                  "9": {
                    "string": "6"
                  },
                  "10": {
                    "string": "ou0lAOMFaYo="
                  }
                },
                {
                  "0": "ou0lAOMFaYoHAAAAAAAAAA==",
                  "1": "1642964185",
                  "2": "NjFlZGE0ZDg5MGY4NGY1MjFhYmFlNzZl",
                  "3": "\"010074ec-0000-0100-0000-61eda4d90000\"",
                  "4": {
                    "objectId": "a�ؐ�OR\u001a��n"
                  },
                  "5": {
                    "int32": 7
                  },
                  "6": {
                    "string": "Port Gary"
                  },
                  "7": {
                    "string": "824 Deanna Hollow Suite 062"
                  },
                  "8": {
                    "string": "MI"
                  },
                  "9": {
                    "string": "7"
                  },
                  "10": {
                    "string": "ou0lAOMFaYo="
                  }
                },
                {
                  "0": "ou0lAOMFaYoIAAAAAAAAAA==",
                  "1": "1642964185",
                  "2": "NjFlZGE0ZDk5MGY4NGY1MjFhYmFlNzZm",
                  "3": "\"010075ec-0000-0100-0000-61eda4d90000\"",
                  "4": {
                    "objectId": "a�ِ�OR\u001a��o"
                  },
                  "5": {
                    "int32": 8
                  },
                  "6": {
                    "string": "West Bryanstad"
                  },
                  "7": {
                    "string": "23133 Foster Vista Apt. 266"
                  },
                  "8": {
                    "string": "MD"
                  },
                  "9": {
                    "string": "8"
                  },
                  "10": {
                    "string": "ou0lAOMFaYo="
                  }
                },
                {
                  "0": "ou0lAOMFaYoJAAAAAAAAAA==",
                  "1": "1642964185",
                  "2": "NjFlZGE0ZDk5MGY4NGY1MjFhYmFlNzcw",
                  "3": "\"010076ec-0000-0100-0000-61eda4d90000\"",
                  "4": {
                    "objectId": "a�ِ�OR\u001a��p"
                  },
                  "5": {
                    "int32": 9
                  },
                  "6": {
                    "string": "Mccoyborough"
                  },
                  "7": {
                    "string": "840 Stephanie Walks Suite 212"
                  },
                  "8": {
                    "string": "OR"
                  },
                  "9": {
                    "string": "9"
                  },
                  "10": {
                    "string": "ou0lAOMFaYo="
                  }
                },
                {
                  "0": "ou0lAOMFaYoKAAAAAAAAAA==",
                  "1": "1642964185",
                  "2": "NjFlZGE0ZDk5MGY4NGY1MjFhYmFlNzcx",
                  "3": "\"010077ec-0000-0100-0000-61eda4d90000\"",
                  "4": {
                    "objectId": "a�ِ�OR\u001a��q"
                  },
                  "5": {
                    "int32": 10
                  },
                  "6": {
                    "string": "South Nicholas"
                  },
                  "7": {
                    "string": "64962 Courtney Circles Apt. 858"
                  },
                  "8": {
                    "string": "CT"
                  },
                  "9": {
                    "string": "10"
                  },
                  "10": {
                    "string": "ou0lAOMFaYo="
                  }
                }
              ],
              "schema": [
                {
                  "key": "0",
                  "name": "_rid",
                  "type": "string"
                },
                {
                  "key": "1",
                  "name": "_ts",
                  "type": "bigint"
                },
                {
                  "key": "2",
                  "name": "id",
                  "type": "string"
                },
                {
                  "key": "3",
                  "name": "_etag",
                  "type": "string"
                },
                {
                  "key": "4",
                  "name": "_id",
                  "type": "StructType(StructField(objectId,StringType,true))"
                },
                {
                  "key": "5",
                  "name": "store_id",
                  "type": "StructType(StructField(int32,IntegerType,true))"
                },
                {
                  "key": "6",
                  "name": "name",
                  "type": "StructType(StructField(string,StringType,true))"
                },
                {
                  "key": "7",
                  "name": "address",
                  "type": "StructType(StructField(string,StringType,true))"
                },
                {
                  "key": "8",
                  "name": "state",
                  "type": "StructType(StructField(string,StringType,true))"
                },
                {
                  "key": "9",
                  "name": "pk",
                  "type": "StructType(StructField(string,StringType,true))"
                },
                {
                  "key": "10",
                  "name": "_partitionKey",
                  "type": "StructType(StructField(string,StringType,true))"
                }
              ],
              "truncated": false
            },
            "isSummary": false,
            "language": "scala"
          },
          "persist_state": {
            "view": {
              "type": "details",
              "tableOptions": {},
              "chartOptions": {
                "chartType": "bar",
                "aggregationType": "sum",
                "categoryFieldKeys": [
                  "0"
                ],
                "seriesFieldKeys": [
                  "1"
                ],
                "isStacked": false
              }
            }
          }
        }
      }
    }
  }
}