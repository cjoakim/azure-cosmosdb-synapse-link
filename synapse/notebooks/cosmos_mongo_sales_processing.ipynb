{
  "nbformat": 4,
  "nbformat_minor": 2,
  "cells": [
    {
      "cell_type": "code",
      "execution_count": 48,
      "outputs": [
        {
          "output_type": "display_data",
          "data": {
            "application/vnd.livy.statement-meta+json": {
              "spark_pool": "poolspark3s",
              "session_id": 16,
              "statement_id": 21,
              "state": "finished",
              "livy_statement_state": "available",
              "queued_time": "2022-01-26T17:33:41.9603665Z",
              "session_start_time": null,
              "execution_start_time": "2022-01-26T17:33:42.1263315Z",
              "execution_finish_time": "2022-01-26T17:33:46.0341945Z"
            },
            "text/plain": "StatementMeta(poolspark3s, 16, 21, Finished, Available)"
          },
          "metadata": {}
        },
        {
          "output_type": "display_data",
          "data": {
            "application/vnd.synapse.widget-view+json": {
              "widget_id": "308bb2a4-cda4-4667-9606-037a248b477f",
              "widget_type": "Synapse.DataFrame"
            },
            "text/plain": "SynapseWidget(Synapse.DataFrame, 308bb2a4-cda4-4667-9606-037a248b477f)"
          },
          "metadata": {}
        },
        {
          "output_type": "stream",
          "name": "stdout",
          "text": "\nroot\n |-- _rid: string (nullable = true)\n |-- _ts: long (nullable = true)\n |-- id: string (nullable = true)\n |-- _etag: string (nullable = true)\n |-- _id: struct (nullable = true)\n |    |-- objectId: string (nullable = true)\n |-- pk: struct (nullable = true)\n |    |-- string: string (nullable = true)\n |-- sale_id: struct (nullable = true)\n |    |-- int32: integer (nullable = true)\n |-- doctype: struct (nullable = true)\n |    |-- string: string (nullable = true)\n |-- date: struct (nullable = true)\n |    |-- string: string (nullable = true)\n |-- line_num: struct (nullable = true)\n |    |-- int32: integer (nullable = true)\n |-- customer_id: struct (nullable = true)\n |    |-- int32: integer (nullable = true)\n |-- store_id: struct (nullable = true)\n |    |-- int32: integer (nullable = true)\n |-- upc: struct (nullable = true)\n |    |-- string: string (nullable = true)\n |-- price: struct (nullable = true)\n |    |-- float64: double (nullable = true)\n |-- qty: struct (nullable = true)\n |    |-- int32: integer (nullable = true)\n |-- cost: struct (nullable = true)\n |    |-- float64: double (nullable = true)\n |-- _partitionKey: struct (nullable = true)\n |    |-- string: string (nullable = true)\n |-- dow: struct (nullable = true)\n |    |-- string: string (nullable = true)\n |-- item_count: struct (nullable = true)\n |    |-- int32: integer (nullable = true)\n |-- total_cost: struct (nullable = true)\n |    |-- float64: double (nullable = true)"
        }
      ],
      "metadata": {
        "collapsed": false
      },
      "source": [
        "# Load the SynapseLink Customers and Sales SynapseLink Data into a Dataframes.\n",
        "# Select just the \"sale\" document types from the sales container, which have a\n",
        "# minimum _ts (timestamp) value\n",
        "\n",
        "# The documents in CosmosDB OLTP data look like this:\n",
        "# {\n",
        "#   \"pk\": 28923,\n",
        "#   \"id\": \"8500eb9c-390c-462b-87ce-5fb5b8f6359a\",\n",
        "#   \"sale_id\": 28923,\n",
        "#   \"doctype\": \"sale\",\n",
        "#   \"date\": \"2022-01-25\",\n",
        "#   \"dow\": \"tue\",\n",
        "#   \"customer_id\": 1928,\n",
        "#   \"store_id\": 2,\n",
        "#   \"item_count\": 3,\n",
        "#   \"total_cost\": 4566.03\n",
        "# }\n",
        "\n",
        "from pyspark.sql.functions import col\n",
        "import pyspark.sql.functions as F \n",
        "\n",
        "# initialize variables\n",
        "min_doc_timestamp = 1635168000\n",
        "\n",
        "# read the raw OLAP data, filtering by document _ts (timestamp)\n",
        "df_sales_raw = spark.read\\\n",
        "    .format(\"cosmos.olap\")\\\n",
        "    .option(\"spark.synapse.linkedService\", \"CosmosMongoDemoDB\")\\\n",
        "    .option(\"spark.cosmos.container\", \"sales\")\\\n",
        "    .load().filter(col(\"_ts\") > min_doc_timestamp)\n",
        "\n",
        "display(df_sales_raw.limit(3))\n",
        "df_sales_raw.printSchema()\n",
        ""
      ]
    },
    {
      "cell_type": "code",
      "execution_count": 49,
      "outputs": [
        {
          "output_type": "display_data",
          "data": {
            "application/vnd.livy.statement-meta+json": {
              "spark_pool": "poolspark3s",
              "session_id": 16,
              "statement_id": 22,
              "state": "finished",
              "livy_statement_state": "available",
              "queued_time": "2022-01-26T17:33:42.0086227Z",
              "session_start_time": null,
              "execution_start_time": "2022-01-26T17:33:46.1565444Z",
              "execution_finish_time": "2022-01-26T17:33:48.3342629Z"
            },
            "text/plain": "StatementMeta(poolspark3s, 16, 22, Finished, Available)"
          },
          "metadata": {}
        },
        {
          "output_type": "display_data",
          "data": {
            "application/vnd.synapse.widget-view+json": {
              "widget_id": "a4c8b960-02ed-4f3e-8bf9-1912f9a607e8",
              "widget_type": "Synapse.DataFrame"
            },
            "text/plain": "SynapseWidget(Synapse.DataFrame, a4c8b960-02ed-4f3e-8bf9-1912f9a607e8)"
          },
          "metadata": {}
        },
        {
          "output_type": "stream",
          "name": "stdout",
          "text": "\nroot\n |-- string: string (nullable = true)\n |-- string: string (nullable = true)\n |-- int32: integer (nullable = true)\n |-- int32: integer (nullable = true)\n |-- float64: double (nullable = true)\n\n\nroot\n |-- doctype: string (nullable = true)\n |-- date: string (nullable = true)\n |-- customer_id: integer (nullable = true)\n |-- item_count: integer (nullable = true)\n |-- total_cost: double (nullable = true)\n\ndf_sales, shape: 28923 x 5"
        },
        {
          "output_type": "display_data",
          "data": {
            "application/vnd.synapse.widget-view+json": {
              "widget_id": "62b3d000-0bb7-44eb-aa0b-bbf7c51382a4",
              "widget_type": "Synapse.DataFrame"
            },
            "text/plain": "SynapseWidget(Synapse.DataFrame, 62b3d000-0bb7-44eb-aa0b-bbf7c51382a4)"
          },
          "metadata": {}
        }
      ],
      "metadata": {
        "jupyter": {
          "source_hidden": false,
          "outputs_hidden": false
        },
        "nteract": {
          "transient": {
            "deleting": false
          }
        },
        "collapsed": false
      },
      "source": [
        "# Select just the pertinet columns.\n",
        "# Unpack the struct columns with attrname.* syntax.\n",
        "# Filter by doctype == 'sale'\n",
        "\n",
        "df_sales_unpacked = df_sales_raw.select(\n",
        "    col('doctype.*'),\n",
        "    col('date.*'),\n",
        "    col('customer_id.*'),\n",
        "    col('item_count.*'),\n",
        "    col('total_cost.*'))\n",
        "\n",
        "display(df_sales_unpacked.limit(3))\n",
        "df_sales_unpacked.printSchema()\n",
        "\n",
        "# Rename the columns of the unpacked DataFrame\n",
        "new_column_names = ['doctype', 'date', 'customer_id', 'item_count', 'total_cost']\n",
        "df_sales = df_sales_unpacked.toDF(*new_column_names).filter(col(\"doctype\") == \"sale\")\n",
        "\n",
        "display(df_sales.limit(3))\n",
        "df_sales.printSchema()\n",
        "\n",
        "print('df_sales, shape: {} x {}'.format(\n",
        "        df_sales.count(), len(df_sales.columns)))\n",
        ""
      ]
    },
    {
      "cell_type": "code",
      "execution_count": 50,
      "outputs": [
        {
          "output_type": "display_data",
          "data": {
            "application/vnd.livy.statement-meta+json": {
              "spark_pool": "poolspark3s",
              "session_id": 16,
              "statement_id": 23,
              "state": "finished",
              "livy_statement_state": "available",
              "queued_time": "2022-01-26T17:33:42.1272423Z",
              "session_start_time": null,
              "execution_start_time": "2022-01-26T17:33:48.450908Z",
              "execution_finish_time": "2022-01-26T17:33:51.2219402Z"
            },
            "text/plain": "StatementMeta(poolspark3s, 16, 23, Finished, Available)"
          },
          "metadata": {}
        },
        {
          "output_type": "display_data",
          "data": {
            "application/vnd.synapse.widget-view+json": {
              "widget_id": "91f731e0-2ad0-4887-99a6-fecc744253c5",
              "widget_type": "Synapse.DataFrame"
            },
            "text/plain": "SynapseWidget(Synapse.DataFrame, 91f731e0-2ad0-4887-99a6-fecc744253c5)"
          },
          "metadata": {}
        },
        {
          "output_type": "stream",
          "name": "stdout",
          "text": "\nroot\n |-- customer_id: integer (nullable = true)\n |-- _id: integer (nullable = true)\n |-- pk: integer (nullable = true)\n |-- order_count: long (nullable = false)\n |-- total_dollar_amount: double (nullable = true)\n |-- total_item_count: long (nullable = true)"
        }
      ],
      "metadata": {
        "jupyter": {
          "source_hidden": false,
          "outputs_hidden": false
        },
        "nteract": {
          "transient": {
            "deleting": false
          }
        },
        "collapsed": false
      },
      "source": [
        "# Aggregate Sales by Customer \n",
        "\n",
        "import pyspark.sql.functions as F \n",
        "\n",
        "df_customer_aggregated = df_sales.groupBy(\"customer_id\") \\\n",
        "    .agg(\n",
        "        F.first('customer_id').alias('_id'), \\\n",
        "        F.first('customer_id').alias('pk'), \\\n",
        "        F.count(\"customer_id\").alias('order_count'), \\\n",
        "        F.sum(\"total_cost\").alias(\"total_dollar_amount\"), \\\n",
        "        F.sum(\"item_count\").alias(\"total_item_count\")) \\\n",
        "        .sort(\"customer_id\", ascending=True)\n",
        "\n",
        "display(df_customer_aggregated.limit(4))\n",
        "df_customer_aggregated.printSchema()\n",
        ""
      ]
    },
    {
      "cell_type": "code",
      "execution_count": 51,
      "outputs": [
        {
          "output_type": "display_data",
          "data": {
            "application/vnd.livy.statement-meta+json": {
              "spark_pool": "poolspark3s",
              "session_id": 16,
              "statement_id": 24,
              "state": "finished",
              "livy_statement_state": "available",
              "queued_time": "2022-01-26T17:33:42.1840718Z",
              "session_start_time": null,
              "execution_start_time": "2022-01-26T17:33:51.3426043Z",
              "execution_finish_time": "2022-01-26T17:33:59.947721Z"
            },
            "text/plain": "StatementMeta(poolspark3s, 16, 24, Finished, Available)"
          },
          "metadata": {}
        },
        {
          "output_type": "stream",
          "name": "stdout",
          "text": "wasbs_path: wasbs://synapse@cjoakimstorage.blob.core.windows.net/retail/sales/mongo/\ncsv_path:   wasbs://synapse@cjoakimstorage.blob.core.windows.net/retail/sales/mongo/sales_by_customer_csv\ncsv data written to azure storage blob"
        }
      ],
      "metadata": {
        "jupyter": {
          "source_hidden": false,
          "outputs_hidden": false
        },
        "nteract": {
          "transient": {
            "deleting": false
          }
        }
      },
      "source": [
        "# Write the df_customer_aggregated to Azure Blob Storage as CSV \n",
        "# See https://github.com/Azure-Samples/Synapse/tree/main/Notebooks/PySpark\n",
        "\n",
        "from pyspark.sql import SparkSession\n",
        "from pyspark.sql.types import *\n",
        "\n",
        "import pyspark.sql.functions as F \n",
        "\n",
        "# Azure storage account info\n",
        "blob_account_name   = 'cjoakimstorage'\n",
        "blob_container_name = 'synapse'\n",
        "blob_relative_path  = 'retail/sales/mongo/'\n",
        "linked_service_name = 'cjoakimstorageAzureBlobStorage'\n",
        "\n",
        "blob_sas_token = mssparkutils.credentials.getConnectionStringOrCreds(linked_service_name)\n",
        "#print('blob_sas_token: {}'.format(blob_sas_token))\n",
        "\n",
        "# Allow Spark to access from Blob remotely\n",
        "wasbs_path = 'wasbs://%s@%s.blob.core.windows.net/%s' % (\n",
        "    blob_container_name, blob_account_name, blob_relative_path)\n",
        "\n",
        "spark.conf.set('fs.azure.sas.%s.%s.blob.core.windows.net' % (\n",
        "    blob_container_name, blob_account_name), blob_sas_token)\n",
        "\n",
        "csv_path = '{}{}'.format(wasbs_path,'sales_by_customer_csv')\n",
        "\n",
        "print('wasbs_path: ' + wasbs_path)\n",
        "print('csv_path:   ' + csv_path)\n",
        "\n",
        "# Write to blob storage, coalesce it into one CSV file\n",
        "df_customer_aggregated.coalesce(1).write.csv(csv_path, mode='overwrite', header='true')\n",
        "print('csv data written to azure storage blob')\n",
        "\n",
        "#df_agg.coalesce(1).write.json(json_path, mode='overwrite')\n",
        ""
      ]
    }
  ],
  "metadata": {
    "description": null,
    "save_output": true,
    "kernelspec": {
      "name": "synapse_pyspark",
      "display_name": "Synapse PySpark"
    },
    "language_info": {
      "name": "python"
    },
    "synapse_widget": {
      "version": "0.1",
      "state": {
        "308bb2a4-cda4-4667-9606-037a248b477f": {
          "type": "Synapse.DataFrame",
          "sync_state": {
            "table": {
              "rows": [
                {
                  "0": "ou0lAOM+dwwBAAAAAAAAAA==",
                  "1": "1642965838",
                  "2": "NjFlZGFiNGNiZmQwZmMwMDJkMzEwOWRi",
                  "3": "\"0200cc65-0000-0100-0000-61edab4e0000\"",
                  "4": {
                    "objectId": "a�L���\u0000-1\t�"
                  },
                  "5": {
                    "string": "1"
                  },
                  "6": {
                    "int32": 1
                  },
                  "7": {
                    "string": "line_item"
                  },
                  "8": {
                    "string": "2021-01-01"
                  },
                  "9": {
                    "int32": 1
                  },
                  "10": {
                    "int32": 3840
                  },
                  "11": {
                    "int32": 98
                  },
                  "12": {
                    "string": "0788365518346"
                  },
                  "13": {
                    "float64": 840.47
                  },
                  "14": {
                    "int32": 3
                  },
                  "15": {
                    "float64": 2521.41
                  },
                  "16": {
                    "string": "ou0lAOM+dww="
                  }
                },
                {
                  "0": "ou0lAOM+dwwCAAAAAAAAAA==",
                  "1": "1642965838",
                  "2": "NjFlZGFiNGRiZmQwZmMwMDJkMzEwOWRj",
                  "3": "\"0200cd65-0000-0100-0000-61edab4e0000\"",
                  "4": {
                    "objectId": "a�M���\u0000-1\t�"
                  },
                  "5": {
                    "string": "1"
                  },
                  "6": {
                    "int32": 1
                  },
                  "7": {
                    "string": "line_item"
                  },
                  "8": {
                    "string": "2021-01-01"
                  },
                  "9": {
                    "int32": 2
                  },
                  "10": {
                    "int32": 3840
                  },
                  "11": {
                    "int32": 98
                  },
                  "12": {
                    "string": "1281910115209"
                  },
                  "13": {
                    "float64": 394.69
                  },
                  "14": {
                    "int32": 2
                  },
                  "15": {
                    "float64": 789.38
                  },
                  "16": {
                    "string": "ou0lAOM+dww="
                  }
                },
                {
                  "0": "ou0lAOM+dwwDAAAAAAAAAA==",
                  "1": "1642965838",
                  "2": "NjFlZGFiNGRiZmQwZmMwMDJkMzEwOWRk",
                  "3": "\"0200ce65-0000-0100-0000-61edab4e0000\"",
                  "4": {
                    "objectId": "a�M���\u0000-1\t�"
                  },
                  "5": {
                    "string": "1"
                  },
                  "6": {
                    "int32": 1
                  },
                  "7": {
                    "string": "sale"
                  },
                  "8": {
                    "string": "2021-01-01"
                  },
                  "10": {
                    "int32": 3840
                  },
                  "11": {
                    "int32": 98
                  },
                  "16": {
                    "string": "ou0lAOM+dww="
                  },
                  "17": {
                    "string": "fri"
                  },
                  "18": {
                    "int32": 2
                  },
                  "19": {
                    "float64": 3310.79
                  }
                }
              ],
              "schema": [
                {
                  "key": "0",
                  "name": "_rid",
                  "type": "string"
                },
                {
                  "key": "1",
                  "name": "_ts",
                  "type": "bigint"
                },
                {
                  "key": "2",
                  "name": "id",
                  "type": "string"
                },
                {
                  "key": "3",
                  "name": "_etag",
                  "type": "string"
                },
                {
                  "key": "4",
                  "name": "_id",
                  "type": "StructType(StructField(objectId,StringType,true))"
                },
                {
                  "key": "5",
                  "name": "pk",
                  "type": "StructType(StructField(string,StringType,true))"
                },
                {
                  "key": "6",
                  "name": "sale_id",
                  "type": "StructType(StructField(int32,IntegerType,true))"
                },
                {
                  "key": "7",
                  "name": "doctype",
                  "type": "StructType(StructField(string,StringType,true))"
                },
                {
                  "key": "8",
                  "name": "date",
                  "type": "StructType(StructField(string,StringType,true))"
                },
                {
                  "key": "9",
                  "name": "line_num",
                  "type": "StructType(StructField(int32,IntegerType,true))"
                },
                {
                  "key": "10",
                  "name": "customer_id",
                  "type": "StructType(StructField(int32,IntegerType,true))"
                },
                {
                  "key": "11",
                  "name": "store_id",
                  "type": "StructType(StructField(int32,IntegerType,true))"
                },
                {
                  "key": "12",
                  "name": "upc",
                  "type": "StructType(StructField(string,StringType,true))"
                },
                {
                  "key": "13",
                  "name": "price",
                  "type": "StructType(StructField(float64,DoubleType,true))"
                },
                {
                  "key": "14",
                  "name": "qty",
                  "type": "StructType(StructField(int32,IntegerType,true))"
                },
                {
                  "key": "15",
                  "name": "cost",
                  "type": "StructType(StructField(float64,DoubleType,true))"
                },
                {
                  "key": "16",
                  "name": "_partitionKey",
                  "type": "StructType(StructField(string,StringType,true))"
                },
                {
                  "key": "17",
                  "name": "dow",
                  "type": "StructType(StructField(string,StringType,true))"
                },
                {
                  "key": "18",
                  "name": "item_count",
                  "type": "StructType(StructField(int32,IntegerType,true))"
                },
                {
                  "key": "19",
                  "name": "total_cost",
                  "type": "StructType(StructField(float64,DoubleType,true))"
                }
              ],
              "truncated": false
            },
            "isSummary": false,
            "language": "scala"
          },
          "persist_state": {
            "view": {
              "type": "details",
              "tableOptions": {},
              "chartOptions": {
                "chartType": "bar",
                "aggregationType": "sum",
                "categoryFieldKeys": [
                  "0"
                ],
                "seriesFieldKeys": [
                  "1"
                ],
                "isStacked": false
              }
            }
          }
        },
        "a4c8b960-02ed-4f3e-8bf9-1912f9a607e8": {
          "type": "Synapse.DataFrame",
          "sync_state": {
            "table": {
              "rows": [
                {
                  "0": "line_item",
                  "1": "2021-09-09",
                  "2": "3819"
                },
                {
                  "0": "line_item",
                  "1": "2021-09-09",
                  "2": "3819"
                },
                {
                  "0": "line_item",
                  "1": "2021-09-09",
                  "2": "3819"
                }
              ],
              "schema": [
                {
                  "key": "0",
                  "name": "string",
                  "type": "string"
                },
                {
                  "key": "1",
                  "name": "string",
                  "type": "string"
                },
                {
                  "key": "2",
                  "name": "int32",
                  "type": "int"
                },
                {
                  "key": "3",
                  "name": "int32",
                  "type": "int"
                },
                {
                  "key": "4",
                  "name": "float64",
                  "type": "double"
                }
              ],
              "truncated": false
            },
            "isSummary": false,
            "language": "scala"
          },
          "persist_state": {
            "view": {
              "type": "details",
              "tableOptions": {},
              "chartOptions": {
                "chartType": "bar",
                "aggregationType": "sum",
                "categoryFieldKeys": [
                  "0"
                ],
                "seriesFieldKeys": [
                  "2"
                ],
                "isStacked": false
              }
            }
          }
        },
        "62b3d000-0bb7-44eb-aa0b-bbf7c51382a4": {
          "type": "Synapse.DataFrame",
          "sync_state": {
            "table": {
              "rows": [
                {
                  "0": "sale",
                  "1": "2021-01-01",
                  "2": "3840",
                  "3": "2",
                  "4": "3310.79"
                },
                {
                  "0": "sale",
                  "1": "2021-01-01",
                  "2": "5481",
                  "3": "2",
                  "4": "4819.35"
                },
                {
                  "0": "sale",
                  "1": "2021-01-01",
                  "2": "4620",
                  "3": "3",
                  "4": "1475.99"
                }
              ],
              "schema": [
                {
                  "key": "0",
                  "name": "doctype",
                  "type": "string"
                },
                {
                  "key": "1",
                  "name": "date",
                  "type": "string"
                },
                {
                  "key": "2",
                  "name": "customer_id",
                  "type": "int"
                },
                {
                  "key": "3",
                  "name": "item_count",
                  "type": "int"
                },
                {
                  "key": "4",
                  "name": "total_cost",
                  "type": "double"
                }
              ],
              "truncated": false
            },
            "isSummary": false,
            "language": "scala"
          },
          "persist_state": {
            "view": {
              "type": "details",
              "tableOptions": {},
              "chartOptions": {
                "chartType": "bar",
                "aggregationType": "sum",
                "categoryFieldKeys": [
                  "0"
                ],
                "seriesFieldKeys": [
                  "2"
                ],
                "isStacked": false
              }
            }
          }
        },
        "91f731e0-2ad0-4887-99a6-fecc744253c5": {
          "type": "Synapse.DataFrame",
          "sync_state": {
            "table": {
              "rows": [
                {
                  "0": "1",
                  "1": "1",
                  "2": "1",
                  "3": "1",
                  "4": "4633.63",
                  "5": "2"
                },
                {
                  "0": "2",
                  "1": "2",
                  "2": "2",
                  "3": "5",
                  "4": "9969.06",
                  "5": "11"
                },
                {
                  "0": "3",
                  "1": "3",
                  "2": "3",
                  "3": "6",
                  "4": "27992.59",
                  "5": "17"
                },
                {
                  "0": "4",
                  "1": "4",
                  "2": "4",
                  "3": "4",
                  "4": "14798.92",
                  "5": "10"
                }
              ],
              "schema": [
                {
                  "key": "0",
                  "name": "customer_id",
                  "type": "int"
                },
                {
                  "key": "1",
                  "name": "_id",
                  "type": "int"
                },
                {
                  "key": "2",
                  "name": "pk",
                  "type": "int"
                },
                {
                  "key": "3",
                  "name": "order_count",
                  "type": "bigint"
                },
                {
                  "key": "4",
                  "name": "total_dollar_amount",
                  "type": "double"
                },
                {
                  "key": "5",
                  "name": "total_item_count",
                  "type": "bigint"
                }
              ],
              "truncated": false
            },
            "isSummary": false,
            "language": "scala"
          },
          "persist_state": {
            "view": {
              "type": "details",
              "tableOptions": {},
              "chartOptions": {
                "chartType": "bar",
                "aggregationType": "sum",
                "categoryFieldKeys": [
                  "1"
                ],
                "seriesFieldKeys": [
                  "0"
                ],
                "isStacked": false
              }
            }
          }
        }
      }
    }
  }
}