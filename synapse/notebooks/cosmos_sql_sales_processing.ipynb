{
  "cells": [
    {
      "cell_type": "code",
      "source": [
        "# Load the SynapseLink Customers and Sales SynapseLink Data into a Dataframes.\n",
        "# Select just the \"sale\" document types from the sales container, which have a\n",
        "# minimum _ts (timestamp) value\n",
        "\n",
        "from pyspark.sql.functions import col\n",
        "\n",
        "# initialize variables\n",
        "min_timestamp = 1635168000\n",
        "\n",
        "# read just the doctype \"sales\", not \"line_item\"\n",
        "df_sales = spark.read\\\n",
        "    .format(\"cosmos.olap\")\\\n",
        "    .option(\"spark.synapse.linkedService\", \"CosmosSqlDemoDB\")\\\n",
        "    .option(\"spark.cosmos.container\", \"sales\")\\\n",
        "    .load().filter(col(\"doctype\") == \"sale\").filter(col(\"_ts\") > min_timestamp) \n",
        "\n",
        "display(df.limit(10))"
      ],
      "outputs": [
        {
          "output_type": "display_data",
          "data": {
            "application/vnd.livy.statement-meta+json": {
              "spark_pool": "poolspark3s",
              "session_id": 5,
              "statement_id": 3,
              "state": "finished",
              "livy_statement_state": "available",
              "queued_time": "2022-01-23T19:56:58.1711482Z",
              "session_start_time": null,
              "execution_start_time": "2022-01-23T19:56:58.3055242Z",
              "execution_finish_time": "2022-01-23T19:57:03.6003367Z"
            },
            "text/plain": "StatementMeta(poolspark3s, 5, 3, Finished, Available)"
          },
          "metadata": {}
        },
        {
          "output_type": "display_data",
          "data": {
            "application/vnd.synapse.widget-view+json": {
              "widget_id": "3271f5cf-1536-446f-8ec0-40a8d47b0782",
              "widget_type": "Synapse.DataFrame"
            },
            "text/plain": "SynapseWidget(Synapse.DataFrame, 3271f5cf-1536-446f-8ec0-40a8d47b0782)"
          },
          "metadata": {}
        }
      ],
      "execution_count": 3,
      "metadata": {
        "collapsed": false
      }
    },
    {
      "cell_type": "code",
      "source": [
        "# Display the shape and observed schema of the DataFrame\n",
        "\n",
        "print('df_sales, shape: {} x {}'.format(\n",
        "        df_sales.count(), len(df_sales.columns)))\n",
        "        \n",
        "df_sales.printSchema()\n"
      ],
      "outputs": [
        {
          "output_type": "display_data",
          "data": {
            "application/vnd.livy.statement-meta+json": {
              "spark_pool": "poolspark3s",
              "session_id": 5,
              "statement_id": 4,
              "state": "finished",
              "livy_statement_state": "available",
              "queued_time": "2022-01-23T19:58:15.8884909Z",
              "session_start_time": null,
              "execution_start_time": "2022-01-23T19:58:16.0040126Z",
              "execution_finish_time": "2022-01-23T19:58:19.9074268Z"
            },
            "text/plain": "StatementMeta(poolspark3s, 5, 4, Finished, Available)"
          },
          "metadata": {}
        },
        {
          "output_type": "stream",
          "name": "stdout",
          "text": [
            "df_sales, shape: 28923 x 20\nroot\n |-- _rid: string (nullable = true)\n |-- _ts: long (nullable = true)\n |-- pk: long (nullable = true)\n |-- id: string (nullable = true)\n |-- sale_id: long (nullable = true)\n |-- doctype: string (nullable = true)\n |-- date: string (nullable = true)\n |-- line_num: long (nullable = true)\n |-- customer_id: long (nullable = true)\n |-- store_id: long (nullable = true)\n |-- upc: string (nullable = true)\n |-- price: double (nullable = true)\n |-- qty: long (nullable = true)\n |-- cost: double (nullable = true)\n |-- doc_epoch: long (nullable = true)\n |-- doc_time: string (nullable = true)\n |-- _etag: string (nullable = true)\n |-- dow: string (nullable = true)\n |-- item_count: long (nullable = true)\n |-- total_cost: double (nullable = true)"
          ]
        }
      ],
      "execution_count": 4,
      "metadata": {
        "jupyter": {
          "source_hidden": false,
          "outputs_hidden": false
        },
        "nteract": {
          "transient": {
            "deleting": false
          }
        }
      }
    },
    {
      "cell_type": "code",
      "source": [
        "# Aggregate Sales by Customer \n",
        "\n",
        "import pyspark.sql.functions as F \n",
        "\n",
        "df_customer_aggregated = df_sales.groupBy(\"customer_id\") \\\n",
        "    .agg(\n",
        "        F.first('id').alias('id'), \\\n",
        "        F.first('customer_id').alias('pk'), \\\n",
        "        F.count(\"customer_id\").alias('order_count'), \\\n",
        "        F.sum(\"total_cost\").alias(\"total_dollar_amount\"), \\\n",
        "        F.sum(\"item_count\").alias(\"total_item_count\")) \\\n",
        "        .sort(\"customer_id\", ascending=True)\n",
        "\n",
        "display(df_customer_aggregated.limit(4))\n"
      ],
      "outputs": [
        {
          "output_type": "display_data",
          "data": {
            "application/vnd.livy.statement-meta+json": {
              "spark_pool": "poolspark3s",
              "session_id": 5,
              "statement_id": 5,
              "state": "finished",
              "livy_statement_state": "available",
              "queued_time": "2022-01-23T20:01:38.3643635Z",
              "session_start_time": null,
              "execution_start_time": "2022-01-23T20:01:38.5633682Z",
              "execution_finish_time": "2022-01-23T20:01:43.9152332Z"
            },
            "text/plain": "StatementMeta(poolspark3s, 5, 5, Finished, Available)"
          },
          "metadata": {}
        },
        {
          "output_type": "display_data",
          "data": {
            "application/vnd.synapse.widget-view+json": {
              "widget_id": "1cadd3d2-fce0-4b6d-8647-3e920a53bbc0",
              "widget_type": "Synapse.DataFrame"
            },
            "text/plain": "SynapseWidget(Synapse.DataFrame, 1cadd3d2-fce0-4b6d-8647-3e920a53bbc0)"
          },
          "metadata": {}
        }
      ],
      "execution_count": 5,
      "metadata": {
        "jupyter": {
          "source_hidden": false,
          "outputs_hidden": false
        },
        "nteract": {
          "transient": {
            "deleting": false
          }
        },
        "collapsed": false
      }
    },
    {
      "cell_type": "code",
      "source": [
        "# Write to CosmosDB - linked service 'CosmosDemoSQL'\n",
        "# See https://docs.microsoft.com/en-us/azure/synapse-analytics/synapse-link/how-to-query-analytical-store-spark#write-spark-dataframe-to-azure-cosmos-db-container\n",
        "\n",
        "df_customer_aggregated.write.format(\"cosmos.oltp\")\\\n",
        "    .option(\"spark.synapse.linkedService\", \"CosmosSqlDemoDB\")\\\n",
        "    .option(\"spark.cosmos.container\", \"sales_aggregates\")\\\n",
        "    .option(\"spak.cosmos.write.upsertenabled\", \"true\")\\\n",
        "    .mode('append')\\\n",
        "    .save()\n"
      ],
      "outputs": [
        {
          "output_type": "display_data",
          "data": {
            "application/vnd.livy.statement-meta+json": {
              "spark_pool": "poolspark3s",
              "session_id": 5,
              "statement_id": 6,
              "state": "finished",
              "livy_statement_state": "available",
              "queued_time": "2022-01-23T20:04:31.8812118Z",
              "session_start_time": null,
              "execution_start_time": "2022-01-23T20:04:32.0391385Z",
              "execution_finish_time": "2022-01-23T20:04:50.7128587Z"
            },
            "text/plain": "StatementMeta(poolspark3s, 5, 6, Finished, Available)"
          },
          "metadata": {}
        }
      ],
      "execution_count": 6,
      "metadata": {
        "jupyter": {
          "source_hidden": false,
          "outputs_hidden": false
        },
        "nteract": {
          "transient": {
            "deleting": false
          }
        }
      }
    }
  ],
  "metadata": {
    "language_info": {
      "name": "python"
    },
    "kernelspec": {
      "name": "synapse_pyspark",
      "language": "Python",
      "display_name": "Synapse PySpark"
    },
    "kernel_info": {
      "name": "synapse_pyspark"
    },
    "save_output": true,
    "synapse_widget": {
      "version": "0.1",
      "state": {
        "3271f5cf-1536-446f-8ec0-40a8d47b0782": {
          "type": "Synapse.DataFrame",
          "sync_state": {
            "table": {
              "rows": [
                {
                  "0": "IAlgAPPpGPMBAAAAAAAAAA==",
                  "1": "1642962931",
                  "2": "94",
                  "3": "40509625-d092-48d5-bebd-9602d308c45a",
                  "4": "94",
                  "5": "line_item",
                  "6": "2021-01-02",
                  "7": "2",
                  "8": "9166",
                  "9": "83",
                  "10": "0044035225823",
                  "11": "725.8",
                  "12": "3",
                  "13": "2177.4",
                  "14": "1642962930959",
                  "15": "2022/01/23-18:35:30",
                  "16": "\"3a00b42c-0000-0100-0000-61ed9ff30000\""
                },
                {
                  "0": "IAlgAPPpGPMCAAAAAAAAAA==",
                  "1": "1642962931",
                  "2": "96",
                  "3": "c92fa22a-ad3d-4510-9ff2-17de61f829ed",
                  "4": "96",
                  "5": "sale",
                  "6": "2021-01-02",
                  "8": "4843",
                  "9": "77",
                  "14": "1642962930959",
                  "15": "2022/01/23-18:35:30",
                  "16": "\"3a00b52c-0000-0100-0000-61ed9ff30000\"",
                  "17": "sat",
                  "18": "3",
                  "19": "5295.54"
                },
                {
                  "0": "IAlgAPPpGPMDAAAAAAAAAA==",
                  "1": "1642962931",
                  "2": "97",
                  "3": "6f69e4d7-ddbd-4174-8acd-4d04a3264a5c",
                  "4": "97",
                  "5": "sale",
                  "6": "2021-01-02",
                  "8": "1541",
                  "9": "22",
                  "14": "1642962930959",
                  "15": "2022/01/23-18:35:30",
                  "16": "\"3a00b62c-0000-0100-0000-61ed9ff30000\"",
                  "17": "sat",
                  "18": "2",
                  "19": "5703.3"
                },
                {
                  "0": "IAlgAPPpGPMEAAAAAAAAAA==",
                  "1": "1642962931",
                  "2": "96",
                  "3": "9c0b9f43-fe1d-4b4a-b3c3-79db918d3117",
                  "4": "96",
                  "5": "line_item",
                  "6": "2021-01-02",
                  "7": "2",
                  "8": "4843",
                  "9": "77",
                  "10": "1157211826314",
                  "11": "1323.51",
                  "12": "2",
                  "13": "2647.02",
                  "14": "1642962930959",
                  "15": "2022/01/23-18:35:30",
                  "16": "\"3a00b72c-0000-0100-0000-61ed9ff30000\""
                },
                {
                  "0": "IAlgAPPpGPMFAAAAAAAAAA==",
                  "1": "1642962931",
                  "2": "120",
                  "3": "886ab7de-c6df-478a-8d73-56b9ddc34f6a",
                  "4": "120",
                  "5": "line_item",
                  "6": "2021-01-02",
                  "7": "1",
                  "8": "5225",
                  "9": "93",
                  "10": "0099325689779",
                  "11": "1387.4",
                  "12": "1",
                  "13": "1387.4",
                  "14": "1642962930962",
                  "15": "2022/01/23-18:35:30",
                  "16": "\"3a00b82c-0000-0100-0000-61ed9ff30000\""
                },
                {
                  "0": "IAlgAPPpGPMGAAAAAAAAAA==",
                  "1": "1642962931",
                  "2": "96",
                  "3": "01474bc0-c4c6-42f5-a49a-34df7e073496",
                  "4": "96",
                  "5": "line_item",
                  "6": "2021-01-02",
                  "7": "3",
                  "8": "4843",
                  "9": "77",
                  "10": "1312308255846",
                  "11": "997.91",
                  "12": "2",
                  "13": "1995.82",
                  "14": "1642962930959",
                  "15": "2022/01/23-18:35:30",
                  "16": "\"3a00b92c-0000-0100-0000-61ed9ff30000\""
                },
                {
                  "0": "IAlgAPPpGPMHAAAAAAAAAA==",
                  "1": "1642962931",
                  "2": "97",
                  "3": "11b1457b-853f-460f-a581-0f386e55ddf5",
                  "4": "97",
                  "5": "line_item",
                  "6": "2021-01-02",
                  "7": "2",
                  "8": "1541",
                  "9": "22",
                  "10": "0126604835388",
                  "11": "1445.81",
                  "12": "3",
                  "13": "4337.43",
                  "14": "1642962930959",
                  "15": "2022/01/23-18:35:30",
                  "16": "\"3a00ba2c-0000-0100-0000-61ed9ff30000\""
                },
                {
                  "0": "IAlgAPPpGPMIAAAAAAAAAA==",
                  "1": "1642962931",
                  "2": "100",
                  "3": "6fa96a3f-68ba-434a-a4d7-013abc6c7d57",
                  "4": "100",
                  "5": "line_item",
                  "6": "2021-01-02",
                  "7": "3",
                  "8": "9200",
                  "9": "61",
                  "10": "0323869879168",
                  "11": "1238.8",
                  "12": "3",
                  "13": "3716.4",
                  "14": "1642962930960",
                  "15": "2022/01/23-18:35:30",
                  "16": "\"3a00bb2c-0000-0100-0000-61ed9ff30000\""
                },
                {
                  "0": "IAlgAPPpGPMJAAAAAAAAAA==",
                  "1": "1642962931",
                  "2": "100",
                  "3": "4ba1d430-42cd-4b59-b849-55fc80a5fa05",
                  "4": "100",
                  "5": "line_item",
                  "6": "2021-01-02",
                  "7": "2",
                  "8": "9200",
                  "9": "61",
                  "10": "0512581015040",
                  "11": "1258.31",
                  "12": "1",
                  "13": "1258.31",
                  "14": "1642962930960",
                  "15": "2022/01/23-18:35:30",
                  "16": "\"3a00bc2c-0000-0100-0000-61ed9ff30000\""
                },
                {
                  "0": "IAlgAPPpGPMKAAAAAAAAAA==",
                  "1": "1642962931",
                  "2": "96",
                  "3": "a14bcb4a-df7a-48d5-aade-8e463ded720e",
                  "4": "96",
                  "5": "line_item",
                  "6": "2021-01-02",
                  "7": "1",
                  "8": "4843",
                  "9": "77",
                  "10": "0833410098868",
                  "11": "326.35",
                  "12": "2",
                  "13": "652.7",
                  "14": "1642962930959",
                  "15": "2022/01/23-18:35:30",
                  "16": "\"3a00bd2c-0000-0100-0000-61ed9ff30000\""
                }
              ],
              "schema": [
                {
                  "key": "0",
                  "name": "_rid",
                  "type": "string"
                },
                {
                  "key": "1",
                  "name": "_ts",
                  "type": "bigint"
                },
                {
                  "key": "2",
                  "name": "pk",
                  "type": "bigint"
                },
                {
                  "key": "3",
                  "name": "id",
                  "type": "string"
                },
                {
                  "key": "4",
                  "name": "sale_id",
                  "type": "bigint"
                },
                {
                  "key": "5",
                  "name": "doctype",
                  "type": "string"
                },
                {
                  "key": "6",
                  "name": "date",
                  "type": "string"
                },
                {
                  "key": "7",
                  "name": "line_num",
                  "type": "bigint"
                },
                {
                  "key": "8",
                  "name": "customer_id",
                  "type": "bigint"
                },
                {
                  "key": "9",
                  "name": "store_id",
                  "type": "bigint"
                },
                {
                  "key": "10",
                  "name": "upc",
                  "type": "string"
                },
                {
                  "key": "11",
                  "name": "price",
                  "type": "double"
                },
                {
                  "key": "12",
                  "name": "qty",
                  "type": "bigint"
                },
                {
                  "key": "13",
                  "name": "cost",
                  "type": "double"
                },
                {
                  "key": "14",
                  "name": "doc_epoch",
                  "type": "bigint"
                },
                {
                  "key": "15",
                  "name": "doc_time",
                  "type": "string"
                },
                {
                  "key": "16",
                  "name": "_etag",
                  "type": "string"
                },
                {
                  "key": "17",
                  "name": "dow",
                  "type": "string"
                },
                {
                  "key": "18",
                  "name": "item_count",
                  "type": "bigint"
                },
                {
                  "key": "19",
                  "name": "total_cost",
                  "type": "double"
                }
              ],
              "truncated": false
            },
            "isSummary": false,
            "language": "scala"
          },
          "persist_state": {
            "view": {
              "type": "details",
              "tableOptions": {},
              "chartOptions": {
                "chartType": "bar",
                "aggregationType": "sum",
                "categoryFieldKeys": [
                  "0"
                ],
                "seriesFieldKeys": [
                  "1"
                ],
                "isStacked": false
              }
            }
          }
        },
        "1cadd3d2-fce0-4b6d-8647-3e920a53bbc0": {
          "type": "Synapse.DataFrame",
          "sync_state": {
            "table": {
              "rows": [
                {
                  "0": "1",
                  "1": "5d0e1652-50c1-4634-9124-015ca86d52b1",
                  "2": "1",
                  "3": "1",
                  "4": "4633.63",
                  "5": "2"
                },
                {
                  "0": "2",
                  "1": "693149c3-5fca-4aac-a4b3-af39c9c6c6e3",
                  "2": "2",
                  "3": "5",
                  "4": "9969.060000000001",
                  "5": "11"
                },
                {
                  "0": "3",
                  "1": "110a6565-3af2-4517-8b05-e6a7f606db65",
                  "2": "3",
                  "3": "6",
                  "4": "27992.59",
                  "5": "17"
                },
                {
                  "0": "4",
                  "1": "f443c7ec-1da1-4e51-8c59-9b9eb9774005",
                  "2": "4",
                  "3": "4",
                  "4": "14798.92",
                  "5": "10"
                }
              ],
              "schema": [
                {
                  "key": "0",
                  "name": "customer_id",
                  "type": "bigint"
                },
                {
                  "key": "1",
                  "name": "id",
                  "type": "string"
                },
                {
                  "key": "2",
                  "name": "pk",
                  "type": "bigint"
                },
                {
                  "key": "3",
                  "name": "order_count",
                  "type": "bigint"
                },
                {
                  "key": "4",
                  "name": "total_dollar_amount",
                  "type": "double"
                },
                {
                  "key": "5",
                  "name": "total_item_count",
                  "type": "bigint"
                }
              ],
              "truncated": false
            },
            "isSummary": false,
            "language": "scala"
          },
          "persist_state": {
            "view": {
              "type": "details",
              "tableOptions": {},
              "chartOptions": {
                "chartType": "bar",
                "aggregationType": "sum",
                "categoryFieldKeys": [
                  "1"
                ],
                "seriesFieldKeys": [
                  "0"
                ],
                "isStacked": false
              }
            }
          }
        }
      }
    }
  },
  "nbformat": 4,
  "nbformat_minor": 2
}