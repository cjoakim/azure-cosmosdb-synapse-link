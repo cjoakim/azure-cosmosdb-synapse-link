{
  "cells": [
    {
      "cell_type": "markdown",
      "source": [
        "# Process the Customers vs Orders Synapse Link Data"
      ],
      "metadata": {
        "nteract": {
          "transient": {
            "deleting": false
          }
        }
      }
    },
    {
      "cell_type": "markdown",
      "source": [
        "## Load the SynapseLink Customers data into a Dataframe"
      ],
      "metadata": {
        "nteract": {
          "transient": {
            "deleting": false
          }
        }
      }
    },
    {
      "cell_type": "code",
      "source": [
        "df_customers = spark.read\\\n",
        "    .format(\"cosmos.olap\")\\\n",
        "    .option(\"spark.synapse.linkedService\", \"demoCosmosDB\")\\\n",
        "    .option(\"spark.cosmos.container\", \"customers\")\\\n",
        "    .load()\n",
        "\n",
        "display(df_customers.limit(10))"
      ],
      "outputs": [],
      "execution_count": null,
      "metadata": {
        "collapsed": false
      }
    },
    {
      "cell_type": "markdown",
      "source": [
        "## Load the SynapseLink Orders data into a Dataframe"
      ],
      "metadata": {
        "nteract": {
          "transient": {
            "deleting": false
          }
        }
      }
    },
    {
      "cell_type": "code",
      "source": [
        "\n",
        "df_orders = spark.read\\\n",
        "    .format(\"cosmos.olap\")\\\n",
        "    .option(\"spark.synapse.linkedService\", \"demoCosmosDB\")\\\n",
        "    .option(\"spark.cosmos.container\", \"orders\")\\\n",
        "    .load()\n",
        "\n",
        "display(df_orders.limit(10))"
      ],
      "outputs": [],
      "execution_count": null,
      "metadata": {
        "jupyter": {
          "source_hidden": false,
          "outputs_hidden": false
        },
        "nteract": {
          "transient": {
            "deleting": false
          }
        },
        "collapsed": false
      }
    },
    {
      "cell_type": "markdown",
      "source": [
        "## Display the Observed Schemas of the Dataframes"
      ],
      "metadata": {
        "nteract": {
          "transient": {
            "deleting": false
          }
        }
      }
    },
    {
      "cell_type": "code",
      "source": [
        "print('=== df_customers')\n",
        "df_customers.printSchema()\n",
        "\n",
        "print('=== df_orders')\n",
        "df_orders.printSchema()"
      ],
      "outputs": [],
      "execution_count": null,
      "metadata": {
        "jupyter": {
          "source_hidden": false,
          "outputs_hidden": false
        },
        "nteract": {
          "transient": {
            "deleting": false
          }
        }
      }
    },
    {
      "cell_type": "markdown",
      "source": [
        "## Select just the doctype == 'orders' from the Orders Dataframe\n",
        "\n",
        "Exclude the line_item and delivery document types"
      ],
      "metadata": {
        "nteract": {
          "transient": {
            "deleting": false
          }
        }
      }
    },
    {
      "cell_type": "code",
      "source": [
        "df_order_docs = df_orders.filter(df_orders[\"doctype\"].isin([\"order\"]))\n",
        "display(df_order_docs.limit(10))\n",
        "display(df_order_docs.printSchema())"
      ],
      "outputs": [],
      "execution_count": null,
      "metadata": {
        "jupyter": {
          "source_hidden": false,
          "outputs_hidden": false
        },
        "nteract": {
          "transient": {
            "deleting": false
          }
        }
      }
    },
    {
      "cell_type": "code",
      "source": [
        "# pyspark\n",
        "print(TokenLibrary.help())"
      ],
      "outputs": [],
      "execution_count": null,
      "metadata": {
        "jupyter": {
          "source_hidden": false,
          "outputs_hidden": false
        },
        "nteract": {
          "transient": {
            "deleting": false
          }
        }
      }
    },
    {
      "cell_type": "code",
      "source": [
        "%%csharp\n",
        "\n",
        "// See https://docs.microsoft.com/en-us/azure/synapse-analytics/spark/apache-spark-secure-credentials-with-tokenlibrary?pivots=programming-language-csharp\n",
        "// See https://docs.microsoft.com/en-us/azure/synapse-analytics/spark/microsoft-spark-utilities?pivots=programming-language-csharp#credentials-utilities\n",
        "\n",
        "using Microsoft.Spark.Extensions.Azure.Synapse.Analytics.Utils;\n",
        "\n",
        "//Console.WriteLine(TokenLibrary.help());\n",
        "\n",
        "string akvName       = \"cjoakimcslkv\";\n",
        "string secretName    = \"AZURE-STORAGE-CONNECTION-STRING\";\n",
        "string linkedAkvName = \"cjoakimcslkvAzureKeyVault\";\n",
        "\n",
        "//string s1 = TokenLibrary.GetSecret(akvName, secretName, linkedAkvName);\n",
        "//Console.WriteLine(s1);\n",
        "\n",
        "string cosmosLinkedServiceName = \"demoCosmosDB\";\n",
        "string storageLinkedServiceName  = \"cjoakimstorageAzureBlobStorage\";\n",
        "\n",
        "Console.WriteLine(\"Cosmos:\");\n",
        "string cosmosConnString = TokenLibrary.GetConnectionString(cosmosLinkedServiceName);\n",
        "Console.WriteLine(cosmosConnString);\n",
        "\n",
        "Console.WriteLine(\"Storage:\");\n",
        "string storageConnString = TokenLibrary.GetConnectionString(storageLinkedServiceName);\n",
        "Console.WriteLine(storageConnString);\n"
      ],
      "outputs": [],
      "execution_count": null,
      "metadata": {
        "jupyter": {
          "source_hidden": false,
          "outputs_hidden": false
        },
        "nteract": {
          "transient": {
            "deleting": false
          }
        },
        "microsoft": {
          "language": "csharp"
        }
      }
    },
    {
      "cell_type": "code",
      "source": [
        "%%csharp\n",
        "\n",
        "using Microsoft.Spark.Extensions.Azure.Synapse.Analytics.Utils;\n",
        "\n",
        "//Console.WriteLine(Credentials.Help());\n",
        "\n",
        "string akvName       = \"cjoakimcslkv\";\n",
        "string secretName    = \"AZURE-STORAGE-CONNECTION-STRING\";\n",
        "string linkedAkvName = \"cjoakimcslkvAzureKeyVault\";\n",
        "\n",
        "// Credentials.GetSecret(\"azure key vault name\",\"secret name\",\"linked service name\")\n",
        "string s1 = Credentials.GetSecret(akvName, secretName); //, linkedAkvName);\n",
        "Console.WriteLine(s1);\n",
        "\n"
      ],
      "outputs": [],
      "execution_count": null,
      "metadata": {
        "jupyter": {
          "source_hidden": false,
          "outputs_hidden": false
        },
        "nteract": {
          "transient": {
            "deleting": false
          }
        },
        "microsoft": {
          "language": "csharp"
        }
      }
    },
    {
      "cell_type": "code",
      "source": [
        "\n",
        "import sys\n",
        "from pyspark.sql import SparkSession\n",
        "\n",
        "sc = SparkSession.builder.getOrCreate()\n",
        "token_library = sc._jvm.com.microsoft.azure.synapse.tokenlibrary.TokenLibrary\n",
        "\n",
        "connection_string = token_library.getSecret(\n",
        "    \"cjoakimcslkv\",\n",
        "    \"AZURE-STORAGE-CONNECTION-STRING\",\n",
        "    \"cjoakimcslkvAzureKeyVault\")\n",
        "\n",
        "print(len(connection_string))\n",
        "print(connection_string)"
      ],
      "outputs": [],
      "execution_count": null,
      "metadata": {
        "jupyter": {
          "source_hidden": false,
          "outputs_hidden": false
        },
        "nteract": {
          "transient": {
            "deleting": false
          }
        }
      }
    }
  ],
  "metadata": {
    "kernelspec": {
      "name": "synapse_pyspark",
      "language": "Python",
      "display_name": "Synapse PySpark"
    },
    "language_info": {
      "name": "python"
    },
    "kernel_info": {
      "name": "synapse_pyspark"
    },
    "save_output": false,
    "synapse_widget": {
      "version": "0.1",
      "state": {}
    }
  },
  "nbformat": 4,
  "nbformat_minor": 2
}