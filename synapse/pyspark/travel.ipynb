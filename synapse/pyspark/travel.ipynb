{
  "cells": [
    {
      "cell_type": "markdown",
      "metadata": {
        "nteract": {
          "transient": {
            "deleting": false
          }
        }
      },
      "source": [
        "# Read the CosmosDB Synapse Link Data into a Spark Dataframe"
      ]
    },
    {
      "cell_type": "code",
      "execution_count": null,
      "metadata": {
        "collapsed": false
      },
      "outputs": [],
      "source": [
        "\n",
        "df = spark.read\\\n",
        "    .format(\"cosmos.olap\")\\\n",
        "    .option(\"spark.synapse.linkedService\", \"demoCosmosDB\")\\\n",
        "    .option(\"spark.cosmos.container\", \"travel\")\\\n",
        "    .load()\n",
        "\n",
        "df.printSchema()"
      ]
    },
    {
      "cell_type": "markdown",
      "metadata": {
        "nteract": {
          "transient": {
            "deleting": false
          }
        }
      },
      "source": [
        "## Display the Shape of the Dataframe - row and column count"
      ]
    },
    {
      "cell_type": "code",
      "execution_count": null,
      "metadata": {
        "jupyter": {
          "outputs_hidden": false,
          "source_hidden": false
        },
        "nteract": {
          "transient": {
            "deleting": false
          }
        }
      },
      "outputs": [],
      "source": [
        "# Print the row and column counts of the Dataframe\n",
        "\n",
        "print((df.count(), len(df.columns)))"
      ]
    },
    {
      "cell_type": "markdown",
      "metadata": {
        "nteract": {
          "transient": {
            "deleting": false
          }
        }
      },
      "source": [
        "## Display the first 10 rows"
      ]
    },
    {
      "cell_type": "code",
      "execution_count": null,
      "metadata": {
        "collapsed": false,
        "jupyter": {
          "outputs_hidden": false,
          "source_hidden": false
        },
        "nteract": {
          "transient": {
            "deleting": false
          }
        }
      },
      "outputs": [],
      "source": [
        "display(df.limit(10))"
      ]
    },
    {
      "cell_type": "markdown",
      "metadata": {
        "nteract": {
          "transient": {
            "deleting": false
          }
        }
      },
      "source": [
        "## "
      ]
    },
    {
      "cell_type": "markdown",
      "metadata": {
        "nteract": {
          "transient": {
            "deleting": false
          }
        }
      },
      "source": [
        "## Select and display the first 10 rows of the MIA:MAO route, sorted by date"
      ]
    },
    {
      "cell_type": "code",
      "execution_count": null,
      "metadata": {
        "jupyter": {
          "outputs_hidden": false,
          "source_hidden": false
        },
        "nteract": {
          "transient": {
            "deleting": false
          }
        }
      },
      "outputs": [],
      "source": [
        "from pyspark.sql.functions import col\n",
        "\n",
        "# unpack the structs of type string into another dataframe, df2\n",
        "df2 = df.select(\n",
        "    col('route'),\n",
        "    col('id'),\n",
        "    col('doc_time'),\n",
        "    col('date'),\n",
        "    col('count'),\n",
        "    col('to_airport_country'),\n",
        "    col('to_airport_name')).filter(\"_ts > 1630355233\") \n",
        "\n",
        "# rename the unpacked columns, into new dataframe df3\n",
        "new_column_names = ['route','id','doc_time','date','count','to_airport_country','to_airport_name']\n",
        "df3 = df2.toDF(*new_column_names)\n",
        "\n",
        "# create new df4, filtering by route 'ATL:MBJ', sorting by 'doc_time' descending\n",
        "df4 = df3.filter(\"route == 'MIA:MAO'\").(\"doc_tsortime\", ascending=False)\n",
        "\n",
        "# display the first 10 rows\n",
        "df4.show(n=20)"
      ]
    }
  ],
  "metadata": {
    "kernel_info": {
      "name": "synapse_pyspark"
    },
    "kernelspec": {
      "display_name": "Synapse PySpark",
      "language": "Python",
      "name": "synapse_pyspark"
    },
    "language_info": {
      "name": "python"
    },
    "save_output": false,
    "synapse_widget": {
      "state": {},
      "version": "0.1"
    }
  },
  "nbformat": 4,
  "nbformat_minor": 2
}
