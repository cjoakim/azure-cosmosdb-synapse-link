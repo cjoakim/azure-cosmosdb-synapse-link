{
  "cells": [
    {
      "cell_type": "markdown",
      "source": [
        "# Read the CosmosDB Synapse Link Data into a Spark Dataframe"
      ],
      "metadata": {
        "nteract": {
          "transient": {
            "deleting": false
          }
        }
      }
    },
    {
      "cell_type": "code",
      "source": [
        "\n",
        "df = spark.read\\\n",
        "    .format(\"cosmos.olap\")\\\n",
        "    .option(\"spark.synapse.linkedService\", \"demoCosmosDB\")\\\n",
        "    .option(\"spark.cosmos.container\", \"travel\")\\\n",
        "    .load()\n",
        "\n",
        "display(df.printSchema())"
      ],
      "outputs": [],
      "execution_count": null,
      "metadata": {
        "collapsed": false
      }
    },
    {
      "cell_type": "markdown",
      "source": [
        "## Display the Shape of the Dataframe - row and column count"
      ],
      "metadata": {
        "nteract": {
          "transient": {
            "deleting": false
          }
        }
      }
    },
    {
      "cell_type": "code",
      "source": [
        "# Print the row and column counts of the Dataframe\n",
        "\n",
        "print((df.count(), len(df.columns)))"
      ],
      "outputs": [],
      "execution_count": null,
      "metadata": {
        "jupyter": {
          "source_hidden": false,
          "outputs_hidden": false
        },
        "nteract": {
          "transient": {
            "deleting": false
          }
        }
      }
    },
    {
      "cell_type": "markdown",
      "source": [
        "## Display the first 10 rows"
      ],
      "metadata": {
        "nteract": {
          "transient": {
            "deleting": false
          }
        }
      }
    },
    {
      "cell_type": "code",
      "source": [
        "display(df.limit(10))"
      ],
      "outputs": [],
      "execution_count": null,
      "metadata": {
        "jupyter": {
          "source_hidden": false,
          "outputs_hidden": false
        },
        "nteract": {
          "transient": {
            "deleting": false
          }
        },
        "collapsed": false
      }
    },
    {
      "cell_type": "markdown",
      "source": [
        "## "
      ],
      "metadata": {
        "nteract": {
          "transient": {
            "deleting": false
          }
        }
      }
    },
    {
      "cell_type": "markdown",
      "source": [
        "## Select and display the first 10 rows of the MIA:MAO route, sorted by date"
      ],
      "metadata": {
        "nteract": {
          "transient": {
            "deleting": false
          }
        }
      }
    },
    {
      "cell_type": "code",
      "source": [
        "from pyspark.sql.functions import col\n",
        "\n",
        "# unpack the structs of type string into another dataframe, df2\n",
        "df2 = df.select(\n",
        "    col('route'),\n",
        "    col('id'),\n",
        "    col('doc_time'),\n",
        "    col('date'),\n",
        "    col('count'),\n",
        "    col('to_airport_country'),\n",
        "    col('to_airport_name')).filter(\"_ts > 1630355233\") \n",
        "\n",
        "# rename the unpacked columns, into new dataframe df3\n",
        "new_column_names = ['route','id','doc_time','date','count','to_airport_country','to_airport_name']\n",
        "df3 = df2.toDF(*new_column_names)\n",
        "\n",
        "# create new df4, filtering by route 'ATL:MBJ', sorting by 'doc_time' descending\n",
        "df4 = df3.filter(\"route == 'MIA:MAO'\").sort(\"doc_time\", ascending=False)\n",
        "\n",
        "# display the first 10 rows\n",
        "df4.show(n=20)"
      ],
      "outputs": [],
      "execution_count": null,
      "metadata": {
        "jupyter": {
          "source_hidden": false,
          "outputs_hidden": false
        },
        "nteract": {
          "transient": {
            "deleting": false
          }
        }
      }
    }
  ],
  "metadata": {
    "language_info": {
      "name": "python"
    },
    "kernelspec": {
      "name": "synapse_pyspark",
      "language": "Python",
      "display_name": "Synapse PySpark"
    },
    "kernel_info": {
      "name": "synapse_pyspark"
    },
    "save_output": false,
    "synapse_widget": {
      "version": "0.1",
      "state": {}
    }
  },
  "nbformat": 4,
  "nbformat_minor": 2
}