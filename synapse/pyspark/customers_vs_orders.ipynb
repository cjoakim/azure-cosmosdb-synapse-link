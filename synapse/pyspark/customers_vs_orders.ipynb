{
  "cells": [
    {
      "cell_type": "markdown",
      "source": [
        "# Process the Customers vs Orders Synapse Link Data"
      ],
      "metadata": {
        "nteract": {
          "transient": {
            "deleting": false
          }
        }
      }
    },
    {
      "cell_type": "code",
      "source": [
        "# Load the SynapseLink Customers and Orders data into a Dataframes.\n",
        "# Then, filter the Orders for just the 'order' doctype.\n",
        "\n",
        "df_customers = spark.read\\\n",
        "    .format(\"cosmos.olap\")\\\n",
        "    .option(\"spark.synapse.linkedService\", \"demoCosmosDB\")\\\n",
        "    .option(\"spark.cosmos.container\", \"customers\")\\\n",
        "    .load()\n",
        "\n",
        "df_orders = spark.read\\\n",
        "    .format(\"cosmos.olap\")\\\n",
        "    .option(\"spark.synapse.linkedService\", \"demoCosmosDB\")\\\n",
        "    .option(\"spark.cosmos.container\", \"orders\")\\\n",
        "    .load()\n",
        "\n",
        "df_order_docs = df_orders.filter(df_orders[\"doctype\"].isin([\"order\"]))\n",
        "\n",
        "print('df_customers, shape: {} x {}'.format(\n",
        "        df_customers.count(), len(df_customers.columns)))\n",
        "df_customers.printSchema()\n",
        "\n",
        "print('df_orders, shape: {} x {}'.format(\n",
        "        df_orders.count(), len(df_orders.columns)))\n",
        "df_orders.printSchema()\n",
        "\n",
        "print('df_order_docs, shape: {} x {}'.format(\n",
        "        df_order_docs.count(), len(df_order_docs.columns)))\n",
        "\n"
      ],
      "outputs": [
        {
          "output_type": "display_data",
          "data": {
            "application/vnd.livy.statement-meta+json": {
              "spark_pool": "poolspark3s",
              "session_id": 43,
              "statement_id": 39,
              "state": "finished",
              "livy_statement_state": "available",
              "queued_time": "2021-10-19T19:48:59.1196502Z",
              "session_start_time": null,
              "execution_start_time": "2021-10-19T19:48:59.2710837Z",
              "execution_finish_time": "2021-10-19T19:49:03.171757Z"
            },
            "text/plain": "StatementMeta(poolspark3s, 43, 39, Finished, Available)"
          },
          "metadata": {}
        },
        {
          "output_type": "stream",
          "name": "stdout",
          "text": [
            "df_customers, shape: 100000 x 13\nroot\n |-- _rid: string (nullable = true)\n |-- _ts: long (nullable = true)\n |-- pk: string (nullable = true)\n |-- doctype: string (nullable = true)\n |-- customerId: string (nullable = true)\n |-- name: string (nullable = true)\n |-- first: string (nullable = true)\n |-- last: string (nullable = true)\n |-- address: struct (nullable = true)\n |    |-- street: string (nullable = true)\n |    |-- city: string (nullable = true)\n |    |-- state: string (nullable = true)\n |    |-- zip: string (nullable = true)\n |-- doc_epoch: long (nullable = true)\n |-- doc_time: string (nullable = true)\n |-- id: string (nullable = true)\n |-- _etag: string (nullable = true)\n\ndf_orders, shape: 1049182 x 21\nroot\n |-- _rid: string (nullable = true)\n |-- _ts: long (nullable = true)\n |-- pk: long (nullable = true)\n |-- doctype: string (nullable = true)\n |-- orderId: long (nullable = true)\n |-- lineNumber: long (nullable = true)\n |-- customerId: string (nullable = true)\n |-- sku: long (nullable = true)\n |-- name: string (nullable = true)\n |-- qty: long (nullable = true)\n |-- price: double (nullable = true)\n |-- item_total: double (nullable = true)\n |-- doc_epoch: long (nullable = true)\n |-- doc_time: string (nullable = true)\n |-- id: string (nullable = true)\n |-- _etag: string (nullable = true)\n |-- status: string (nullable = true)\n |-- date_time: string (nullable = true)\n |-- item_count: long (nullable = true)\n |-- order_total: double (nullable = true)\n |-- delivery_count: long (nullable = true)\n\ndf_order_docs, shape: 300000 x 21"
          ]
        }
      ],
      "execution_count": 40,
      "metadata": {
        "collapsed": false
      }
    },
    {
      "cell_type": "code",
      "source": [
        "# Display the first few rows of the df_customers Dataframe\n",
        "\n",
        "display(df_customers.limit(3))\n"
      ],
      "outputs": [
        {
          "output_type": "display_data",
          "data": {
            "application/vnd.livy.statement-meta+json": {
              "spark_pool": "poolspark3s",
              "session_id": 43,
              "statement_id": 40,
              "state": "finished",
              "livy_statement_state": "available",
              "queued_time": "2021-10-19T19:48:59.1629157Z",
              "session_start_time": null,
              "execution_start_time": "2021-10-19T19:49:03.2739326Z",
              "execution_finish_time": "2021-10-19T19:49:04.3413894Z"
            },
            "text/plain": "StatementMeta(poolspark3s, 43, 40, Finished, Available)"
          },
          "metadata": {}
        },
        {
          "output_type": "display_data",
          "data": {
            "application/vnd.synapse.widget-view+json": {
              "widget_id": "804cd0ef-ecb9-49e5-aff8-c1c2a0a6aedf",
              "widget_type": "Synapse.DataFrame"
            },
            "text/plain": "SynapseWidget(Synapse.DataFrame, 804cd0ef-ecb9-49e5-aff8-c1c2a0a6aedf)"
          },
          "metadata": {}
        }
      ],
      "execution_count": 41,
      "metadata": {
        "jupyter": {
          "source_hidden": false,
          "outputs_hidden": false
        },
        "nteract": {
          "transient": {
            "deleting": false
          }
        },
        "collapsed": false
      }
    },
    {
      "cell_type": "code",
      "source": [
        "# Display the first few rows of the df_order_docs Dataframe\n",
        "\n",
        "display(df_order_docs.limit(3))"
      ],
      "outputs": [
        {
          "output_type": "display_data",
          "data": {
            "application/vnd.livy.statement-meta+json": {
              "spark_pool": "poolspark3s",
              "session_id": 43,
              "statement_id": 41,
              "state": "finished",
              "livy_statement_state": "available",
              "queued_time": "2021-10-19T19:48:59.2296609Z",
              "session_start_time": null,
              "execution_start_time": "2021-10-19T19:49:04.4817234Z",
              "execution_finish_time": "2021-10-19T19:49:07.242192Z"
            },
            "text/plain": "StatementMeta(poolspark3s, 43, 41, Finished, Available)"
          },
          "metadata": {}
        },
        {
          "output_type": "display_data",
          "data": {
            "application/vnd.synapse.widget-view+json": {
              "widget_id": "41480927-68ca-4fa5-8ac6-eeb088c51382",
              "widget_type": "Synapse.DataFrame"
            },
            "text/plain": "SynapseWidget(Synapse.DataFrame, 41480927-68ca-4fa5-8ac6-eeb088c51382)"
          },
          "metadata": {}
        }
      ],
      "execution_count": 42,
      "metadata": {
        "jupyter": {
          "source_hidden": false,
          "outputs_hidden": false
        },
        "nteract": {
          "transient": {
            "deleting": false
          }
        },
        "collapsed": false
      }
    },
    {
      "cell_type": "code",
      "source": [
        "# Create Narrower/Minimal Dataframes for the Join operation \n",
        "\n",
        "from pyspark.sql.functions import col\n",
        "\n",
        "df_customers_minimal = df_customers.select(\n",
        "    col('customerId'),\n",
        "    col('name'))\n",
        "\n",
        "print('df_customers_minimal, shape: {} x {}'.format(\n",
        "        df_customers_minimal.count(), len(df_customers_minimal.columns)))\n",
        "df_customers_minimal.printSchema()\n",
        "\n",
        "df_orders_minimal = df_order_docs.select(\n",
        "    col('orderId'),\n",
        "    col('customerId'),\n",
        "    col('item_count'),\n",
        "    col('order_total'))\n",
        "\n",
        "print('df_orders_minimal, shape: {} x {}'.format(\n",
        "        df_orders_minimal.count(), len(df_orders_minimal.columns)))\n",
        "df_orders_minimal.printSchema()"
      ],
      "outputs": [
        {
          "output_type": "display_data",
          "data": {
            "application/vnd.livy.statement-meta+json": {
              "spark_pool": "poolspark3s",
              "session_id": 43,
              "statement_id": 42,
              "state": "finished",
              "livy_statement_state": "available",
              "queued_time": "2021-10-19T19:48:59.3461356Z",
              "session_start_time": null,
              "execution_start_time": "2021-10-19T19:49:07.3906698Z",
              "execution_finish_time": "2021-10-19T19:49:08.4919372Z"
            },
            "text/plain": "StatementMeta(poolspark3s, 43, 42, Finished, Available)"
          },
          "metadata": {}
        },
        {
          "output_type": "stream",
          "name": "stdout",
          "text": [
            "df_customers_minimal, shape: 100000 x 2\nroot\n |-- customerId: string (nullable = true)\n |-- name: string (nullable = true)\n\ndf_orders_minimal, shape: 300000 x 4\nroot\n |-- orderId: long (nullable = true)\n |-- customerId: string (nullable = true)\n |-- item_count: long (nullable = true)\n |-- order_total: double (nullable = true)"
          ]
        }
      ],
      "execution_count": 43,
      "metadata": {
        "jupyter": {
          "source_hidden": false,
          "outputs_hidden": false
        },
        "nteract": {
          "transient": {
            "deleting": false
          }
        }
      }
    },
    {
      "cell_type": "code",
      "source": [
        "# Join the (narrow) Customers to their (narrow) Order documents\n",
        "\n",
        "df_joined = df_orders_minimal.join(df_customers_minimal, ['customerId']) \\\n",
        "    .sort(\"customerId\", ascending=False)\n",
        "\n",
        "\n",
        "print('df_joined, shape: {} x {}'.format(\n",
        "        df_joined.count(), len(df_joined.columns)))\n",
        "df_joined.printSchema()\n"
      ],
      "outputs": [
        {
          "output_type": "display_data",
          "data": {
            "application/vnd.livy.statement-meta+json": {
              "spark_pool": "poolspark3s",
              "session_id": 43,
              "statement_id": 50,
              "state": "finished",
              "livy_statement_state": "available",
              "queued_time": "2021-10-19T19:56:33.217041Z",
              "session_start_time": null,
              "execution_start_time": "2021-10-19T19:56:33.3593703Z",
              "execution_finish_time": "2021-10-19T19:56:35.1826311Z"
            },
            "text/plain": "StatementMeta(poolspark3s, 43, 50, Finished, Available)"
          },
          "metadata": {}
        },
        {
          "output_type": "stream",
          "name": "stdout",
          "text": [
            "df_joined, shape: 300000 x 5\nroot\n |-- customerId: string (nullable = true)\n |-- orderId: long (nullable = true)\n |-- item_count: long (nullable = true)\n |-- order_total: double (nullable = true)\n |-- name: string (nullable = true)"
          ]
        }
      ],
      "execution_count": 51,
      "metadata": {
        "jupyter": {
          "source_hidden": false,
          "outputs_hidden": false
        },
        "nteract": {
          "transient": {
            "deleting": false
          }
        }
      }
    },
    {
      "cell_type": "code",
      "source": [
        "# Display the first few rows of the df_joined Dataframe\n",
        "\n",
        "display(df_joined.limit(20))"
      ],
      "outputs": [
        {
          "output_type": "display_data",
          "data": {
            "application/vnd.livy.statement-meta+json": {
              "spark_pool": "poolspark3s",
              "session_id": 43,
              "statement_id": 51,
              "state": "finished",
              "livy_statement_state": "available",
              "queued_time": "2021-10-19T19:56:42.0466901Z",
              "session_start_time": null,
              "execution_start_time": "2021-10-19T19:56:42.2067444Z",
              "execution_finish_time": "2021-10-19T19:56:46.1275531Z"
            },
            "text/plain": "StatementMeta(poolspark3s, 43, 51, Finished, Available)"
          },
          "metadata": {}
        },
        {
          "output_type": "display_data",
          "data": {
            "application/vnd.synapse.widget-view+json": {
              "widget_id": "57bbb019-736a-4afd-bc37-85719f4ee721",
              "widget_type": "Synapse.DataFrame"
            },
            "text/plain": "SynapseWidget(Synapse.DataFrame, 57bbb019-736a-4afd-bc37-85719f4ee721)"
          },
          "metadata": {}
        }
      ],
      "execution_count": 52,
      "metadata": {
        "jupyter": {
          "source_hidden": false,
          "outputs_hidden": false
        },
        "nteract": {
          "transient": {
            "deleting": false
          }
        },
        "collapsed": false
      }
    },
    {
      "cell_type": "code",
      "source": [
        "# Group the df_joined Dataframe by customerId, sum on order total and total_orders\n",
        "\n",
        "df_grouped = df_joined.groupby(\"customerId\") \\\n",
        "    .sum(\"order_total\").alias('total_orders') \\\n",
        "    .sort(\"customerId\", ascending=False)\n",
        "\n",
        "display(df_grouped.printSchema())\n",
        "print((df_grouped.count(), len(df_grouped.columns)))\n",
        "\n"
      ],
      "outputs": [
        {
          "output_type": "display_data",
          "data": {
            "application/vnd.livy.statement-meta+json": {
              "spark_pool": "poolspark3s",
              "session_id": 43,
              "statement_id": 52,
              "state": "finished",
              "livy_statement_state": "available",
              "queued_time": "2021-10-19T19:57:54.9064349Z",
              "session_start_time": null,
              "execution_start_time": "2021-10-19T19:57:55.0235404Z",
              "execution_finish_time": "2021-10-19T19:57:58.9290293Z"
            },
            "text/plain": "StatementMeta(poolspark3s, 43, 52, Finished, Available)"
          },
          "metadata": {}
        },
        {
          "output_type": "stream",
          "name": "stdout",
          "text": [
            "root\n |-- customerId: string (nullable = true)\n |-- sum(order_total): double (nullable = true)\n\n(95119, 2)"
          ]
        }
      ],
      "execution_count": 53,
      "metadata": {
        "jupyter": {
          "source_hidden": false,
          "outputs_hidden": false
        },
        "nteract": {
          "transient": {
            "deleting": false
          }
        }
      }
    },
    {
      "cell_type": "code",
      "source": [
        "import pyspark.sql.functions as F \n",
        "\n",
        "df_agg = df_joined.groupBy(\"customerId\") \\\n",
        "    .agg(\n",
        "        F.count(\"customerId\").alias('order_count'), \\\n",
        "        F.sum(\"order_total\").alias(\"total_dollar_amount\"), \\\n",
        "        F.sum(\"item_count\").alias(\"total_item_count\")) \\\n",
        "        .sort(\"customerId\", ascending=False)\n",
        "\n",
        "display(df_agg.printSchema())\n",
        "print((df_agg.count(), len(df_agg.columns)))"
      ],
      "outputs": [
        {
          "output_type": "display_data",
          "data": {
            "application/vnd.livy.statement-meta+json": {
              "spark_pool": "poolspark3s",
              "session_id": 43,
              "statement_id": 53,
              "state": "finished",
              "livy_statement_state": "available",
              "queued_time": "2021-10-19T19:58:34.9367022Z",
              "session_start_time": null,
              "execution_start_time": "2021-10-19T19:58:35.0749428Z",
              "execution_finish_time": "2021-10-19T19:58:38.9908392Z"
            },
            "text/plain": "StatementMeta(poolspark3s, 43, 53, Finished, Available)"
          },
          "metadata": {}
        },
        {
          "output_type": "stream",
          "name": "stdout",
          "text": [
            "root\n |-- customerId: string (nullable = true)\n |-- order_count: long (nullable = false)\n |-- total_dollar_amount: double (nullable = true)\n |-- total_item_count: long (nullable = true)\n\n(95119, 4)"
          ]
        }
      ],
      "execution_count": 54,
      "metadata": {
        "jupyter": {
          "source_hidden": false,
          "outputs_hidden": false
        },
        "nteract": {
          "transient": {
            "deleting": false
          }
        }
      }
    },
    {
      "cell_type": "code",
      "source": [
        "display(df_agg.limit(30))"
      ],
      "outputs": [
        {
          "output_type": "display_data",
          "data": {
            "application/vnd.livy.statement-meta+json": {
              "spark_pool": "poolspark3s",
              "session_id": 43,
              "statement_id": 54,
              "state": "finished",
              "livy_statement_state": "available",
              "queued_time": "2021-10-19T19:58:45.7581126Z",
              "session_start_time": null,
              "execution_start_time": "2021-10-19T19:58:45.8639639Z",
              "execution_finish_time": "2021-10-19T19:58:52.8224206Z"
            },
            "text/plain": "StatementMeta(poolspark3s, 43, 54, Finished, Available)"
          },
          "metadata": {}
        },
        {
          "output_type": "display_data",
          "data": {
            "application/vnd.synapse.widget-view+json": {
              "widget_id": "2b8e2eae-7172-4558-ae6d-4dd7b2e29654",
              "widget_type": "Synapse.DataFrame"
            },
            "text/plain": "SynapseWidget(Synapse.DataFrame, 2b8e2eae-7172-4558-ae6d-4dd7b2e29654)"
          },
          "metadata": {}
        }
      ],
      "execution_count": 55,
      "metadata": {
        "jupyter": {
          "source_hidden": false,
          "outputs_hidden": false
        },
        "nteract": {
          "transient": {
            "deleting": false
          }
        },
        "collapsed": false
      }
    }
  ],
  "metadata": {
    "kernelspec": {
      "name": "synapse_pyspark",
      "language": "Python",
      "display_name": "Synapse PySpark"
    },
    "language_info": {
      "name": "python"
    },
    "kernel_info": {
      "name": "synapse_pyspark"
    },
    "save_output": false,
    "synapse_widget": {
      "version": "0.1",
      "state": {
        "804cd0ef-ecb9-49e5-aff8-c1c2a0a6aedf": {
          "type": "Synapse.DataFrame",
          "sync_state": {
            "table": {
              "rows": [
                {
                  "0": "HfwXAN4KYILhFQAAAAAAAA==",
                  "1": "1633525610",
                  "2": "0045540253226",
                  "3": "customer",
                  "4": "0045540253226",
                  "5": "Sara Bullock",
                  "6": "Sara",
                  "7": "Bullock",
                  "8": {
                    "street": "5540 Gilbert Fort Apt. 631",
                    "city": "New Gloriaberg",
                    "state": "MS",
                    "zip": "68685"
                  },
                  "9": "1633525609614",
                  "10": "2021/10/06-13:06:49",
                  "11": "8608b70a-9a35-4dc2-83f7-38ef506bf846",
                  "12": "\"3606bdbb-0000-0100-0000-615d9f690000\""
                },
                {
                  "0": "HfwXAN4KYILiFQAAAAAAAA==",
                  "1": "1633525610",
                  "2": "0061928492421",
                  "3": "customer",
                  "4": "0061928492421",
                  "5": "Robert Webster",
                  "6": "Robert",
                  "7": "Webster",
                  "8": {
                    "street": "84155 Natasha Parks",
                    "city": "Kruegerfort",
                    "state": "FL",
                    "zip": "46097"
                  },
                  "9": "1633525609615",
                  "10": "2021/10/06-13:06:49",
                  "11": "f45d9316-a5c4-4de1-8c91-44fa2b5f6ad5",
                  "12": "\"3606bebb-0000-0100-0000-615d9f690000\""
                },
                {
                  "0": "HfwXAN4KYILjFQAAAAAAAA==",
                  "1": "1633525610",
                  "2": "0093401313220",
                  "3": "customer",
                  "4": "0093401313220",
                  "5": "Amy Brown",
                  "6": "Amy",
                  "7": "Brown",
                  "8": {
                    "street": "4792 David Heights Suite 405",
                    "city": "Jennifermouth",
                    "state": "IL",
                    "zip": "39502"
                  },
                  "9": "1633525609615",
                  "10": "2021/10/06-13:06:49",
                  "11": "5467feb7-a593-4014-866f-1095d7e18751",
                  "12": "\"3606bfbb-0000-0100-0000-615d9f690000\""
                }
              ],
              "schema": [
                {
                  "key": "0",
                  "name": "_rid",
                  "type": "string"
                },
                {
                  "key": "1",
                  "name": "_ts",
                  "type": "bigint"
                },
                {
                  "key": "2",
                  "name": "pk",
                  "type": "string"
                },
                {
                  "key": "3",
                  "name": "doctype",
                  "type": "string"
                },
                {
                  "key": "4",
                  "name": "customerId",
                  "type": "string"
                },
                {
                  "key": "5",
                  "name": "name",
                  "type": "string"
                },
                {
                  "key": "6",
                  "name": "first",
                  "type": "string"
                },
                {
                  "key": "7",
                  "name": "last",
                  "type": "string"
                },
                {
                  "key": "8",
                  "name": "address",
                  "type": "StructType(StructField(street,StringType,true), StructField(city,StringType,true), StructField(state,StringType,true), StructField(zip,StringType,true))"
                },
                {
                  "key": "9",
                  "name": "doc_epoch",
                  "type": "bigint"
                },
                {
                  "key": "10",
                  "name": "doc_time",
                  "type": "string"
                },
                {
                  "key": "11",
                  "name": "id",
                  "type": "string"
                },
                {
                  "key": "12",
                  "name": "_etag",
                  "type": "string"
                }
              ]
            },
            "isSummary": false,
            "language": "scala"
          },
          "persist_state": {
            "view": {
              "type": "details",
              "tableOptions": {},
              "chartOptions": {
                "chartType": "bar",
                "aggregationType": "sum",
                "categoryFieldKeys": [
                  "0"
                ],
                "seriesFieldKeys": [
                  "1"
                ],
                "isStacked": false
              }
            }
          }
        },
        "41480927-68ca-4fa5-8ac6-eeb088c51382": {
          "type": "Synapse.DataFrame",
          "sync_state": {
            "table": {
              "rows": [
                {
                  "0": "HfwXAItzqDIDAAAAAAAAAA==",
                  "1": "1633525833",
                  "2": "82",
                  "3": "order",
                  "4": "82",
                  "6": "0077294476408",
                  "12": "1633525832230",
                  "13": "2021/10/06-13:10:32",
                  "14": "6541e58a-2786-4c3a-a510-ca3ac9f89433",
                  "15": "\"380697a0-0000-0100-0000-615da0490000\"",
                  "17": "2021-10-05 16:59:17 +00:00",
                  "18": "1",
                  "19": "171.96",
                  "20": "0"
                },
                {
                  "0": "HfwXAItzqDIEAAAAAAAAAA==",
                  "1": "1633525833",
                  "2": "140",
                  "3": "order",
                  "4": "140",
                  "6": "0088587087270",
                  "12": "1633525832238",
                  "13": "2021/10/06-13:10:32",
                  "14": "35c5bdf0-43b9-49a6-aa25-ad7f1f8237b3",
                  "15": "\"380698a0-0000-0100-0000-615da0490000\"",
                  "17": "2021-10-05 16:59:17 +00:00",
                  "18": "2",
                  "19": "3410.64",
                  "20": "0"
                },
                {
                  "0": "HfwXAItzqDIFAAAAAAAAAA==",
                  "1": "1633525833",
                  "2": "83",
                  "3": "order",
                  "4": "83",
                  "6": "0030395879004",
                  "12": "1633525832230",
                  "13": "2021/10/06-13:10:32",
                  "14": "768f578e-e689-4e74-9c53-b645969f72fb",
                  "15": "\"380699a0-0000-0100-0000-615da0490000\"",
                  "17": "2021-10-05 16:59:17 +00:00",
                  "18": "2",
                  "19": "60.95",
                  "20": "0"
                }
              ],
              "schema": [
                {
                  "key": "0",
                  "name": "_rid",
                  "type": "string"
                },
                {
                  "key": "1",
                  "name": "_ts",
                  "type": "bigint"
                },
                {
                  "key": "2",
                  "name": "pk",
                  "type": "bigint"
                },
                {
                  "key": "3",
                  "name": "doctype",
                  "type": "string"
                },
                {
                  "key": "4",
                  "name": "orderId",
                  "type": "bigint"
                },
                {
                  "key": "5",
                  "name": "lineNumber",
                  "type": "bigint"
                },
                {
                  "key": "6",
                  "name": "customerId",
                  "type": "string"
                },
                {
                  "key": "7",
                  "name": "sku",
                  "type": "bigint"
                },
                {
                  "key": "8",
                  "name": "name",
                  "type": "string"
                },
                {
                  "key": "9",
                  "name": "qty",
                  "type": "bigint"
                },
                {
                  "key": "10",
                  "name": "price",
                  "type": "double"
                },
                {
                  "key": "11",
                  "name": "item_total",
                  "type": "double"
                },
                {
                  "key": "12",
                  "name": "doc_epoch",
                  "type": "bigint"
                },
                {
                  "key": "13",
                  "name": "doc_time",
                  "type": "string"
                },
                {
                  "key": "14",
                  "name": "id",
                  "type": "string"
                },
                {
                  "key": "15",
                  "name": "_etag",
                  "type": "string"
                },
                {
                  "key": "16",
                  "name": "status",
                  "type": "string"
                },
                {
                  "key": "17",
                  "name": "date_time",
                  "type": "string"
                },
                {
                  "key": "18",
                  "name": "item_count",
                  "type": "bigint"
                },
                {
                  "key": "19",
                  "name": "order_total",
                  "type": "double"
                },
                {
                  "key": "20",
                  "name": "delivery_count",
                  "type": "bigint"
                }
              ]
            },
            "isSummary": false,
            "language": "scala"
          },
          "persist_state": {
            "view": {
              "type": "details",
              "tableOptions": {},
              "chartOptions": {
                "chartType": "bar",
                "aggregationType": "sum",
                "categoryFieldKeys": [
                  "0"
                ],
                "seriesFieldKeys": [
                  "1"
                ],
                "isStacked": false
              }
            }
          }
        },
        "57bbb019-736a-4afd-bc37-85719f4ee721": {
          "type": "Synapse.DataFrame",
          "sync_state": {
            "table": {
              "rows": [
                {
                  "0": "0099997114579",
                  "1": "75945",
                  "2": "3",
                  "3": "278.05",
                  "4": "Lucas Moran"
                },
                {
                  "0": "0099997114579",
                  "1": "166750",
                  "2": "2",
                  "3": "505.36",
                  "4": "Lucas Moran"
                },
                {
                  "0": "0099997114579",
                  "1": "174498",
                  "2": "1",
                  "3": "223.96",
                  "4": "Lucas Moran"
                },
                {
                  "0": "0099997114579",
                  "1": "258532",
                  "2": "1",
                  "3": "40.2",
                  "4": "Lucas Moran"
                },
                {
                  "0": "0099996679260",
                  "1": "179355",
                  "2": "2",
                  "3": "157.79",
                  "4": "Carol Mason"
                },
                {
                  "0": "0099996458490",
                  "1": "129929",
                  "2": "3",
                  "3": "97.93",
                  "4": "Thomas Lloyd"
                },
                {
                  "0": "0099996458490",
                  "1": "137393",
                  "2": "2",
                  "3": "194.98",
                  "4": "Thomas Lloyd"
                },
                {
                  "0": "0099996458490",
                  "1": "159659",
                  "2": "2",
                  "3": "18.99",
                  "4": "Thomas Lloyd"
                },
                {
                  "0": "0099996458490",
                  "1": "252729",
                  "2": "3",
                  "3": "130.71",
                  "4": "Thomas Lloyd"
                },
                {
                  "0": "0099994522674",
                  "1": "269972",
                  "2": "3",
                  "3": "425.58",
                  "4": "David Farmer"
                },
                {
                  "0": "0099994522674",
                  "1": "265033",
                  "2": "1",
                  "3": "95.96",
                  "4": "David Farmer"
                },
                {
                  "0": "0099993481224",
                  "1": "215881",
                  "2": "3",
                  "3": "50.96",
                  "4": "Tara Washington"
                },
                {
                  "0": "0099993481224",
                  "1": "241611",
                  "2": "2",
                  "3": "33.64",
                  "4": "Tara Washington"
                },
                {
                  "0": "0099993171415",
                  "1": "75449",
                  "2": "3",
                  "3": "265.97",
                  "4": "Jeremy Richardson"
                },
                {
                  "0": "0099993171415",
                  "1": "229520",
                  "2": "3",
                  "3": "379.95",
                  "4": "Jeremy Richardson"
                },
                {
                  "0": "0099992237310",
                  "1": "87969",
                  "2": "3",
                  "3": "200.91",
                  "4": "Harry Kim"
                },
                {
                  "0": "0099992237310",
                  "1": "99510",
                  "2": "3",
                  "3": "2151.7",
                  "4": "Harry Kim"
                },
                {
                  "0": "0099992237310",
                  "1": "107168",
                  "2": "1",
                  "3": "69.98",
                  "4": "Harry Kim"
                },
                {
                  "0": "0099992237310",
                  "1": "122988",
                  "2": "2",
                  "3": "1292.38",
                  "4": "Harry Kim"
                },
                {
                  "0": "0099992237310",
                  "1": "142412",
                  "2": "2",
                  "3": "80.82",
                  "4": "Harry Kim"
                }
              ],
              "schema": [
                {
                  "key": "0",
                  "name": "customerId",
                  "type": "string"
                },
                {
                  "key": "1",
                  "name": "orderId",
                  "type": "bigint"
                },
                {
                  "key": "2",
                  "name": "item_count",
                  "type": "bigint"
                },
                {
                  "key": "3",
                  "name": "order_total",
                  "type": "double"
                },
                {
                  "key": "4",
                  "name": "name",
                  "type": "string"
                }
              ]
            },
            "isSummary": false,
            "language": "scala"
          },
          "persist_state": {
            "view": {
              "type": "details",
              "tableOptions": {},
              "chartOptions": {
                "chartType": "bar",
                "aggregationType": "sum",
                "categoryFieldKeys": [
                  "0"
                ],
                "seriesFieldKeys": [
                  "1"
                ],
                "isStacked": false
              }
            }
          }
        },
        "2b8e2eae-7172-4558-ae6d-4dd7b2e29654": {
          "type": "Synapse.DataFrame",
          "sync_state": {
            "table": {
              "rows": [
                {
                  "0": "0099997114579",
                  "1": "4",
                  "2": "1047.5700000000002",
                  "3": "7"
                },
                {
                  "0": "0099996679260",
                  "1": "1",
                  "2": "157.79",
                  "3": "2"
                },
                {
                  "0": "0099996458490",
                  "1": "4",
                  "2": "442.61",
                  "3": "10"
                },
                {
                  "0": "0099994522674",
                  "1": "2",
                  "2": "521.54",
                  "3": "4"
                },
                {
                  "0": "0099993481224",
                  "1": "2",
                  "2": "84.6",
                  "3": "5"
                },
                {
                  "0": "0099993171415",
                  "1": "2",
                  "2": "645.9200000000001",
                  "3": "6"
                },
                {
                  "0": "0099992237310",
                  "1": "7",
                  "2": "3858.7499999999995",
                  "3": "13"
                },
                {
                  "0": "0099990573281",
                  "1": "4",
                  "2": "1015.97",
                  "3": "6"
                },
                {
                  "0": "0099990444161",
                  "1": "1",
                  "2": "64.32",
                  "3": "3"
                },
                {
                  "0": "0099989163721",
                  "1": "2",
                  "2": "1347.67",
                  "3": "3"
                },
                {
                  "0": "0099987195205",
                  "1": "3",
                  "2": "266.67",
                  "3": "5"
                },
                {
                  "0": "0099986506255",
                  "1": "2",
                  "2": "556.72",
                  "3": "4"
                },
                {
                  "0": "0099985395218",
                  "1": "3",
                  "2": "316.47",
                  "3": "5"
                },
                {
                  "0": "0099984811184",
                  "1": "3",
                  "2": "320.86",
                  "3": "6"
                },
                {
                  "0": "0099984373828",
                  "1": "3",
                  "2": "750.11",
                  "3": "7"
                },
                {
                  "0": "0099984200674",
                  "1": "3",
                  "2": "846.77",
                  "3": "5"
                },
                {
                  "0": "0099984106600",
                  "1": "4",
                  "2": "1802.58",
                  "3": "9"
                },
                {
                  "0": "0099982998825",
                  "1": "4",
                  "2": "2820.35",
                  "3": "8"
                },
                {
                  "0": "0099982104301",
                  "1": "3",
                  "2": "833.64",
                  "3": "5"
                },
                {
                  "0": "0099978108399",
                  "1": "1",
                  "2": "89.55",
                  "3": "2"
                },
                {
                  "0": "0099976447582",
                  "1": "2",
                  "2": "493.51",
                  "3": "6"
                },
                {
                  "0": "0099976438818",
                  "1": "4",
                  "2": "1156.5",
                  "3": "9"
                },
                {
                  "0": "0099974596244",
                  "1": "3",
                  "2": "1179.73",
                  "3": "8"
                },
                {
                  "0": "0099974500487",
                  "1": "2",
                  "2": "304.87",
                  "3": "4"
                },
                {
                  "0": "0099972873040",
                  "1": "3",
                  "2": "1207.87",
                  "3": "4"
                },
                {
                  "0": "0099971391217",
                  "1": "4",
                  "2": "1038.25",
                  "3": "10"
                },
                {
                  "0": "0099970744250",
                  "1": "3",
                  "2": "436.61",
                  "3": "4"
                },
                {
                  "0": "0099970444105",
                  "1": "3",
                  "2": "622.74",
                  "3": "7"
                },
                {
                  "0": "0099970124182",
                  "1": "2",
                  "2": "443.88",
                  "3": "4"
                },
                {
                  "0": "0099970084738",
                  "1": "1",
                  "2": "493.72",
                  "3": "3"
                }
              ],
              "schema": [
                {
                  "key": "0",
                  "name": "customerId",
                  "type": "string"
                },
                {
                  "key": "1",
                  "name": "order_count",
                  "type": "bigint"
                },
                {
                  "key": "2",
                  "name": "total_dollar_amount",
                  "type": "double"
                },
                {
                  "key": "3",
                  "name": "total_item_count",
                  "type": "bigint"
                }
              ]
            },
            "isSummary": false,
            "language": "scala"
          },
          "persist_state": {
            "view": {
              "type": "details",
              "tableOptions": {},
              "chartOptions": {
                "chartType": "bar",
                "aggregationType": "sum",
                "categoryFieldKeys": [
                  "0"
                ],
                "seriesFieldKeys": [
                  "1"
                ],
                "isStacked": false
              }
            }
          }
        }
      }
    }
  },
  "nbformat": 4,
  "nbformat_minor": 2
}