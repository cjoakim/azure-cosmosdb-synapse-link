{
  "cells": [
    {
      "cell_type": "markdown",
      "source": [
        "# Process the Customers vs Orders Synapse Link Data"
      ],
      "metadata": {
        "nteract": {
          "transient": {
            "deleting": false
          }
        }
      }
    },
    {
      "cell_type": "code",
      "source": [
        "# Load the SynapseLink Customers data into a Dataframe\n",
        "\n",
        "df_customers = spark.read\\\n",
        "    .format(\"cosmos.olap\")\\\n",
        "    .option(\"spark.synapse.linkedService\", \"demoCosmosDB\")\\\n",
        "    .option(\"spark.cosmos.container\", \"customers\")\\\n",
        "    .load()\n",
        "display(df_customers.limit(3))"
      ],
      "outputs": [
        {
          "output_type": "display_data",
          "data": {
            "application/vnd.livy.statement-meta+json": {
              "spark_pool": "poolspark3s",
              "session_id": 42,
              "statement_id": 41,
              "state": "finished",
              "livy_statement_state": "available",
              "queued_time": "2021-10-18T21:19:23.6497229Z",
              "session_start_time": null,
              "execution_start_time": "2021-10-18T21:19:42.8381834Z",
              "execution_finish_time": "2021-10-18T21:19:45.60945Z"
            },
            "text/plain": "StatementMeta(poolspark3s, 42, 41, Finished, Available)"
          },
          "metadata": {}
        },
        {
          "output_type": "display_data",
          "data": {
            "application/vnd.synapse.widget-view+json": {
              "widget_id": "cc7d65b8-1c00-4e3e-abd5-0e7e64e1bd89",
              "widget_type": "Synapse.DataFrame"
            },
            "text/plain": "SynapseWidget(Synapse.DataFrame, cc7d65b8-1c00-4e3e-abd5-0e7e64e1bd89)"
          },
          "metadata": {}
        }
      ],
      "execution_count": 40,
      "metadata": {
        "collapsed": false
      }
    },
    {
      "cell_type": "code",
      "source": [
        "# Load the SynapseLink Orders data into a Dataframe\n",
        "\n",
        "df_orders = spark.read\\\n",
        "    .format(\"cosmos.olap\")\\\n",
        "    .option(\"spark.synapse.linkedService\", \"demoCosmosDB\")\\\n",
        "    .option(\"spark.cosmos.container\", \"orders\")\\\n",
        "    .load()\n",
        "display(df_orders.limit(3))"
      ],
      "outputs": [
        {
          "output_type": "display_data",
          "data": {
            "application/vnd.livy.statement-meta+json": {
              "spark_pool": "poolspark3s",
              "session_id": 42,
              "statement_id": 42,
              "state": "finished",
              "livy_statement_state": "available",
              "queued_time": "2021-10-18T21:19:23.7082945Z",
              "session_start_time": null,
              "execution_start_time": "2021-10-18T21:19:45.7239388Z",
              "execution_finish_time": "2021-10-18T21:19:52.1474974Z"
            },
            "text/plain": "StatementMeta(poolspark3s, 42, 42, Finished, Available)"
          },
          "metadata": {}
        },
        {
          "output_type": "display_data",
          "data": {
            "application/vnd.synapse.widget-view+json": {
              "widget_id": "a7650153-10ac-4096-910f-0346dbadeb63",
              "widget_type": "Synapse.DataFrame"
            },
            "text/plain": "SynapseWidget(Synapse.DataFrame, a7650153-10ac-4096-910f-0346dbadeb63)"
          },
          "metadata": {}
        }
      ],
      "execution_count": 41,
      "metadata": {
        "jupyter": {
          "source_hidden": false,
          "outputs_hidden": false
        },
        "nteract": {
          "transient": {
            "deleting": false
          }
        },
        "collapsed": false
      }
    },
    {
      "cell_type": "code",
      "source": [
        "# Select just the doctype == 'orders' from the Orders Dataframe\n",
        "# Exclude the line_item and delivery document types\n",
        "\n",
        "df_order_docs = df_orders.filter(df_orders[\"doctype\"].isin([\"order\"]))\n",
        "display(df_order_docs.limit(3))"
      ],
      "outputs": [
        {
          "output_type": "display_data",
          "data": {
            "application/vnd.livy.statement-meta+json": {
              "spark_pool": "poolspark3s",
              "session_id": 42,
              "statement_id": 43,
              "state": "finished",
              "livy_statement_state": "available",
              "queued_time": "2021-10-18T21:19:23.7714617Z",
              "session_start_time": null,
              "execution_start_time": "2021-10-18T21:19:53.0957514Z",
              "execution_finish_time": "2021-10-18T21:19:57.0443081Z"
            },
            "text/plain": "StatementMeta(poolspark3s, 42, 43, Finished, Available)"
          },
          "metadata": {}
        },
        {
          "output_type": "display_data",
          "data": {
            "application/vnd.synapse.widget-view+json": {
              "widget_id": "6cd7adae-b2ca-4e30-b4c9-f935065e888b",
              "widget_type": "Synapse.DataFrame"
            },
            "text/plain": "SynapseWidget(Synapse.DataFrame, 6cd7adae-b2ca-4e30-b4c9-f935065e888b)"
          },
          "metadata": {}
        }
      ],
      "execution_count": 42,
      "metadata": {
        "jupyter": {
          "source_hidden": false,
          "outputs_hidden": false
        },
        "nteract": {
          "transient": {
            "deleting": false
          }
        },
        "collapsed": false
      }
    },
    {
      "cell_type": "code",
      "source": [
        "# Display the Observed Schemas of the Dataframes\n",
        "\n",
        "print('=== df_customers')\n",
        "df_customers.printSchema()\n",
        "\n",
        "print('=== df_orders')\n",
        "df_orders.printSchema()\n",
        "\n",
        "print('=== df_order_docs')\n",
        "display(df_order_docs.printSchema())\n"
      ],
      "outputs": [
        {
          "output_type": "display_data",
          "data": {
            "application/vnd.livy.statement-meta+json": {
              "spark_pool": "poolspark3s",
              "session_id": 42,
              "statement_id": 44,
              "state": "finished",
              "livy_statement_state": "available",
              "queued_time": "2021-10-18T21:19:23.8120702Z",
              "session_start_time": null,
              "execution_start_time": "2021-10-18T21:19:57.1788719Z",
              "execution_finish_time": "2021-10-18T21:19:57.34937Z"
            },
            "text/plain": "StatementMeta(poolspark3s, 42, 44, Finished, Available)"
          },
          "metadata": {}
        },
        {
          "output_type": "stream",
          "name": "stdout",
          "text": [
            "=== df_customers\nroot\n |-- _rid: string (nullable = true)\n |-- _ts: long (nullable = true)\n |-- pk: string (nullable = true)\n |-- doctype: string (nullable = true)\n |-- customerId: string (nullable = true)\n |-- name: string (nullable = true)\n |-- first: string (nullable = true)\n |-- last: string (nullable = true)\n |-- address: struct (nullable = true)\n |    |-- street: string (nullable = true)\n |    |-- city: string (nullable = true)\n |    |-- state: string (nullable = true)\n |    |-- zip: string (nullable = true)\n |-- doc_epoch: long (nullable = true)\n |-- doc_time: string (nullable = true)\n |-- id: string (nullable = true)\n |-- _etag: string (nullable = true)\n\n=== df_orders\nroot\n |-- _rid: string (nullable = true)\n |-- _ts: long (nullable = true)\n |-- pk: long (nullable = true)\n |-- doctype: string (nullable = true)\n |-- orderId: long (nullable = true)\n |-- lineNumber: long (nullable = true)\n |-- customerId: string (nullable = true)\n |-- sku: long (nullable = true)\n |-- name: string (nullable = true)\n |-- qty: long (nullable = true)\n |-- price: double (nullable = true)\n |-- item_total: double (nullable = true)\n |-- doc_epoch: long (nullable = true)\n |-- doc_time: string (nullable = true)\n |-- id: string (nullable = true)\n |-- _etag: string (nullable = true)\n |-- status: string (nullable = true)\n |-- date_time: string (nullable = true)\n |-- item_count: long (nullable = true)\n |-- order_total: double (nullable = true)\n |-- delivery_count: long (nullable = true)\n\n=== df_order_docs\nroot\n |-- _rid: string (nullable = true)\n |-- _ts: long (nullable = true)\n |-- pk: long (nullable = true)\n |-- doctype: string (nullable = true)\n |-- orderId: long (nullable = true)\n |-- lineNumber: long (nullable = true)\n |-- customerId: string (nullable = true)\n |-- sku: long (nullable = true)\n |-- name: string (nullable = true)\n |-- qty: long (nullable = true)\n |-- price: double (nullable = true)\n |-- item_total: double (nullable = true)\n |-- doc_epoch: long (nullable = true)\n |-- doc_time: string (nullable = true)\n |-- id: string (nullable = true)\n |-- _etag: string (nullable = true)\n |-- status: string (nullable = true)\n |-- date_time: string (nullable = true)\n |-- item_count: long (nullable = true)\n |-- order_total: double (nullable = true)\n |-- delivery_count: long (nullable = true)"
          ]
        }
      ],
      "execution_count": 43,
      "metadata": {
        "jupyter": {
          "source_hidden": false,
          "outputs_hidden": false
        },
        "nteract": {
          "transient": {
            "deleting": false
          }
        }
      }
    },
    {
      "cell_type": "code",
      "source": [
        "# Display the shapes of the Dataframes\n",
        "\n",
        "print('df_customers:')\n",
        "print((df_customers.count(), len(df_customers.columns)))\n",
        "\n",
        "print('df_orders')\n",
        "print((df_orders.count(), len(df_orders.columns)))\n",
        "\n",
        "print('df_order_docs')\n",
        "print((df_order_docs.count(), len(df_order_docs.columns)))\n"
      ],
      "outputs": [
        {
          "output_type": "display_data",
          "data": {
            "application/vnd.livy.statement-meta+json": {
              "spark_pool": "poolspark3s",
              "session_id": 42,
              "statement_id": 45,
              "state": "finished",
              "livy_statement_state": "available",
              "queued_time": "2021-10-18T21:19:23.8789763Z",
              "session_start_time": null,
              "execution_start_time": "2021-10-18T21:19:57.4510925Z",
              "execution_finish_time": "2021-10-18T21:19:59.2520026Z"
            },
            "text/plain": "StatementMeta(poolspark3s, 42, 45, Finished, Available)"
          },
          "metadata": {}
        },
        {
          "output_type": "stream",
          "name": "stdout",
          "text": [
            "df_customers:\n(100000, 13)\ndf_orders\n(1049182, 21)\ndf_order_docs\n(300000, 21)"
          ]
        }
      ],
      "execution_count": 44,
      "metadata": {
        "jupyter": {
          "source_hidden": false,
          "outputs_hidden": false
        },
        "nteract": {
          "transient": {
            "deleting": false
          }
        }
      }
    },
    {
      "cell_type": "code",
      "source": [
        "# Join the Customers to the Order documents\n",
        "\n",
        "df_joined = df_order_docs.join(df_customers, df_order_docs.customerId == df_customers.customerId, \"inner\")\n",
        "display(df_joined.printSchema())\n",
        "print((df_joined.count(), len(df_joined.columns)))\n"
      ],
      "outputs": [
        {
          "output_type": "display_data",
          "data": {
            "application/vnd.livy.statement-meta+json": {
              "spark_pool": "poolspark3s",
              "session_id": 42,
              "statement_id": 46,
              "state": "finished",
              "livy_statement_state": "available",
              "queued_time": "2021-10-18T21:19:23.9318275Z",
              "session_start_time": null,
              "execution_start_time": "2021-10-18T21:19:59.3903552Z",
              "execution_finish_time": "2021-10-18T21:20:03.331708Z"
            },
            "text/plain": "StatementMeta(poolspark3s, 42, 46, Finished, Available)"
          },
          "metadata": {}
        },
        {
          "output_type": "stream",
          "name": "stdout",
          "text": [
            "root\n |-- _rid: string (nullable = true)\n |-- _ts: long (nullable = true)\n |-- pk: long (nullable = true)\n |-- doctype: string (nullable = true)\n |-- orderId: long (nullable = true)\n |-- lineNumber: long (nullable = true)\n |-- customerId: string (nullable = true)\n |-- sku: long (nullable = true)\n |-- name: string (nullable = true)\n |-- qty: long (nullable = true)\n |-- price: double (nullable = true)\n |-- item_total: double (nullable = true)\n |-- doc_epoch: long (nullable = true)\n |-- doc_time: string (nullable = true)\n |-- id: string (nullable = true)\n |-- _etag: string (nullable = true)\n |-- status: string (nullable = true)\n |-- date_time: string (nullable = true)\n |-- item_count: long (nullable = true)\n |-- order_total: double (nullable = true)\n |-- delivery_count: long (nullable = true)\n |-- _rid: string (nullable = true)\n |-- _ts: long (nullable = true)\n |-- pk: string (nullable = true)\n |-- doctype: string (nullable = true)\n |-- customerId: string (nullable = true)\n |-- name: string (nullable = true)\n |-- first: string (nullable = true)\n |-- last: string (nullable = true)\n |-- address: struct (nullable = true)\n |    |-- street: string (nullable = true)\n |    |-- city: string (nullable = true)\n |    |-- state: string (nullable = true)\n |    |-- zip: string (nullable = true)\n |-- doc_epoch: long (nullable = true)\n |-- doc_time: string (nullable = true)\n |-- id: string (nullable = true)\n |-- _etag: string (nullable = true)\n\n(300000, 34)"
          ]
        }
      ],
      "execution_count": 45,
      "metadata": {
        "jupyter": {
          "source_hidden": false,
          "outputs_hidden": false
        },
        "nteract": {
          "transient": {
            "deleting": false
          }
        }
      }
    }
  ],
  "metadata": {
    "kernelspec": {
      "name": "synapse_pyspark",
      "language": "Python",
      "display_name": "Synapse PySpark"
    },
    "language_info": {
      "name": "python"
    },
    "kernel_info": {
      "name": "synapse_pyspark"
    },
    "save_output": false,
    "synapse_widget": {
      "version": "0.1",
      "state": {
        "cc7d65b8-1c00-4e3e-abd5-0e7e64e1bd89": {
          "type": "Synapse.DataFrame",
          "sync_state": {
            "table": {
              "rows": [
                {
                  "0": "HfwXAN4KYILhFQAAAAAAAA==",
                  "1": "1633525610",
                  "2": "0045540253226",
                  "3": "customer",
                  "4": "0045540253226",
                  "5": "Sara Bullock",
                  "6": "Sara",
                  "7": "Bullock",
                  "8": {
                    "street": "5540 Gilbert Fort Apt. 631",
                    "city": "New Gloriaberg",
                    "state": "MS",
                    "zip": "68685"
                  },
                  "9": "1633525609614",
                  "10": "2021/10/06-13:06:49",
                  "11": "8608b70a-9a35-4dc2-83f7-38ef506bf846",
                  "12": "\"3606bdbb-0000-0100-0000-615d9f690000\""
                },
                {
                  "0": "HfwXAN4KYILiFQAAAAAAAA==",
                  "1": "1633525610",
                  "2": "0061928492421",
                  "3": "customer",
                  "4": "0061928492421",
                  "5": "Robert Webster",
                  "6": "Robert",
                  "7": "Webster",
                  "8": {
                    "street": "84155 Natasha Parks",
                    "city": "Kruegerfort",
                    "state": "FL",
                    "zip": "46097"
                  },
                  "9": "1633525609615",
                  "10": "2021/10/06-13:06:49",
                  "11": "f45d9316-a5c4-4de1-8c91-44fa2b5f6ad5",
                  "12": "\"3606bebb-0000-0100-0000-615d9f690000\""
                },
                {
                  "0": "HfwXAN4KYILjFQAAAAAAAA==",
                  "1": "1633525610",
                  "2": "0093401313220",
                  "3": "customer",
                  "4": "0093401313220",
                  "5": "Amy Brown",
                  "6": "Amy",
                  "7": "Brown",
                  "8": {
                    "street": "4792 David Heights Suite 405",
                    "city": "Jennifermouth",
                    "state": "IL",
                    "zip": "39502"
                  },
                  "9": "1633525609615",
                  "10": "2021/10/06-13:06:49",
                  "11": "5467feb7-a593-4014-866f-1095d7e18751",
                  "12": "\"3606bfbb-0000-0100-0000-615d9f690000\""
                }
              ],
              "schema": [
                {
                  "key": "0",
                  "name": "_rid",
                  "type": "string"
                },
                {
                  "key": "1",
                  "name": "_ts",
                  "type": "bigint"
                },
                {
                  "key": "2",
                  "name": "pk",
                  "type": "string"
                },
                {
                  "key": "3",
                  "name": "doctype",
                  "type": "string"
                },
                {
                  "key": "4",
                  "name": "customerId",
                  "type": "string"
                },
                {
                  "key": "5",
                  "name": "name",
                  "type": "string"
                },
                {
                  "key": "6",
                  "name": "first",
                  "type": "string"
                },
                {
                  "key": "7",
                  "name": "last",
                  "type": "string"
                },
                {
                  "key": "8",
                  "name": "address",
                  "type": "StructType(StructField(street,StringType,true), StructField(city,StringType,true), StructField(state,StringType,true), StructField(zip,StringType,true))"
                },
                {
                  "key": "9",
                  "name": "doc_epoch",
                  "type": "bigint"
                },
                {
                  "key": "10",
                  "name": "doc_time",
                  "type": "string"
                },
                {
                  "key": "11",
                  "name": "id",
                  "type": "string"
                },
                {
                  "key": "12",
                  "name": "_etag",
                  "type": "string"
                }
              ]
            },
            "isSummary": false,
            "language": "scala"
          },
          "persist_state": {
            "view": {
              "type": "details",
              "tableOptions": {},
              "chartOptions": {
                "chartType": "bar",
                "aggregationType": "sum",
                "categoryFieldKeys": [
                  "0"
                ],
                "seriesFieldKeys": [
                  "1"
                ],
                "isStacked": false
              }
            }
          }
        },
        "a7650153-10ac-4096-910f-0346dbadeb63": {
          "type": "Synapse.DataFrame",
          "sync_state": {
            "table": {
              "rows": [
                {
                  "0": "HfwXAItzqDIBAAAAAAAAAA==",
                  "1": "1633525833",
                  "2": "141",
                  "3": "line_item",
                  "4": "141",
                  "5": "1",
                  "6": "0022913205730",
                  "7": "707565834445",
                  "8": "Ebe Men Black Rectangle Half Rim Spring Hinge Eyewear Reading Glasses 2036",
                  "9": "2",
                  "10": "30.99",
                  "11": "61.98",
                  "12": "1633525832238",
                  "13": "2021/10/06-13:10:32",
                  "14": "b78475ed-61db-4a51-931f-c92f23fd35ae",
                  "15": "\"380695a0-0000-0100-0000-615da0490000\""
                },
                {
                  "0": "HfwXAItzqDICAAAAAAAAAA==",
                  "1": "1633525833",
                  "2": "81",
                  "3": "delivery",
                  "4": "81",
                  "5": "1",
                  "6": "0055284476706",
                  "7": "638183215722",
                  "12": "1633525832230",
                  "13": "2021/10/06-13:10:32",
                  "14": "9b6d97da-0ba3-4bc2-b5a9-4e72bdea1da2",
                  "15": "\"380696a0-0000-0100-0000-615da0490000\"",
                  "16": "not shipped"
                },
                {
                  "0": "HfwXAItzqDIDAAAAAAAAAA==",
                  "1": "1633525833",
                  "2": "82",
                  "3": "order",
                  "4": "82",
                  "6": "0077294476408",
                  "12": "1633525832230",
                  "13": "2021/10/06-13:10:32",
                  "14": "6541e58a-2786-4c3a-a510-ca3ac9f89433",
                  "15": "\"380697a0-0000-0100-0000-615da0490000\"",
                  "17": "2021-10-05 16:59:17 +00:00",
                  "18": "1",
                  "19": "171.96",
                  "20": "0"
                }
              ],
              "schema": [
                {
                  "key": "0",
                  "name": "_rid",
                  "type": "string"
                },
                {
                  "key": "1",
                  "name": "_ts",
                  "type": "bigint"
                },
                {
                  "key": "2",
                  "name": "pk",
                  "type": "bigint"
                },
                {
                  "key": "3",
                  "name": "doctype",
                  "type": "string"
                },
                {
                  "key": "4",
                  "name": "orderId",
                  "type": "bigint"
                },
                {
                  "key": "5",
                  "name": "lineNumber",
                  "type": "bigint"
                },
                {
                  "key": "6",
                  "name": "customerId",
                  "type": "string"
                },
                {
                  "key": "7",
                  "name": "sku",
                  "type": "bigint"
                },
                {
                  "key": "8",
                  "name": "name",
                  "type": "string"
                },
                {
                  "key": "9",
                  "name": "qty",
                  "type": "bigint"
                },
                {
                  "key": "10",
                  "name": "price",
                  "type": "double"
                },
                {
                  "key": "11",
                  "name": "item_total",
                  "type": "double"
                },
                {
                  "key": "12",
                  "name": "doc_epoch",
                  "type": "bigint"
                },
                {
                  "key": "13",
                  "name": "doc_time",
                  "type": "string"
                },
                {
                  "key": "14",
                  "name": "id",
                  "type": "string"
                },
                {
                  "key": "15",
                  "name": "_etag",
                  "type": "string"
                },
                {
                  "key": "16",
                  "name": "status",
                  "type": "string"
                },
                {
                  "key": "17",
                  "name": "date_time",
                  "type": "string"
                },
                {
                  "key": "18",
                  "name": "item_count",
                  "type": "bigint"
                },
                {
                  "key": "19",
                  "name": "order_total",
                  "type": "double"
                },
                {
                  "key": "20",
                  "name": "delivery_count",
                  "type": "bigint"
                }
              ]
            },
            "isSummary": false,
            "language": "scala"
          },
          "persist_state": {
            "view": {
              "type": "details",
              "tableOptions": {},
              "chartOptions": {
                "chartType": "bar",
                "aggregationType": "sum",
                "categoryFieldKeys": [
                  "0"
                ],
                "seriesFieldKeys": [
                  "1"
                ],
                "isStacked": false
              }
            }
          }
        },
        "6cd7adae-b2ca-4e30-b4c9-f935065e888b": {
          "type": "Synapse.DataFrame",
          "sync_state": {
            "table": {
              "rows": [
                {
                  "0": "HfwXAItzqDIDAAAAAAAAAA==",
                  "1": "1633525833",
                  "2": "82",
                  "3": "order",
                  "4": "82",
                  "6": "0077294476408",
                  "12": "1633525832230",
                  "13": "2021/10/06-13:10:32",
                  "14": "6541e58a-2786-4c3a-a510-ca3ac9f89433",
                  "15": "\"380697a0-0000-0100-0000-615da0490000\"",
                  "17": "2021-10-05 16:59:17 +00:00",
                  "18": "1",
                  "19": "171.96",
                  "20": "0"
                },
                {
                  "0": "HfwXAItzqDIEAAAAAAAAAA==",
                  "1": "1633525833",
                  "2": "140",
                  "3": "order",
                  "4": "140",
                  "6": "0088587087270",
                  "12": "1633525832238",
                  "13": "2021/10/06-13:10:32",
                  "14": "35c5bdf0-43b9-49a6-aa25-ad7f1f8237b3",
                  "15": "\"380698a0-0000-0100-0000-615da0490000\"",
                  "17": "2021-10-05 16:59:17 +00:00",
                  "18": "2",
                  "19": "3410.64",
                  "20": "0"
                },
                {
                  "0": "HfwXAItzqDIFAAAAAAAAAA==",
                  "1": "1633525833",
                  "2": "83",
                  "3": "order",
                  "4": "83",
                  "6": "0030395879004",
                  "12": "1633525832230",
                  "13": "2021/10/06-13:10:32",
                  "14": "768f578e-e689-4e74-9c53-b645969f72fb",
                  "15": "\"380699a0-0000-0100-0000-615da0490000\"",
                  "17": "2021-10-05 16:59:17 +00:00",
                  "18": "2",
                  "19": "60.95",
                  "20": "0"
                }
              ],
              "schema": [
                {
                  "key": "0",
                  "name": "_rid",
                  "type": "string"
                },
                {
                  "key": "1",
                  "name": "_ts",
                  "type": "bigint"
                },
                {
                  "key": "2",
                  "name": "pk",
                  "type": "bigint"
                },
                {
                  "key": "3",
                  "name": "doctype",
                  "type": "string"
                },
                {
                  "key": "4",
                  "name": "orderId",
                  "type": "bigint"
                },
                {
                  "key": "5",
                  "name": "lineNumber",
                  "type": "bigint"
                },
                {
                  "key": "6",
                  "name": "customerId",
                  "type": "string"
                },
                {
                  "key": "7",
                  "name": "sku",
                  "type": "bigint"
                },
                {
                  "key": "8",
                  "name": "name",
                  "type": "string"
                },
                {
                  "key": "9",
                  "name": "qty",
                  "type": "bigint"
                },
                {
                  "key": "10",
                  "name": "price",
                  "type": "double"
                },
                {
                  "key": "11",
                  "name": "item_total",
                  "type": "double"
                },
                {
                  "key": "12",
                  "name": "doc_epoch",
                  "type": "bigint"
                },
                {
                  "key": "13",
                  "name": "doc_time",
                  "type": "string"
                },
                {
                  "key": "14",
                  "name": "id",
                  "type": "string"
                },
                {
                  "key": "15",
                  "name": "_etag",
                  "type": "string"
                },
                {
                  "key": "16",
                  "name": "status",
                  "type": "string"
                },
                {
                  "key": "17",
                  "name": "date_time",
                  "type": "string"
                },
                {
                  "key": "18",
                  "name": "item_count",
                  "type": "bigint"
                },
                {
                  "key": "19",
                  "name": "order_total",
                  "type": "double"
                },
                {
                  "key": "20",
                  "name": "delivery_count",
                  "type": "bigint"
                }
              ]
            },
            "isSummary": false,
            "language": "scala"
          },
          "persist_state": {
            "view": {
              "type": "details",
              "tableOptions": {},
              "chartOptions": {
                "chartType": "bar",
                "aggregationType": "sum",
                "categoryFieldKeys": [
                  "0"
                ],
                "seriesFieldKeys": [
                  "1"
                ],
                "isStacked": false
              }
            }
          }
        }
      }
    }
  },
  "nbformat": 4,
  "nbformat_minor": 2
}