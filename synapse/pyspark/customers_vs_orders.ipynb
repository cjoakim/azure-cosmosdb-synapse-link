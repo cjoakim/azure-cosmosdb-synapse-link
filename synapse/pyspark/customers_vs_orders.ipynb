{
  "cells": [
    {
      "cell_type": "markdown",
      "source": [
        "# Process the Customers vs Orders Synapse Link Data"
      ],
      "metadata": {
        "nteract": {
          "transient": {
            "deleting": false
          }
        }
      }
    },
    {
      "cell_type": "code",
      "source": [
        "# Load the SynapseLink Customers data into a Dataframe\n",
        "\n",
        "df_customers = spark.read\\\n",
        "    .format(\"cosmos.olap\")\\\n",
        "    .option(\"spark.synapse.linkedService\", \"demoCosmosDB\")\\\n",
        "    .option(\"spark.cosmos.container\", \"customers\")\\\n",
        "    .load()\n",
        "display(df_customers.limit(3))"
      ],
      "outputs": [],
      "execution_count": null,
      "metadata": {
        "collapsed": false
      }
    },
    {
      "cell_type": "code",
      "source": [
        "# Load the SynapseLink Orders data into a Dataframe\n",
        "\n",
        "df_orders = spark.read\\\n",
        "    .format(\"cosmos.olap\")\\\n",
        "    .option(\"spark.synapse.linkedService\", \"demoCosmosDB\")\\\n",
        "    .option(\"spark.cosmos.container\", \"orders\")\\\n",
        "    .load()\n",
        "display(df_orders.limit(3))"
      ],
      "outputs": [],
      "execution_count": null,
      "metadata": {
        "jupyter": {
          "source_hidden": false,
          "outputs_hidden": false
        },
        "nteract": {
          "transient": {
            "deleting": false
          }
        },
        "collapsed": false
      }
    },
    {
      "cell_type": "code",
      "source": [
        "# Select just the doctype == 'orders' from the Orders Dataframe\n",
        "# Exclude the line_item and delivery document types\n",
        "\n",
        "df_order_docs = df_orders.filter(df_orders[\"doctype\"].isin([\"order\"]))\n",
        "display(df_order_docs.limit(3))"
      ],
      "outputs": [],
      "execution_count": null,
      "metadata": {
        "jupyter": {
          "source_hidden": false,
          "outputs_hidden": false
        },
        "nteract": {
          "transient": {
            "deleting": false
          }
        },
        "collapsed": false
      }
    },
    {
      "cell_type": "code",
      "source": [
        "# Display the Observed Schemas of the Dataframes\n",
        "\n",
        "print('=== df_customers')\n",
        "df_customers.printSchema()\n",
        "\n",
        "print('=== df_orders')\n",
        "df_orders.printSchema()\n",
        "\n",
        "print('=== df_order_docs')\n",
        "display(df_order_docs.printSchema())\n"
      ],
      "outputs": [],
      "execution_count": null,
      "metadata": {
        "jupyter": {
          "source_hidden": false,
          "outputs_hidden": false
        },
        "nteract": {
          "transient": {
            "deleting": false
          }
        }
      }
    },
    {
      "cell_type": "code",
      "source": [
        "# Display the shapes of the Dataframes\n",
        "\n",
        "print('df_customers:')\n",
        "print((df_customers.count(), len(df_customers.columns)))\n",
        "\n",
        "print('df_orders')\n",
        "print((df_orders.count(), len(df_orders.columns)))\n",
        "\n",
        "print('df_order_docs')\n",
        "print((df_order_docs.count(), len(df_order_docs.columns)))\n"
      ],
      "outputs": [],
      "execution_count": null,
      "metadata": {
        "jupyter": {
          "source_hidden": false,
          "outputs_hidden": false
        },
        "nteract": {
          "transient": {
            "deleting": false
          }
        }
      }
    },
    {
      "cell_type": "code",
      "source": [
        "# Create Minimal Dataframes for Join operation \n",
        "\n",
        "from pyspark.sql.functions import col\n",
        "\n",
        "df_customers_minimal = df_customers.select(\n",
        "    col('customerId'),\n",
        "    col('name'))\n",
        "\n",
        "print('df_customers_minimal')\n",
        "display(df_customers_minimal.printSchema())\n",
        "print((df_customers_minimal.count(), len(df_customers_minimal.columns)))\n",
        "\n",
        "df_orders_minimal = df_order_docs.select(\n",
        "    col('orderId'),\n",
        "    col('customerId'),\n",
        "    col('item_count'),\n",
        "    col('order_total'))\n",
        "\n",
        "print('df_orders_minimal')\n",
        "display(df_orders_minimal.printSchema())\n",
        "print((df_orders_minimal.count(), len(df_orders_minimal.columns)))"
      ],
      "outputs": [
        {
          "output_type": "display_data",
          "data": {
            "application/vnd.livy.statement-meta+json": {
              "spark_pool": "poolspark3s",
              "session_id": 42,
              "statement_id": 85,
              "state": "finished",
              "livy_statement_state": "available",
              "queued_time": "2021-10-18T22:08:12.9297753Z",
              "session_start_time": null,
              "execution_start_time": "2021-10-18T22:08:13.08156Z",
              "execution_finish_time": "2021-10-18T22:08:14.9084429Z"
            },
            "text/plain": "StatementMeta(poolspark3s, 42, 85, Finished, Available)"
          },
          "metadata": {}
        },
        {
          "output_type": "stream",
          "name": "stdout",
          "text": [
            "df_customers_minimal\nroot\n |-- customerId: string (nullable = true)\n |-- name: string (nullable = true)\n\n(100000, 2)\ndf_orders_minimal\nroot\n |-- orderId: long (nullable = true)\n |-- customerId: string (nullable = true)\n |-- item_count: long (nullable = true)\n |-- order_total: double (nullable = true)\n\n(300000, 4)"
          ]
        }
      ],
      "execution_count": 84,
      "metadata": {
        "jupyter": {
          "source_hidden": false,
          "outputs_hidden": false
        },
        "nteract": {
          "transient": {
            "deleting": false
          }
        }
      }
    },
    {
      "cell_type": "code",
      "source": [
        "# Join the Customers to their Order documents\n",
        "\n",
        "df_joined = df_orders_minimal.join(df_customers_minimal, ['customerId'])\n",
        "\n",
        "display(df_joined.printSchema())\n",
        "print((df_joined.count(), len(df_joined.columns)))\n"
      ],
      "outputs": [
        {
          "output_type": "display_data",
          "data": {
            "application/vnd.livy.statement-meta+json": {
              "spark_pool": "poolspark3s",
              "session_id": 42,
              "statement_id": 86,
              "state": "finished",
              "livy_statement_state": "available",
              "queued_time": "2021-10-18T22:08:35.9069092Z",
              "session_start_time": null,
              "execution_start_time": "2021-10-18T22:08:36.0256093Z",
              "execution_finish_time": "2021-10-18T22:08:38.8017808Z"
            },
            "text/plain": "StatementMeta(poolspark3s, 42, 86, Finished, Available)"
          },
          "metadata": {}
        },
        {
          "output_type": "stream",
          "name": "stdout",
          "text": [
            "root\n |-- customerId: string (nullable = true)\n |-- orderId: long (nullable = true)\n |-- item_count: long (nullable = true)\n |-- order_total: double (nullable = true)\n |-- name: string (nullable = true)\n\n(300000, 5)"
          ]
        }
      ],
      "execution_count": 85,
      "metadata": {
        "jupyter": {
          "source_hidden": false,
          "outputs_hidden": false
        },
        "nteract": {
          "transient": {
            "deleting": false
          }
        }
      }
    },
    {
      "cell_type": "code",
      "source": [
        "display(df_joined.limit(30))"
      ],
      "outputs": [
        {
          "output_type": "display_data",
          "data": {
            "application/vnd.livy.statement-meta+json": {
              "spark_pool": "poolspark3s",
              "session_id": 42,
              "statement_id": 87,
              "state": "finished",
              "livy_statement_state": "available",
              "queued_time": "2021-10-18T22:08:42.0547374Z",
              "session_start_time": null,
              "execution_start_time": "2021-10-18T22:08:42.1744829Z",
              "execution_finish_time": "2021-10-18T22:08:44.9610128Z"
            },
            "text/plain": "StatementMeta(poolspark3s, 42, 87, Finished, Available)"
          },
          "metadata": {}
        },
        {
          "output_type": "display_data",
          "data": {
            "application/vnd.synapse.widget-view+json": {
              "widget_id": "5bff4a2b-6177-4810-8117-a4d5d460d643",
              "widget_type": "Synapse.DataFrame"
            },
            "text/plain": "SynapseWidget(Synapse.DataFrame, 5bff4a2b-6177-4810-8117-a4d5d460d643)"
          },
          "metadata": {}
        }
      ],
      "execution_count": 86,
      "metadata": {
        "jupyter": {
          "source_hidden": false,
          "outputs_hidden": false
        },
        "nteract": {
          "transient": {
            "deleting": false
          }
        },
        "collapsed": false
      }
    },
    {
      "cell_type": "code",
      "source": [
        "\n",
        "\n",
        "df_grouped = df_joined.groupby(\"customerId\").sum(\"order_total\").alias('total_orders')\n",
        "\n",
        "display(df_grouped.printSchema())\n",
        "print((df_grouped.count(), len(df_grouped.columns)))\n",
        "\n"
      ],
      "outputs": [],
      "execution_count": null,
      "metadata": {
        "jupyter": {
          "source_hidden": false,
          "outputs_hidden": false
        },
        "nteract": {
          "transient": {
            "deleting": false
          }
        }
      }
    },
    {
      "cell_type": "code",
      "source": [
        "import pyspark.sql.functions as F \n",
        "\n",
        "df_agg = df_joined.groupBy(\"customerId\") \\\n",
        "    .agg(\n",
        "        F.count(\"customerId\").alias('order_count'), \\\n",
        "        F.sum(\"order_total\").alias(\"total_dollar_amount\"), \\\n",
        "        F.sum(\"item_count\").alias(\"total_item_count\"))\n",
        "\n",
        "display(df_agg.printSchema())\n",
        "print((df_agg.count(), len(df_agg.columns)))"
      ],
      "outputs": [
        {
          "output_type": "display_data",
          "data": {
            "application/vnd.livy.statement-meta+json": {
              "spark_pool": "poolspark3s",
              "session_id": 42,
              "statement_id": 104,
              "state": "finished",
              "livy_statement_state": "available",
              "queued_time": "2021-10-18T22:35:41.6016116Z",
              "session_start_time": null,
              "execution_start_time": "2021-10-18T22:35:41.7169456Z",
              "execution_finish_time": "2021-10-18T22:35:50.861371Z"
            },
            "text/plain": "StatementMeta(poolspark3s, 42, 104, Finished, Available)"
          },
          "metadata": {}
        },
        {
          "output_type": "stream",
          "name": "stdout",
          "text": [
            "root\n |-- customerId: string (nullable = true)\n |-- order_count: long (nullable = false)\n |-- total_dollar_amount: double (nullable = true)\n |-- total_item_count: long (nullable = true)\n\n(95119, 4)"
          ]
        }
      ],
      "execution_count": 104,
      "metadata": {
        "jupyter": {
          "source_hidden": false,
          "outputs_hidden": false
        },
        "nteract": {
          "transient": {
            "deleting": false
          }
        }
      }
    },
    {
      "cell_type": "code",
      "source": [
        "display(df_agg.limit(30))"
      ],
      "outputs": [
        {
          "output_type": "display_data",
          "data": {
            "application/vnd.livy.statement-meta+json": {
              "spark_pool": "poolspark3s",
              "session_id": 42,
              "statement_id": 105,
              "state": "finished",
              "livy_statement_state": "available",
              "queued_time": "2021-10-18T22:35:57.9130088Z",
              "session_start_time": null,
              "execution_start_time": "2021-10-18T22:35:58.0301366Z",
              "execution_finish_time": "2021-10-18T22:36:05.9382219Z"
            },
            "text/plain": "StatementMeta(poolspark3s, 42, 105, Finished, Available)"
          },
          "metadata": {}
        },
        {
          "output_type": "display_data",
          "data": {
            "application/vnd.synapse.widget-view+json": {
              "widget_id": "5b68980c-d122-4471-b009-9c0ff5aba167",
              "widget_type": "Synapse.DataFrame"
            },
            "text/plain": "SynapseWidget(Synapse.DataFrame, 5b68980c-d122-4471-b009-9c0ff5aba167)"
          },
          "metadata": {}
        }
      ],
      "execution_count": 105,
      "metadata": {
        "jupyter": {
          "source_hidden": false,
          "outputs_hidden": false
        },
        "nteract": {
          "transient": {
            "deleting": false
          }
        },
        "collapsed": false
      }
    },
    {
      "cell_type": "code",
      "source": [
        "import pyspark.sql.functions as F \n",
        "\n",
        "df_agg2 = df_joined.groupBy(\"customerId\").agg(\n",
        "    {\"order_total\": \"sum\", \"item_count\": \"sum\", \"customerId\":\"count\"})\n",
        "display(df_agg2.printSchema())\n",
        "print((df_agg2.count(), len(df_agg2.columns)))"
      ],
      "outputs": [
        {
          "output_type": "display_data",
          "data": {
            "application/vnd.livy.statement-meta+json": {
              "spark_pool": "poolspark3s",
              "session_id": 42,
              "statement_id": 99,
              "state": "finished",
              "livy_statement_state": "available",
              "queued_time": "2021-10-18T22:28:13.0830027Z",
              "session_start_time": null,
              "execution_start_time": "2021-10-18T22:28:13.217042Z",
              "execution_finish_time": "2021-10-18T22:28:18.5002144Z"
            },
            "text/plain": "StatementMeta(poolspark3s, 42, 99, Finished, Available)"
          },
          "metadata": {}
        },
        {
          "output_type": "stream",
          "name": "stdout",
          "text": [
            "root\n |-- customerId: string (nullable = true)\n |-- sum(item_count): long (nullable = true)\n |-- count(customerId): long (nullable = false)\n |-- sum(order_total): double (nullable = true)\n\n(95119, 4)"
          ]
        }
      ],
      "execution_count": 99,
      "metadata": {
        "jupyter": {
          "source_hidden": false,
          "outputs_hidden": false
        },
        "nteract": {
          "transient": {
            "deleting": false
          }
        }
      }
    },
    {
      "cell_type": "code",
      "source": [
        "display(df_agg2.limit(30))"
      ],
      "outputs": [
        {
          "output_type": "display_data",
          "data": {
            "application/vnd.livy.statement-meta+json": {
              "spark_pool": "poolspark3s",
              "session_id": 42,
              "statement_id": 101,
              "state": "finished",
              "livy_statement_state": "available",
              "queued_time": "2021-10-18T22:28:45.080161Z",
              "session_start_time": null,
              "execution_start_time": "2021-10-18T22:28:47.0818961Z",
              "execution_finish_time": "2021-10-18T22:28:47.5749069Z"
            },
            "text/plain": "StatementMeta(poolspark3s, 42, 101, Finished, Available)"
          },
          "metadata": {}
        },
        {
          "output_type": "display_data",
          "data": {
            "application/vnd.synapse.widget-view+json": {
              "widget_id": "f06ed022-96f5-4fd5-9ff5-ca8b47850d52",
              "widget_type": "Synapse.DataFrame"
            },
            "text/plain": "SynapseWidget(Synapse.DataFrame, f06ed022-96f5-4fd5-9ff5-ca8b47850d52)"
          },
          "metadata": {}
        }
      ],
      "execution_count": 101,
      "metadata": {
        "jupyter": {
          "source_hidden": false,
          "outputs_hidden": false
        },
        "nteract": {
          "transient": {
            "deleting": false
          }
        },
        "collapsed": false
      }
    },
    {
      "cell_type": "code",
      "source": [],
      "outputs": [],
      "execution_count": null,
      "metadata": {
        "jupyter": {
          "source_hidden": false,
          "outputs_hidden": false
        },
        "nteract": {
          "transient": {
            "deleting": false
          }
        }
      }
    }
  ],
  "metadata": {
    "kernelspec": {
      "name": "synapse_pyspark",
      "language": "Python",
      "display_name": "Synapse PySpark"
    },
    "language_info": {
      "name": "python"
    },
    "kernel_info": {
      "name": "synapse_pyspark"
    },
    "save_output": false,
    "synapse_widget": {
      "version": "0.1",
      "state": {
        "5bff4a2b-6177-4810-8117-a4d5d460d643": {
          "type": "Synapse.DataFrame",
          "sync_state": {
            "table": {
              "rows": [
                {
                  "0": "0077294476408",
                  "1": "82",
                  "2": "1",
                  "3": "171.96",
                  "4": "Matthew Khan"
                },
                {
                  "0": "0088587087270",
                  "1": "140",
                  "2": "2",
                  "3": "3410.64",
                  "4": "Jennifer Petty"
                },
                {
                  "0": "0030395879004",
                  "1": "83",
                  "2": "2",
                  "3": "60.95",
                  "4": "Barbara Hernandez"
                },
                {
                  "0": "0074667197816",
                  "1": "86",
                  "2": "2",
                  "3": "647.21",
                  "4": "John Villa"
                },
                {
                  "0": "0084089326305",
                  "1": "80",
                  "2": "2",
                  "3": "455.64",
                  "4": "Patrick Medina"
                },
                {
                  "0": "0067518618325",
                  "1": "84",
                  "2": "2",
                  "3": "380.96",
                  "4": "Brett Johnson"
                },
                {
                  "0": "0001390074800",
                  "1": "131",
                  "2": "2",
                  "3": "1039.94",
                  "4": "Veronica Calhoun"
                },
                {
                  "0": "0006669662542",
                  "1": "87",
                  "2": "2",
                  "3": "30.96",
                  "4": "Stephen Stewart"
                },
                {
                  "0": "0000852453276",
                  "1": "85",
                  "2": "1",
                  "3": "898.2",
                  "4": "Kyle Chen"
                },
                {
                  "0": "0032839701599",
                  "1": "132",
                  "2": "3",
                  "3": "2184.95",
                  "4": "Nicholas Martin"
                },
                {
                  "0": "0045983560066",
                  "1": "90",
                  "2": "3",
                  "3": "341.38",
                  "4": "Sarah Carpenter"
                },
                {
                  "0": "0082953124248",
                  "1": "89",
                  "2": "3",
                  "3": "281.74",
                  "4": "Brian Frazier"
                },
                {
                  "0": "0024772209133",
                  "1": "91",
                  "2": "3",
                  "3": "1150.82",
                  "4": "Jonathan Mejia"
                },
                {
                  "0": "0087304321574",
                  "1": "88",
                  "2": "1",
                  "3": "351.92",
                  "4": "Mindy Chang"
                },
                {
                  "0": "0060456738537",
                  "1": "93",
                  "2": "3",
                  "3": "264.26",
                  "4": "David Fitzpatrick"
                },
                {
                  "0": "0044423678033",
                  "1": "92",
                  "2": "1",
                  "3": "87.98",
                  "4": "Franklin Hoffman"
                },
                {
                  "0": "0087104443643",
                  "1": "79",
                  "2": "2",
                  "3": "978.93",
                  "4": "Anna Zhang"
                },
                {
                  "0": "0003026774221",
                  "1": "139",
                  "2": "2",
                  "3": "39.77",
                  "4": "Elizabeth Townsend"
                },
                {
                  "0": "0053968246744",
                  "1": "94",
                  "2": "1",
                  "3": "116.97",
                  "4": "John Mcmahon"
                },
                {
                  "0": "0055284476706",
                  "1": "81",
                  "2": "1",
                  "3": "62.74",
                  "4": "Tracy Ho"
                },
                {
                  "0": "0045000950634",
                  "1": "98",
                  "2": "1",
                  "3": "58.36",
                  "4": "Geoffrey Tucker"
                },
                {
                  "0": "0051743496339",
                  "1": "96",
                  "2": "1",
                  "3": "760.0",
                  "4": "Kimberly Gentry"
                },
                {
                  "0": "0033546866809",
                  "1": "95",
                  "2": "3",
                  "3": "425.69",
                  "4": "Jon Gross"
                },
                {
                  "0": "0073798506405",
                  "1": "97",
                  "2": "2",
                  "3": "28.94",
                  "4": "Lori English"
                },
                {
                  "0": "0092186101466",
                  "1": "100",
                  "2": "3",
                  "3": "1243.11",
                  "4": "Jason Kramer"
                },
                {
                  "0": "0076778717372",
                  "1": "99",
                  "2": "2",
                  "3": "227.59",
                  "4": "Cheryl Elliott"
                },
                {
                  "0": "0089495636871",
                  "1": "101",
                  "2": "1",
                  "3": "295.96",
                  "4": "Kayla Hill"
                },
                {
                  "0": "0093445036338",
                  "1": "102",
                  "2": "3",
                  "3": "367.51",
                  "4": "Tyrone Williams"
                },
                {
                  "0": "0027871221549",
                  "1": "103",
                  "2": "1",
                  "3": "63.96",
                  "4": "Timothy Perez"
                },
                {
                  "0": "0047704262334",
                  "1": "105",
                  "2": "3",
                  "3": "252.32",
                  "4": "Jesse Berry"
                }
              ],
              "schema": [
                {
                  "key": "0",
                  "name": "customerId",
                  "type": "string"
                },
                {
                  "key": "1",
                  "name": "orderId",
                  "type": "bigint"
                },
                {
                  "key": "2",
                  "name": "item_count",
                  "type": "bigint"
                },
                {
                  "key": "3",
                  "name": "order_total",
                  "type": "double"
                },
                {
                  "key": "4",
                  "name": "name",
                  "type": "string"
                }
              ]
            },
            "isSummary": false,
            "language": "scala"
          },
          "persist_state": {
            "view": {
              "type": "details",
              "tableOptions": {},
              "chartOptions": {
                "chartType": "bar",
                "aggregationType": "sum",
                "categoryFieldKeys": [
                  "0"
                ],
                "seriesFieldKeys": [
                  "1"
                ],
                "isStacked": false
              }
            }
          }
        },
        "f06ed022-96f5-4fd5-9ff5-ca8b47850d52": {
          "type": "Synapse.DataFrame",
          "sync_state": {
            "table": {
              "rows": [
                {
                  "0": "0077294476408",
                  "1": "8",
                  "2": "5",
                  "3": "1120.0900000000001"
                },
                {
                  "0": "0088587087270",
                  "1": "4",
                  "2": "2",
                  "3": "3540.47"
                },
                {
                  "0": "0030395879004",
                  "1": "4",
                  "2": "2",
                  "3": "186.0"
                },
                {
                  "0": "0074667197816",
                  "1": "14",
                  "2": "6",
                  "3": "2448.64"
                },
                {
                  "0": "0084089326305",
                  "1": "10",
                  "2": "5",
                  "3": "2150.68"
                },
                {
                  "0": "0067518618325",
                  "1": "8",
                  "2": "3",
                  "3": "699.85"
                },
                {
                  "0": "0001390074800",
                  "1": "10",
                  "2": "4",
                  "3": "2239.52"
                },
                {
                  "0": "0006669662542",
                  "1": "7",
                  "2": "4",
                  "3": "1531.5700000000002"
                },
                {
                  "0": "0000852453276",
                  "1": "11",
                  "2": "5",
                  "3": "2423.16"
                },
                {
                  "0": "0032839701599",
                  "1": "8",
                  "2": "3",
                  "3": "3795.3199999999997"
                },
                {
                  "0": "0045983560066",
                  "1": "6",
                  "2": "2",
                  "3": "1557.08"
                },
                {
                  "0": "0082953124248",
                  "1": "5",
                  "2": "2",
                  "3": "431.65999999999997"
                },
                {
                  "0": "0024772209133",
                  "1": "12",
                  "2": "5",
                  "3": "3972.5299999999997"
                },
                {
                  "0": "0087304321574",
                  "1": "14",
                  "2": "6",
                  "3": "1310.58"
                },
                {
                  "0": "0060456738537",
                  "1": "19",
                  "2": "7",
                  "3": "1704.0200000000002"
                },
                {
                  "0": "0044423678033",
                  "1": "8",
                  "2": "4",
                  "3": "1307.18"
                },
                {
                  "0": "0087104443643",
                  "1": "8",
                  "2": "3",
                  "3": "2302.27"
                },
                {
                  "0": "0003026774221",
                  "1": "5",
                  "2": "3",
                  "3": "328.68"
                },
                {
                  "0": "0053968246744",
                  "1": "11",
                  "2": "6",
                  "3": "1414.88"
                },
                {
                  "0": "0055284476706",
                  "1": "8",
                  "2": "5",
                  "3": "523.1200000000001"
                },
                {
                  "0": "0045000950634",
                  "1": "9",
                  "2": "5",
                  "3": "765.87"
                },
                {
                  "0": "0051743496339",
                  "1": "12",
                  "2": "6",
                  "3": "2528.4"
                },
                {
                  "0": "0033546866809",
                  "1": "8",
                  "2": "3",
                  "3": "876.45"
                },
                {
                  "0": "0073798506405",
                  "1": "3",
                  "2": "2",
                  "3": "57.93"
                },
                {
                  "0": "0092186101466",
                  "1": "10",
                  "2": "5",
                  "3": "2025.23"
                },
                {
                  "0": "0076778717372",
                  "1": "10",
                  "2": "4",
                  "3": "1060.05"
                },
                {
                  "0": "0089495636871",
                  "1": "20",
                  "2": "10",
                  "3": "5801.4"
                },
                {
                  "0": "0093445036338",
                  "1": "3",
                  "2": "1",
                  "3": "367.51"
                },
                {
                  "0": "0027871221549",
                  "1": "11",
                  "2": "5",
                  "3": "1312.94"
                },
                {
                  "0": "0047704262334",
                  "1": "6",
                  "2": "3",
                  "3": "1045.14"
                }
              ],
              "schema": [
                {
                  "key": "0",
                  "name": "customerId",
                  "type": "string"
                },
                {
                  "key": "1",
                  "name": "sum(item_count)",
                  "type": "bigint"
                },
                {
                  "key": "2",
                  "name": "count(customerId)",
                  "type": "bigint"
                },
                {
                  "key": "3",
                  "name": "sum(order_total)",
                  "type": "double"
                }
              ]
            },
            "isSummary": false,
            "language": "scala"
          },
          "persist_state": {
            "view": {
              "type": "details",
              "tableOptions": {},
              "chartOptions": {
                "chartType": "bar",
                "aggregationType": "sum",
                "categoryFieldKeys": [
                  "0"
                ],
                "seriesFieldKeys": [
                  "1"
                ],
                "isStacked": false
              }
            }
          }
        },
        "5b68980c-d122-4471-b009-9c0ff5aba167": {
          "type": "Synapse.DataFrame",
          "sync_state": {
            "table": {
              "rows": [
                {
                  "0": "0077294476408",
                  "1": "5",
                  "2": "1120.0900000000001",
                  "3": "8"
                },
                {
                  "0": "0088587087270",
                  "1": "2",
                  "2": "3540.47",
                  "3": "4"
                },
                {
                  "0": "0030395879004",
                  "1": "2",
                  "2": "186.0",
                  "3": "4"
                },
                {
                  "0": "0074667197816",
                  "1": "6",
                  "2": "2448.64",
                  "3": "14"
                },
                {
                  "0": "0084089326305",
                  "1": "5",
                  "2": "2150.68",
                  "3": "10"
                },
                {
                  "0": "0067518618325",
                  "1": "3",
                  "2": "699.85",
                  "3": "8"
                },
                {
                  "0": "0001390074800",
                  "1": "4",
                  "2": "2239.52",
                  "3": "10"
                },
                {
                  "0": "0006669662542",
                  "1": "4",
                  "2": "1531.5700000000002",
                  "3": "7"
                },
                {
                  "0": "0000852453276",
                  "1": "5",
                  "2": "2423.16",
                  "3": "11"
                },
                {
                  "0": "0032839701599",
                  "1": "3",
                  "2": "3795.3199999999997",
                  "3": "8"
                },
                {
                  "0": "0045983560066",
                  "1": "2",
                  "2": "1557.08",
                  "3": "6"
                },
                {
                  "0": "0082953124248",
                  "1": "2",
                  "2": "431.65999999999997",
                  "3": "5"
                },
                {
                  "0": "0024772209133",
                  "1": "5",
                  "2": "3972.5299999999997",
                  "3": "12"
                },
                {
                  "0": "0087304321574",
                  "1": "6",
                  "2": "1310.58",
                  "3": "14"
                },
                {
                  "0": "0060456738537",
                  "1": "7",
                  "2": "1704.0200000000002",
                  "3": "19"
                },
                {
                  "0": "0044423678033",
                  "1": "4",
                  "2": "1307.18",
                  "3": "8"
                },
                {
                  "0": "0087104443643",
                  "1": "3",
                  "2": "2302.27",
                  "3": "8"
                },
                {
                  "0": "0003026774221",
                  "1": "3",
                  "2": "328.68",
                  "3": "5"
                },
                {
                  "0": "0053968246744",
                  "1": "6",
                  "2": "1414.88",
                  "3": "11"
                },
                {
                  "0": "0055284476706",
                  "1": "5",
                  "2": "523.1200000000001",
                  "3": "8"
                },
                {
                  "0": "0045000950634",
                  "1": "5",
                  "2": "765.87",
                  "3": "9"
                },
                {
                  "0": "0051743496339",
                  "1": "6",
                  "2": "2528.4",
                  "3": "12"
                },
                {
                  "0": "0033546866809",
                  "1": "3",
                  "2": "876.45",
                  "3": "8"
                },
                {
                  "0": "0073798506405",
                  "1": "2",
                  "2": "57.93",
                  "3": "3"
                },
                {
                  "0": "0092186101466",
                  "1": "5",
                  "2": "2025.23",
                  "3": "10"
                },
                {
                  "0": "0076778717372",
                  "1": "4",
                  "2": "1060.05",
                  "3": "10"
                },
                {
                  "0": "0089495636871",
                  "1": "10",
                  "2": "5801.4",
                  "3": "20"
                },
                {
                  "0": "0093445036338",
                  "1": "1",
                  "2": "367.51",
                  "3": "3"
                },
                {
                  "0": "0027871221549",
                  "1": "5",
                  "2": "1312.94",
                  "3": "11"
                },
                {
                  "0": "0047704262334",
                  "1": "3",
                  "2": "1045.14",
                  "3": "6"
                }
              ],
              "schema": [
                {
                  "key": "0",
                  "name": "customerId",
                  "type": "string"
                },
                {
                  "key": "1",
                  "name": "order_count",
                  "type": "bigint"
                },
                {
                  "key": "2",
                  "name": "total_dollar_amount",
                  "type": "double"
                },
                {
                  "key": "3",
                  "name": "total_item_count",
                  "type": "bigint"
                }
              ]
            },
            "isSummary": false,
            "language": "scala"
          },
          "persist_state": {
            "view": {
              "type": "details",
              "tableOptions": {},
              "chartOptions": {
                "chartType": "bar",
                "aggregationType": "sum",
                "categoryFieldKeys": [
                  "0"
                ],
                "seriesFieldKeys": [
                  "1"
                ],
                "isStacked": false
              }
            }
          }
        }
      }
    }
  },
  "nbformat": 4,
  "nbformat_minor": 2
}