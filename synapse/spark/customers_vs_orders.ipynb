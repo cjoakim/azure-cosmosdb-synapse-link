{
  "cells": [
    {
      "cell_type": "markdown",
      "source": [
        "# Process the Customers vs Orders Synapse Link Data"
      ],
      "metadata": {
        "nteract": {
          "transient": {
            "deleting": false
          }
        }
      }
    },
    {
      "cell_type": "code",
      "source": [
        "# Load the SynapseLink Customers and Orders SynapseLink Data into a Dataframes.\n",
        "\n",
        "from pyspark.sql.functions import col\n",
        "\n",
        "# initialize variables\n",
        "use_push_down_predicate = True\n",
        "df_orders, df_order_docs = None, None\n",
        "min_timestamp = 1635168000\n",
        "\n",
        "# read the customers SynapseLink data\n",
        "df_customers = spark.read\\\n",
        "    .format(\"cosmos.olap\")\\\n",
        "    .option(\"spark.synapse.linkedService\", \"demoCosmosDB\")\\\n",
        "    .option(\"spark.cosmos.container\", \"customers\")\\\n",
        "    .load().filter(col(\"_ts\") > min_timestamp)\n",
        "\n",
        "\n",
        "if use_push_down_predicate == True:\n",
        "    # this is more efficient, as the dataframe is filtered on load\n",
        "    df_order_docs = spark.read\\\n",
        "        .format(\"cosmos.olap\")\\\n",
        "        .option(\"spark.synapse.linkedService\", \"demoCosmosDB\")\\\n",
        "        .option(\"spark.cosmos.container\", \"orders\")\\\n",
        "        .load().filter(col(\"doctype\") == \"order\").filter(col(\"_ts\") > min_timestamp) \n",
        "        # push-down predicate filters on doctype and _ts \n",
        "else:\n",
        "    # this is less efficient, as the dataframe is filtered after load\n",
        "    df_orders = spark.read\\\n",
        "        .format(\"cosmos.olap\")\\\n",
        "        .option(\"spark.synapse.linkedService\", \"demoCosmosDB\")\\\n",
        "        .option(\"spark.cosmos.container\", \"orders\")\\\n",
        "        .load()\n",
        "\n",
        "    print('df_orders, shape: {} x {}'.format(\n",
        "        df_orders.count(), len(df_orders.columns)))\n",
        "    df_orders.printSchema()\n",
        "\n",
        "    df_order_docs = df_orders.filter(df_orders[\"doctype\"].isin([\"order\"]))\n",
        "\n",
        "print('df_customers, shape: {} x {}'.format(\n",
        "        df_customers.count(), len(df_customers.columns)))\n",
        "df_customers.printSchema()\n",
        "\n",
        "print('df_order_docs, shape: {} x {}'.format(\n",
        "        df_order_docs.count(), len(df_order_docs.columns)))\n",
        "\n",
        "# df_orders, shape: 4199812 x 26\n",
        "# df_order_docs, shape: 1200000 x 26\n",
        "# df_order_docs, shape: 300000 x 26"
      ],
      "outputs": [
        {
          "output_type": "display_data",
          "data": {
            "application/vnd.livy.statement-meta+json": {
              "spark_pool": "poolspark3s",
              "session_id": 55,
              "statement_id": 15,
              "state": "finished",
              "livy_statement_state": "available",
              "queued_time": "2021-10-25T20:07:07.7334531Z",
              "session_start_time": null,
              "execution_start_time": "2021-10-25T20:07:07.92563Z",
              "execution_finish_time": "2021-10-25T20:07:13.2628018Z"
            },
            "text/plain": "StatementMeta(poolspark3s, 55, 15, Finished, Available)"
          },
          "metadata": {}
        },
        {
          "output_type": "stream",
          "name": "stdout",
          "text": [
            "df_customers, shape: 100000 x 13\nroot\n |-- _rid: string (nullable = true)\n |-- _ts: long (nullable = true)\n |-- id: string (nullable = true)\n |-- pk: string (nullable = true)\n |-- doctype: string (nullable = true)\n |-- customer_id: string (nullable = true)\n |-- name: string (nullable = true)\n |-- first: string (nullable = true)\n |-- last: string (nullable = true)\n |-- address: struct (nullable = true)\n |    |-- street: string (nullable = true)\n |    |-- city: string (nullable = true)\n |    |-- state: string (nullable = true)\n |    |-- zip: string (nullable = true)\n |-- doc_epoch: long (nullable = true)\n |-- doc_time: string (nullable = true)\n |-- _etag: string (nullable = true)\n\ndf_order_docs, shape: 300000 x 22"
          ]
        }
      ],
      "execution_count": 15,
      "metadata": {
        "collapsed": false
      }
    },
    {
      "cell_type": "code",
      "source": [
        "# Display the first few rows of the df_customers Dataframe\n",
        "\n",
        "display(df_customers.limit(3))\n"
      ],
      "outputs": [
        {
          "output_type": "display_data",
          "data": {
            "application/vnd.livy.statement-meta+json": {
              "spark_pool": "poolspark3s",
              "session_id": 55,
              "statement_id": 16,
              "state": "finished",
              "livy_statement_state": "available",
              "queued_time": "2021-10-25T20:07:07.774633Z",
              "session_start_time": null,
              "execution_start_time": "2021-10-25T20:07:13.3549125Z",
              "execution_finish_time": "2021-10-25T20:07:14.4191693Z"
            },
            "text/plain": "StatementMeta(poolspark3s, 55, 16, Finished, Available)"
          },
          "metadata": {}
        },
        {
          "output_type": "display_data",
          "data": {
            "application/vnd.synapse.widget-view+json": {
              "widget_id": "053a91ff-826d-48da-9c5a-cf7c9f0e383c",
              "widget_type": "Synapse.DataFrame"
            },
            "text/plain": "SynapseWidget(Synapse.DataFrame, 053a91ff-826d-48da-9c5a-cf7c9f0e383c)"
          },
          "metadata": {}
        }
      ],
      "execution_count": 16,
      "metadata": {
        "jupyter": {
          "source_hidden": false,
          "outputs_hidden": false
        },
        "nteract": {
          "transient": {
            "deleting": false
          }
        },
        "collapsed": false
      }
    },
    {
      "cell_type": "code",
      "source": [
        "# Display the first few rows of the df_order_docs Dataframe\n",
        "\n",
        "display(df_order_docs.limit(3))"
      ],
      "outputs": [
        {
          "output_type": "display_data",
          "data": {
            "application/vnd.livy.statement-meta+json": {
              "spark_pool": "poolspark3s",
              "session_id": 55,
              "statement_id": 17,
              "state": "finished",
              "livy_statement_state": "available",
              "queued_time": "2021-10-25T20:07:07.8308917Z",
              "session_start_time": null,
              "execution_start_time": "2021-10-25T20:07:14.5283859Z",
              "execution_finish_time": "2021-10-25T20:07:17.3067506Z"
            },
            "text/plain": "StatementMeta(poolspark3s, 55, 17, Finished, Available)"
          },
          "metadata": {}
        },
        {
          "output_type": "display_data",
          "data": {
            "application/vnd.synapse.widget-view+json": {
              "widget_id": "6eb5fc70-9ba6-4c6d-984d-a1c13e5cae9b",
              "widget_type": "Synapse.DataFrame"
            },
            "text/plain": "SynapseWidget(Synapse.DataFrame, 6eb5fc70-9ba6-4c6d-984d-a1c13e5cae9b)"
          },
          "metadata": {}
        }
      ],
      "execution_count": 17,
      "metadata": {
        "jupyter": {
          "source_hidden": false,
          "outputs_hidden": false
        },
        "nteract": {
          "transient": {
            "deleting": false
          }
        },
        "collapsed": false
      }
    },
    {
      "cell_type": "code",
      "source": [
        "# Create Narrower/Minimal Dataframes for the Join operation \n",
        "\n",
        "from pyspark.sql.functions import col\n",
        "\n",
        "df_customers_minimal = df_customers.select(\n",
        "    col('id'),\n",
        "    col('customer_id'),\n",
        "    col('name'))\n",
        "\n",
        "print('df_customers_minimal, shape: {} x {}'.format(\n",
        "        df_customers_minimal.count(), len(df_customers_minimal.columns)))\n",
        "df_customers_minimal.printSchema()\n",
        "\n",
        "df_orders_minimal = df_order_docs.select(\n",
        "    col('order_id'),\n",
        "    col('customer_id'),\n",
        "    col('item_count'),\n",
        "    col('order_total'))\n",
        "\n",
        "print('df_orders_minimal, shape: {} x {}'.format(\n",
        "        df_orders_minimal.count(), len(df_orders_minimal.columns)))\n",
        "df_orders_minimal.printSchema()"
      ],
      "outputs": [
        {
          "output_type": "display_data",
          "data": {
            "application/vnd.livy.statement-meta+json": {
              "spark_pool": "poolspark3s",
              "session_id": 55,
              "statement_id": 18,
              "state": "finished",
              "livy_statement_state": "available",
              "queued_time": "2021-10-25T20:07:07.9351311Z",
              "session_start_time": null,
              "execution_start_time": "2021-10-25T20:07:17.4119747Z",
              "execution_finish_time": "2021-10-25T20:07:19.2284767Z"
            },
            "text/plain": "StatementMeta(poolspark3s, 55, 18, Finished, Available)"
          },
          "metadata": {}
        },
        {
          "output_type": "stream",
          "name": "stdout",
          "text": [
            "df_customers_minimal, shape: 100000 x 3\nroot\n |-- id: string (nullable = true)\n |-- customer_id: string (nullable = true)\n |-- name: string (nullable = true)\n\ndf_orders_minimal, shape: 300000 x 4\nroot\n |-- order_id: string (nullable = true)\n |-- customer_id: string (nullable = true)\n |-- item_count: long (nullable = true)\n |-- order_total: double (nullable = true)"
          ]
        }
      ],
      "execution_count": 18,
      "metadata": {
        "jupyter": {
          "source_hidden": false,
          "outputs_hidden": false
        },
        "nteract": {
          "transient": {
            "deleting": false
          }
        }
      }
    },
    {
      "cell_type": "code",
      "source": [
        "# Join the (narrow) Customers to their (narrow) Order documents\n",
        "\n",
        "df_joined = df_orders_minimal.join(df_customers_minimal, ['customer_id']) \\\n",
        "    .sort(\"customer_id\", ascending=False)\n",
        "\n",
        "\n",
        "print('df_joined, shape: {} x {}'.format(\n",
        "        df_joined.count(), len(df_joined.columns)))\n",
        "df_joined.printSchema()\n"
      ],
      "outputs": [
        {
          "output_type": "display_data",
          "data": {
            "application/vnd.livy.statement-meta+json": {
              "spark_pool": "poolspark3s",
              "session_id": 55,
              "statement_id": 19,
              "state": "finished",
              "livy_statement_state": "available",
              "queued_time": "2021-10-25T20:07:08.0083075Z",
              "session_start_time": null,
              "execution_start_time": "2021-10-25T20:07:19.3269041Z",
              "execution_finish_time": "2021-10-25T20:07:22.0945705Z"
            },
            "text/plain": "StatementMeta(poolspark3s, 55, 19, Finished, Available)"
          },
          "metadata": {}
        },
        {
          "output_type": "stream",
          "name": "stdout",
          "text": [
            "df_joined, shape: 300006 x 6\nroot\n |-- customer_id: string (nullable = true)\n |-- order_id: string (nullable = true)\n |-- item_count: long (nullable = true)\n |-- order_total: double (nullable = true)\n |-- id: string (nullable = true)\n |-- name: string (nullable = true)"
          ]
        }
      ],
      "execution_count": 19,
      "metadata": {
        "jupyter": {
          "source_hidden": false,
          "outputs_hidden": false
        },
        "nteract": {
          "transient": {
            "deleting": false
          }
        }
      }
    },
    {
      "cell_type": "code",
      "source": [
        "# Display the first few rows of the df_joined Dataframe\n",
        "\n",
        "display(df_joined.limit(20))"
      ],
      "outputs": [
        {
          "output_type": "display_data",
          "data": {
            "application/vnd.livy.statement-meta+json": {
              "spark_pool": "poolspark3s",
              "session_id": 55,
              "statement_id": 20,
              "state": "finished",
              "livy_statement_state": "available",
              "queued_time": "2021-10-25T20:07:08.0900016Z",
              "session_start_time": null,
              "execution_start_time": "2021-10-25T20:07:22.1852112Z",
              "execution_finish_time": "2021-10-25T20:07:26.1261072Z"
            },
            "text/plain": "StatementMeta(poolspark3s, 55, 20, Finished, Available)"
          },
          "metadata": {}
        },
        {
          "output_type": "display_data",
          "data": {
            "application/vnd.synapse.widget-view+json": {
              "widget_id": "264a30ce-8b12-4b15-80ed-2883b124d30e",
              "widget_type": "Synapse.DataFrame"
            },
            "text/plain": "SynapseWidget(Synapse.DataFrame, 264a30ce-8b12-4b15-80ed-2883b124d30e)"
          },
          "metadata": {}
        }
      ],
      "execution_count": 20,
      "metadata": {
        "jupyter": {
          "source_hidden": false,
          "outputs_hidden": false
        },
        "nteract": {
          "transient": {
            "deleting": false
          }
        },
        "collapsed": false
      }
    },
    {
      "cell_type": "code",
      "source": [
        "# Group the df_joined Dataframe by customerId, sum on order total and total_orders\n",
        "\n",
        "df_grouped = df_joined.groupby(\"customer_id\") \\\n",
        "    .sum(\"order_total\").alias('total_orders') \\\n",
        "    .sort(\"customer_id\", ascending=False)\n",
        "\n",
        "display(df_grouped.printSchema())\n",
        "print((df_grouped.count(), len(df_grouped.columns)))\n",
        "\n"
      ],
      "outputs": [
        {
          "output_type": "display_data",
          "data": {
            "application/vnd.livy.statement-meta+json": {
              "spark_pool": "poolspark3s",
              "session_id": 55,
              "statement_id": 21,
              "state": "finished",
              "livy_statement_state": "available",
              "queued_time": "2021-10-25T20:07:08.1488483Z",
              "session_start_time": null,
              "execution_start_time": "2021-10-25T20:07:26.2238533Z",
              "execution_finish_time": "2021-10-25T20:07:30.1373493Z"
            },
            "text/plain": "StatementMeta(poolspark3s, 55, 21, Finished, Available)"
          },
          "metadata": {}
        },
        {
          "output_type": "stream",
          "name": "stdout",
          "text": [
            "root\n |-- customer_id: string (nullable = true)\n |-- sum(order_total): double (nullable = true)\n\n(94982, 2)"
          ]
        }
      ],
      "execution_count": 21,
      "metadata": {
        "jupyter": {
          "source_hidden": false,
          "outputs_hidden": false
        },
        "nteract": {
          "transient": {
            "deleting": false
          }
        }
      }
    },
    {
      "cell_type": "code",
      "source": [
        "import pyspark.sql.functions as F \n",
        "#from pyspark.sql.functions import col\n",
        "\n",
        "df_agg = df_joined.groupBy(\"customer_id\") \\\n",
        "    .agg(\n",
        "        F.first('id').alias('id'), \\\n",
        "        F.count(\"customer_id\").alias('order_count'), \\\n",
        "        F.sum(\"order_total\").alias(\"total_dollar_amount\"), \\\n",
        "        F.sum(\"item_count\").alias(\"total_item_count\")) \\\n",
        "        .sort(\"customer_id\", ascending=False)\n",
        "\n",
        "display(df_agg.printSchema())\n",
        "print((df_agg.count(), len(df_agg.columns)))"
      ],
      "outputs": [
        {
          "output_type": "display_data",
          "data": {
            "application/vnd.livy.statement-meta+json": {
              "spark_pool": "poolspark3s",
              "session_id": 55,
              "statement_id": 22,
              "state": "finished",
              "livy_statement_state": "available",
              "queued_time": "2021-10-25T20:07:08.2984778Z",
              "session_start_time": null,
              "execution_start_time": "2021-10-25T20:07:30.2454485Z",
              "execution_finish_time": "2021-10-25T20:07:36.017022Z"
            },
            "text/plain": "StatementMeta(poolspark3s, 55, 22, Finished, Available)"
          },
          "metadata": {}
        },
        {
          "output_type": "stream",
          "name": "stdout",
          "text": [
            "root\n |-- customer_id: string (nullable = true)\n |-- id: string (nullable = true)\n |-- order_count: long (nullable = false)\n |-- total_dollar_amount: double (nullable = true)\n |-- total_item_count: long (nullable = true)\n\n(94982, 5)"
          ]
        }
      ],
      "execution_count": 22,
      "metadata": {
        "jupyter": {
          "source_hidden": false,
          "outputs_hidden": false
        },
        "nteract": {
          "transient": {
            "deleting": false
          }
        }
      }
    },
    {
      "cell_type": "code",
      "source": [
        "display(df_agg.limit(30))"
      ],
      "outputs": [
        {
          "output_type": "display_data",
          "data": {
            "application/vnd.livy.statement-meta+json": {
              "spark_pool": "poolspark3s",
              "session_id": 55,
              "statement_id": 23,
              "state": "finished",
              "livy_statement_state": "available",
              "queued_time": "2021-10-25T20:07:08.3692301Z",
              "session_start_time": null,
              "execution_start_time": "2021-10-25T20:07:36.1060935Z",
              "execution_finish_time": "2021-10-25T20:07:46.6934527Z"
            },
            "text/plain": "StatementMeta(poolspark3s, 55, 23, Finished, Available)"
          },
          "metadata": {}
        },
        {
          "output_type": "display_data",
          "data": {
            "application/vnd.synapse.widget-view+json": {
              "widget_id": "b94a148b-7487-4e40-8b7a-23662c233460",
              "widget_type": "Synapse.DataFrame"
            },
            "text/plain": "SynapseWidget(Synapse.DataFrame, b94a148b-7487-4e40-8b7a-23662c233460)"
          },
          "metadata": {}
        }
      ],
      "execution_count": 23,
      "metadata": {
        "jupyter": {
          "source_hidden": false,
          "outputs_hidden": false
        },
        "nteract": {
          "transient": {
            "deleting": false
          }
        },
        "collapsed": false
      }
    },
    {
      "cell_type": "code",
      "source": [
        "from pyspark.sql import SparkSession\n",
        "from pyspark.sql.types import *\n",
        "\n",
        "import pyspark.sql.functions as F \n",
        "\n",
        "# See https://github.com/Azure-Samples/Synapse/blob/main/Notebooks/PySpark/02%20Read%20and%20write%20data%20from%20Azure%20Blob%20Storage%20WASB.ipynb\n",
        "\n",
        "# Azure storage access info\n",
        "blob_account_name   = 'cjoakimstorage'\n",
        "blob_container_name = 'synapse'\n",
        "blob_relative_path  = 'ecomm/'\n",
        "linked_service_name = 'cjoakimstorageAzureBlobStorage'\n",
        "\n",
        "blob_sas_token = mssparkutils.credentials.getConnectionStringOrCreds(\n",
        "    linked_service_name)\n",
        "#print('blob_sas_token: {}'.format(blob_sas_token))\n",
        "\n",
        "# Allow Spark to access from Blob remotely\n",
        "wasbs_path = 'wasbs://%s@%s.blob.core.windows.net/%s' % (\n",
        "    blob_container_name, blob_account_name, blob_relative_path)\n",
        "spark.conf.set('fs.azure.sas.%s.%s.blob.core.windows.net' % (\n",
        "    blob_container_name, blob_account_name), blob_sas_token)\n",
        "print('Remote wasbs_path: ' + wasbs_path)\n",
        "\n",
        "csv_path  = '{}{}'.format(wasbs_path,'sales_by_customer_csv')\n",
        "json_path = '{}{}'.format(wasbs_path,'sales_by_customer_json')\n",
        "\n",
        "df_agg.coalesce(1).write.csv(csv_path, mode='overwrite', header='true')\n",
        "#df_agg.coalesce(1).write.json(json_path, mode='overwrite')\n"
      ],
      "outputs": [
        {
          "output_type": "display_data",
          "data": {
            "application/vnd.livy.statement-meta+json": {
              "spark_pool": "poolspark3s",
              "session_id": 55,
              "statement_id": 24,
              "state": "finished",
              "livy_statement_state": "available",
              "queued_time": "2021-10-25T20:07:08.4205225Z",
              "session_start_time": null,
              "execution_start_time": "2021-10-25T20:07:46.7975253Z",
              "execution_finish_time": "2021-10-25T20:08:03.5098267Z"
            },
            "text/plain": "StatementMeta(poolspark3s, 55, 24, Finished, Available)"
          },
          "metadata": {}
        },
        {
          "output_type": "stream",
          "name": "stdout",
          "text": [
            "blob_sas_token: ?sv=2020-02-10&ss=bf&srt=sco&se=2021-10-26T20%3A07%3A47Z&sp=rwdl&sig=zbm%2FJcDY6xoEkiQjj7xpMRELVNXqpG%2FAGYdI7srWi9Y%3D\nRemote wasbs_path: wasbs://synapse@cjoakimstorage.blob.core.windows.net/ecomm/"
          ]
        }
      ],
      "execution_count": 24,
      "metadata": {
        "jupyter": {
          "source_hidden": false,
          "outputs_hidden": false
        },
        "nteract": {
          "transient": {
            "deleting": false
          }
        }
      }
    },
    {
      "cell_type": "code",
      "source": [
        "\n",
        "# Write to CosmosDB - linked service 'demoCosmosDB'\n",
        "# See https://docs.microsoft.com/en-us/azure/synapse-analytics/synapse-link/how-to-query-analytical-store-spark#write-spark-dataframe-to-azure-cosmos-db-container\n",
        "\n",
        "df_agg.write.format(\"cosmos.oltp\")\\\n",
        "    .option(\"spark.synapse.linkedService\", \"demoCosmosDB\")\\\n",
        "    .option(\"spark.cosmos.container\", \"customer_sales\")\\\n",
        "    .option(\"spak.cosmos.write.upsertenabled\", \"true\")\\\n",
        "    .mode('append')\\\n",
        "    .save()\n"
      ],
      "outputs": [
        {
          "output_type": "display_data",
          "data": {
            "application/vnd.livy.statement-meta+json": {
              "spark_pool": "poolspark3s",
              "session_id": 55,
              "statement_id": 28,
              "state": "finished",
              "livy_statement_state": "available",
              "queued_time": "2021-10-25T20:25:15.2878742Z",
              "session_start_time": null,
              "execution_start_time": "2021-10-25T20:25:15.4011509Z",
              "execution_finish_time": "2021-10-25T20:27:23.0357517Z"
            },
            "text/plain": "StatementMeta(poolspark3s, 55, 28, Finished, Available)"
          },
          "metadata": {}
        }
      ],
      "execution_count": 28,
      "metadata": {
        "jupyter": {
          "source_hidden": false,
          "outputs_hidden": false
        },
        "nteract": {
          "transient": {
            "deleting": false
          }
        },
        "microsoft": {}
      }
    }
  ],
  "metadata": {
    "kernelspec": {
      "name": "synapse_pyspark",
      "language": "Python",
      "display_name": "Synapse PySpark"
    },
    "language_info": {
      "name": "python"
    },
    "kernel_info": {
      "name": "synapse_pyspark"
    },
    "save_output": false,
    "synapse_widget": {
      "version": "0.1",
      "state": {
        "053a91ff-826d-48da-9c5a-cf7c9f0e383c": {
          "type": "Synapse.DataFrame",
          "sync_state": {
            "table": {
              "rows": [
                {
                  "0": "wUR4ALwLGcwmowAAAAAAAA==",
                  "1": "1635188680",
                  "2": "0a3d6084-6990-49b1-9319-09fe907eff1f",
                  "3": "0025388789309",
                  "4": "customer",
                  "5": "0025388789309",
                  "6": "Clinton Taylor",
                  "7": "Clinton",
                  "8": "Taylor",
                  "9": {
                    "street": "3323 Robert Lake Suite 126",
                    "city": "North Roberto",
                    "state": "MI",
                    "zip": "90875"
                  },
                  "10": "1635188679555",
                  "11": "2021/10/25-19:04:39",
                  "12": "\"4200d5a1-0000-0100-0000-6176ffc80000\""
                },
                {
                  "0": "wUR4ALwLGcwnowAAAAAAAA==",
                  "1": "1635188680",
                  "2": "23f4aa7f-2f96-4e2c-b1c4-b990e596a7f1",
                  "3": "0001335112574",
                  "4": "customer",
                  "5": "0001335112574",
                  "6": "Eric Torres",
                  "7": "Eric",
                  "8": "Torres",
                  "9": {
                    "street": "359 Colon Ranch",
                    "city": "Sarahmouth",
                    "state": "OH",
                    "zip": "15304"
                  },
                  "10": "1635188679555",
                  "11": "2021/10/25-19:04:39",
                  "12": "\"4200d6a1-0000-0100-0000-6176ffc80000\""
                },
                {
                  "0": "wUR4ALwLGcwoowAAAAAAAA==",
                  "1": "1635188680",
                  "2": "31311c17-4dde-4d2c-8b21-083dd1da5c17",
                  "3": "0089978719220",
                  "4": "customer",
                  "5": "0089978719220",
                  "6": "Jacqueline Porter",
                  "7": "Jacqueline",
                  "8": "Porter",
                  "9": {
                    "street": "68383 Mark Path Apt. 833",
                    "city": "West Sean",
                    "state": "NV",
                    "zip": "94825"
                  },
                  "10": "1635188679555",
                  "11": "2021/10/25-19:04:39",
                  "12": "\"4200d7a1-0000-0100-0000-6176ffc80000\""
                }
              ],
              "schema": [
                {
                  "key": "0",
                  "name": "_rid",
                  "type": "string"
                },
                {
                  "key": "1",
                  "name": "_ts",
                  "type": "bigint"
                },
                {
                  "key": "2",
                  "name": "id",
                  "type": "string"
                },
                {
                  "key": "3",
                  "name": "pk",
                  "type": "string"
                },
                {
                  "key": "4",
                  "name": "doctype",
                  "type": "string"
                },
                {
                  "key": "5",
                  "name": "customer_id",
                  "type": "string"
                },
                {
                  "key": "6",
                  "name": "name",
                  "type": "string"
                },
                {
                  "key": "7",
                  "name": "first",
                  "type": "string"
                },
                {
                  "key": "8",
                  "name": "last",
                  "type": "string"
                },
                {
                  "key": "9",
                  "name": "address",
                  "type": "StructType(StructField(street,StringType,true), StructField(city,StringType,true), StructField(state,StringType,true), StructField(zip,StringType,true))"
                },
                {
                  "key": "10",
                  "name": "doc_epoch",
                  "type": "bigint"
                },
                {
                  "key": "11",
                  "name": "doc_time",
                  "type": "string"
                },
                {
                  "key": "12",
                  "name": "_etag",
                  "type": "string"
                }
              ]
            },
            "isSummary": false,
            "language": "scala"
          },
          "persist_state": {
            "view": {
              "type": "details",
              "tableOptions": {},
              "chartOptions": {
                "chartType": "bar",
                "aggregationType": "sum",
                "categoryFieldKeys": [
                  "0"
                ],
                "seriesFieldKeys": [
                  "1"
                ],
                "isStacked": false
              }
            }
          }
        },
        "6eb5fc70-9ba6-4c6d-984d-a1c13e5cae9b": {
          "type": "Synapse.DataFrame",
          "sync_state": {
            "table": {
              "rows": [
                {
                  "0": "wUR4APkaBV2duwsAAAAAAA==",
                  "1": "1635190207",
                  "2": "67a4c7fa-22bb-4330-951f-77e6d5eb9899",
                  "3": "order",
                  "4": "67a4c7fa-22bb-4330-951f-77e6d5eb9899",
                  "6": "0073392619884",
                  "7": "2020-12-05",
                  "8": "v2",
                  "14": "1635190206310",
                  "15": "2021/10/25-19:30:06",
                  "16": "505581e9-dcde-4708-95df-e3027af86cbd",
                  "17": "\"5000140b-0000-0100-0000-617705bf0000\"",
                  "18": "3",
                  "19": "118.61",
                  "20": "2"
                },
                {
                  "0": "wUR4APkaBV2huwsAAAAAAA==",
                  "1": "1635190207",
                  "2": "80079b4f-4a33-4c9a-95da-ebaa7a735f2c",
                  "3": "order",
                  "4": "80079b4f-4a33-4c9a-95da-ebaa7a735f2c",
                  "6": "0014123311714",
                  "7": "2021-03-03",
                  "8": "v2",
                  "14": "1635190206310",
                  "15": "2021/10/25-19:30:06",
                  "16": "71cc977c-ae96-44a0-85c9-08b0aa29ac79",
                  "17": "\"5000180b-0000-0100-0000-617705bf0000\"",
                  "18": "3",
                  "19": "736.73",
                  "20": "0"
                },
                {
                  "0": "wUR4APkaBV2juwsAAAAAAA==",
                  "1": "1635190207",
                  "2": "9d519852-5f78-46fe-88c5-234c4da79c38",
                  "3": "order",
                  "4": "9d519852-5f78-46fe-88c5-234c4da79c38",
                  "6": "0032472363543",
                  "7": "2021-08-27",
                  "8": "v2",
                  "14": "1635190206310",
                  "15": "2021/10/25-19:30:06",
                  "16": "e2a78048-e40a-476d-8086-9510edcf3234",
                  "17": "\"50001a0b-0000-0100-0000-617705bf0000\"",
                  "18": "1",
                  "19": "51.98",
                  "20": "0"
                }
              ],
              "schema": [
                {
                  "key": "0",
                  "name": "_rid",
                  "type": "string"
                },
                {
                  "key": "1",
                  "name": "_ts",
                  "type": "bigint"
                },
                {
                  "key": "2",
                  "name": "pk",
                  "type": "string"
                },
                {
                  "key": "3",
                  "name": "doctype",
                  "type": "string"
                },
                {
                  "key": "4",
                  "name": "order_id",
                  "type": "string"
                },
                {
                  "key": "5",
                  "name": "line_num",
                  "type": "bigint"
                },
                {
                  "key": "6",
                  "name": "customer_id",
                  "type": "string"
                },
                {
                  "key": "7",
                  "name": "order_date",
                  "type": "string"
                },
                {
                  "key": "8",
                  "name": "version",
                  "type": "string"
                },
                {
                  "key": "9",
                  "name": "sku",
                  "type": "bigint"
                },
                {
                  "key": "10",
                  "name": "name",
                  "type": "string"
                },
                {
                  "key": "11",
                  "name": "qty",
                  "type": "bigint"
                },
                {
                  "key": "12",
                  "name": "price",
                  "type": "double"
                },
                {
                  "key": "13",
                  "name": "item_total",
                  "type": "double"
                },
                {
                  "key": "14",
                  "name": "doc_epoch",
                  "type": "bigint"
                },
                {
                  "key": "15",
                  "name": "doc_time",
                  "type": "string"
                },
                {
                  "key": "16",
                  "name": "id",
                  "type": "string"
                },
                {
                  "key": "17",
                  "name": "_etag",
                  "type": "string"
                },
                {
                  "key": "18",
                  "name": "item_count",
                  "type": "bigint"
                },
                {
                  "key": "19",
                  "name": "order_total",
                  "type": "double"
                },
                {
                  "key": "20",
                  "name": "delivery_count",
                  "type": "bigint"
                },
                {
                  "key": "21",
                  "name": "status",
                  "type": "string"
                }
              ]
            },
            "isSummary": false,
            "language": "scala"
          },
          "persist_state": {
            "view": {
              "type": "details",
              "tableOptions": {},
              "chartOptions": {
                "chartType": "bar",
                "aggregationType": "sum",
                "categoryFieldKeys": [
                  "0"
                ],
                "seriesFieldKeys": [
                  "1"
                ],
                "isStacked": false
              }
            }
          }
        },
        "264a30ce-8b12-4b15-80ed-2883b124d30e": {
          "type": "Synapse.DataFrame",
          "sync_state": {
            "table": {
              "rows": [
                {
                  "0": "0099999951721",
                  "1": "f8ed97ff-e81b-49a8-b04b-885851724906",
                  "2": "1",
                  "3": "167.99",
                  "4": "402e3211-1ec8-45dd-818d-7c563574e1de",
                  "5": "Michael Howard"
                },
                {
                  "0": "0099999951721",
                  "1": "2ee5cdb5-da08-4c91-95d5-cfe3e1be8f2f",
                  "2": "3",
                  "3": "67.73",
                  "4": "402e3211-1ec8-45dd-818d-7c563574e1de",
                  "5": "Michael Howard"
                },
                {
                  "0": "0099999951721",
                  "1": "a646a511-94f7-4f34-8e60-aec1484f6f7b",
                  "2": "2",
                  "3": "113.94",
                  "4": "402e3211-1ec8-45dd-818d-7c563574e1de",
                  "5": "Michael Howard"
                },
                {
                  "0": "0099999951721",
                  "1": "a4226c10-7269-41ec-971d-364a65affaf9",
                  "2": "3",
                  "3": "177.39",
                  "4": "402e3211-1ec8-45dd-818d-7c563574e1de",
                  "5": "Michael Howard"
                },
                {
                  "0": "0099998060882",
                  "1": "d8f2b3c2-1d31-4688-a059-ae10e3799c38",
                  "2": "1",
                  "3": "71.97",
                  "4": "d4604238-0cb3-4693-ac54-aa1d3245ca3e",
                  "5": "Tristan Cox"
                },
                {
                  "0": "0099998060882",
                  "1": "5fdb2fb6-1893-47dc-8d39-072c8ed055f0",
                  "2": "2",
                  "3": "182.95",
                  "4": "d4604238-0cb3-4693-ac54-aa1d3245ca3e",
                  "5": "Tristan Cox"
                },
                {
                  "0": "0099998060882",
                  "1": "ce2d2314-15f4-4a97-aa63-619724824cd3",
                  "2": "3",
                  "3": "168.34",
                  "4": "d4604238-0cb3-4693-ac54-aa1d3245ca3e",
                  "5": "Tristan Cox"
                },
                {
                  "0": "0099998060882",
                  "1": "a551de4f-f3ac-456e-8566-c76f60a381ae",
                  "2": "1",
                  "3": "797.97",
                  "4": "d4604238-0cb3-4693-ac54-aa1d3245ca3e",
                  "5": "Tristan Cox"
                },
                {
                  "0": "0099997808799",
                  "1": "71a76186-d65a-4f99-a665-d99cea5bb45f",
                  "2": "3",
                  "3": "1660.23",
                  "4": "7c95414c-698a-4d25-84c2-330d298daf7e",
                  "5": "Abigail Vega"
                },
                {
                  "0": "0099997808799",
                  "1": "6b1ddfc6-cabc-4f63-b7de-95250f5a2d17",
                  "2": "1",
                  "3": "428.48",
                  "4": "7c95414c-698a-4d25-84c2-330d298daf7e",
                  "5": "Abigail Vega"
                },
                {
                  "0": "0099997808799",
                  "1": "2af1c412-4f3e-495b-bb96-a117442b3f78",
                  "2": "3",
                  "3": "813.14",
                  "4": "7c95414c-698a-4d25-84c2-330d298daf7e",
                  "5": "Abigail Vega"
                },
                {
                  "0": "0099995562365",
                  "1": "226fe9e2-396a-4a19-a035-26c0d9be4ee8",
                  "2": "3",
                  "3": "325.76",
                  "4": "f782b59f-2f7a-46a0-974e-158ac8b537a1",
                  "5": "Jonathan Meyer"
                },
                {
                  "0": "0099995562365",
                  "1": "44aa6e3b-a021-4364-9839-0aeafc644985",
                  "2": "2",
                  "3": "295.81",
                  "4": "f782b59f-2f7a-46a0-974e-158ac8b537a1",
                  "5": "Jonathan Meyer"
                },
                {
                  "0": "0099995562365",
                  "1": "969f2dbb-7305-48d2-a331-3bf1e13f27f9",
                  "2": "1",
                  "3": "413.94",
                  "4": "f782b59f-2f7a-46a0-974e-158ac8b537a1",
                  "5": "Jonathan Meyer"
                },
                {
                  "0": "0099995562365",
                  "1": "bb3e6bf1-c8c2-41bd-8c80-bdcf58ebf036",
                  "2": "2",
                  "3": "574.4",
                  "4": "f782b59f-2f7a-46a0-974e-158ac8b537a1",
                  "5": "Jonathan Meyer"
                },
                {
                  "0": "0099995292088",
                  "1": "e580bdde-f19a-438a-92bd-2a9586cb13cf",
                  "2": "1",
                  "3": "230.85",
                  "4": "0baf1525-3a7e-4d3e-af57-0703750ead32",
                  "5": "Alicia Leblanc"
                },
                {
                  "0": "0099995292088",
                  "1": "dd5c891a-9fdf-4615-9c96-c883a75a9d9e",
                  "2": "2",
                  "3": "183.86",
                  "4": "0baf1525-3a7e-4d3e-af57-0703750ead32",
                  "5": "Alicia Leblanc"
                },
                {
                  "0": "0099994999308",
                  "1": "42e2bab1-9f5d-4d7f-9f1b-7cd5c9344b58",
                  "2": "3",
                  "3": "247.7",
                  "4": "d39cafd1-40c7-452a-8cc3-7aacba3dbc50",
                  "5": "Veronica Turner"
                },
                {
                  "0": "0099994999308",
                  "1": "1be96b72-b333-4c50-b5e5-3d72bbdbaaa2",
                  "2": "1",
                  "3": "225.09",
                  "4": "d39cafd1-40c7-452a-8cc3-7aacba3dbc50",
                  "5": "Veronica Turner"
                },
                {
                  "0": "0099994999308",
                  "1": "9c32c526-1008-40b4-8625-e10ce7c7d05f",
                  "2": "2",
                  "3": "151.77",
                  "4": "d39cafd1-40c7-452a-8cc3-7aacba3dbc50",
                  "5": "Veronica Turner"
                }
              ],
              "schema": [
                {
                  "key": "0",
                  "name": "customer_id",
                  "type": "string"
                },
                {
                  "key": "1",
                  "name": "order_id",
                  "type": "string"
                },
                {
                  "key": "2",
                  "name": "item_count",
                  "type": "bigint"
                },
                {
                  "key": "3",
                  "name": "order_total",
                  "type": "double"
                },
                {
                  "key": "4",
                  "name": "id",
                  "type": "string"
                },
                {
                  "key": "5",
                  "name": "name",
                  "type": "string"
                }
              ]
            },
            "isSummary": false,
            "language": "scala"
          },
          "persist_state": {
            "view": {
              "type": "details",
              "tableOptions": {},
              "chartOptions": {
                "chartType": "bar",
                "aggregationType": "sum",
                "categoryFieldKeys": [
                  "0"
                ],
                "seriesFieldKeys": [
                  "2"
                ],
                "isStacked": false
              }
            }
          }
        },
        "b94a148b-7487-4e40-8b7a-23662c233460": {
          "type": "Synapse.DataFrame",
          "sync_state": {
            "table": {
              "rows": [
                {
                  "0": "0099999951721",
                  "1": "402e3211-1ec8-45dd-818d-7c563574e1de",
                  "2": "4",
                  "3": "527.05",
                  "4": "9"
                },
                {
                  "0": "0099998060882",
                  "1": "d4604238-0cb3-4693-ac54-aa1d3245ca3e",
                  "2": "4",
                  "3": "1221.23",
                  "4": "7"
                },
                {
                  "0": "0099997808799",
                  "1": "7c95414c-698a-4d25-84c2-330d298daf7e",
                  "2": "3",
                  "3": "2901.85",
                  "4": "7"
                },
                {
                  "0": "0099995562365",
                  "1": "f782b59f-2f7a-46a0-974e-158ac8b537a1",
                  "2": "4",
                  "3": "1609.9099999999999",
                  "4": "8"
                },
                {
                  "0": "0099995292088",
                  "1": "0baf1525-3a7e-4d3e-af57-0703750ead32",
                  "2": "2",
                  "3": "414.71000000000004",
                  "4": "3"
                },
                {
                  "0": "0099994999308",
                  "1": "d39cafd1-40c7-452a-8cc3-7aacba3dbc50",
                  "2": "4",
                  "3": "826.36",
                  "4": "8"
                },
                {
                  "0": "0099990600895",
                  "1": "cdb9c392-ede8-4228-a3a9-77cdb1e2d0c3",
                  "2": "8",
                  "3": "6609.360000000001",
                  "4": "17"
                },
                {
                  "0": "0099988493379",
                  "1": "d295b46a-811f-4565-9ad2-83414eb27b88",
                  "2": "3",
                  "3": "1696.51",
                  "4": "8"
                },
                {
                  "0": "0099986983902",
                  "1": "eebe7e4e-c467-4578-8e9d-e2097c5bc2a3",
                  "2": "4",
                  "3": "672.3699999999999",
                  "4": "7"
                },
                {
                  "0": "0099986831999",
                  "1": "f88aa772-3bdd-46ee-88cf-c5e4e5c99689",
                  "2": "3",
                  "3": "1357.1000000000001",
                  "4": "8"
                },
                {
                  "0": "0099986502974",
                  "1": "353f08b3-b224-4d1a-90ef-47d92da8ff9b",
                  "2": "2",
                  "3": "68.9",
                  "4": "3"
                },
                {
                  "0": "0099983856742",
                  "1": "7eb98404-3c31-4f63-b734-4c44ea7935bd",
                  "2": "3",
                  "3": "555.72",
                  "4": "6"
                },
                {
                  "0": "0099983450001",
                  "1": "cd4cbc95-4c7a-41ed-8c23-2dbc250d7498",
                  "2": "3",
                  "3": "508.78999999999996",
                  "4": "8"
                },
                {
                  "0": "0099983443638",
                  "1": "faaa16c1-bfaa-400e-bbc1-4915c718875c",
                  "2": "5",
                  "3": "613.85",
                  "4": "11"
                },
                {
                  "0": "0099982968668",
                  "1": "1c7814ed-3f4f-4b9a-b6d6-f0383de211b1",
                  "2": "2",
                  "3": "474.35",
                  "4": "5"
                },
                {
                  "0": "0099982253214",
                  "1": "0a2f0433-0fc6-4587-8fcb-22156c582a90",
                  "2": "3",
                  "3": "342.89",
                  "4": "6"
                },
                {
                  "0": "0099982075564",
                  "1": "7fd9f18f-0034-44db-982e-2326f9a58e0a",
                  "2": "4",
                  "3": "647.64",
                  "4": "10"
                },
                {
                  "0": "0099980540972",
                  "1": "00488edc-bd8c-4ee4-b0a1-6a7d0a09dde9",
                  "2": "3",
                  "3": "1092.08",
                  "4": "8"
                },
                {
                  "0": "0099980036093",
                  "1": "00d4a939-4414-4c2e-8c2e-4446fecb4dba",
                  "2": "2",
                  "3": "300.38",
                  "4": "5"
                },
                {
                  "0": "0099975837445",
                  "1": "46f46732-58be-40aa-866b-e09bb92afb19",
                  "2": "1",
                  "3": "215.99",
                  "4": "1"
                },
                {
                  "0": "0099974935265",
                  "1": "0bd32eb4-f274-4fe3-83a0-9fb162a0e32c",
                  "2": "2",
                  "3": "304.75",
                  "4": "3"
                },
                {
                  "0": "0099974429207",
                  "1": "527b627b-f90e-447a-9fb0-4d9d25aed81c",
                  "2": "1",
                  "3": "89.68",
                  "4": "1"
                },
                {
                  "0": "0099971297922",
                  "1": "ba91917f-836a-4fc3-bb66-e96e6255a6b4",
                  "2": "3",
                  "3": "948.35",
                  "4": "5"
                },
                {
                  "0": "0099970380090",
                  "1": "e6a03758-8b65-4a16-af6e-ba4001ab16a3",
                  "2": "1",
                  "3": "17.99",
                  "4": "1"
                },
                {
                  "0": "0099968551549",
                  "1": "3194ef81-ab34-4913-8193-d5c75362d7f7",
                  "2": "5",
                  "3": "2456.64",
                  "4": "7"
                },
                {
                  "0": "0099968082630",
                  "1": "ddc66aef-ce4b-4db5-b6ca-eb35ae2d2eea",
                  "2": "2",
                  "3": "1453.6100000000001",
                  "4": "4"
                },
                {
                  "0": "0099964045851",
                  "1": "80df0585-e4e1-495c-b820-f1a9ff06b8fb",
                  "2": "3",
                  "3": "437.69",
                  "4": "7"
                },
                {
                  "0": "0099963398651",
                  "1": "7dd631b7-0112-4416-96c9-228cd567baa0",
                  "2": "7",
                  "3": "746.4599999999999",
                  "4": "15"
                },
                {
                  "0": "0099963145408",
                  "1": "045a0069-1388-4bad-be63-6876cde02377",
                  "2": "3",
                  "3": "768.1200000000001",
                  "4": "5"
                },
                {
                  "0": "0099962976591",
                  "1": "94f1cfae-07ab-49a2-b8cb-99910dad73eb",
                  "2": "4",
                  "3": "1219.6",
                  "4": "7"
                }
              ],
              "schema": [
                {
                  "key": "0",
                  "name": "customer_id",
                  "type": "string"
                },
                {
                  "key": "1",
                  "name": "id",
                  "type": "string"
                },
                {
                  "key": "2",
                  "name": "order_count",
                  "type": "bigint"
                },
                {
                  "key": "3",
                  "name": "total_dollar_amount",
                  "type": "double"
                },
                {
                  "key": "4",
                  "name": "total_item_count",
                  "type": "bigint"
                }
              ]
            },
            "isSummary": false,
            "language": "scala"
          },
          "persist_state": {
            "view": {
              "type": "details",
              "tableOptions": {},
              "chartOptions": {
                "chartType": "bar",
                "aggregationType": "sum",
                "categoryFieldKeys": [
                  "0"
                ],
                "seriesFieldKeys": [
                  "2"
                ],
                "isStacked": false
              }
            }
          }
        }
      }
    }
  },
  "nbformat": 4,
  "nbformat_minor": 2
}