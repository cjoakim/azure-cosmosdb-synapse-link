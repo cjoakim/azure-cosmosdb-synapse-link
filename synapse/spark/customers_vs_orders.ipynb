{
  "cells": [
    {
      "cell_type": "markdown",
      "source": [
        "# Process the Customers vs Orders Synapse Link Data"
      ],
      "metadata": {
        "nteract": {
          "transient": {
            "deleting": false
          }
        }
      }
    },
    {
      "cell_type": "code",
      "source": [
        "# Load the SynapseLink Customers and Orders SynapseLink Data into a Dataframes.\n",
        "\n",
        "from pyspark.sql.functions import col\n",
        "\n",
        "df_customers = spark.read\\\n",
        "    .format(\"cosmos.olap\")\\\n",
        "    .option(\"spark.synapse.linkedService\", \"demoCosmosDB\")\\\n",
        "    .option(\"spark.cosmos.container\", \"customers\")\\\n",
        "    .load().filter(col(\"_ts\") > min_timestamp)\n",
        "\n",
        "# initialize variables\n",
        "use_push_down_predicate = True\n",
        "df_orders, df_order_docs = None, None\n",
        "min_timestamp = 1635168000\n",
        "\n",
        "if use_push_down_predicate == True:\n",
        "    # this is more efficient, as the dataframe is filtered on load\n",
        "    df_order_docs = spark.read\\\n",
        "        .format(\"cosmos.olap\")\\\n",
        "        .option(\"spark.synapse.linkedService\", \"demoCosmosDB\")\\\n",
        "        .option(\"spark.cosmos.container\", \"orders\")\\\n",
        "        .load().filter(col(\"doctype\") == \"order\").filter(col(\"_ts\") > min_timestamp) \n",
        "        # push-down predicate filters on doctype and _ts \n",
        "else:\n",
        "    # this is less efficient, as the dataframe is filtered after load\n",
        "    df_orders = spark.read\\\n",
        "        .format(\"cosmos.olap\")\\\n",
        "        .option(\"spark.synapse.linkedService\", \"demoCosmosDB\")\\\n",
        "        .option(\"spark.cosmos.container\", \"orders\")\\\n",
        "        .load()\n",
        "\n",
        "    print('df_orders, shape: {} x {}'.format(\n",
        "        df_orders.count(), len(df_orders.columns)))\n",
        "    df_orders.printSchema()\n",
        "\n",
        "    df_order_docs = df_orders.filter(df_orders[\"doctype\"].isin([\"order\"]))\n",
        "\n",
        "print('df_customers, shape: {} x {}'.format(\n",
        "        df_customers.count(), len(df_customers.columns)))\n",
        "df_customers.printSchema()\n",
        "\n",
        "print('df_order_docs, shape: {} x {}'.format(\n",
        "        df_order_docs.count(), len(df_order_docs.columns)))\n",
        "\n",
        "# df_orders, shape: 4199812 x 26\n",
        "# df_order_docs, shape: 1200000 x 26\n",
        "# df_order_docs, shape: 300000 x 26"
      ],
      "outputs": [
        {
          "output_type": "display_data",
          "data": {
            "application/vnd.livy.statement-meta+json": {
              "spark_pool": "poolspark3s",
              "session_id": 54,
              "statement_id": 45,
              "state": "finished",
              "livy_statement_state": "available",
              "queued_time": "2021-10-25T14:54:36.5227738Z",
              "session_start_time": null,
              "execution_start_time": "2021-10-25T14:54:36.6299763Z",
              "execution_finish_time": "2021-10-25T14:54:42.7305018Z"
            },
            "text/plain": "StatementMeta(poolspark3s, 54, 45, Finished, Available)"
          },
          "metadata": {}
        },
        {
          "output_type": "stream",
          "name": "stdout",
          "text": [
            "df_customers, shape: 100000 x 14\nroot\n |-- _rid: string (nullable = true)\n |-- _ts: long (nullable = true)\n |-- pk: string (nullable = true)\n |-- doctype: string (nullable = true)\n |-- customerId: string (nullable = true)\n |-- name: string (nullable = true)\n |-- first: string (nullable = true)\n |-- last: string (nullable = true)\n |-- address: struct (nullable = true)\n |    |-- street: string (nullable = true)\n |    |-- city: string (nullable = true)\n |    |-- state: string (nullable = true)\n |    |-- zip: string (nullable = true)\n |-- doc_epoch: long (nullable = true)\n |-- doc_time: string (nullable = true)\n |-- id: string (nullable = true)\n |-- _etag: string (nullable = true)\n |-- customer_id: string (nullable = true)\n\ndf_order_docs, shape: 300000 x 26"
          ]
        }
      ],
      "execution_count": 45,
      "metadata": {
        "collapsed": false
      }
    },
    {
      "cell_type": "code",
      "source": [
        "# Display the first few rows of the df_customers Dataframe\n",
        "\n",
        "display(df_customers.limit(3))\n"
      ],
      "outputs": [
        {
          "output_type": "display_data",
          "data": {
            "application/vnd.livy.statement-meta+json": {
              "spark_pool": "poolspark3s",
              "session_id": 54,
              "statement_id": 46,
              "state": "finished",
              "livy_statement_state": "available",
              "queued_time": "2021-10-25T14:54:36.5651757Z",
              "session_start_time": null,
              "execution_start_time": "2021-10-25T14:54:42.826113Z",
              "execution_finish_time": "2021-10-25T14:54:44.1340927Z"
            },
            "text/plain": "StatementMeta(poolspark3s, 54, 46, Finished, Available)"
          },
          "metadata": {}
        },
        {
          "output_type": "display_data",
          "data": {
            "application/vnd.synapse.widget-view+json": {
              "widget_id": "3a736dec-2fbb-406a-9e34-b3ddda257a57",
              "widget_type": "Synapse.DataFrame"
            },
            "text/plain": "SynapseWidget(Synapse.DataFrame, 3a736dec-2fbb-406a-9e34-b3ddda257a57)"
          },
          "metadata": {}
        }
      ],
      "execution_count": 46,
      "metadata": {
        "jupyter": {
          "source_hidden": false,
          "outputs_hidden": false
        },
        "nteract": {
          "transient": {
            "deleting": false
          }
        },
        "collapsed": false
      }
    },
    {
      "cell_type": "code",
      "source": [
        "# Display the first few rows of the df_order_docs Dataframe\n",
        "\n",
        "display(df_order_docs.limit(3))"
      ],
      "outputs": [
        {
          "output_type": "display_data",
          "data": {
            "application/vnd.livy.statement-meta+json": {
              "spark_pool": "poolspark3s",
              "session_id": 54,
              "statement_id": 47,
              "state": "finished",
              "livy_statement_state": "available",
              "queued_time": "2021-10-25T14:54:36.6530545Z",
              "session_start_time": null,
              "execution_start_time": "2021-10-25T14:54:44.2542002Z",
              "execution_finish_time": "2021-10-25T14:54:49.4492359Z"
            },
            "text/plain": "StatementMeta(poolspark3s, 54, 47, Finished, Available)"
          },
          "metadata": {}
        },
        {
          "output_type": "display_data",
          "data": {
            "application/vnd.synapse.widget-view+json": {
              "widget_id": "d064a02b-1f8b-4c31-8eee-1c793981f014",
              "widget_type": "Synapse.DataFrame"
            },
            "text/plain": "SynapseWidget(Synapse.DataFrame, d064a02b-1f8b-4c31-8eee-1c793981f014)"
          },
          "metadata": {}
        }
      ],
      "execution_count": 47,
      "metadata": {
        "jupyter": {
          "source_hidden": false,
          "outputs_hidden": false
        },
        "nteract": {
          "transient": {
            "deleting": false
          }
        },
        "collapsed": false
      }
    },
    {
      "cell_type": "code",
      "source": [
        "# Create Narrower/Minimal Dataframes for the Join operation \n",
        "\n",
        "from pyspark.sql.functions import col\n",
        "\n",
        "df_customers_minimal = df_customers.select(\n",
        "    col('id'),\n",
        "    col('customer_id'),\n",
        "    col('name'))\n",
        "\n",
        "print('df_customers_minimal, shape: {} x {}'.format(\n",
        "        df_customers_minimal.count(), len(df_customers_minimal.columns)))\n",
        "df_customers_minimal.printSchema()\n",
        "\n",
        "df_orders_minimal = df_order_docs.select(\n",
        "    col('order_id'),\n",
        "    col('customer_id'),\n",
        "    col('item_count'),\n",
        "    col('order_total'))\n",
        "\n",
        "print('df_orders_minimal, shape: {} x {}'.format(\n",
        "        df_orders_minimal.count(), len(df_orders_minimal.columns)))\n",
        "df_orders_minimal.printSchema()"
      ],
      "outputs": [
        {
          "output_type": "display_data",
          "data": {
            "application/vnd.livy.statement-meta+json": {
              "spark_pool": "poolspark3s",
              "session_id": 54,
              "statement_id": 48,
              "state": "finished",
              "livy_statement_state": "available",
              "queued_time": "2021-10-25T14:54:36.808959Z",
              "session_start_time": null,
              "execution_start_time": "2021-10-25T14:54:49.5773975Z",
              "execution_finish_time": "2021-10-25T14:54:52.3275816Z"
            },
            "text/plain": "StatementMeta(poolspark3s, 54, 48, Finished, Available)"
          },
          "metadata": {}
        },
        {
          "output_type": "stream",
          "name": "stdout",
          "text": [
            "df_customers_minimal, shape: 100000 x 3\nroot\n |-- id: string (nullable = true)\n |-- customer_id: string (nullable = true)\n |-- name: string (nullable = true)\n\ndf_orders_minimal, shape: 300000 x 4\nroot\n |-- order_id: string (nullable = true)\n |-- customer_id: string (nullable = true)\n |-- item_count: long (nullable = true)\n |-- order_total: double (nullable = true)"
          ]
        }
      ],
      "execution_count": 48,
      "metadata": {
        "jupyter": {
          "source_hidden": false,
          "outputs_hidden": false
        },
        "nteract": {
          "transient": {
            "deleting": false
          }
        }
      }
    },
    {
      "cell_type": "code",
      "source": [
        "# Join the (narrow) Customers to their (narrow) Order documents\n",
        "\n",
        "df_joined = df_orders_minimal.join(df_customers_minimal, ['customerId']) \\\n",
        "    .sort(\"customer_id\", ascending=False)\n",
        "\n",
        "\n",
        "print('df_joined, shape: {} x {}'.format(\n",
        "        df_joined.count(), len(df_joined.columns)))\n",
        "df_joined.printSchema()\n"
      ],
      "outputs": [
        {
          "output_type": "display_data",
          "data": {
            "application/vnd.livy.statement-meta+json": {
              "spark_pool": "poolspark3s",
              "session_id": 54,
              "statement_id": 49,
              "state": "finished",
              "livy_statement_state": "available",
              "queued_time": "2021-10-25T14:54:36.8778996Z",
              "session_start_time": null,
              "execution_start_time": "2021-10-25T14:54:52.4282389Z",
              "execution_finish_time": "2021-10-25T14:54:52.5801564Z"
            },
            "text/plain": "StatementMeta(poolspark3s, 54, 49, Finished, Available)"
          },
          "metadata": {}
        },
        {
          "output_type": "error",
          "ename": "AnalysisException",
          "evalue": "USING column `customerId` cannot be resolved on the left side of the join. The left-side columns: [order_id, customer_id, item_count, order_total]",
          "traceback": [
            "AnalysisException: USING column `customerId` cannot be resolved on the left side of the join. The left-side columns: [order_id, customer_id, item_count, order_total]",
            "Traceback (most recent call last):\n",
            "  File \"/opt/spark/python/lib/pyspark.zip/pyspark/sql/dataframe.py\", line 1339, in join\n    jdf = self._jdf.join(other._jdf, on, how)\n",
            "  File \"/home/trusted-service-user/cluster-env/env/lib/python3.8/site-packages/py4j/java_gateway.py\", line 1304, in __call__\n    return_value = get_return_value(\n",
            "  File \"/opt/spark/python/lib/pyspark.zip/pyspark/sql/utils.py\", line 117, in deco\n    raise converted from None\n",
            "pyspark.sql.utils.AnalysisException: USING column `customerId` cannot be resolved on the left side of the join. The left-side columns: [order_id, customer_id, item_count, order_total]\n"
          ]
        }
      ],
      "execution_count": 49,
      "metadata": {
        "jupyter": {
          "source_hidden": false,
          "outputs_hidden": false
        },
        "nteract": {
          "transient": {
            "deleting": false
          }
        }
      }
    },
    {
      "cell_type": "code",
      "source": [
        "# Display the first few rows of the df_joined Dataframe\n",
        "\n",
        "display(df_joined.limit(20))"
      ],
      "outputs": [
        {
          "output_type": "display_data",
          "data": {
            "application/vnd.livy.statement-meta+json": {
              "spark_pool": null,
              "session_id": null,
              "statement_id": null,
              "state": "cancelled",
              "livy_statement_state": null,
              "queued_time": "2021-10-25T14:54:36.930657Z",
              "session_start_time": null,
              "execution_start_time": null,
              "execution_finish_time": "2021-10-25T14:54:52.5920377Z"
            },
            "text/plain": "StatementMeta(, , , Cancelled, )"
          },
          "metadata": {}
        }
      ],
      "execution_count": null,
      "metadata": {
        "jupyter": {
          "source_hidden": false,
          "outputs_hidden": false
        },
        "nteract": {
          "transient": {
            "deleting": false
          }
        },
        "collapsed": false
      }
    },
    {
      "cell_type": "code",
      "source": [
        "# Group the df_joined Dataframe by customerId, sum on order total and total_orders\n",
        "\n",
        "df_grouped = df_joined.groupby(\"customer_id\") \\\n",
        "    .sum(\"order_total\").alias('total_orders') \\\n",
        "    .sort(\"customer_id\", ascending=False)\n",
        "\n",
        "display(df_grouped.printSchema())\n",
        "print((df_grouped.count(), len(df_grouped.columns)))\n",
        "\n"
      ],
      "outputs": [
        {
          "output_type": "display_data",
          "data": {
            "application/vnd.livy.statement-meta+json": {
              "spark_pool": null,
              "session_id": null,
              "statement_id": null,
              "state": "cancelled",
              "livy_statement_state": null,
              "queued_time": "2021-10-25T14:54:36.9911218Z",
              "session_start_time": null,
              "execution_start_time": null,
              "execution_finish_time": "2021-10-25T14:54:52.5925801Z"
            },
            "text/plain": "StatementMeta(, , , Cancelled, )"
          },
          "metadata": {}
        }
      ],
      "execution_count": null,
      "metadata": {
        "jupyter": {
          "source_hidden": false,
          "outputs_hidden": false
        },
        "nteract": {
          "transient": {
            "deleting": false
          }
        }
      }
    },
    {
      "cell_type": "code",
      "source": [
        "import pyspark.sql.functions as F \n",
        "#from pyspark.sql.functions import col\n",
        "\n",
        "df_agg = df_joined.groupBy(\"customerId\") \\\n",
        "    .agg(\n",
        "        F.first('id').alias('id'), \\\n",
        "        F.count(\"customer_id\").alias('order_count'), \\\n",
        "        F.sum(\"order_total\").alias(\"total_dollar_amount\"), \\\n",
        "        F.sum(\"item_count\").alias(\"total_item_count\")) \\\n",
        "        .sort(\"customer_id\", ascending=False)\n",
        "\n",
        "display(df_agg.printSchema())\n",
        "print((df_agg.count(), len(df_agg.columns)))"
      ],
      "outputs": [
        {
          "output_type": "display_data",
          "data": {
            "application/vnd.livy.statement-meta+json": {
              "spark_pool": null,
              "session_id": null,
              "statement_id": null,
              "state": "cancelled",
              "livy_statement_state": null,
              "queued_time": "2021-10-25T14:54:37.0429275Z",
              "session_start_time": null,
              "execution_start_time": null,
              "execution_finish_time": "2021-10-25T14:54:52.5931446Z"
            },
            "text/plain": "StatementMeta(, , , Cancelled, )"
          },
          "metadata": {}
        }
      ],
      "execution_count": null,
      "metadata": {
        "jupyter": {
          "source_hidden": false,
          "outputs_hidden": false
        },
        "nteract": {
          "transient": {
            "deleting": false
          }
        }
      }
    },
    {
      "cell_type": "code",
      "source": [
        "display(df_agg.limit(30))"
      ],
      "outputs": [
        {
          "output_type": "display_data",
          "data": {
            "application/vnd.livy.statement-meta+json": {
              "spark_pool": null,
              "session_id": null,
              "statement_id": null,
              "state": "cancelled",
              "livy_statement_state": null,
              "queued_time": "2021-10-25T14:54:37.1097286Z",
              "session_start_time": null,
              "execution_start_time": null,
              "execution_finish_time": "2021-10-25T14:54:52.593729Z"
            },
            "text/plain": "StatementMeta(, , , Cancelled, )"
          },
          "metadata": {}
        }
      ],
      "execution_count": null,
      "metadata": {
        "jupyter": {
          "source_hidden": false,
          "outputs_hidden": false
        },
        "nteract": {
          "transient": {
            "deleting": false
          }
        },
        "collapsed": false
      }
    },
    {
      "cell_type": "code",
      "source": [
        "from pyspark.sql import SparkSession\n",
        "from pyspark.sql.types import *\n",
        "\n",
        "import pyspark.sql.functions as F \n",
        "\n",
        "# See https://github.com/Azure-Samples/Synapse/blob/main/Notebooks/PySpark/02%20Read%20and%20write%20data%20from%20Azure%20Blob%20Storage%20WASB.ipynb\n",
        "\n",
        "# Azure storage access info\n",
        "blob_account_name   = 'cjoakimstorage'\n",
        "blob_container_name = 'synapse'\n",
        "blob_relative_path  = 'ecomm/'\n",
        "linked_service_name = 'cjoakimstorageAzureBlobStorage'\n",
        "\n",
        "blob_sas_token = mssparkutils.credentials.getConnectionStringOrCreds(\n",
        "    linked_service_name)\n",
        "print('blob_sas_token: {}'.format(blob_sas_token))\n",
        "\n",
        "# Allow Spark to access from Blob remotely\n",
        "wasbs_path = 'wasbs://%s@%s.blob.core.windows.net/%s' % (\n",
        "    blob_container_name, blob_account_name, blob_relative_path)\n",
        "spark.conf.set('fs.azure.sas.%s.%s.blob.core.windows.net' % (\n",
        "    blob_container_name, blob_account_name), blob_sas_token)\n",
        "print('Remote wasbs_path: ' + wasbs_path)\n",
        "\n",
        "csv_path  = '{}{}'.format(wasbs_path,'sales_by_customer_csv')\n",
        "json_path = '{}{}'.format(wasbs_path,'sales_by_customer_json')\n",
        "\n",
        "df_agg.coalesce(1).write.csv(csv_path, mode='overwrite', header='true')\n",
        "#df_agg.coalesce(1).write.json(json_path, mode='overwrite')\n"
      ],
      "outputs": [
        {
          "output_type": "display_data",
          "data": {
            "application/vnd.livy.statement-meta+json": {
              "spark_pool": null,
              "session_id": null,
              "statement_id": null,
              "state": "cancelled",
              "livy_statement_state": null,
              "queued_time": "2021-10-25T14:54:37.1809946Z",
              "session_start_time": null,
              "execution_start_time": null,
              "execution_finish_time": "2021-10-25T14:54:52.5944825Z"
            },
            "text/plain": "StatementMeta(, , , Cancelled, )"
          },
          "metadata": {}
        }
      ],
      "execution_count": null,
      "metadata": {
        "jupyter": {
          "source_hidden": false,
          "outputs_hidden": false
        },
        "nteract": {
          "transient": {
            "deleting": false
          }
        }
      }
    },
    {
      "cell_type": "code",
      "source": [
        "\n",
        "# Write to CosmosDB - linked service 'demoCosmosDB'\n",
        "# See https://docs.microsoft.com/en-us/azure/synapse-analytics/synapse-link/how-to-query-analytical-store-spark#write-spark-dataframe-to-azure-cosmos-db-container\n",
        "\n",
        "df_agg.write.format(\"cosmos.oltp\")\\\n",
        "    .option(\"spark.synapse.linkedService\", \"demoCosmosDB\")\\\n",
        "    .option(\"spark.cosmos.container\", \"sales_by_customer\")\\\n",
        "    .option(\"spak.cosmos.write.upsertenabled\", \"true\")\\\n",
        "    .mode('append')\\\n",
        "    .save()\n"
      ],
      "outputs": [
        {
          "output_type": "display_data",
          "data": {
            "application/vnd.livy.statement-meta+json": {
              "spark_pool": null,
              "session_id": null,
              "statement_id": null,
              "state": "cancelled",
              "livy_statement_state": null,
              "queued_time": "2021-10-25T14:54:37.2273291Z",
              "session_start_time": null,
              "execution_start_time": null,
              "execution_finish_time": "2021-10-25T14:54:52.5950998Z"
            },
            "text/plain": "StatementMeta(, , , Cancelled, )"
          },
          "metadata": {}
        }
      ],
      "execution_count": null,
      "metadata": {
        "jupyter": {
          "source_hidden": false,
          "outputs_hidden": false
        },
        "nteract": {
          "transient": {
            "deleting": false
          }
        },
        "microsoft": {}
      }
    }
  ],
  "metadata": {
    "kernelspec": {
      "name": "synapse_pyspark",
      "language": "Python",
      "display_name": "Synapse PySpark"
    },
    "language_info": {
      "name": "python"
    },
    "kernel_info": {
      "name": "synapse_pyspark"
    },
    "save_output": false,
    "synapse_widget": {
      "version": "0.1",
      "state": {
        "3a736dec-2fbb-406a-9e34-b3ddda257a57": {
          "type": "Synapse.DataFrame",
          "sync_state": {
            "table": {
              "rows": [
                {
                  "0": "HfwXAN4KYILhkwQAAAAAAA==",
                  "1": "1635169282",
                  "2": "0058728110570",
                  "3": "customer",
                  "5": "Jose Larsen",
                  "6": "Jose",
                  "7": "Larsen",
                  "8": {
                    "street": "221 Cortez Manor",
                    "city": "Gregorybury",
                    "state": "WY",
                    "zip": "37804"
                  },
                  "9": "1635169281506",
                  "10": "2021/10/25-13:41:21",
                  "11": "743a6637-a512-4704-9335-e52815442a3f",
                  "12": "\"240135d9-0000-0100-0000-6176b4020000\"",
                  "13": "0058728110570"
                },
                {
                  "0": "HfwXAN4KYILikwQAAAAAAA==",
                  "1": "1635169282",
                  "2": "0066859449759",
                  "3": "customer",
                  "5": "Mason Jensen",
                  "6": "Mason",
                  "7": "Jensen",
                  "8": {
                    "street": "441 Joshua Court Suite 917",
                    "city": "New Isaiah",
                    "state": "NC",
                    "zip": "57377"
                  },
                  "9": "1635169281505",
                  "10": "2021/10/25-13:41:21",
                  "11": "607d575a-b5e6-4105-9ab8-8dbd4ab83871",
                  "12": "\"240136d9-0000-0100-0000-6176b4020000\"",
                  "13": "0066859449759"
                },
                {
                  "0": "HfwXAN4KYILjkwQAAAAAAA==",
                  "1": "1635169282",
                  "2": "0002600575988",
                  "3": "customer",
                  "5": "Tammy White",
                  "6": "Tammy",
                  "7": "White",
                  "8": {
                    "street": "638 Savage Loaf Apt. 776",
                    "city": "Charlestown",
                    "state": "CO",
                    "zip": "34017"
                  },
                  "9": "1635169281506",
                  "10": "2021/10/25-13:41:21",
                  "11": "98d9076c-9b90-4e32-8adf-669588c1dce2",
                  "12": "\"240137d9-0000-0100-0000-6176b4020000\"",
                  "13": "0002600575988"
                }
              ],
              "schema": [
                {
                  "key": "0",
                  "name": "_rid",
                  "type": "string"
                },
                {
                  "key": "1",
                  "name": "_ts",
                  "type": "bigint"
                },
                {
                  "key": "2",
                  "name": "pk",
                  "type": "string"
                },
                {
                  "key": "3",
                  "name": "doctype",
                  "type": "string"
                },
                {
                  "key": "4",
                  "name": "customerId",
                  "type": "string"
                },
                {
                  "key": "5",
                  "name": "name",
                  "type": "string"
                },
                {
                  "key": "6",
                  "name": "first",
                  "type": "string"
                },
                {
                  "key": "7",
                  "name": "last",
                  "type": "string"
                },
                {
                  "key": "8",
                  "name": "address",
                  "type": "StructType(StructField(street,StringType,true), StructField(city,StringType,true), StructField(state,StringType,true), StructField(zip,StringType,true))"
                },
                {
                  "key": "9",
                  "name": "doc_epoch",
                  "type": "bigint"
                },
                {
                  "key": "10",
                  "name": "doc_time",
                  "type": "string"
                },
                {
                  "key": "11",
                  "name": "id",
                  "type": "string"
                },
                {
                  "key": "12",
                  "name": "_etag",
                  "type": "string"
                },
                {
                  "key": "13",
                  "name": "customer_id",
                  "type": "string"
                }
              ]
            },
            "isSummary": false,
            "language": "scala"
          },
          "persist_state": {
            "view": {
              "type": "details",
              "tableOptions": {},
              "chartOptions": {
                "chartType": "bar",
                "aggregationType": "sum",
                "categoryFieldKeys": [
                  "0"
                ],
                "seriesFieldKeys": [
                  "1"
                ],
                "isStacked": false
              }
            }
          }
        },
        "d064a02b-1f8b-4c31-8eee-1c793981f014": {
          "type": "Synapse.DataFrame",
          "sync_state": {
            "table": {
              "rows": [
                {
                  "0": "HfwXAItzqDKXDzAAAAAAAA==",
                  "1": "1635169516",
                  "3": "order",
                  "12": "1635169515487",
                  "13": "2021/10/25-13:45:15",
                  "14": "ec1b9af5-3122-49fd-be03-1c7c67728db4",
                  "15": "\"26010de0-0000-0100-0000-6176b4ec0000\"",
                  "18": "1",
                  "19": "28.45",
                  "20": "0",
                  "21": "2020-11-30",
                  "22": "v2",
                  "23": "c2a8bf8c-a681-4737-8581-bcf3e1db54f9",
                  "25": "0009979393496"
                },
                {
                  "0": "HfwXAItzqDKdDzAAAAAAAA==",
                  "1": "1635169516",
                  "3": "order",
                  "12": "1635169515487",
                  "13": "2021/10/25-13:45:15",
                  "14": "c0abec99-7030-4a9c-aec3-a4623998ced5",
                  "15": "\"260113e0-0000-0100-0000-6176b4ec0000\"",
                  "18": "1",
                  "19": "29.98",
                  "20": "0",
                  "21": "2021-07-30",
                  "22": "v2",
                  "23": "a17106c0-0e60-4fe6-8d18-73644a34faa6",
                  "25": "0000681683547"
                },
                {
                  "0": "HfwXAItzqDKfDzAAAAAAAA==",
                  "1": "1635169516",
                  "3": "order",
                  "12": "1635169515485",
                  "13": "2021/10/25-13:45:15",
                  "14": "d5609680-fac6-4b75-a714-9d74881b0f45",
                  "15": "\"260115e0-0000-0100-0000-6176b4ec0000\"",
                  "18": "3",
                  "19": "200.91",
                  "20": "0",
                  "21": "2021-02-21",
                  "22": "v2",
                  "23": "4d3039d3-df46-4173-8026-c71d653d3454",
                  "25": "0050285677664"
                }
              ],
              "schema": [
                {
                  "key": "0",
                  "name": "_rid",
                  "type": "string"
                },
                {
                  "key": "1",
                  "name": "_ts",
                  "type": "bigint"
                },
                {
                  "key": "2",
                  "name": "pk",
                  "type": "bigint"
                },
                {
                  "key": "3",
                  "name": "doctype",
                  "type": "string"
                },
                {
                  "key": "4",
                  "name": "orderId",
                  "type": "bigint"
                },
                {
                  "key": "5",
                  "name": "lineNumber",
                  "type": "bigint"
                },
                {
                  "key": "6",
                  "name": "customerId",
                  "type": "string"
                },
                {
                  "key": "7",
                  "name": "sku",
                  "type": "bigint"
                },
                {
                  "key": "8",
                  "name": "name",
                  "type": "string"
                },
                {
                  "key": "9",
                  "name": "qty",
                  "type": "bigint"
                },
                {
                  "key": "10",
                  "name": "price",
                  "type": "double"
                },
                {
                  "key": "11",
                  "name": "item_total",
                  "type": "double"
                },
                {
                  "key": "12",
                  "name": "doc_epoch",
                  "type": "bigint"
                },
                {
                  "key": "13",
                  "name": "doc_time",
                  "type": "string"
                },
                {
                  "key": "14",
                  "name": "id",
                  "type": "string"
                },
                {
                  "key": "15",
                  "name": "_etag",
                  "type": "string"
                },
                {
                  "key": "16",
                  "name": "status",
                  "type": "string"
                },
                {
                  "key": "17",
                  "name": "date_time",
                  "type": "string"
                },
                {
                  "key": "18",
                  "name": "item_count",
                  "type": "bigint"
                },
                {
                  "key": "19",
                  "name": "order_total",
                  "type": "double"
                },
                {
                  "key": "20",
                  "name": "delivery_count",
                  "type": "bigint"
                },
                {
                  "key": "21",
                  "name": "order_date",
                  "type": "string"
                },
                {
                  "key": "22",
                  "name": "version",
                  "type": "string"
                },
                {
                  "key": "23",
                  "name": "order_id",
                  "type": "string"
                },
                {
                  "key": "24",
                  "name": "line_num",
                  "type": "bigint"
                },
                {
                  "key": "25",
                  "name": "customer_id",
                  "type": "string"
                }
              ]
            },
            "isSummary": false,
            "language": "scala"
          },
          "persist_state": {
            "view": {
              "type": "details",
              "tableOptions": {},
              "chartOptions": {
                "chartType": "bar",
                "aggregationType": "sum",
                "categoryFieldKeys": [
                  "0"
                ],
                "seriesFieldKeys": [
                  "1"
                ],
                "isStacked": false
              }
            }
          }
        }
      }
    }
  },
  "nbformat": 4,
  "nbformat_minor": 2
}