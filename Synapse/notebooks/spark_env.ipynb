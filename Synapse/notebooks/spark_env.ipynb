{
  "cells": [
    {
      "cell_type": "markdown",
      "source": [
        "# Interact with the Spark Environment\n"
      ],
      "metadata": {
        "nteract": {
          "transient": {
            "deleting": false
          }
        }
      }
    },
    {
      "cell_type": "code",
      "source": [
        "%%pyspark \n",
        "\n",
        "# Display Installed Packages\n",
        "\n",
        "import pkg_resources\n",
        "pkg_list = list()\n",
        "\n",
        "for d in sorted(pkg_resources.working_set):\n",
        "    pkg_list.append(str(d))\n",
        "for p in sorted(pkg_list):\n",
        "    print(p)\n"
      ],
      "outputs": [],
      "execution_count": null,
      "metadata": {
        "microsoft": {
          "language": "python"
        }
      }
    },
    {
      "cell_type": "code",
      "source": [
        "%%pyspark\n",
        "\n",
        "# Display Spark Version\n",
        "\n",
        "import json\n",
        "import os\n",
        "\n",
        "from pyspark.conf import SparkConf\n",
        "from pyspark.sql import SparkSession\n",
        "from pyspark.sql.types import *\n",
        "\n",
        "sc = SparkSession.builder.getOrCreate() \n",
        "\n",
        "print(str(type(sc)))          # <class 'pyspark.sql.session.SparkSession'>\n",
        "print(str(type(spark.conf)))  # <class 'pyspark.sql.conf.RuntimeConfig'>\n",
        "print('spark version:  {}'.format(sc.version))\n"
      ],
      "outputs": [],
      "execution_count": null,
      "metadata": {
        "jupyter": {
          "source_hidden": false,
          "outputs_hidden": false
        },
        "nteract": {
          "transient": {
            "deleting": false
          }
        },
        "microsoft": {
          "language": "python"
        }
      }
    },
    {
      "cell_type": "code",
      "source": [
        "%%pyspark \n",
        "\n",
        "# Interact with spark.conf in PySpark\n",
        "\n",
        "print('workspace name: {}'.format(spark.conf.get('spark.synapse.workspace.name')))\n",
        "\n",
        "spark.conf.set(\"mood\", \"happy\")\n",
        "print('mood: {}'.format(spark.conf.get('mood')))\n"
      ],
      "outputs": [],
      "execution_count": null,
      "metadata": {
        "jupyter": {
          "source_hidden": false,
          "outputs_hidden": false
        },
        "nteract": {
          "transient": {
            "deleting": false
          }
        },
        "microsoft": {
          "language": "python"
        }
      }
    },
    {
      "cell_type": "code",
      "source": [
        "%%spark \n",
        "\n",
        "// Interact with spark.conf in Scala\n",
        "\n",
        "val conf = spark.conf \n",
        "\n",
        "println(conf.get(\"spark.synapse.workspace.name\"))\n",
        "println(conf.get(\"mood\"))\n",
        "\n",
        "conf.set(\"mood\", \"thrilled\")\n",
        "println(conf.get(\"mood\"))\n"
      ],
      "outputs": [],
      "execution_count": null,
      "metadata": {
        "jupyter": {
          "source_hidden": false,
          "outputs_hidden": false
        },
        "nteract": {
          "transient": {
            "deleting": false
          }
        },
        "microsoft": {
          "language": "scala"
        }
      }
    },
    {
      "cell_type": "code",
      "source": [
        "%%spark\n",
        "\n",
        "// Display the sorted entries of the Spark Conf \n",
        "\n",
        "val arrayConfig = spark.sparkContext.getConf.getAll\n",
        "for (conf <- arrayConfig.sorted)\n",
        "    println(conf._1 + \", \" + conf._2)\n"
      ],
      "outputs": [],
      "execution_count": null,
      "metadata": {
        "jupyter": {
          "source_hidden": false,
          "outputs_hidden": false
        },
        "nteract": {
          "transient": {
            "deleting": false
          }
        },
        "microsoft": {
          "language": "scala"
        }
      }
    },
    {
      "cell_type": "code",
      "source": [
        "%%pyspark\n",
        "\n",
        "# Display the Environment Variables\n",
        "\n",
        "import os \n",
        "\n",
        "for name in sorted(os.environ.keys()):\n",
        "    value = os.environ[name]\n",
        "    print(\"---\\n{}\\n{}\".format(name, value))\n"
      ],
      "outputs": [],
      "execution_count": null,
      "metadata": {
        "jupyter": {
          "source_hidden": false,
          "outputs_hidden": false
        },
        "nteract": {
          "transient": {
            "deleting": false
          }
        },
        "microsoft": {
          "language": "python"
        }
      }
    },
    {
      "cell_type": "code",
      "source": [],
      "outputs": [],
      "execution_count": null,
      "metadata": {
        "jupyter": {
          "source_hidden": false,
          "outputs_hidden": false
        },
        "nteract": {
          "transient": {
            "deleting": false
          }
        }
      }
    }
  ],
  "metadata": {
    "kernelspec": {
      "name": "synapse_pyspark",
      "language": "Python",
      "display_name": "Synapse PySpark"
    },
    "language_info": {
      "name": "python"
    },
    "kernel_info": {
      "name": "synapse_pyspark"
    },
    "description": null,
    "save_output": false,
    "synapse_widget": {
      "version": "0.1",
      "state": {}
    }
  },
  "nbformat": 4,
  "nbformat_minor": 2
}