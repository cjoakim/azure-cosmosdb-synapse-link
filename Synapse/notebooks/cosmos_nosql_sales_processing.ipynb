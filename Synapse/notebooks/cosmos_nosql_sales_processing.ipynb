{
  "cells": [
    {
      "cell_type": "markdown",
      "source": [
        "## Synapse Sales Aggregation Notebook\r\n",
        "\r\n",
        "Chris Joakim, Cosmos DB GBB, Microsoft\r\n",
        "\r\n",
        "### This Spark/PySpark Notebook demonstrates how to:\r\n",
        "\r\n",
        "- **Read the Synapse Link Analytic Datastore with Spark in Azure Synapse**\r\n",
        "  - This Analytic Datastore contains the data from the Cosmos DB sales container\r\n",
        "  - Implementation language is Python (i.e. - PySpark).\r\n",
        "- **Filter the sales data (by doctype, timestamp) while reading it**\r\n",
        "- **Aggregate the sales data by customer_id**\r\n",
        "- Displaying the \"shape\" of the dataframes, and observed schema\r\n",
        "- Writing the aggregated **Materialized Views** of **sales-by-customer** to the Cosmos DB views container\r\n",
        "- Writing a list of Sales ids and partition keys, in the last 24 hours, to a **batch processing** container\r\n",
        "\r\n",
        "---\r\n",
        "\r\n",
        "#### Spark Notebook Code Location\r\n",
        "\r\n",
        "- GitHub repo:  https://github.com/cjoakim/azure-cosmosdb-synapse-link\r\n",
        "- File in repo: Synapse/notebooks/cosmos_nosql_sales_processing.ipynb\r\n",
        "\r\n",
        "#### Loading the Cosmos DB Sales Container\r\n",
        "\r\n",
        "- See GitHub repo: https://github.com/cjoakim/azure-cosmos-db\r\n",
        "- From directory apis\\nosql\\python, run the following command:\r\n",
        "```\r\n",
        "> python main.py load_sales retail sales sales1.json 99999\r\n",
        "```\r\n",
        "\r\n",
        "\r\n",
        "#### Truncating the Materialized Views container\r\n",
        "\r\n",
        "See GitHub repo: https://github.com/cjoakim/azure-cosmos-db\r\n",
        "From directory '\\apis\\nosql\\dotnet', run the following command:\r\n",
        "```\r\n",
        "> dotnet run truncate_container retail views\r\n",
        "```"
      ],
      "metadata": {
        "nteract": {
          "transient": {
            "deleting": false
          }
        }
      }
    },
    {
      "cell_type": "code",
      "source": [
        "# Query the current epoch time, with simple Python code, to generate a query like this:\r\n",
        "# SELECT count(1) FROM c where c._ts > 1694698000\r\n",
        "# This SQL query will be used vs the Cosmos DB 'views' container, which is\r\n",
        "# updated later in this notebook.\r\n",
        "                                     \r\n",
        "import time\r\n",
        "\r\n",
        "epoch_now = int(time.time())  # epoch seconds as a float\r\n",
        "seconds_per_day = 60 * 60 * 24\r\n",
        "epoch_yesterday = epoch_now - seconds_per_day\r\n",
        "\r\n",
        "print('epoch_now: {}, epoch_yesterday: {}, seconds_per_day: {}'.format(\r\n",
        "    epoch_now, epoch_yesterday, seconds_per_day))\r\n",
        "\r\n",
        "print('SELECT count(1) FROM c where c._ts > {}'.format(epoch_now))\r\n"
      ],
      "outputs": [
        {
          "output_type": "display_data",
          "data": {
            "application/vnd.livy.statement-meta+json": {
              "spark_pool": "sparkpool3m",
              "session_id": "4",
              "statement_id": 42,
              "state": "finished",
              "livy_statement_state": "available",
              "queued_time": "2023-11-22T13:45:34.6152876Z",
              "session_start_time": null,
              "execution_start_time": "2023-11-22T13:45:34.7888141Z",
              "execution_finish_time": "2023-11-22T13:45:34.9809148Z",
              "spark_jobs": null,
              "parent_msg_id": "a8f3efcd-f7e1-4688-9894-116e23aa6fa8"
            },
            "text/plain": "StatementMeta(sparkpool3m, 4, 42, Finished, Available)"
          },
          "metadata": {}
        },
        {
          "output_type": "stream",
          "name": "stdout",
          "text": [
            "epoch_now: 1700660734, epoch_yesterday: 1700574334, seconds_per_day: 86400\nSELECT count(1) FROM c where c._ts > 1700660734\n"
          ]
        }
      ],
      "execution_count": 41,
      "metadata": {
        "jupyter": {
          "source_hidden": false,
          "outputs_hidden": false
        },
        "nteract": {
          "transient": {
            "deleting": false
          }
        }
      }
    },
    {
      "cell_type": "code",
      "source": [
        "# Load the Synapse Link Sales Data into a Spark Dataframe.\n",
        "# Select just the \"sale\" document types from the sales container, \n",
        "# which have a minimum _ts (timestamp) value\n",
        "\n",
        "from pyspark.sql.functions import col\n",
        "\n",
        "# read just the doctype \"sales\", not the \"line_item\" documents\n",
        "# \"cosmos.oltp\" = CosmosDB live database\n",
        "# \"cosmos.olap\" = Synapse Link Analytic Datastore\n",
        "\n",
        "df_sales = spark.read\\\n",
        "    .format(\"cosmos.olap\")\\\n",
        "    .option(\"spark.synapse.linkedService\", \"gbbcjcdbnosql_retail_db\")\\\n",
        "    .option(\"spark.cosmos.container\", \"sales\")\\\n",
        "    .load().filter(col(\"doctype\") == \"sale\")\\\n",
        "    .filter(col(\"_ts\") > epoch_yesterday)\\\n",
        "    .filter(col(\"_ts\") < epoch_now)\n",
        "\n",
        "display(df_sales.limit(3))\n"
      ],
      "outputs": [
        {
          "output_type": "display_data",
          "data": {
            "application/vnd.livy.statement-meta+json": {
              "spark_pool": "sparkpool3m",
              "session_id": "4",
              "statement_id": 43,
              "state": "finished",
              "livy_statement_state": "available",
              "queued_time": "2023-11-22T13:45:34.6643897Z",
              "session_start_time": null,
              "execution_start_time": "2023-11-22T13:45:35.2377057Z",
              "execution_finish_time": "2023-11-22T13:45:37.6689983Z",
              "spark_jobs": null,
              "parent_msg_id": "ed3331b4-aad8-46cd-af5b-ecf10d78ba8f"
            },
            "text/plain": "StatementMeta(sparkpool3m, 4, 43, Finished, Available)"
          },
          "metadata": {}
        },
        {
          "output_type": "display_data",
          "data": {
            "application/vnd.synapse.widget-view+json": {
              "widget_id": "3b82316c-5ae1-45d1-9464-74786fb31323",
              "widget_type": "Synapse.DataFrame"
            },
            "text/plain": "SynapseWidget(Synapse.DataFrame, 3b82316c-5ae1-45d1-9464-74786fb31323)"
          },
          "metadata": {}
        }
      ],
      "execution_count": 42,
      "metadata": {
        "collapsed": false
      }
    },
    {
      "cell_type": "code",
      "source": [
        "# Display the shape and observed schema of the DataFrame\r\n",
        "\r\n",
        "print('df_sales, shape: {} x {}'.format(\r\n",
        "        df_sales.count(), len(df_sales.columns)))\r\n",
        "        \r\n",
        "df_sales.printSchema()\r\n"
      ],
      "outputs": [
        {
          "output_type": "display_data",
          "data": {
            "application/vnd.livy.statement-meta+json": {
              "spark_pool": "sparkpool3m",
              "session_id": "4",
              "statement_id": 44,
              "state": "finished",
              "livy_statement_state": "available",
              "queued_time": "2023-11-22T13:45:34.7156341Z",
              "session_start_time": null,
              "execution_start_time": "2023-11-22T13:45:37.8329278Z",
              "execution_finish_time": "2023-11-22T13:45:38.3864029Z",
              "spark_jobs": null,
              "parent_msg_id": "00b80073-e155-4ccc-9467-12c47741c8a6"
            },
            "text/plain": "StatementMeta(sparkpool3m, 4, 44, Finished, Available)"
          },
          "metadata": {}
        },
        {
          "output_type": "stream",
          "name": "stdout",
          "text": [
            "df_sales, shape: 7564 x 21\nroot\n |-- _rid: string (nullable = true)\n |-- _ts: long (nullable = true)\n |-- pk: string (nullable = true)\n |-- id: string (nullable = true)\n |-- sale_id: long (nullable = true)\n |-- doctype: string (nullable = true)\n |-- date: string (nullable = true)\n |-- line_num: long (nullable = true)\n |-- customer_id: long (nullable = true)\n |-- store_id: long (nullable = true)\n |-- upc: string (nullable = true)\n |-- price: double (nullable = true)\n |-- qty: long (nullable = true)\n |-- cost: double (nullable = true)\n |-- seq: long (nullable = true)\n |-- _etag: string (nullable = true)\n |-- dow: string (nullable = true)\n |-- item_count: long (nullable = true)\n |-- total_cost: double (nullable = true)\n |-- doc_epoch: long (nullable = true)\n |-- doc_time: string (nullable = true)\n\n"
          ]
        }
      ],
      "execution_count": 43,
      "metadata": {
        "jupyter": {
          "source_hidden": false,
          "outputs_hidden": false
        },
        "nteract": {
          "transient": {
            "deleting": false
          }
        }
      }
    },
    {
      "cell_type": "code",
      "source": [
        "# Aggregate Sales by Customer \r\n",
        "\r\n",
        "import pyspark.sql.functions as F \r\n",
        "\r\n",
        "df_customer_aggregated = df_sales.groupBy(\"customer_id\") \\\r\n",
        "    .agg(\r\n",
        "        F.first('id').alias('id'), \\\r\n",
        "        F.first('customer_id').alias('pk'), \\\r\n",
        "        F.count(\"customer_id\").alias('order_count'), \\\r\n",
        "        F.sum(\"total_cost\").alias(\"total_dollar_amount\"), \\\r\n",
        "        F.sum(\"item_count\").alias(\"total_item_count\")) \\\r\n",
        "        .sort(\"customer_id\", ascending=True)\r\n",
        "\r\n",
        "display(df_customer_aggregated.limit(10))\r\n"
      ],
      "outputs": [
        {
          "output_type": "display_data",
          "data": {
            "application/vnd.livy.statement-meta+json": {
              "spark_pool": "sparkpool3m",
              "session_id": "4",
              "statement_id": 45,
              "state": "finished",
              "livy_statement_state": "available",
              "queued_time": "2023-11-22T13:45:34.7805069Z",
              "session_start_time": null,
              "execution_start_time": "2023-11-22T13:45:38.5477505Z",
              "execution_finish_time": "2023-11-22T13:45:39.6486181Z",
              "spark_jobs": null,
              "parent_msg_id": "fdbaadb9-3041-41f3-aac4-a3d9509e7b34"
            },
            "text/plain": "StatementMeta(sparkpool3m, 4, 45, Finished, Available)"
          },
          "metadata": {}
        },
        {
          "output_type": "display_data",
          "data": {
            "application/vnd.synapse.widget-view+json": {
              "widget_id": "f7a6d1c7-41cc-4c0a-a17e-a333f9d4f96b",
              "widget_type": "Synapse.DataFrame"
            },
            "text/plain": "SynapseWidget(Synapse.DataFrame, f7a6d1c7-41cc-4c0a-a17e-a333f9d4f96b)"
          },
          "metadata": {}
        }
      ],
      "execution_count": 44,
      "metadata": {
        "jupyter": {
          "source_hidden": false,
          "outputs_hidden": false
        },
        "nteract": {
          "transient": {
            "deleting": false
          }
        },
        "collapsed": false
      }
    },
    {
      "cell_type": "code",
      "source": [
        "# Display the shape and observed schema of the DataFrame\r\n",
        "\r\n",
        "print('df_customer_aggregated, shape: {} x {}'.format(\r\n",
        "        df_customer_aggregated.count(), len(df_customer_aggregated.columns)))\r\n",
        "        \r\n",
        "df_customer_aggregated.printSchema()\r\n"
      ],
      "outputs": [
        {
          "output_type": "display_data",
          "data": {
            "application/vnd.livy.statement-meta+json": {
              "spark_pool": "sparkpool3m",
              "session_id": "4",
              "statement_id": 46,
              "state": "finished",
              "livy_statement_state": "available",
              "queued_time": "2023-11-22T13:45:34.8166894Z",
              "session_start_time": null,
              "execution_start_time": "2023-11-22T13:45:39.814095Z",
              "execution_finish_time": "2023-11-22T13:45:40.9822967Z",
              "spark_jobs": null,
              "parent_msg_id": "2133490e-6cb8-4d8c-8c5f-40018ff03a8f"
            },
            "text/plain": "StatementMeta(sparkpool3m, 4, 46, Finished, Available)"
          },
          "metadata": {}
        },
        {
          "output_type": "stream",
          "name": "stdout",
          "text": [
            "df_customer_aggregated, shape: 5294 x 6\nroot\n |-- customer_id: long (nullable = true)\n |-- id: string (nullable = true)\n |-- pk: long (nullable = true)\n |-- order_count: long (nullable = false)\n |-- total_dollar_amount: double (nullable = true)\n |-- total_item_count: long (nullable = true)\n\n"
          ]
        }
      ],
      "execution_count": 45,
      "metadata": {
        "jupyter": {
          "source_hidden": false,
          "outputs_hidden": false
        },
        "nteract": {
          "transient": {
            "deleting": false
          }
        }
      }
    },
    {
      "cell_type": "code",
      "source": [
        "# Write the customer-aggregated DataFrame to the Cosmos DB\r\n",
        "# sales_aggregates container.  The id and pk is the customer ID,\r\n",
        "# and upserts are enabled.\r\n",
        "\r\n",
        "df_customer_aggregated.write.format(\"cosmos.oltp\")\\\r\n",
        "    .option(\"spark.synapse.linkedService\", \"gbbcjcdbnosql_retail_db\")\\\r\n",
        "    .option(\"spark.cosmos.container\", \"views\")\\\r\n",
        "    .mode('append')\\\r\n",
        "    .save()\r\n"
      ],
      "outputs": [
        {
          "output_type": "display_data",
          "data": {
            "application/vnd.livy.statement-meta+json": {
              "spark_pool": "sparkpool3m",
              "session_id": "4",
              "statement_id": 47,
              "state": "finished",
              "livy_statement_state": "available",
              "queued_time": "2023-11-22T13:45:34.8737395Z",
              "session_start_time": null,
              "execution_start_time": "2023-11-22T13:45:41.1453104Z",
              "execution_finish_time": "2023-11-22T13:45:57.8885448Z",
              "spark_jobs": null,
              "parent_msg_id": "e66cdff4-0442-4c78-83a9-d148d339e33a"
            },
            "text/plain": "StatementMeta(sparkpool3m, 4, 47, Finished, Available)"
          },
          "metadata": {}
        }
      ],
      "execution_count": 46,
      "metadata": {
        "jupyter": {
          "source_hidden": false,
          "outputs_hidden": false
        },
        "nteract": {
          "transient": {
            "deleting": false
          }
        }
      }
    },
    {
      "cell_type": "code",
      "source": [
        "# Produce a list of the ids and partition keys of the Sales documents\r\n",
        "# in the last 24 hours.  This list can drive daily batch processing.\r\n",
        "\r\n",
        "# time.time() return the time in seconds since the epoch as a floating point number. \r\n",
        "epoch_now = int(time.time())\r\n",
        "seconds_per_day = 60 * 60 * 24\r\n",
        "epoch_yesterday = epoch_now - seconds_per_day\r\n",
        "print('epoch_now: {}, epoch_yesterday: {}, seconds_per_day: {}'.format(\r\n",
        "    epoch_now, epoch_yesterday, seconds_per_day))\r\n",
        "\r\n",
        "df_sales_coordinates = df_sales.select(\r\n",
        "    col('id'),\r\n",
        "    col('pk'))\r\n",
        "\r\n",
        "print('df_sales_coordinates, shape: {} x {}'.format(\r\n",
        "        df_sales_coordinates.count(), len(df_sales_coordinates.columns)))\r\n",
        "df_sales_coordinates.printSchema() \r\n",
        "\r\n",
        "df_customer_aggregated.write.format(\"cosmos.oltp\")\\\r\n",
        "    .option(\"spark.synapse.linkedService\", \"gbbcjcdbnosql_retail_db\")\\\r\n",
        "    .option(\"spark.cosmos.container\", \"batch\")\\\r\n",
        "    .mode('append')\\\r\n",
        "    .save()\r\n"
      ],
      "outputs": [
        {
          "output_type": "display_data",
          "data": {
            "application/vnd.livy.statement-meta+json": {
              "spark_pool": "sparkpool3m",
              "session_id": "4",
              "statement_id": 48,
              "state": "submitted",
              "livy_statement_state": "running",
              "queued_time": "2023-11-22T13:45:34.913811Z",
              "session_start_time": null,
              "execution_start_time": "2023-11-22T13:45:58.047339Z",
              "execution_finish_time": null,
              "spark_jobs": null,
              "parent_msg_id": "cc2fb050-7fb3-4abb-a22e-d53ff4488367"
            },
            "text/plain": "StatementMeta(sparkpool3m, 4, 48, Submitted, Running)"
          },
          "metadata": {}
        },
        {
          "output_type": "stream",
          "name": "stdout",
          "text": [
            "epoch_now: 1700660758, epoch_yesterday: 1700574358, seconds_per_day: 86400\ndf_sales_coordinates, shape: 7564 x 2\nroot\n |-- id: string (nullable = true)\n |-- pk: string (nullable = true)\n\n"
          ]
        }
      ],
      "execution_count": 47,
      "metadata": {
        "jupyter": {
          "source_hidden": false,
          "outputs_hidden": false
        },
        "nteract": {
          "transient": {
            "deleting": false
          }
        }
      }
    },
    {
      "cell_type": "markdown",
      "source": [
        "## Query Cosmos DB to Validate this logic\r\n",
        "\r\n",
        "#### Query the views container\r\n",
        "\r\n",
        "4 orders containing 10 line items.\r\n",
        "\r\n",
        "```\r\n",
        "SELECT * FROM c where c.pk = 12\r\n",
        "\r\n",
        "[\r\n",
        "    {\r\n",
        "        \"customer_id\": 12,\r\n",
        "        \"id\": \"e3aeb1b0-1259-4b85-a01b-42a99ac71be5\",\r\n",
        "        \"pk\": 12,\r\n",
        "        \"order_count\": 4,\r\n",
        "        \"total_dollar_amount\": 15209.61,\r\n",
        "        \"total_item_count\": 10,\r\n",
        "        \"_rid\": \"FlhFAKC2+qBJJQAAAAAAAA==\",\r\n",
        "        \"_self\": \"dbs/FlhFAA==/colls/FlhFAKC2+qA=/docs/FlhFAKC2+qBJJQAAAAAAAA==/\",\r\n",
        "        \"_etag\": \"\\\"0a00b7b3-0000-0100-0000-6503070c0000\\\"\",\r\n",
        "        \"_attachments\": \"attachments/\",\r\n",
        "        \"_ts\": 1694697228\r\n",
        "    }\r\n",
        "]\r\n",
        "```\r\n",
        "\r\n",
        "#### Query the sales container\r\n",
        "\r\n",
        "```\r\n",
        "SELECT count(1) from c where c.customer_id = 12 and c.doctype = 'sale'\r\n",
        "\r\n",
        "[\r\n",
        "    {\r\n",
        "        \"$1\": 4\r\n",
        "    }\r\n",
        "]\r\n",
        "```\r\n",
        "\r\n",
        "```\r\n",
        "SELECT count(1) from c where c.customer_id = 12 and c.doctype = 'line_item'\r\n",
        "\r\n",
        "[\r\n",
        "    {\r\n",
        "        \"$1\": 10\r\n",
        "    }\r\n",
        "]\r\n",
        "```\r\n",
        "\r\n",
        "```\r\n",
        "SELECT * FROM c where c.customer_id = 12 and c.doctype in ('sale', 'line_item')\r\n",
        "\r\n",
        "[\r\n",
        "    {\r\n",
        "        \"pk\": 23356,\r\n",
        "        \"id\": \"986ddff0-45de-44ca-8926-c3fec2d54de4\",\r\n",
        "        \"sale_id\": 23356,\r\n",
        "        \"doctype\": \"line_item\",\r\n",
        "        \"date\": \"2021-11-11\",\r\n",
        "        \"line_num\": 1,\r\n",
        "        \"customer_id\": 12,\r\n",
        "        \"store_id\": 70,\r\n",
        "        \"upc\": \"1315622651752\",\r\n",
        "        \"price\": 888.54,\r\n",
        "        \"qty\": 1,\r\n",
        "        \"cost\": 888.54,\r\n",
        "        \"doc_epoch\": 1681936059668,\r\n",
        "        \"doc_time\": \"2023/04/19-20:27:39\",\r\n",
        "        \"_rid\": \"FlhFAKBvTp068gEAAAAAAA==\",\r\n",
        "        \"_self\": \"dbs/FlhFAA==/colls/FlhFAKBvTp0=/docs/FlhFAKBvTp068gEAAAAAAA==/\",\r\n",
        "        \"_etag\": \"\\\"2400a498-0000-0100-0000-64404ebc0000\\\"\",\r\n",
        "        \"_attachments\": \"attachments/\",\r\n",
        "        \"_ts\": 1681936060\r\n",
        "    },\r\n",
        "    {\r\n",
        "        \"pk\": 23356,\r\n",
        "        \"id\": \"c904d9a2-6228-4b93-b795-6852fa83b96d\",\r\n",
        "        \"sale_id\": 23356,\r\n",
        "        \"doctype\": \"line_item\",\r\n",
        "        \"date\": \"2021-11-11\",\r\n",
        "        \"line_num\": 2,\r\n",
        "        \"customer_id\": 12,\r\n",
        "        \"store_id\": 70,\r\n",
        "        \"upc\": \"0842812037290\",\r\n",
        "        \"price\": 387.29,\r\n",
        "        \"qty\": 1,\r\n",
        "        \"cost\": 387.29,\r\n",
        "        \"doc_epoch\": 1681936059668,\r\n",
        "        \"doc_time\": \"2023/04/19-20:27:39\",\r\n",
        "        \"_rid\": \"FlhFAKBvTp078gEAAAAAAA==\",\r\n",
        "        \"_self\": \"dbs/FlhFAA==/colls/FlhFAKBvTp0=/docs/FlhFAKBvTp078gEAAAAAAA==/\",\r\n",
        "        \"_etag\": \"\\\"2400a598-0000-0100-0000-64404ebc0000\\\"\",\r\n",
        "        \"_attachments\": \"attachments/\",\r\n",
        "        \"_ts\": 1681936060\r\n",
        "    },\r\n",
        "    {\r\n",
        "        \"pk\": 23356,\r\n",
        "        \"id\": \"e3aeb1b0-1259-4b85-a01b-42a99ac71be5\",\r\n",
        "        \"sale_id\": 23356,\r\n",
        "        \"doctype\": \"sale\",\r\n",
        "        \"date\": \"2021-11-11\",\r\n",
        "        \"dow\": \"thu\",\r\n",
        "        \"customer_id\": 12,\r\n",
        "        \"store_id\": 70,\r\n",
        "        \"item_count\": 2,\r\n",
        "        \"total_cost\": 1275.83,\r\n",
        "        \"doc_epoch\": 1681936059668,\r\n",
        "        \"doc_time\": \"2023/04/19-20:27:39\",\r\n",
        "        \"_rid\": \"FlhFAKBvTp088gEAAAAAAA==\",\r\n",
        "        \"_self\": \"dbs/FlhFAA==/colls/FlhFAKBvTp0=/docs/FlhFAKBvTp088gEAAAAAAA==/\",\r\n",
        "        \"_etag\": \"\\\"2400a698-0000-0100-0000-64404ebc0000\\\"\",\r\n",
        "        \"_attachments\": \"attachments/\",\r\n",
        "        \"_ts\": 1681936060\r\n",
        "    },\r\n",
        "    {\r\n",
        "        \"pk\": 24134,\r\n",
        "        \"id\": \"e4bf34e5-7637-4621-9e69-77cd6f0906a6\",\r\n",
        "        \"sale_id\": 24134,\r\n",
        "        \"doctype\": \"line_item\",\r\n",
        "        \"date\": \"2021-11-21\",\r\n",
        "        \"line_num\": 1,\r\n",
        "        \"customer_id\": 12,\r\n",
        "        \"store_id\": 48,\r\n",
        "        \"upc\": \"0947998477592\",\r\n",
        "        \"price\": 1432.94,\r\n",
        "        \"qty\": 2,\r\n",
        "        \"cost\": 2865.88,\r\n",
        "        \"doc_epoch\": 1681936065596,\r\n",
        "        \"doc_time\": \"2023/04/19-20:27:45\",\r\n",
        "        \"_rid\": \"FlhFAKBvTp3c-AEAAAAAAA==\",\r\n",
        "        \"_self\": \"dbs/FlhFAA==/colls/FlhFAKBvTp0=/docs/FlhFAKBvTp3c-AEAAAAAAA==/\",\r\n",
        "        \"_etag\": \"\\\"240046a3-0000-0100-0000-64404ec20000\\\"\",\r\n",
        "        \"_attachments\": \"attachments/\",\r\n",
        "        \"_ts\": 1681936066\r\n",
        "    },\r\n",
        "    {\r\n",
        "        \"pk\": 24134,\r\n",
        "        \"id\": \"b8c286f6-771d-4351-9e8b-da6df1fc41a0\",\r\n",
        "        \"sale_id\": 24134,\r\n",
        "        \"doctype\": \"line_item\",\r\n",
        "        \"date\": \"2021-11-21\",\r\n",
        "        \"line_num\": 2,\r\n",
        "        \"customer_id\": 12,\r\n",
        "        \"store_id\": 48,\r\n",
        "        \"upc\": \"0475014653274\",\r\n",
        "        \"price\": 367.9,\r\n",
        "        \"qty\": 2,\r\n",
        "        \"cost\": 735.8,\r\n",
        "        \"doc_epoch\": 1681936065596,\r\n",
        "        \"doc_time\": \"2023/04/19-20:27:45\",\r\n",
        "        \"_rid\": \"FlhFAKBvTp3d-AEAAAAAAA==\",\r\n",
        "        \"_self\": \"dbs/FlhFAA==/colls/FlhFAKBvTp0=/docs/FlhFAKBvTp3d-AEAAAAAAA==/\",\r\n",
        "        \"_etag\": \"\\\"240047a3-0000-0100-0000-64404ec20000\\\"\",\r\n",
        "        \"_attachments\": \"attachments/\",\r\n",
        "        \"_ts\": 1681936066\r\n",
        "    },\r\n",
        "    {\r\n",
        "        \"pk\": 24134,\r\n",
        "        \"id\": \"9685a700-5e23-4a8d-b599-f2d32b2d994b\",\r\n",
        "        \"sale_id\": 24134,\r\n",
        "        \"doctype\": \"sale\",\r\n",
        "        \"date\": \"2021-11-21\",\r\n",
        "        \"dow\": \"sun\",\r\n",
        "        \"customer_id\": 12,\r\n",
        "        \"store_id\": 48,\r\n",
        "        \"item_count\": 2,\r\n",
        "        \"total_cost\": 3601.68,\r\n",
        "        \"doc_epoch\": 1681936065596,\r\n",
        "        \"doc_time\": \"2023/04/19-20:27:45\",\r\n",
        "        \"_rid\": \"FlhFAKBvTp3e-AEAAAAAAA==\",\r\n",
        "        \"_self\": \"dbs/FlhFAA==/colls/FlhFAKBvTp0=/docs/FlhFAKBvTp3e-AEAAAAAAA==/\",\r\n",
        "        \"_etag\": \"\\\"240048a3-0000-0100-0000-64404ec20000\\\"\",\r\n",
        "        \"_attachments\": \"attachments/\",\r\n",
        "        \"_ts\": 1681936066\r\n",
        "    },\r\n",
        "    {\r\n",
        "        \"pk\": 25669,\r\n",
        "        \"id\": \"58685c8b-ca05-47dd-8ecd-33450f7bf3c3\",\r\n",
        "        \"sale_id\": 25669,\r\n",
        "        \"doctype\": \"line_item\",\r\n",
        "        \"date\": \"2021-12-12\",\r\n",
        "        \"line_num\": 1,\r\n",
        "        \"customer_id\": 12,\r\n",
        "        \"store_id\": 98,\r\n",
        "        \"upc\": \"0086295211635\",\r\n",
        "        \"price\": 1306.7,\r\n",
        "        \"qty\": 2,\r\n",
        "        \"cost\": 2613.4,\r\n",
        "        \"doc_epoch\": 1681936077573,\r\n",
        "        \"doc_time\": \"2023/04/19-20:27:57\",\r\n",
        "        \"_rid\": \"FlhFAKBvTp3XEQIAAAAAAA==\",\r\n",
        "        \"_self\": \"dbs/FlhFAA==/colls/FlhFAKBvTp0=/docs/FlhFAKBvTp3XEQIAAAAAAA==/\",\r\n",
        "        \"_etag\": \"\\\"240041b8-0000-0100-0000-64404ece0000\\\"\",\r\n",
        "        \"_attachments\": \"attachments/\",\r\n",
        "        \"_ts\": 1681936078\r\n",
        "    },\r\n",
        "    {\r\n",
        "        \"pk\": 25669,\r\n",
        "        \"id\": \"069d1d12-0cfd-4288-813b-bbee409aee84\",\r\n",
        "        \"sale_id\": 25669,\r\n",
        "        \"doctype\": \"line_item\",\r\n",
        "        \"date\": \"2021-12-12\",\r\n",
        "        \"line_num\": 2,\r\n",
        "        \"customer_id\": 12,\r\n",
        "        \"store_id\": 98,\r\n",
        "        \"upc\": \"1244173829375\",\r\n",
        "        \"price\": 982,\r\n",
        "        \"qty\": 2,\r\n",
        "        \"cost\": 1964,\r\n",
        "        \"doc_epoch\": 1681936077573,\r\n",
        "        \"doc_time\": \"2023/04/19-20:27:57\",\r\n",
        "        \"_rid\": \"FlhFAKBvTp3YEQIAAAAAAA==\",\r\n",
        "        \"_self\": \"dbs/FlhFAA==/colls/FlhFAKBvTp0=/docs/FlhFAKBvTp3YEQIAAAAAAA==/\",\r\n",
        "        \"_etag\": \"\\\"240042b8-0000-0100-0000-64404ece0000\\\"\",\r\n",
        "        \"_attachments\": \"attachments/\",\r\n",
        "        \"_ts\": 1681936078\r\n",
        "    },\r\n",
        "    {\r\n",
        "        \"pk\": 25669,\r\n",
        "        \"id\": \"a5067aca-1c69-4944-b818-d690db91f861\",\r\n",
        "        \"sale_id\": 25669,\r\n",
        "        \"doctype\": \"line_item\",\r\n",
        "        \"date\": \"2021-12-12\",\r\n",
        "        \"line_num\": 3,\r\n",
        "        \"customer_id\": 12,\r\n",
        "        \"store_id\": 98,\r\n",
        "        \"upc\": \"0322228897430\",\r\n",
        "        \"price\": 149.68,\r\n",
        "        \"qty\": 3,\r\n",
        "        \"cost\": 449.04,\r\n",
        "        \"doc_epoch\": 1681936077573,\r\n",
        "        \"doc_time\": \"2023/04/19-20:27:57\",\r\n",
        "        \"_rid\": \"FlhFAKBvTp3ZEQIAAAAAAA==\",\r\n",
        "        \"_self\": \"dbs/FlhFAA==/colls/FlhFAKBvTp0=/docs/FlhFAKBvTp3ZEQIAAAAAAA==/\",\r\n",
        "        \"_etag\": \"\\\"240043b8-0000-0100-0000-64404ece0000\\\"\",\r\n",
        "        \"_attachments\": \"attachments/\",\r\n",
        "        \"_ts\": 1681936078\r\n",
        "    },\r\n",
        "    {\r\n",
        "        \"pk\": 25669,\r\n",
        "        \"id\": \"2badd187-8c77-47ef-b56c-0b89d4cd17a7\",\r\n",
        "        \"sale_id\": 25669,\r\n",
        "        \"doctype\": \"sale\",\r\n",
        "        \"date\": \"2021-12-12\",\r\n",
        "        \"dow\": \"sun\",\r\n",
        "        \"customer_id\": 12,\r\n",
        "        \"store_id\": 98,\r\n",
        "        \"item_count\": 3,\r\n",
        "        \"total_cost\": 5026.44,\r\n",
        "        \"doc_epoch\": 1681936077573,\r\n",
        "        \"doc_time\": \"2023/04/19-20:27:57\",\r\n",
        "        \"_rid\": \"FlhFAKBvTp3aEQIAAAAAAA==\",\r\n",
        "        \"_self\": \"dbs/FlhFAA==/colls/FlhFAKBvTp0=/docs/FlhFAKBvTp3aEQIAAAAAAA==/\",\r\n",
        "        \"_etag\": \"\\\"240044b8-0000-0100-0000-64404ece0000\\\"\",\r\n",
        "        \"_attachments\": \"attachments/\",\r\n",
        "        \"_ts\": 1681936078\r\n",
        "    },\r\n",
        "    {\r\n",
        "        \"pk\": 28154,\r\n",
        "        \"id\": \"90191386-aaea-4100-8932-a999eb5693b5\",\r\n",
        "        \"sale_id\": 28154,\r\n",
        "        \"doctype\": \"line_item\",\r\n",
        "        \"date\": \"2022-01-13\",\r\n",
        "        \"line_num\": 1,\r\n",
        "        \"customer_id\": 12,\r\n",
        "        \"store_id\": 1,\r\n",
        "        \"upc\": \"0349025882315\",\r\n",
        "        \"price\": 716.26,\r\n",
        "        \"qty\": 1,\r\n",
        "        \"cost\": 716.26,\r\n",
        "        \"doc_epoch\": 1681936096880,\r\n",
        "        \"doc_time\": \"2023/04/19-20:28:16\",\r\n",
        "        \"_rid\": \"FlhFAKBvTp3MMwIAAAAAAA==\",\r\n",
        "        \"_self\": \"dbs/FlhFAA==/colls/FlhFAKBvTp0=/docs/FlhFAKBvTp3MMwIAAAAAAA==/\",\r\n",
        "        \"_etag\": \"\\\"240036da-0000-0100-0000-64404ee10000\\\"\",\r\n",
        "        \"_attachments\": \"attachments/\",\r\n",
        "        \"_ts\": 1681936097\r\n",
        "    },\r\n",
        "    {\r\n",
        "        \"pk\": 28154,\r\n",
        "        \"id\": \"f2d41664-1803-414d-9ba8-224ed6c66430\",\r\n",
        "        \"sale_id\": 28154,\r\n",
        "        \"doctype\": \"line_item\",\r\n",
        "        \"date\": \"2022-01-13\",\r\n",
        "        \"line_num\": 2,\r\n",
        "        \"customer_id\": 12,\r\n",
        "        \"store_id\": 1,\r\n",
        "        \"upc\": \"1244377188803\",\r\n",
        "        \"price\": 1079.94,\r\n",
        "        \"qty\": 3,\r\n",
        "        \"cost\": 3239.82,\r\n",
        "        \"doc_epoch\": 1681936096880,\r\n",
        "        \"doc_time\": \"2023/04/19-20:28:16\",\r\n",
        "        \"_rid\": \"FlhFAKBvTp3NMwIAAAAAAA==\",\r\n",
        "        \"_self\": \"dbs/FlhFAA==/colls/FlhFAKBvTp0=/docs/FlhFAKBvTp3NMwIAAAAAAA==/\",\r\n",
        "        \"_etag\": \"\\\"240037da-0000-0100-0000-64404ee10000\\\"\",\r\n",
        "        \"_attachments\": \"attachments/\",\r\n",
        "        \"_ts\": 1681936097\r\n",
        "    },\r\n",
        "    {\r\n",
        "        \"pk\": 28154,\r\n",
        "        \"id\": \"2986d010-3577-4eb7-8d25-224139847357\",\r\n",
        "        \"sale_id\": 28154,\r\n",
        "        \"doctype\": \"line_item\",\r\n",
        "        \"date\": \"2022-01-13\",\r\n",
        "        \"line_num\": 3,\r\n",
        "        \"customer_id\": 12,\r\n",
        "        \"store_id\": 1,\r\n",
        "        \"upc\": \"0622915694213\",\r\n",
        "        \"price\": 1349.58,\r\n",
        "        \"qty\": 1,\r\n",
        "        \"cost\": 1349.58,\r\n",
        "        \"doc_epoch\": 1681936096880,\r\n",
        "        \"doc_time\": \"2023/04/19-20:28:16\",\r\n",
        "        \"_rid\": \"FlhFAKBvTp3OMwIAAAAAAA==\",\r\n",
        "        \"_self\": \"dbs/FlhFAA==/colls/FlhFAKBvTp0=/docs/FlhFAKBvTp3OMwIAAAAAAA==/\",\r\n",
        "        \"_etag\": \"\\\"240038da-0000-0100-0000-64404ee10000\\\"\",\r\n",
        "        \"_attachments\": \"attachments/\",\r\n",
        "        \"_ts\": 1681936097\r\n",
        "    },\r\n",
        "    {\r\n",
        "        \"pk\": 28154,\r\n",
        "        \"id\": \"fbd65be4-c327-41f9-b1ef-11f83c5fd17d\",\r\n",
        "        \"sale_id\": 28154,\r\n",
        "        \"doctype\": \"sale\",\r\n",
        "        \"date\": \"2022-01-13\",\r\n",
        "        \"dow\": \"thu\",\r\n",
        "        \"customer_id\": 12,\r\n",
        "        \"store_id\": 1,\r\n",
        "        \"item_count\": 3,\r\n",
        "        \"total_cost\": 5305.66,\r\n",
        "        \"doc_epoch\": 1681936096880,\r\n",
        "        \"doc_time\": \"2023/04/19-20:28:16\",\r\n",
        "        \"_rid\": \"FlhFAKBvTp3PMwIAAAAAAA==\",\r\n",
        "        \"_self\": \"dbs/FlhFAA==/colls/FlhFAKBvTp0=/docs/FlhFAKBvTp3PMwIAAAAAAA==/\",\r\n",
        "        \"_etag\": \"\\\"240039da-0000-0100-0000-64404ee10000\\\"\",\r\n",
        "        \"_attachments\": \"attachments/\",\r\n",
        "        \"_ts\": 1681936097\r\n",
        "    }\r\n",
        "]\r\n",
        "```\r\n",
        "\r\n"
      ],
      "metadata": {
        "nteract": {
          "transient": {
            "deleting": false
          }
        }
      }
    }
  ],
  "metadata": {
    "kernelspec": {
      "name": "synapse_pyspark",
      "language": "Python",
      "display_name": "Synapse PySpark"
    },
    "language_info": {
      "name": "python"
    },
    "kernel_info": {
      "name": "synapse_pyspark"
    },
    "description": null,
    "save_output": true,
    "synapse_widget": {
      "version": "0.1",
      "state": {
        "3b82316c-5ae1-45d1-9464-74786fb31323": {
          "type": "Synapse.DataFrame",
          "sync_state": {
            "table": {
              "rows": [
                {
                  "0": "FlhFAKBvTp2EjgIAAAAAAA==",
                  "1": "1700660053",
                  "3": "0ff67f87-b21c-4bd9-a346-fd2955b7d94d",
                  "4": "3896",
                  "5": "sale",
                  "6": "2021-02-21",
                  "8": "8017",
                  "9": "31",
                  "15": "\"ed00eb6e-0000-0100-0000-655e03550000\"",
                  "16": "sun",
                  "17": "2",
                  "18": "2427.39"
                },
                {
                  "0": "FlhFAKBvTp2HjgIAAAAAAA==",
                  "1": "1700660053",
                  "3": "85261e13-0875-4127-abad-a8680a6e5a76",
                  "4": "3897",
                  "5": "sale",
                  "6": "2021-02-21",
                  "8": "5500",
                  "9": "98",
                  "15": "\"ed00ee6e-0000-0100-0000-655e03550000\"",
                  "16": "sun",
                  "17": "2",
                  "18": "1360.94"
                },
                {
                  "0": "FlhFAKBvTp2LjgIAAAAAAA==",
                  "1": "1700660053",
                  "3": "d87b0a7b-3872-4b57-81d5-3a1ddda8928c",
                  "4": "3898",
                  "5": "sale",
                  "6": "2021-02-21",
                  "8": "5186",
                  "9": "49",
                  "15": "\"ed00f26e-0000-0100-0000-655e03550000\"",
                  "16": "sun",
                  "17": "3",
                  "18": "8762.9"
                }
              ],
              "schema": [
                {
                  "key": "0",
                  "name": "_rid",
                  "type": "string"
                },
                {
                  "key": "1",
                  "name": "_ts",
                  "type": "bigint"
                },
                {
                  "key": "2",
                  "name": "pk",
                  "type": "string"
                },
                {
                  "key": "3",
                  "name": "id",
                  "type": "string"
                },
                {
                  "key": "4",
                  "name": "sale_id",
                  "type": "bigint"
                },
                {
                  "key": "5",
                  "name": "doctype",
                  "type": "string"
                },
                {
                  "key": "6",
                  "name": "date",
                  "type": "string"
                },
                {
                  "key": "7",
                  "name": "line_num",
                  "type": "bigint"
                },
                {
                  "key": "8",
                  "name": "customer_id",
                  "type": "bigint"
                },
                {
                  "key": "9",
                  "name": "store_id",
                  "type": "bigint"
                },
                {
                  "key": "10",
                  "name": "upc",
                  "type": "string"
                },
                {
                  "key": "11",
                  "name": "price",
                  "type": "double"
                },
                {
                  "key": "12",
                  "name": "qty",
                  "type": "bigint"
                },
                {
                  "key": "13",
                  "name": "cost",
                  "type": "double"
                },
                {
                  "key": "14",
                  "name": "seq",
                  "type": "bigint"
                },
                {
                  "key": "15",
                  "name": "_etag",
                  "type": "string"
                },
                {
                  "key": "16",
                  "name": "dow",
                  "type": "string"
                },
                {
                  "key": "17",
                  "name": "item_count",
                  "type": "bigint"
                },
                {
                  "key": "18",
                  "name": "total_cost",
                  "type": "double"
                },
                {
                  "key": "19",
                  "name": "doc_epoch",
                  "type": "bigint"
                },
                {
                  "key": "20",
                  "name": "doc_time",
                  "type": "string"
                }
              ],
              "truncated": false
            },
            "isSummary": false,
            "language": "scala"
          },
          "persist_state": {
            "view": {
              "type": "details",
              "tableOptions": {},
              "chartOptions": {
                "chartType": "bar",
                "aggregationType": "sum",
                "categoryFieldKeys": [
                  "0"
                ],
                "seriesFieldKeys": [
                  "1"
                ],
                "isStacked": false
              }
            }
          }
        },
        "f7a6d1c7-41cc-4c0a-a17e-a333f9d4f96b": {
          "type": "Synapse.DataFrame",
          "sync_state": {
            "table": {
              "rows": [
                {
                  "0": "1",
                  "1": "e08ac19d-ca53-44fc-96e4-f32a0276587e",
                  "2": "1",
                  "3": "1",
                  "4": "5984.71",
                  "5": "3"
                },
                {
                  "0": "3",
                  "1": "8698510c-e0ac-4080-9b26-11b0cc662018",
                  "2": "3",
                  "3": "1",
                  "4": "5063.88",
                  "5": "3"
                },
                {
                  "0": "4",
                  "1": "2341e3a7-07e8-4887-afd4-b3f96c54e346",
                  "2": "4",
                  "3": "1",
                  "4": "2313.88",
                  "5": "2"
                },
                {
                  "0": "5",
                  "1": "852dc3a6-9147-43a2-a050-122918641a0e",
                  "2": "5",
                  "3": "1",
                  "4": "1757.61",
                  "5": "2"
                },
                {
                  "0": "6",
                  "1": "ca416308-5055-4cc8-bd93-7f2868cc4d17",
                  "2": "6",
                  "3": "1",
                  "4": "2344.5",
                  "5": "3"
                },
                {
                  "0": "9",
                  "1": "c3105d0e-f754-4551-9916-107d3bcff9fd",
                  "2": "9",
                  "3": "2",
                  "4": "5959.16",
                  "5": "5"
                },
                {
                  "0": "11",
                  "1": "6f38a3f8-0895-426c-a984-ec9ef5a13e7b",
                  "2": "11",
                  "3": "1",
                  "4": "3761.73",
                  "5": "2"
                },
                {
                  "0": "13",
                  "1": "dbe2a2cb-15b2-4583-803d-50dadffd231f",
                  "2": "13",
                  "3": "1",
                  "4": "4033.83",
                  "5": "3"
                },
                {
                  "0": "16",
                  "1": "7473397a-48d9-4b58-bd12-ed908721ac6f",
                  "2": "16",
                  "3": "2",
                  "4": "6458.08",
                  "5": "6"
                },
                {
                  "0": "19",
                  "1": "62c9dbca-41fa-465e-a956-81f660b8d3c7",
                  "2": "19",
                  "3": "1",
                  "4": "7214.9",
                  "5": "2"
                }
              ],
              "schema": [
                {
                  "key": "0",
                  "name": "customer_id",
                  "type": "bigint"
                },
                {
                  "key": "1",
                  "name": "id",
                  "type": "string"
                },
                {
                  "key": "2",
                  "name": "pk",
                  "type": "bigint"
                },
                {
                  "key": "3",
                  "name": "order_count",
                  "type": "bigint"
                },
                {
                  "key": "4",
                  "name": "total_dollar_amount",
                  "type": "double"
                },
                {
                  "key": "5",
                  "name": "total_item_count",
                  "type": "bigint"
                }
              ],
              "truncated": false
            },
            "isSummary": false,
            "language": "scala"
          },
          "persist_state": {
            "view": {
              "type": "details",
              "tableOptions": {},
              "chartOptions": {
                "chartType": "bar",
                "aggregationType": "sum",
                "categoryFieldKeys": [
                  "1"
                ],
                "seriesFieldKeys": [
                  "0"
                ],
                "isStacked": false
              }
            }
          }
        }
      }
    }
  },
  "nbformat": 4,
  "nbformat_minor": 2
}