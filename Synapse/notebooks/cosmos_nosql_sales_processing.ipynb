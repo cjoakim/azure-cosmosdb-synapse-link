{
  "cells": [
    {
      "cell_type": "markdown",
      "source": [
        "## Synapse Sales Aggregation Notebook\r\n",
        "\r\n",
        "Chris Joakim, Cosmos DB GBB, Microsoft\r\n",
        "\r\n",
        "### This Spark/PySpark Notebook demonstrates how to:\r\n",
        "\r\n",
        "- **Read the Synapse Link Analytic Datastore with Spark in Azure Synapse**\r\n",
        "  - This Analytic Datastore contains the data from the Cosmos DB sales container\r\n",
        "  - Implementation language is Python (i.e. - PySpark).\r\n",
        "- **Filter the sales data (by doctype, timestamp) while reading it**\r\n",
        "- **Aggregate the sales data by customer_id**\r\n",
        "- Displaying the \"shape\" of the dataframes, and observed schema\r\n",
        "- Writing the aggregated **Materialized Views** of **sales-by-customer** to the Cosmos DB views container\r\n",
        "- Writing a list of Sales ids and partition keys, in the last 24 hours, to a **batch processing** container\r\n",
        "\r\n",
        "---\r\n",
        "\r\n",
        "#### Spark Notebook Code Location\r\n",
        "\r\n",
        "- GitHub repo:  https://github.com/cjoakim/azure-cosmosdb-synapse-link\r\n",
        "- File in repo: Synapse/notebooks/cosmos_nosql_sales_processing.ipynb\r\n",
        "\r\n",
        "#### Loading the Cosmos DB Sales Container\r\n",
        "\r\n",
        "- See GitHub repo: https://github.com/cjoakim/azure-cosmos-db\r\n",
        "- From directory apis\\nosql\\python, run the following command:\r\n",
        "```\r\n",
        "> python main.py load_sales retail sales sales1.json 99999\r\n",
        "```\r\n",
        "\r\n",
        "\r\n",
        "#### Truncating the Materialized Views container\r\n",
        "\r\n",
        "See GitHub repo: https://github.com/cjoakim/azure-cosmos-db\r\n",
        "From directory '\\apis\\nosql\\dotnet', run the following command:\r\n",
        "```\r\n",
        "> dotnet run truncate_container retail views\r\n",
        "```"
      ],
      "metadata": {
        "nteract": {
          "transient": {
            "deleting": false
          }
        }
      }
    },
    {
      "cell_type": "code",
      "source": [
        "# Query the current epoch time, with simple Python code, to generate a query like this:\r\n",
        "# SELECT count(1) FROM c where c._ts > 1694698000\r\n",
        "# This SQL query will be used vs the Cosmos DB 'views' container, which is\r\n",
        "# updated later in this notebook.\r\n",
        "                                     \r\n",
        "import time\r\n",
        "\r\n",
        "epoch_now = int(time.time())  # epoch seconds as a float\r\n",
        "seconds_per_day = 60 * 60 * 24\r\n",
        "epoch_yesterday = epoch_now - seconds_per_day\r\n",
        "\r\n",
        "print('epoch_now: {}, epoch_yesterday: {}, seconds_per_day: {}'.format(\r\n",
        "    epoch_now, epoch_yesterday, seconds_per_day))\r\n",
        "\r\n",
        "print('SELECT count(1) FROM c where c._ts > {}'.format(epoch_now))\r\n"
      ],
      "outputs": [
        {
          "output_type": "display_data",
          "data": {
            "application/vnd.livy.statement-meta+json": {
              "spark_pool": "sparkpool3m",
              "session_id": "4",
              "statement_id": 58,
              "state": "finished",
              "livy_statement_state": "available",
              "queued_time": "2023-11-22T13:57:23.7731397Z",
              "session_start_time": null,
              "execution_start_time": "2023-11-22T13:57:23.910478Z",
              "execution_finish_time": "2023-11-22T13:57:24.0598096Z",
              "spark_jobs": null,
              "parent_msg_id": "62f73a83-3d3c-465e-89b2-175db9cb11b0"
            },
            "text/plain": "StatementMeta(sparkpool3m, 4, 58, Finished, Available)"
          },
          "metadata": {}
        },
        {
          "output_type": "stream",
          "name": "stdout",
          "text": [
            "epoch_now: 1700661443, epoch_yesterday: 1700575043, seconds_per_day: 86400\nSELECT count(1) FROM c where c._ts > 1700661443\n"
          ]
        }
      ],
      "execution_count": 57,
      "metadata": {
        "jupyter": {
          "source_hidden": false,
          "outputs_hidden": false
        },
        "nteract": {
          "transient": {
            "deleting": false
          }
        }
      }
    },
    {
      "cell_type": "code",
      "source": [
        "# Load the Synapse Link Sales Data into a Spark Dataframe.\n",
        "# Select just the \"sale\" document types from the sales container, \n",
        "# which have a minimum _ts (timestamp) value\n",
        "\n",
        "from pyspark.sql.functions import col\n",
        "\n",
        "# read just the doctype \"sales\", not the \"line_item\" documents\n",
        "# \"cosmos.oltp\" = CosmosDB live database\n",
        "# \"cosmos.olap\" = Synapse Link Analytic Datastore\n",
        "\n",
        "df_sales = spark.read\\\n",
        "    .format(\"cosmos.olap\")\\\n",
        "    .option(\"spark.synapse.linkedService\", \"gbbcjcdbnosql_retail_db\")\\\n",
        "    .option(\"spark.cosmos.container\", \"sales\")\\\n",
        "    .load().filter(col(\"doctype\") == \"sale\")\\\n",
        "    .filter(col(\"_ts\") > epoch_yesterday)\\\n",
        "    .filter(col(\"_ts\") < epoch_now)\n",
        "\n",
        "display(df_sales.limit(3))\n"
      ],
      "outputs": [
        {
          "output_type": "display_data",
          "data": {
            "application/vnd.livy.statement-meta+json": {
              "spark_pool": "sparkpool3m",
              "session_id": "4",
              "statement_id": 59,
              "state": "finished",
              "livy_statement_state": "available",
              "queued_time": "2023-11-22T13:57:23.8099266Z",
              "session_start_time": null,
              "execution_start_time": "2023-11-22T13:57:24.1962572Z",
              "execution_finish_time": "2023-11-22T13:57:26.9877226Z",
              "spark_jobs": null,
              "parent_msg_id": "783a25c0-68f6-449e-93c7-8aefcb63afec"
            },
            "text/plain": "StatementMeta(sparkpool3m, 4, 59, Finished, Available)"
          },
          "metadata": {}
        },
        {
          "output_type": "display_data",
          "data": {
            "application/vnd.synapse.widget-view+json": {
              "widget_id": "f9e31d20-c727-472f-a106-5bf50e174e99",
              "widget_type": "Synapse.DataFrame"
            },
            "text/plain": "SynapseWidget(Synapse.DataFrame, f9e31d20-c727-472f-a106-5bf50e174e99)"
          },
          "metadata": {}
        }
      ],
      "execution_count": 58,
      "metadata": {
        "collapsed": false
      }
    },
    {
      "cell_type": "code",
      "source": [
        "# Display the shape and observed schema of the DataFrame\r\n",
        "\r\n",
        "print('df_sales, shape: {} x {}'.format(\r\n",
        "        df_sales.count(), len(df_sales.columns)))\r\n",
        "        \r\n",
        "df_sales.printSchema()\r\n"
      ],
      "outputs": [
        {
          "output_type": "display_data",
          "data": {
            "application/vnd.livy.statement-meta+json": {
              "spark_pool": "sparkpool3m",
              "session_id": "4",
              "statement_id": 60,
              "state": "finished",
              "livy_statement_state": "available",
              "queued_time": "2023-11-22T13:57:23.9023037Z",
              "session_start_time": null,
              "execution_start_time": "2023-11-22T13:57:27.1427054Z",
              "execution_finish_time": "2023-11-22T13:57:27.693617Z",
              "spark_jobs": null,
              "parent_msg_id": "8daaa0e2-3eed-4746-9c0e-186a4bf36e87"
            },
            "text/plain": "StatementMeta(sparkpool3m, 4, 60, Finished, Available)"
          },
          "metadata": {}
        },
        {
          "output_type": "stream",
          "name": "stdout",
          "text": [
            "df_sales, shape: 11837 x 21\nroot\n |-- _rid: string (nullable = true)\n |-- _ts: long (nullable = true)\n |-- pk: string (nullable = true)\n |-- id: string (nullable = true)\n |-- sale_id: long (nullable = true)\n |-- doctype: string (nullable = true)\n |-- date: string (nullable = true)\n |-- line_num: long (nullable = true)\n |-- customer_id: long (nullable = true)\n |-- store_id: long (nullable = true)\n |-- upc: string (nullable = true)\n |-- price: double (nullable = true)\n |-- qty: long (nullable = true)\n |-- cost: double (nullable = true)\n |-- seq: long (nullable = true)\n |-- _etag: string (nullable = true)\n |-- dow: string (nullable = true)\n |-- item_count: long (nullable = true)\n |-- total_cost: double (nullable = true)\n |-- doc_epoch: long (nullable = true)\n |-- doc_time: string (nullable = true)\n\n"
          ]
        }
      ],
      "execution_count": 59,
      "metadata": {
        "jupyter": {
          "source_hidden": false,
          "outputs_hidden": false
        },
        "nteract": {
          "transient": {
            "deleting": false
          }
        }
      }
    },
    {
      "cell_type": "code",
      "source": [
        "# Aggregate Sales by Customer \r\n",
        "\r\n",
        "import pyspark.sql.functions as F \r\n",
        "\r\n",
        "df_customer_aggregated = df_sales.groupBy(\"customer_id\") \\\r\n",
        "    .agg(\r\n",
        "        F.first('id').alias('id'), \\\r\n",
        "        F.first('customer_id').alias('pk'), \\\r\n",
        "        F.count(\"customer_id\").alias('order_count'), \\\r\n",
        "        F.sum(\"total_cost\").alias(\"total_dollar_amount\"), \\\r\n",
        "        F.sum(\"item_count\").alias(\"total_item_count\")) \\\r\n",
        "        .sort(\"customer_id\", ascending=True)\r\n",
        "\r\n",
        "display(df_customer_aggregated.limit(10))\r\n"
      ],
      "outputs": [
        {
          "output_type": "display_data",
          "data": {
            "application/vnd.livy.statement-meta+json": {
              "spark_pool": "sparkpool3m",
              "session_id": "4",
              "statement_id": 61,
              "state": "finished",
              "livy_statement_state": "available",
              "queued_time": "2023-11-22T13:57:23.9600356Z",
              "session_start_time": null,
              "execution_start_time": "2023-11-22T13:57:27.8241272Z",
              "execution_finish_time": "2023-11-22T13:57:28.9078035Z",
              "spark_jobs": null,
              "parent_msg_id": "bd0f7480-ba24-46d4-a3c3-7a4395a82dc5"
            },
            "text/plain": "StatementMeta(sparkpool3m, 4, 61, Finished, Available)"
          },
          "metadata": {}
        },
        {
          "output_type": "display_data",
          "data": {
            "application/vnd.synapse.widget-view+json": {
              "widget_id": "47224d35-2e44-4796-b83e-54d3fd12fb6e",
              "widget_type": "Synapse.DataFrame"
            },
            "text/plain": "SynapseWidget(Synapse.DataFrame, 47224d35-2e44-4796-b83e-54d3fd12fb6e)"
          },
          "metadata": {}
        }
      ],
      "execution_count": 60,
      "metadata": {
        "jupyter": {
          "source_hidden": false,
          "outputs_hidden": false
        },
        "nteract": {
          "transient": {
            "deleting": false
          }
        },
        "collapsed": false
      }
    },
    {
      "cell_type": "code",
      "source": [
        "# Display the shape and observed schema of the DataFrame\r\n",
        "\r\n",
        "print('df_customer_aggregated, shape: {} x {}'.format(\r\n",
        "        df_customer_aggregated.count(), len(df_customer_aggregated.columns)))\r\n",
        "        \r\n",
        "df_customer_aggregated.printSchema()\r\n"
      ],
      "outputs": [
        {
          "output_type": "display_data",
          "data": {
            "application/vnd.livy.statement-meta+json": {
              "spark_pool": "sparkpool3m",
              "session_id": "4",
              "statement_id": 62,
              "state": "finished",
              "livy_statement_state": "available",
              "queued_time": "2023-11-22T13:57:24.0466101Z",
              "session_start_time": null,
              "execution_start_time": "2023-11-22T13:57:29.051163Z",
              "execution_finish_time": "2023-11-22T13:57:30.1241952Z",
              "spark_jobs": null,
              "parent_msg_id": "7cff8447-9d21-4ac5-a8a1-fbc275a477a5"
            },
            "text/plain": "StatementMeta(sparkpool3m, 4, 62, Finished, Available)"
          },
          "metadata": {}
        },
        {
          "output_type": "stream",
          "name": "stdout",
          "text": [
            "df_customer_aggregated, shape: 6942 x 6\nroot\n |-- customer_id: long (nullable = true)\n |-- id: string (nullable = true)\n |-- pk: long (nullable = true)\n |-- order_count: long (nullable = false)\n |-- total_dollar_amount: double (nullable = true)\n |-- total_item_count: long (nullable = true)\n\n"
          ]
        }
      ],
      "execution_count": 61,
      "metadata": {
        "jupyter": {
          "source_hidden": false,
          "outputs_hidden": false
        },
        "nteract": {
          "transient": {
            "deleting": false
          }
        }
      }
    },
    {
      "cell_type": "code",
      "source": [
        "# Write the customer-aggregated DataFrame to the Cosmos DB\r\n",
        "# sales_aggregates container.  The id and pk is the customer ID,\r\n",
        "# and upserts are enabled.\r\n",
        "\r\n",
        "df_customer_aggregated.write.format(\"cosmos.oltp\")\\\r\n",
        "    .option(\"spark.synapse.linkedService\", \"gbbcjcdbnosql_retail_db\")\\\r\n",
        "    .option(\"spark.cosmos.container\", \"views\")\\\r\n",
        "    .mode('append')\\\r\n",
        "    .save()\r\n"
      ],
      "outputs": [
        {
          "output_type": "display_data",
          "data": {
            "application/vnd.livy.statement-meta+json": {
              "spark_pool": "sparkpool3m",
              "session_id": "4",
              "statement_id": 63,
              "state": "finished",
              "livy_statement_state": "available",
              "queued_time": "2023-11-22T13:57:24.0964334Z",
              "session_start_time": null,
              "execution_start_time": "2023-11-22T13:57:30.2709001Z",
              "execution_finish_time": "2023-11-22T13:57:58.6489231Z",
              "spark_jobs": null,
              "parent_msg_id": "84b1bf58-59ca-44d7-b2a0-fdd1f6e392f3"
            },
            "text/plain": "StatementMeta(sparkpool3m, 4, 63, Finished, Available)"
          },
          "metadata": {}
        }
      ],
      "execution_count": 62,
      "metadata": {
        "jupyter": {
          "source_hidden": false,
          "outputs_hidden": false
        },
        "nteract": {
          "transient": {
            "deleting": false
          }
        }
      }
    },
    {
      "cell_type": "code",
      "source": [
        "# Produce a list of the ids and partition keys of the Sales documents\r\n",
        "# in the last 24 hours.  This list can drive daily batch processing.\r\n",
        "\r\n",
        "# time.time() return the time in seconds since the epoch as a floating point number. \r\n",
        "epoch_now = int(time.time())\r\n",
        "seconds_per_day = 60 * 60 * 24\r\n",
        "epoch_yesterday = epoch_now - seconds_per_day\r\n",
        "print('epoch_now: {}, epoch_yesterday: {}, seconds_per_day: {}'.format(\r\n",
        "    epoch_now, epoch_yesterday, seconds_per_day))\r\n",
        "\r\n",
        "df_sales_coordinates = df_sales.select(\r\n",
        "    col('id'),\r\n",
        "    col('sale_id'))\r\n",
        "\r\n",
        "print('df_sales_coordinates, shape: {} x {}'.format(\r\n",
        "        df_sales_coordinates.count(), len(df_sales_coordinates.columns)))\r\n",
        "df_sales_coordinates.printSchema() \r\n",
        "\r\n",
        "display(df_sales_coordinates.limit(10))\r\n",
        "\r\n",
        "df_sales_coordinates.write.format(\"cosmos.oltp\")\\\r\n",
        "    .option(\"spark.synapse.linkedService\", \"gbbcjcdbnosql_retail_db\")\\\r\n",
        "    .option(\"spark.cosmos.container\", \"batch\")\\\r\n",
        "    .mode('append')\\\r\n",
        "    .save()\r\n"
      ],
      "outputs": [
        {
          "output_type": "display_data",
          "data": {
            "application/vnd.livy.statement-meta+json": {
              "spark_pool": "sparkpool3m",
              "session_id": "4",
              "statement_id": 64,
              "state": "finished",
              "livy_statement_state": "available",
              "queued_time": "2023-11-22T13:57:24.1421408Z",
              "session_start_time": null,
              "execution_start_time": "2023-11-22T13:57:58.7853658Z",
              "execution_finish_time": "2023-11-22T13:58:20.0850723Z",
              "spark_jobs": null,
              "parent_msg_id": "7d1921ba-9263-4e78-9449-87a54426761a"
            },
            "text/plain": "StatementMeta(sparkpool3m, 4, 64, Finished, Available)"
          },
          "metadata": {}
        },
        {
          "output_type": "stream",
          "name": "stdout",
          "text": [
            "epoch_now: 1700661478, epoch_yesterday: 1700575078, seconds_per_day: 86400\ndf_sales_coordinates, shape: 11837 x 2\nroot\n |-- id: string (nullable = true)\n |-- sale_id: long (nullable = true)\n\n"
          ]
        },
        {
          "output_type": "display_data",
          "data": {
            "application/vnd.synapse.widget-view+json": {
              "widget_id": "06a97ba7-19a8-45dd-853d-a3cfb5619a73",
              "widget_type": "Synapse.DataFrame"
            },
            "text/plain": "SynapseWidget(Synapse.DataFrame, 06a97ba7-19a8-45dd-853d-a3cfb5619a73)"
          },
          "metadata": {}
        }
      ],
      "execution_count": 63,
      "metadata": {
        "jupyter": {
          "source_hidden": false,
          "outputs_hidden": false
        },
        "nteract": {
          "transient": {
            "deleting": false
          }
        },
        "collapsed": false
      }
    },
    {
      "cell_type": "markdown",
      "source": [
        "## Query Cosmos DB to Validate this logic\r\n",
        "\r\n",
        "#### Query the views container\r\n",
        "\r\n",
        "4 orders containing 10 line items.\r\n",
        "\r\n",
        "```\r\n",
        "SELECT * FROM c where c.pk = 12\r\n",
        "\r\n",
        "[\r\n",
        "    {\r\n",
        "        \"customer_id\": 12,\r\n",
        "        \"id\": \"e3aeb1b0-1259-4b85-a01b-42a99ac71be5\",\r\n",
        "        \"pk\": 12,\r\n",
        "        \"order_count\": 4,\r\n",
        "        \"total_dollar_amount\": 15209.61,\r\n",
        "        \"total_item_count\": 10,\r\n",
        "        \"_rid\": \"FlhFAKC2+qBJJQAAAAAAAA==\",\r\n",
        "        \"_self\": \"dbs/FlhFAA==/colls/FlhFAKC2+qA=/docs/FlhFAKC2+qBJJQAAAAAAAA==/\",\r\n",
        "        \"_etag\": \"\\\"0a00b7b3-0000-0100-0000-6503070c0000\\\"\",\r\n",
        "        \"_attachments\": \"attachments/\",\r\n",
        "        \"_ts\": 1694697228\r\n",
        "    }\r\n",
        "]\r\n",
        "```\r\n",
        "\r\n",
        "#### Query the sales container\r\n",
        "\r\n",
        "```\r\n",
        "SELECT count(1) from c where c.customer_id = 12 and c.doctype = 'sale'\r\n",
        "\r\n",
        "[\r\n",
        "    {\r\n",
        "        \"$1\": 4\r\n",
        "    }\r\n",
        "]\r\n",
        "```\r\n",
        "\r\n",
        "```\r\n",
        "SELECT count(1) from c where c.customer_id = 12 and c.doctype = 'line_item'\r\n",
        "\r\n",
        "[\r\n",
        "    {\r\n",
        "        \"$1\": 10\r\n",
        "    }\r\n",
        "]\r\n",
        "```\r\n",
        "\r\n",
        "```\r\n",
        "SELECT * FROM c where c.customer_id = 12 and c.doctype in ('sale', 'line_item')\r\n",
        "\r\n",
        "[\r\n",
        "    {\r\n",
        "        \"pk\": 23356,\r\n",
        "        \"id\": \"986ddff0-45de-44ca-8926-c3fec2d54de4\",\r\n",
        "        \"sale_id\": 23356,\r\n",
        "        \"doctype\": \"line_item\",\r\n",
        "        \"date\": \"2021-11-11\",\r\n",
        "        \"line_num\": 1,\r\n",
        "        \"customer_id\": 12,\r\n",
        "        \"store_id\": 70,\r\n",
        "        \"upc\": \"1315622651752\",\r\n",
        "        \"price\": 888.54,\r\n",
        "        \"qty\": 1,\r\n",
        "        \"cost\": 888.54,\r\n",
        "        \"doc_epoch\": 1681936059668,\r\n",
        "        \"doc_time\": \"2023/04/19-20:27:39\",\r\n",
        "        \"_rid\": \"FlhFAKBvTp068gEAAAAAAA==\",\r\n",
        "        \"_self\": \"dbs/FlhFAA==/colls/FlhFAKBvTp0=/docs/FlhFAKBvTp068gEAAAAAAA==/\",\r\n",
        "        \"_etag\": \"\\\"2400a498-0000-0100-0000-64404ebc0000\\\"\",\r\n",
        "        \"_attachments\": \"attachments/\",\r\n",
        "        \"_ts\": 1681936060\r\n",
        "    },\r\n",
        "    {\r\n",
        "        \"pk\": 23356,\r\n",
        "        \"id\": \"c904d9a2-6228-4b93-b795-6852fa83b96d\",\r\n",
        "        \"sale_id\": 23356,\r\n",
        "        \"doctype\": \"line_item\",\r\n",
        "        \"date\": \"2021-11-11\",\r\n",
        "        \"line_num\": 2,\r\n",
        "        \"customer_id\": 12,\r\n",
        "        \"store_id\": 70,\r\n",
        "        \"upc\": \"0842812037290\",\r\n",
        "        \"price\": 387.29,\r\n",
        "        \"qty\": 1,\r\n",
        "        \"cost\": 387.29,\r\n",
        "        \"doc_epoch\": 1681936059668,\r\n",
        "        \"doc_time\": \"2023/04/19-20:27:39\",\r\n",
        "        \"_rid\": \"FlhFAKBvTp078gEAAAAAAA==\",\r\n",
        "        \"_self\": \"dbs/FlhFAA==/colls/FlhFAKBvTp0=/docs/FlhFAKBvTp078gEAAAAAAA==/\",\r\n",
        "        \"_etag\": \"\\\"2400a598-0000-0100-0000-64404ebc0000\\\"\",\r\n",
        "        \"_attachments\": \"attachments/\",\r\n",
        "        \"_ts\": 1681936060\r\n",
        "    },\r\n",
        "    {\r\n",
        "        \"pk\": 23356,\r\n",
        "        \"id\": \"e3aeb1b0-1259-4b85-a01b-42a99ac71be5\",\r\n",
        "        \"sale_id\": 23356,\r\n",
        "        \"doctype\": \"sale\",\r\n",
        "        \"date\": \"2021-11-11\",\r\n",
        "        \"dow\": \"thu\",\r\n",
        "        \"customer_id\": 12,\r\n",
        "        \"store_id\": 70,\r\n",
        "        \"item_count\": 2,\r\n",
        "        \"total_cost\": 1275.83,\r\n",
        "        \"doc_epoch\": 1681936059668,\r\n",
        "        \"doc_time\": \"2023/04/19-20:27:39\",\r\n",
        "        \"_rid\": \"FlhFAKBvTp088gEAAAAAAA==\",\r\n",
        "        \"_self\": \"dbs/FlhFAA==/colls/FlhFAKBvTp0=/docs/FlhFAKBvTp088gEAAAAAAA==/\",\r\n",
        "        \"_etag\": \"\\\"2400a698-0000-0100-0000-64404ebc0000\\\"\",\r\n",
        "        \"_attachments\": \"attachments/\",\r\n",
        "        \"_ts\": 1681936060\r\n",
        "    },\r\n",
        "    {\r\n",
        "        \"pk\": 24134,\r\n",
        "        \"id\": \"e4bf34e5-7637-4621-9e69-77cd6f0906a6\",\r\n",
        "        \"sale_id\": 24134,\r\n",
        "        \"doctype\": \"line_item\",\r\n",
        "        \"date\": \"2021-11-21\",\r\n",
        "        \"line_num\": 1,\r\n",
        "        \"customer_id\": 12,\r\n",
        "        \"store_id\": 48,\r\n",
        "        \"upc\": \"0947998477592\",\r\n",
        "        \"price\": 1432.94,\r\n",
        "        \"qty\": 2,\r\n",
        "        \"cost\": 2865.88,\r\n",
        "        \"doc_epoch\": 1681936065596,\r\n",
        "        \"doc_time\": \"2023/04/19-20:27:45\",\r\n",
        "        \"_rid\": \"FlhFAKBvTp3c-AEAAAAAAA==\",\r\n",
        "        \"_self\": \"dbs/FlhFAA==/colls/FlhFAKBvTp0=/docs/FlhFAKBvTp3c-AEAAAAAAA==/\",\r\n",
        "        \"_etag\": \"\\\"240046a3-0000-0100-0000-64404ec20000\\\"\",\r\n",
        "        \"_attachments\": \"attachments/\",\r\n",
        "        \"_ts\": 1681936066\r\n",
        "    },\r\n",
        "    {\r\n",
        "        \"pk\": 24134,\r\n",
        "        \"id\": \"b8c286f6-771d-4351-9e8b-da6df1fc41a0\",\r\n",
        "        \"sale_id\": 24134,\r\n",
        "        \"doctype\": \"line_item\",\r\n",
        "        \"date\": \"2021-11-21\",\r\n",
        "        \"line_num\": 2,\r\n",
        "        \"customer_id\": 12,\r\n",
        "        \"store_id\": 48,\r\n",
        "        \"upc\": \"0475014653274\",\r\n",
        "        \"price\": 367.9,\r\n",
        "        \"qty\": 2,\r\n",
        "        \"cost\": 735.8,\r\n",
        "        \"doc_epoch\": 1681936065596,\r\n",
        "        \"doc_time\": \"2023/04/19-20:27:45\",\r\n",
        "        \"_rid\": \"FlhFAKBvTp3d-AEAAAAAAA==\",\r\n",
        "        \"_self\": \"dbs/FlhFAA==/colls/FlhFAKBvTp0=/docs/FlhFAKBvTp3d-AEAAAAAAA==/\",\r\n",
        "        \"_etag\": \"\\\"240047a3-0000-0100-0000-64404ec20000\\\"\",\r\n",
        "        \"_attachments\": \"attachments/\",\r\n",
        "        \"_ts\": 1681936066\r\n",
        "    },\r\n",
        "    {\r\n",
        "        \"pk\": 24134,\r\n",
        "        \"id\": \"9685a700-5e23-4a8d-b599-f2d32b2d994b\",\r\n",
        "        \"sale_id\": 24134,\r\n",
        "        \"doctype\": \"sale\",\r\n",
        "        \"date\": \"2021-11-21\",\r\n",
        "        \"dow\": \"sun\",\r\n",
        "        \"customer_id\": 12,\r\n",
        "        \"store_id\": 48,\r\n",
        "        \"item_count\": 2,\r\n",
        "        \"total_cost\": 3601.68,\r\n",
        "        \"doc_epoch\": 1681936065596,\r\n",
        "        \"doc_time\": \"2023/04/19-20:27:45\",\r\n",
        "        \"_rid\": \"FlhFAKBvTp3e-AEAAAAAAA==\",\r\n",
        "        \"_self\": \"dbs/FlhFAA==/colls/FlhFAKBvTp0=/docs/FlhFAKBvTp3e-AEAAAAAAA==/\",\r\n",
        "        \"_etag\": \"\\\"240048a3-0000-0100-0000-64404ec20000\\\"\",\r\n",
        "        \"_attachments\": \"attachments/\",\r\n",
        "        \"_ts\": 1681936066\r\n",
        "    },\r\n",
        "    {\r\n",
        "        \"pk\": 25669,\r\n",
        "        \"id\": \"58685c8b-ca05-47dd-8ecd-33450f7bf3c3\",\r\n",
        "        \"sale_id\": 25669,\r\n",
        "        \"doctype\": \"line_item\",\r\n",
        "        \"date\": \"2021-12-12\",\r\n",
        "        \"line_num\": 1,\r\n",
        "        \"customer_id\": 12,\r\n",
        "        \"store_id\": 98,\r\n",
        "        \"upc\": \"0086295211635\",\r\n",
        "        \"price\": 1306.7,\r\n",
        "        \"qty\": 2,\r\n",
        "        \"cost\": 2613.4,\r\n",
        "        \"doc_epoch\": 1681936077573,\r\n",
        "        \"doc_time\": \"2023/04/19-20:27:57\",\r\n",
        "        \"_rid\": \"FlhFAKBvTp3XEQIAAAAAAA==\",\r\n",
        "        \"_self\": \"dbs/FlhFAA==/colls/FlhFAKBvTp0=/docs/FlhFAKBvTp3XEQIAAAAAAA==/\",\r\n",
        "        \"_etag\": \"\\\"240041b8-0000-0100-0000-64404ece0000\\\"\",\r\n",
        "        \"_attachments\": \"attachments/\",\r\n",
        "        \"_ts\": 1681936078\r\n",
        "    },\r\n",
        "    {\r\n",
        "        \"pk\": 25669,\r\n",
        "        \"id\": \"069d1d12-0cfd-4288-813b-bbee409aee84\",\r\n",
        "        \"sale_id\": 25669,\r\n",
        "        \"doctype\": \"line_item\",\r\n",
        "        \"date\": \"2021-12-12\",\r\n",
        "        \"line_num\": 2,\r\n",
        "        \"customer_id\": 12,\r\n",
        "        \"store_id\": 98,\r\n",
        "        \"upc\": \"1244173829375\",\r\n",
        "        \"price\": 982,\r\n",
        "        \"qty\": 2,\r\n",
        "        \"cost\": 1964,\r\n",
        "        \"doc_epoch\": 1681936077573,\r\n",
        "        \"doc_time\": \"2023/04/19-20:27:57\",\r\n",
        "        \"_rid\": \"FlhFAKBvTp3YEQIAAAAAAA==\",\r\n",
        "        \"_self\": \"dbs/FlhFAA==/colls/FlhFAKBvTp0=/docs/FlhFAKBvTp3YEQIAAAAAAA==/\",\r\n",
        "        \"_etag\": \"\\\"240042b8-0000-0100-0000-64404ece0000\\\"\",\r\n",
        "        \"_attachments\": \"attachments/\",\r\n",
        "        \"_ts\": 1681936078\r\n",
        "    },\r\n",
        "    {\r\n",
        "        \"pk\": 25669,\r\n",
        "        \"id\": \"a5067aca-1c69-4944-b818-d690db91f861\",\r\n",
        "        \"sale_id\": 25669,\r\n",
        "        \"doctype\": \"line_item\",\r\n",
        "        \"date\": \"2021-12-12\",\r\n",
        "        \"line_num\": 3,\r\n",
        "        \"customer_id\": 12,\r\n",
        "        \"store_id\": 98,\r\n",
        "        \"upc\": \"0322228897430\",\r\n",
        "        \"price\": 149.68,\r\n",
        "        \"qty\": 3,\r\n",
        "        \"cost\": 449.04,\r\n",
        "        \"doc_epoch\": 1681936077573,\r\n",
        "        \"doc_time\": \"2023/04/19-20:27:57\",\r\n",
        "        \"_rid\": \"FlhFAKBvTp3ZEQIAAAAAAA==\",\r\n",
        "        \"_self\": \"dbs/FlhFAA==/colls/FlhFAKBvTp0=/docs/FlhFAKBvTp3ZEQIAAAAAAA==/\",\r\n",
        "        \"_etag\": \"\\\"240043b8-0000-0100-0000-64404ece0000\\\"\",\r\n",
        "        \"_attachments\": \"attachments/\",\r\n",
        "        \"_ts\": 1681936078\r\n",
        "    },\r\n",
        "    {\r\n",
        "        \"pk\": 25669,\r\n",
        "        \"id\": \"2badd187-8c77-47ef-b56c-0b89d4cd17a7\",\r\n",
        "        \"sale_id\": 25669,\r\n",
        "        \"doctype\": \"sale\",\r\n",
        "        \"date\": \"2021-12-12\",\r\n",
        "        \"dow\": \"sun\",\r\n",
        "        \"customer_id\": 12,\r\n",
        "        \"store_id\": 98,\r\n",
        "        \"item_count\": 3,\r\n",
        "        \"total_cost\": 5026.44,\r\n",
        "        \"doc_epoch\": 1681936077573,\r\n",
        "        \"doc_time\": \"2023/04/19-20:27:57\",\r\n",
        "        \"_rid\": \"FlhFAKBvTp3aEQIAAAAAAA==\",\r\n",
        "        \"_self\": \"dbs/FlhFAA==/colls/FlhFAKBvTp0=/docs/FlhFAKBvTp3aEQIAAAAAAA==/\",\r\n",
        "        \"_etag\": \"\\\"240044b8-0000-0100-0000-64404ece0000\\\"\",\r\n",
        "        \"_attachments\": \"attachments/\",\r\n",
        "        \"_ts\": 1681936078\r\n",
        "    },\r\n",
        "    {\r\n",
        "        \"pk\": 28154,\r\n",
        "        \"id\": \"90191386-aaea-4100-8932-a999eb5693b5\",\r\n",
        "        \"sale_id\": 28154,\r\n",
        "        \"doctype\": \"line_item\",\r\n",
        "        \"date\": \"2022-01-13\",\r\n",
        "        \"line_num\": 1,\r\n",
        "        \"customer_id\": 12,\r\n",
        "        \"store_id\": 1,\r\n",
        "        \"upc\": \"0349025882315\",\r\n",
        "        \"price\": 716.26,\r\n",
        "        \"qty\": 1,\r\n",
        "        \"cost\": 716.26,\r\n",
        "        \"doc_epoch\": 1681936096880,\r\n",
        "        \"doc_time\": \"2023/04/19-20:28:16\",\r\n",
        "        \"_rid\": \"FlhFAKBvTp3MMwIAAAAAAA==\",\r\n",
        "        \"_self\": \"dbs/FlhFAA==/colls/FlhFAKBvTp0=/docs/FlhFAKBvTp3MMwIAAAAAAA==/\",\r\n",
        "        \"_etag\": \"\\\"240036da-0000-0100-0000-64404ee10000\\\"\",\r\n",
        "        \"_attachments\": \"attachments/\",\r\n",
        "        \"_ts\": 1681936097\r\n",
        "    },\r\n",
        "    {\r\n",
        "        \"pk\": 28154,\r\n",
        "        \"id\": \"f2d41664-1803-414d-9ba8-224ed6c66430\",\r\n",
        "        \"sale_id\": 28154,\r\n",
        "        \"doctype\": \"line_item\",\r\n",
        "        \"date\": \"2022-01-13\",\r\n",
        "        \"line_num\": 2,\r\n",
        "        \"customer_id\": 12,\r\n",
        "        \"store_id\": 1,\r\n",
        "        \"upc\": \"1244377188803\",\r\n",
        "        \"price\": 1079.94,\r\n",
        "        \"qty\": 3,\r\n",
        "        \"cost\": 3239.82,\r\n",
        "        \"doc_epoch\": 1681936096880,\r\n",
        "        \"doc_time\": \"2023/04/19-20:28:16\",\r\n",
        "        \"_rid\": \"FlhFAKBvTp3NMwIAAAAAAA==\",\r\n",
        "        \"_self\": \"dbs/FlhFAA==/colls/FlhFAKBvTp0=/docs/FlhFAKBvTp3NMwIAAAAAAA==/\",\r\n",
        "        \"_etag\": \"\\\"240037da-0000-0100-0000-64404ee10000\\\"\",\r\n",
        "        \"_attachments\": \"attachments/\",\r\n",
        "        \"_ts\": 1681936097\r\n",
        "    },\r\n",
        "    {\r\n",
        "        \"pk\": 28154,\r\n",
        "        \"id\": \"2986d010-3577-4eb7-8d25-224139847357\",\r\n",
        "        \"sale_id\": 28154,\r\n",
        "        \"doctype\": \"line_item\",\r\n",
        "        \"date\": \"2022-01-13\",\r\n",
        "        \"line_num\": 3,\r\n",
        "        \"customer_id\": 12,\r\n",
        "        \"store_id\": 1,\r\n",
        "        \"upc\": \"0622915694213\",\r\n",
        "        \"price\": 1349.58,\r\n",
        "        \"qty\": 1,\r\n",
        "        \"cost\": 1349.58,\r\n",
        "        \"doc_epoch\": 1681936096880,\r\n",
        "        \"doc_time\": \"2023/04/19-20:28:16\",\r\n",
        "        \"_rid\": \"FlhFAKBvTp3OMwIAAAAAAA==\",\r\n",
        "        \"_self\": \"dbs/FlhFAA==/colls/FlhFAKBvTp0=/docs/FlhFAKBvTp3OMwIAAAAAAA==/\",\r\n",
        "        \"_etag\": \"\\\"240038da-0000-0100-0000-64404ee10000\\\"\",\r\n",
        "        \"_attachments\": \"attachments/\",\r\n",
        "        \"_ts\": 1681936097\r\n",
        "    },\r\n",
        "    {\r\n",
        "        \"pk\": 28154,\r\n",
        "        \"id\": \"fbd65be4-c327-41f9-b1ef-11f83c5fd17d\",\r\n",
        "        \"sale_id\": 28154,\r\n",
        "        \"doctype\": \"sale\",\r\n",
        "        \"date\": \"2022-01-13\",\r\n",
        "        \"dow\": \"thu\",\r\n",
        "        \"customer_id\": 12,\r\n",
        "        \"store_id\": 1,\r\n",
        "        \"item_count\": 3,\r\n",
        "        \"total_cost\": 5305.66,\r\n",
        "        \"doc_epoch\": 1681936096880,\r\n",
        "        \"doc_time\": \"2023/04/19-20:28:16\",\r\n",
        "        \"_rid\": \"FlhFAKBvTp3PMwIAAAAAAA==\",\r\n",
        "        \"_self\": \"dbs/FlhFAA==/colls/FlhFAKBvTp0=/docs/FlhFAKBvTp3PMwIAAAAAAA==/\",\r\n",
        "        \"_etag\": \"\\\"240039da-0000-0100-0000-64404ee10000\\\"\",\r\n",
        "        \"_attachments\": \"attachments/\",\r\n",
        "        \"_ts\": 1681936097\r\n",
        "    }\r\n",
        "]\r\n",
        "```\r\n",
        "\r\n"
      ],
      "metadata": {
        "nteract": {
          "transient": {
            "deleting": false
          }
        }
      }
    }
  ],
  "metadata": {
    "kernelspec": {
      "name": "synapse_pyspark",
      "language": "Python",
      "display_name": "Synapse PySpark"
    },
    "language_info": {
      "name": "python"
    },
    "kernel_info": {
      "name": "synapse_pyspark"
    },
    "description": null,
    "save_output": true,
    "synapse_widget": {
      "version": "0.1",
      "state": {
        "f9e31d20-c727-472f-a106-5bf50e174e99": {
          "type": "Synapse.DataFrame",
          "sync_state": {
            "table": {
              "rows": [
                {
                  "0": "FlhFAKBvTp24dQIAAAAAAA==",
                  "1": "1700659751",
                  "3": "3dfe868d-b7b4-446f-b1f6-d806e859c06a",
                  "4": "2082",
                  "5": "sale",
                  "6": "2021-01-29",
                  "8": "1663",
                  "9": "36",
                  "15": "\"ed002a52-0000-0100-0000-655e02270000\"",
                  "16": "fri",
                  "17": "3",
                  "18": "4613.08"
                },
                {
                  "0": "FlhFAKBvTp27dQIAAAAAAA==",
                  "1": "1700659751",
                  "3": "80c69372-0c4e-4b8f-92a7-404c7c2553da",
                  "4": "2083",
                  "5": "sale",
                  "6": "2021-01-29",
                  "8": "4985",
                  "9": "89",
                  "15": "\"ed002d52-0000-0100-0000-655e02270000\"",
                  "16": "fri",
                  "17": "2",
                  "18": "1639.15"
                },
                {
                  "0": "FlhFAKBvTp2+dQIAAAAAAA==",
                  "1": "1700659751",
                  "3": "19be8165-6752-479e-8ab3-cea1e91e05f3",
                  "4": "2084",
                  "5": "sale",
                  "6": "2021-01-29",
                  "8": "136",
                  "9": "90",
                  "15": "\"ed003052-0000-0100-0000-655e02270000\"",
                  "16": "fri",
                  "17": "2",
                  "18": "4261.08"
                }
              ],
              "schema": [
                {
                  "key": "0",
                  "name": "_rid",
                  "type": "string"
                },
                {
                  "key": "1",
                  "name": "_ts",
                  "type": "bigint"
                },
                {
                  "key": "2",
                  "name": "pk",
                  "type": "string"
                },
                {
                  "key": "3",
                  "name": "id",
                  "type": "string"
                },
                {
                  "key": "4",
                  "name": "sale_id",
                  "type": "bigint"
                },
                {
                  "key": "5",
                  "name": "doctype",
                  "type": "string"
                },
                {
                  "key": "6",
                  "name": "date",
                  "type": "string"
                },
                {
                  "key": "7",
                  "name": "line_num",
                  "type": "bigint"
                },
                {
                  "key": "8",
                  "name": "customer_id",
                  "type": "bigint"
                },
                {
                  "key": "9",
                  "name": "store_id",
                  "type": "bigint"
                },
                {
                  "key": "10",
                  "name": "upc",
                  "type": "string"
                },
                {
                  "key": "11",
                  "name": "price",
                  "type": "double"
                },
                {
                  "key": "12",
                  "name": "qty",
                  "type": "bigint"
                },
                {
                  "key": "13",
                  "name": "cost",
                  "type": "double"
                },
                {
                  "key": "14",
                  "name": "seq",
                  "type": "bigint"
                },
                {
                  "key": "15",
                  "name": "_etag",
                  "type": "string"
                },
                {
                  "key": "16",
                  "name": "dow",
                  "type": "string"
                },
                {
                  "key": "17",
                  "name": "item_count",
                  "type": "bigint"
                },
                {
                  "key": "18",
                  "name": "total_cost",
                  "type": "double"
                },
                {
                  "key": "19",
                  "name": "doc_epoch",
                  "type": "bigint"
                },
                {
                  "key": "20",
                  "name": "doc_time",
                  "type": "string"
                }
              ],
              "truncated": false
            },
            "isSummary": false,
            "language": "scala"
          },
          "persist_state": {
            "view": {
              "type": "details",
              "tableOptions": {},
              "chartOptions": {
                "chartType": "bar",
                "aggregationType": "sum",
                "categoryFieldKeys": [
                  "0"
                ],
                "seriesFieldKeys": [
                  "1"
                ],
                "isStacked": false
              }
            }
          }
        },
        "47224d35-2e44-4796-b83e-54d3fd12fb6e": {
          "type": "Synapse.DataFrame",
          "sync_state": {
            "table": {
              "rows": [
                {
                  "0": "1",
                  "1": "e08ac19d-ca53-44fc-96e4-f32a0276587e",
                  "2": "1",
                  "3": "1",
                  "4": "5984.71",
                  "5": "3"
                },
                {
                  "0": "2",
                  "1": "a633c10e-c3c6-456f-9561-2515287207a2",
                  "2": "2",
                  "3": "1",
                  "4": "2047.0",
                  "5": "3"
                },
                {
                  "0": "3",
                  "1": "8698510c-e0ac-4080-9b26-11b0cc662018",
                  "2": "3",
                  "3": "2",
                  "4": "6742.05",
                  "5": "6"
                },
                {
                  "0": "4",
                  "1": "2341e3a7-07e8-4887-afd4-b3f96c54e346",
                  "2": "4",
                  "3": "3",
                  "4": "11392.619999999999",
                  "5": "8"
                },
                {
                  "0": "5",
                  "1": "852dc3a6-9147-43a2-a050-122918641a0e",
                  "2": "5",
                  "3": "3",
                  "4": "8838.21",
                  "5": "7"
                },
                {
                  "0": "6",
                  "1": "ca416308-5055-4cc8-bd93-7f2868cc4d17",
                  "2": "6",
                  "3": "1",
                  "4": "2344.5",
                  "5": "3"
                },
                {
                  "0": "9",
                  "1": "7065ed65-263d-48be-be85-365268302767",
                  "2": "9",
                  "3": "2",
                  "4": "5959.16",
                  "5": "5"
                },
                {
                  "0": "10",
                  "1": "c9bbf8aa-307c-440f-a840-f8965440aa4f",
                  "2": "10",
                  "3": "1",
                  "4": "11726.61",
                  "5": "3"
                },
                {
                  "0": "11",
                  "1": "6f38a3f8-0895-426c-a984-ec9ef5a13e7b",
                  "2": "11",
                  "3": "1",
                  "4": "3761.73",
                  "5": "2"
                },
                {
                  "0": "13",
                  "1": "dbe2a2cb-15b2-4583-803d-50dadffd231f",
                  "2": "13",
                  "3": "1",
                  "4": "4033.83",
                  "5": "3"
                }
              ],
              "schema": [
                {
                  "key": "0",
                  "name": "customer_id",
                  "type": "bigint"
                },
                {
                  "key": "1",
                  "name": "id",
                  "type": "string"
                },
                {
                  "key": "2",
                  "name": "pk",
                  "type": "bigint"
                },
                {
                  "key": "3",
                  "name": "order_count",
                  "type": "bigint"
                },
                {
                  "key": "4",
                  "name": "total_dollar_amount",
                  "type": "double"
                },
                {
                  "key": "5",
                  "name": "total_item_count",
                  "type": "bigint"
                }
              ],
              "truncated": false
            },
            "isSummary": false,
            "language": "scala"
          },
          "persist_state": {
            "view": {
              "type": "details",
              "tableOptions": {},
              "chartOptions": {
                "chartType": "bar",
                "aggregationType": "sum",
                "categoryFieldKeys": [
                  "1"
                ],
                "seriesFieldKeys": [
                  "0"
                ],
                "isStacked": false
              }
            }
          }
        },
        "06a97ba7-19a8-45dd-853d-a3cfb5619a73": {
          "type": "Synapse.DataFrame",
          "sync_state": {
            "table": {
              "rows": [
                {
                  "0": "4bc12aa2-1c92-43ec-adf1-b17f87d17a13",
                  "1": "1"
                },
                {
                  "0": "96d47af4-fd33-4d48-bc59-4bcc4332a1a6",
                  "1": "2"
                },
                {
                  "0": "06a00a59-590b-46cb-a57b-31a200c6d959",
                  "1": "3"
                },
                {
                  "0": "0a9ed188-d7fd-449a-a5dc-65062d43abb8",
                  "1": "4"
                },
                {
                  "0": "08e0cab4-4a46-4689-9b6b-513346106934",
                  "1": "5"
                },
                {
                  "0": "a9b0535f-0c29-4def-91ec-68482dc7905d",
                  "1": "6"
                },
                {
                  "0": "b3840aa7-3887-4801-91e3-ca8a1870de89",
                  "1": "7"
                },
                {
                  "0": "9c05669f-919e-47c0-a558-d074ba314adb",
                  "1": "8"
                },
                {
                  "0": "97b2285f-fcbe-432e-a6c8-4db45cb48ee4",
                  "1": "9"
                },
                {
                  "0": "eb2d0826-71ab-4669-8edd-43db3bbbce18",
                  "1": "10"
                }
              ],
              "schema": [
                {
                  "key": "0",
                  "name": "id",
                  "type": "string"
                },
                {
                  "key": "1",
                  "name": "sale_id",
                  "type": "bigint"
                }
              ],
              "truncated": false
            },
            "isSummary": false,
            "language": "scala"
          },
          "persist_state": {
            "view": {
              "type": "details",
              "tableOptions": {},
              "chartOptions": {
                "chartType": "bar",
                "aggregationType": "sum",
                "categoryFieldKeys": [
                  "0"
                ],
                "seriesFieldKeys": [
                  "1"
                ],
                "isStacked": false
              }
            }
          }
        }
      }
    }
  },
  "nbformat": 4,
  "nbformat_minor": 2
}