{
  "cells": [
    {
      "cell_type": "code",
      "execution_count": 20,
      "metadata": {
        "collapsed": false
      },
      "outputs": [
        {
          "data": {
            "application/vnd.livy.statement-meta+json": {
              "execution_finish_time": "2022-01-17T18:42:09.6004971Z",
              "execution_start_time": "2022-01-17T18:42:07.7972894Z",
              "livy_statement_state": "available",
              "queued_time": "2022-01-17T18:42:07.6718341Z",
              "session_id": 3,
              "session_start_time": null,
              "spark_pool": "poolspark3s",
              "state": "finished",
              "statement_id": 20
            },
            "text/plain": [
              "StatementMeta(poolspark3s, 3, 20, Finished, Available)"
            ]
          },
          "metadata": {},
          "output_type": "display_data"
        }
      ],
      "source": [
        "# Load the SynapseLink Customers and Sales SynapseLink Data into a Dataframes.\n",
        "\n",
        "from pyspark.sql.functions import col\n",
        "\n",
        "# initialize variables\n",
        "min_timestamp = 1635168000\n",
        "\n",
        "# read just the doctype \"sales\", not \"line_item\"\n",
        "df_sales = spark.read\\\n",
        "    .format(\"cosmos.olap\")\\\n",
        "    .option(\"spark.synapse.linkedService\", \"CosmosDemoSQL\")\\\n",
        "    .option(\"spark.cosmos.container\", \"sales\")\\\n",
        "    .load().filter(col(\"doctype\") == \"sale\").filter(col(\"_ts\") > min_timestamp) "
      ]
    },
    {
      "cell_type": "code",
      "execution_count": 21,
      "metadata": {
        "jupyter": {
          "outputs_hidden": false,
          "source_hidden": false
        },
        "nteract": {
          "transient": {
            "deleting": false
          }
        }
      },
      "outputs": [
        {
          "data": {
            "application/vnd.livy.statement-meta+json": {
              "execution_finish_time": "2022-01-17T18:42:15.5923745Z",
              "execution_start_time": "2022-01-17T18:42:14.5703616Z",
              "livy_statement_state": "available",
              "queued_time": "2022-01-17T18:42:14.4662404Z",
              "session_id": 3,
              "session_start_time": null,
              "spark_pool": "poolspark3s",
              "state": "finished",
              "statement_id": 21
            },
            "text/plain": [
              "StatementMeta(poolspark3s, 3, 21, Finished, Available)"
            ]
          },
          "metadata": {},
          "output_type": "display_data"
        },
        {
          "name": "stdout",
          "output_type": "stream",
          "text": [
            "df_sales, shape: 28758 x 20\n",
            "root\n",
            " |-- _rid: string (nullable = true)\n",
            " |-- _ts: long (nullable = true)\n",
            " |-- pk: long (nullable = true)\n",
            " |-- id: string (nullable = true)\n",
            " |-- sale_id: long (nullable = true)\n",
            " |-- doctype: string (nullable = true)\n",
            " |-- date: string (nullable = true)\n",
            " |-- line_num: long (nullable = true)\n",
            " |-- customer_id: long (nullable = true)\n",
            " |-- store_id: long (nullable = true)\n",
            " |-- upc: string (nullable = true)\n",
            " |-- price: double (nullable = true)\n",
            " |-- qty: long (nullable = true)\n",
            " |-- cost: double (nullable = true)\n",
            " |-- doc_epoch: long (nullable = true)\n",
            " |-- doc_time: string (nullable = true)\n",
            " |-- _etag: string (nullable = true)\n",
            " |-- dow: string (nullable = true)\n",
            " |-- item_count: long (nullable = true)\n",
            " |-- total_cost: double (nullable = true)"
          ]
        }
      ],
      "source": [
        "# Display the shape and observed schema of the DataFrame\n",
        "\n",
        "print('df_sales, shape: {} x {}'.format(\n",
        "        df_sales.count(), len(df_sales.columns)))\n",
        "        \n",
        "df_sales.printSchema()"
      ]
    },
    {
      "cell_type": "code",
      "execution_count": 22,
      "metadata": {
        "collapsed": false,
        "jupyter": {
          "outputs_hidden": false,
          "source_hidden": false
        },
        "nteract": {
          "transient": {
            "deleting": false
          }
        }
      },
      "outputs": [
        {
          "data": {
            "application/vnd.livy.statement-meta+json": {
              "execution_finish_time": "2022-01-17T18:42:21.8865806Z",
              "execution_start_time": "2022-01-17T18:42:20.8070189Z",
              "livy_statement_state": "available",
              "queued_time": "2022-01-17T18:42:20.6679672Z",
              "session_id": 3,
              "session_start_time": null,
              "spark_pool": "poolspark3s",
              "state": "finished",
              "statement_id": 22
            },
            "text/plain": [
              "StatementMeta(poolspark3s, 3, 22, Finished, Available)"
            ]
          },
          "metadata": {},
          "output_type": "display_data"
        },
        {
          "data": {
            "application/vnd.synapse.widget-view+json": {
              "widget_id": "600f8e7e-703e-4d74-a11b-73ae71d8c96e",
              "widget_type": "Synapse.DataFrame"
            },
            "text/plain": [
              "SynapseWidget(Synapse.DataFrame, 600f8e7e-703e-4d74-a11b-73ae71d8c96e)"
            ]
          },
          "metadata": {},
          "output_type": "display_data"
        }
      ],
      "source": [
        "# Display the first 10 rows of the DataFrame\n",
        "\n",
        "display(df_sales.limit(4))\n"
      ]
    },
    {
      "cell_type": "code",
      "execution_count": 25,
      "metadata": {
        "collapsed": false,
        "jupyter": {
          "outputs_hidden": false,
          "source_hidden": false
        },
        "nteract": {
          "transient": {
            "deleting": false
          }
        }
      },
      "outputs": [
        {
          "data": {
            "application/vnd.livy.statement-meta+json": {
              "execution_finish_time": "2022-01-17T18:46:37.1407601Z",
              "execution_start_time": "2022-01-17T18:46:33.0018458Z",
              "livy_statement_state": "available",
              "queued_time": "2022-01-17T18:46:32.8667142Z",
              "session_id": 3,
              "session_start_time": null,
              "spark_pool": "poolspark3s",
              "state": "finished",
              "statement_id": 25
            },
            "text/plain": [
              "StatementMeta(poolspark3s, 3, 25, Finished, Available)"
            ]
          },
          "metadata": {},
          "output_type": "display_data"
        },
        {
          "data": {
            "application/vnd.synapse.widget-view+json": {
              "widget_id": "3fd35383-cd93-4d99-864f-e37fdab7a3b3",
              "widget_type": "Synapse.DataFrame"
            },
            "text/plain": [
              "SynapseWidget(Synapse.DataFrame, 3fd35383-cd93-4d99-864f-e37fdab7a3b3)"
            ]
          },
          "metadata": {},
          "output_type": "display_data"
        }
      ],
      "source": [
        "# Aggregate Sales by Customer \n",
        "\n",
        "import pyspark.sql.functions as F \n",
        "\n",
        "df_customer_aggregated = df_sales.groupBy(\"customer_id\") \\\n",
        "    .agg(\n",
        "        F.first('id').alias('id'), \\\n",
        "        F.first('customer_id').alias('pk'), \\\n",
        "        F.count(\"customer_id\").alias('order_count'), \\\n",
        "        F.sum(\"total_cost\").alias(\"total_dollar_amount\"), \\\n",
        "        F.sum(\"item_count\").alias(\"total_item_count\")) \\\n",
        "        .sort(\"customer_id\", ascending=True)\n",
        "\n",
        "display(df_customer_aggregated.limit(4))\n"
      ]
    },
    {
      "cell_type": "code",
      "execution_count": 26,
      "metadata": {
        "jupyter": {
          "outputs_hidden": false,
          "source_hidden": false
        },
        "nteract": {
          "transient": {
            "deleting": false
          }
        }
      },
      "outputs": [
        {
          "data": {
            "application/vnd.livy.statement-meta+json": {
              "execution_finish_time": "2022-01-17T18:47:29.7984096Z",
              "execution_start_time": "2022-01-17T18:46:48.5124062Z",
              "livy_statement_state": "available",
              "queued_time": "2022-01-17T18:46:48.3861024Z",
              "session_id": 3,
              "session_start_time": null,
              "spark_pool": "poolspark3s",
              "state": "finished",
              "statement_id": 26
            },
            "text/plain": [
              "StatementMeta(poolspark3s, 3, 26, Finished, Available)"
            ]
          },
          "metadata": {},
          "output_type": "display_data"
        }
      ],
      "source": [
        "# Write to CosmosDB - linked service 'CosmosDemoSQL'\n",
        "# See https://docs.microsoft.com/en-us/azure/synapse-analytics/synapse-link/how-to-query-analytical-store-spark#write-spark-dataframe-to-azure-cosmos-db-container\n",
        "\n",
        "df_customer_aggregated.write.format(\"cosmos.oltp\")\\\n",
        "    .option(\"spark.synapse.linkedService\", \"CosmosDemoSQL\")\\\n",
        "    .option(\"spark.cosmos.container\", \"sales_aggregates\")\\\n",
        "    .option(\"spark.cosmos.write.upsertenabled\", \"true\")\\\n",
        "    .mode('append')\\\n",
        "    .save()"
      ]
    }
  ],
  "metadata": {
    "kernel_info": {
      "name": "synapse_pyspark"
    },
    "kernelspec": {
      "display_name": "Synapse PySpark",
      "language": "Python",
      "name": "synapse_pyspark"
    },
    "language_info": {
      "name": "python"
    },
    "save_output": false,
    "synapse_widget": {
      "state": {
        "3fd35383-cd93-4d99-864f-e37fdab7a3b3": {
          "persist_state": {
            "view": {
              "chartOptions": {
                "aggregationType": "sum",
                "categoryFieldKeys": [
                  "1"
                ],
                "chartType": "bar",
                "isStacked": false,
                "seriesFieldKeys": [
                  "0"
                ]
              },
              "tableOptions": {},
              "type": "details"
            }
          },
          "sync_state": {
            "isSummary": false,
            "language": "scala",
            "table": {
              "rows": [
                {
                  "0": "1",
                  "1": "69e3f052-9055-4c9f-a4ea-330a06aac336",
                  "2": "1",
                  "3": "1",
                  "4": "5339.32",
                  "5": "2"
                },
                {
                  "0": "2",
                  "1": "b1416dfb-9c30-4bb4-b782-d9da09015028",
                  "2": "2",
                  "3": "2",
                  "4": "10055.060000000001",
                  "5": "5"
                },
                {
                  "0": "3",
                  "1": "1e74cc3f-a527-49df-a9e0-fc04533fe22a",
                  "2": "3",
                  "3": "7",
                  "4": "21875.42",
                  "5": "15"
                },
                {
                  "0": "4",
                  "1": "9121cce5-976d-40e1-9c91-9ff98687f31e",
                  "2": "4",
                  "3": "3",
                  "4": "14086.019999999999",
                  "5": "7"
                }
              ],
              "schema": [
                {
                  "key": "0",
                  "name": "customer_id",
                  "type": "bigint"
                },
                {
                  "key": "1",
                  "name": "id",
                  "type": "string"
                },
                {
                  "key": "2",
                  "name": "pk",
                  "type": "bigint"
                },
                {
                  "key": "3",
                  "name": "order_count",
                  "type": "bigint"
                },
                {
                  "key": "4",
                  "name": "total_dollar_amount",
                  "type": "double"
                },
                {
                  "key": "5",
                  "name": "total_item_count",
                  "type": "bigint"
                }
              ],
              "truncated": false
            }
          },
          "type": "Synapse.DataFrame"
        },
        "600f8e7e-703e-4d74-a11b-73ae71d8c96e": {
          "persist_state": {
            "view": {
              "chartOptions": {
                "aggregationType": "sum",
                "categoryFieldKeys": [
                  "0"
                ],
                "chartType": "bar",
                "isStacked": false,
                "seriesFieldKeys": [
                  "1"
                ]
              },
              "tableOptions": {},
              "type": "details"
            }
          },
          "sync_state": {
            "isSummary": false,
            "language": "scala",
            "table": {
              "rows": [
                {
                  "0": "+LFgALJrhckFAAAAAAAAAA==",
                  "1": "1642437602",
                  "2": "33",
                  "3": "5502ea83-85b1-4688-966d-a1f0849bdcbb",
                  "4": "33",
                  "5": "sale",
                  "6": "2021-01-01",
                  "8": "818",
                  "9": "77",
                  "14": "1642437601865",
                  "15": "2022/01/17-16:40:01",
                  "16": "\"030096c9-0000-0100-0000-61e59be20000\"",
                  "17": "fri",
                  "18": "2",
                  "19": "6353.12"
                },
                {
                  "0": "+LFgALJrhckHAAAAAAAAAA==",
                  "1": "1642437602",
                  "2": "32",
                  "3": "6b7eb692-742e-45b4-ad40-dcb329344c0b",
                  "4": "32",
                  "5": "sale",
                  "6": "2021-01-01",
                  "8": "4379",
                  "9": "81",
                  "14": "1642437601865",
                  "15": "2022/01/17-16:40:01",
                  "16": "\"030098c9-0000-0100-0000-61e59be20000\"",
                  "17": "fri",
                  "18": "2",
                  "19": "2115.24"
                },
                {
                  "0": "+LFgALJrhckKAAAAAAAAAA==",
                  "1": "1642437602",
                  "2": "31",
                  "3": "07b2c026-da2e-4551-9027-fba881570b55",
                  "4": "31",
                  "5": "sale",
                  "6": "2021-01-01",
                  "8": "6147",
                  "9": "30",
                  "14": "1642437601865",
                  "15": "2022/01/17-16:40:01",
                  "16": "\"03009bc9-0000-0100-0000-61e59be20000\"",
                  "17": "fri",
                  "18": "2",
                  "19": "6712.51"
                },
                {
                  "0": "+LFgALJrhckNAAAAAAAAAA==",
                  "1": "1642437602",
                  "2": "30",
                  "3": "3c8a4be0-5db7-43f7-94fd-104c775985eb",
                  "4": "30",
                  "5": "sale",
                  "6": "2021-01-01",
                  "8": "4533",
                  "9": "21",
                  "14": "1642437601865",
                  "15": "2022/01/17-16:40:01",
                  "16": "\"03009ec9-0000-0100-0000-61e59be20000\"",
                  "17": "fri",
                  "18": "3",
                  "19": "7366.2"
                }
              ],
              "schema": [
                {
                  "key": "0",
                  "name": "_rid",
                  "type": "string"
                },
                {
                  "key": "1",
                  "name": "_ts",
                  "type": "bigint"
                },
                {
                  "key": "2",
                  "name": "pk",
                  "type": "bigint"
                },
                {
                  "key": "3",
                  "name": "id",
                  "type": "string"
                },
                {
                  "key": "4",
                  "name": "sale_id",
                  "type": "bigint"
                },
                {
                  "key": "5",
                  "name": "doctype",
                  "type": "string"
                },
                {
                  "key": "6",
                  "name": "date",
                  "type": "string"
                },
                {
                  "key": "7",
                  "name": "line_num",
                  "type": "bigint"
                },
                {
                  "key": "8",
                  "name": "customer_id",
                  "type": "bigint"
                },
                {
                  "key": "9",
                  "name": "store_id",
                  "type": "bigint"
                },
                {
                  "key": "10",
                  "name": "upc",
                  "type": "string"
                },
                {
                  "key": "11",
                  "name": "price",
                  "type": "double"
                },
                {
                  "key": "12",
                  "name": "qty",
                  "type": "bigint"
                },
                {
                  "key": "13",
                  "name": "cost",
                  "type": "double"
                },
                {
                  "key": "14",
                  "name": "doc_epoch",
                  "type": "bigint"
                },
                {
                  "key": "15",
                  "name": "doc_time",
                  "type": "string"
                },
                {
                  "key": "16",
                  "name": "_etag",
                  "type": "string"
                },
                {
                  "key": "17",
                  "name": "dow",
                  "type": "string"
                },
                {
                  "key": "18",
                  "name": "item_count",
                  "type": "bigint"
                },
                {
                  "key": "19",
                  "name": "total_cost",
                  "type": "double"
                }
              ],
              "truncated": false
            }
          },
          "type": "Synapse.DataFrame"
        }
      },
      "version": "0.1"
    }
  },
  "nbformat": 4,
  "nbformat_minor": 2
}
