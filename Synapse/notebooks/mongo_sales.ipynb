{
  "cells": [
    {
      "cell_type": "markdown",
      "source": [
        "# Cosmos DB Synapse Sales Processing Spark Notebook\r\n",
        "\r\n",
        "## This Spark/PySpark Notebook demonstrates how to:\r\n",
        "\r\n",
        "- **Read the Synapse Link Analytic Datastore with Spark/PySpark in Azure Synapse**\r\n",
        "- **Source Cosmos DB is the Mongo API**\r\n",
        "- **Aggregating the sales data by customer_id**\r\n",
        "- Displaying the \"shape\" of the dataframes, and observed schema\r\n",
        "- Filter the sales data (by doctype, timestamp)\r\n",
        "- Writing the aggregated \"materialized view\" of sales-by-customer to the Cosmos DB views container\r\n"
      ],
      "metadata": {
        "nteract": {
          "transient": {
            "deleting": false
          }
        }
      }
    },
    {
      "cell_type": "code",
      "source": [
        "# Define common PySpark functions used in this Notebook.\r\n",
        "# This Notebook defaults to PySpark.\r\n",
        "# Also display the installed packages/libraries.\r\n",
        "\r\n",
        "# import pkg_resources\r\n",
        "# pkg_list = list()\r\n",
        "\r\n",
        "# for d in sorted(pkg_resources.working_set):\r\n",
        "#     pkg_list.append(str(d))\r\n",
        "# for p in sorted(pkg_list):\r\n",
        "#     pass\r\n",
        "#     #print(p)\r\n",
        "\r\n",
        "def print_df_shape(df, msg):\r\n",
        "    print(\"shape of df {} - row count: {}, column count: {}\".format(\r\n",
        "        msg, str(df.count()), str(len(df.columns)) ))\r\n"
      ],
      "outputs": [
        {
          "output_type": "display_data",
          "data": {
            "application/vnd.livy.statement-meta+json": {
              "spark_pool": "sparkpool3m",
              "session_id": "10",
              "statement_id": 2,
              "state": "finished",
              "livy_statement_state": "available",
              "queued_time": "2023-04-24T14:05:12.5948675Z",
              "session_start_time": null,
              "execution_start_time": "2023-04-24T14:05:12.766529Z",
              "execution_finish_time": "2023-04-24T14:05:12.958971Z",
              "spark_jobs": null,
              "parent_msg_id": "4c014ace-dc61-49a7-ba86-b5dcedc84711"
            },
            "text/plain": "StatementMeta(sparkpool3m, 10, 2, Finished, Available)"
          },
          "metadata": {}
        }
      ],
      "execution_count": 68,
      "metadata": {
        "jupyter": {
          "source_hidden": false,
          "outputs_hidden": false
        },
        "nteract": {
          "transient": {
            "deleting": false
          }
        }
      }
    },
    {
      "cell_type": "code",
      "source": [
        "# Read the Synapse Link Analytic Datastore into a Spark Dataframe,\n",
        "# filtering by the timestamp of the Cosmos DB documents.\n",
        "\n",
        "from pyspark.sql.functions import col\n",
        "import pyspark.sql.functions as F \n",
        "\n",
        "# Initialize timestamp variables.  Alternatively, these can be computed\n",
        "# values such as for a daily or monthly report.\n",
        "min_doc_timestamp = 1640995200  # 2022-01-01T00:00:00.000Z\n",
        "max_doc_timestamp = 1999999999  # distant future\n",
        "\n",
        "# \"cosmos.olap\" is Synapse Link\n",
        "# \"cosmos.oltp\" is Cosmos DB\n",
        "\n",
        "sales_df = spark.read\\\n",
        "    .format(\"cosmos.olap\")\\\n",
        "    .option(\"spark.synapse.linkedService\", \"gbbcjmongo_retail\")\\\n",
        "    .option(\"spark.cosmos.container\", \"sales\")\\\n",
        "    .load()\\\n",
        "    .filter(col(\"_ts\") >= min_doc_timestamp)\\\n",
        "    .filter(col(\"_ts\") <= max_doc_timestamp)\n",
        "\n",
        "display(sales_df.limit(10))\n"
      ],
      "outputs": [
        {
          "output_type": "display_data",
          "data": {
            "application/vnd.livy.statement-meta+json": {
              "spark_pool": "sparkpool3m",
              "session_id": "10",
              "statement_id": 3,
              "state": "finished",
              "livy_statement_state": "available",
              "queued_time": "2023-04-24T14:05:12.6553761Z",
              "session_start_time": null,
              "execution_start_time": "2023-04-24T14:05:13.1285579Z",
              "execution_finish_time": "2023-04-24T14:05:48.9491141Z",
              "spark_jobs": null,
              "parent_msg_id": "59c01b3b-fba5-4f39-8a13-2d0355ac888f"
            },
            "text/plain": "StatementMeta(sparkpool3m, 10, 3, Finished, Available)"
          },
          "metadata": {}
        },
        {
          "output_type": "display_data",
          "data": {
            "application/vnd.synapse.widget-view+json": {
              "widget_id": "0be01b3e-7d7b-4fe1-9cf9-394b697bceeb",
              "widget_type": "Synapse.DataFrame"
            },
            "text/plain": "SynapseWidget(Synapse.DataFrame, 0be01b3e-7d7b-4fe1-9cf9-394b697bceeb)"
          },
          "metadata": {}
        }
      ],
      "execution_count": 69,
      "metadata": {
        "collapsed": false
      }
    },
    {
      "cell_type": "code",
      "source": [
        "# Display the shape and the inferred schema of the input dataframe.\r\n",
        "\r\n",
        "print_df_shape(sales_df, \"sales_df\")\r\n",
        "sales_df.printSchema()\r\n"
      ],
      "outputs": [
        {
          "output_type": "display_data",
          "data": {
            "application/vnd.livy.statement-meta+json": {
              "spark_pool": "sparkpool3m",
              "session_id": "10",
              "statement_id": 4,
              "state": "finished",
              "livy_statement_state": "available",
              "queued_time": "2023-04-24T14:05:12.740427Z",
              "session_start_time": null,
              "execution_start_time": "2023-04-24T14:05:49.1541386Z",
              "execution_finish_time": "2023-04-24T14:05:51.0262096Z",
              "spark_jobs": null,
              "parent_msg_id": "d26a6e0d-4498-4052-a240-e24f02034025"
            },
            "text/plain": "StatementMeta(sparkpool3m, 10, 4, Finished, Available)"
          },
          "metadata": {}
        },
        {
          "output_type": "stream",
          "name": "stdout",
          "text": [
            "shape of df sales_df - row count: 108062, column count: 21\nroot\n |-- _rid: string (nullable = true)\n |-- _ts: long (nullable = true)\n |-- id: string (nullable = true)\n |-- _etag: string (nullable = true)\n |-- _id: struct (nullable = true)\n |    |-- objectId: string (nullable = true)\n |-- pk: struct (nullable = true)\n |    |-- string: string (nullable = true)\n |-- sale_id: struct (nullable = true)\n |    |-- int32: integer (nullable = true)\n |-- doctype: struct (nullable = true)\n |    |-- string: string (nullable = true)\n |-- date: struct (nullable = true)\n |    |-- string: string (nullable = true)\n |-- line_num: struct (nullable = true)\n |    |-- int32: integer (nullable = true)\n |-- customer_id: struct (nullable = true)\n |    |-- int32: integer (nullable = true)\n |-- store_id: struct (nullable = true)\n |    |-- int32: integer (nullable = true)\n |-- upc: struct (nullable = true)\n |    |-- string: string (nullable = true)\n |-- price: struct (nullable = true)\n |    |-- float64: double (nullable = true)\n |-- qty: struct (nullable = true)\n |    |-- int32: integer (nullable = true)\n |-- cost: struct (nullable = true)\n |    |-- float64: double (nullable = true)\n |-- epoch: struct (nullable = true)\n |    |-- float64: double (nullable = true)\n |-- _partitionKey: struct (nullable = true)\n |    |-- string: string (nullable = true)\n |-- dow: struct (nullable = true)\n |    |-- string: string (nullable = true)\n |-- item_count: struct (nullable = true)\n |    |-- int32: integer (nullable = true)\n |-- total_cost: struct (nullable = true)\n |    |-- float64: double (nullable = true)\n\n"
          ]
        }
      ],
      "execution_count": 70,
      "metadata": {
        "jupyter": {
          "source_hidden": false,
          "outputs_hidden": false
        },
        "nteract": {
          "transient": {
            "deleting": false
          }
        }
      }
    },
    {
      "cell_type": "code",
      "source": [
        "# Extract just a few attributes of the Dataframe for processing.\r\n",
        "# The input documents look like this:.\r\n",
        "\r\n",
        "# {\r\n",
        "# \t\"_id\" : ObjectId(\"64458d9a59d30378b040b2a7\"),\r\n",
        "# \t\"pk\" : \"1\",\r\n",
        "# \t\"id\" : \"d5aec4a6-3735-4f73-9432-b2f8692784d7\",\r\n",
        "# \t\"sale_id\" : 1,                   <-- extracted\r\n",
        "# \t\"doctype\" : \"sale\",              <-- extracted\r\n",
        "# \t\"date\" : \"2021-01-01\",\r\n",
        "# \t\"dow\" : \"fri\",\r\n",
        "# \t\"customer_id\" : 6168,            <-- extracted\r\n",
        "# \t\"store_id\" : 60,\r\n",
        "# \t\"item_count\" : 2,                <-- extracted\r\n",
        "# \t\"total_cost\" : 1943.65,          <-- extracted\r\n",
        "# \t\"epoch\" : 1682279834.2830074\r\n",
        "# }\r\n",
        "\r\n",
        "from pyspark.sql.functions import col\r\n",
        "import pyspark.sql.functions as F \r\n",
        "\r\n",
        "# \"Full-Fidelity\" schema logic to unpack the Synapse Link values.\r\n",
        "# Alternative is \"Well-Defined\" schema.\r\n",
        "sales_df_unpacked = sales_df.select(\r\n",
        "    col('sale_id.*'),\r\n",
        "    col('customer_id.*'),\r\n",
        "    col('doctype.*'),\r\n",
        "    col('item_count.*'),\r\n",
        "    col('total_cost.*'))\r\n",
        "\r\n",
        "# Rename the columns of the unpacked DataFrame to friendly names\r\n",
        "new_column_names = ['sale_id', 'customer_id', 'doctype', 'item_count', 'total_cost']\r\n",
        "df_sales = sales_df_unpacked.toDF(*new_column_names).filter(col(\"doctype\") == \"sale\")\r\n",
        "\r\n",
        "print_df_shape(df_sales, \"df_sales\")\r\n",
        "display(df_sales.limit(10))\r\n",
        "df_sales.printSchema()\r\n"
      ],
      "outputs": [
        {
          "output_type": "display_data",
          "data": {
            "application/vnd.livy.statement-meta+json": {
              "spark_pool": "sparkpool3m",
              "session_id": "10",
              "statement_id": 5,
              "state": "finished",
              "livy_statement_state": "available",
              "queued_time": "2023-04-24T14:05:12.8669041Z",
              "session_start_time": null,
              "execution_start_time": "2023-04-24T14:05:51.2150912Z",
              "execution_finish_time": "2023-04-24T14:05:53.0988245Z",
              "spark_jobs": null,
              "parent_msg_id": "3d896005-36c5-4fd1-8c81-3abd91dea4ff"
            },
            "text/plain": "StatementMeta(sparkpool3m, 10, 5, Finished, Available)"
          },
          "metadata": {}
        },
        {
          "output_type": "stream",
          "name": "stdout",
          "text": [
            "shape of df df_sales - row count: 30840, column count: 5\n"
          ]
        },
        {
          "output_type": "display_data",
          "data": {
            "application/vnd.synapse.widget-view+json": {
              "widget_id": "487d2a25-2be0-4a47-bd35-223ad0a7ca9b",
              "widget_type": "Synapse.DataFrame"
            },
            "text/plain": "SynapseWidget(Synapse.DataFrame, 487d2a25-2be0-4a47-bd35-223ad0a7ca9b)"
          },
          "metadata": {}
        },
        {
          "output_type": "stream",
          "name": "stdout",
          "text": [
            "root\n |-- sale_id: integer (nullable = true)\n |-- customer_id: integer (nullable = true)\n |-- doctype: string (nullable = true)\n |-- item_count: integer (nullable = true)\n |-- total_cost: double (nullable = true)\n\n"
          ]
        }
      ],
      "execution_count": 71,
      "metadata": {
        "jupyter": {
          "source_hidden": false,
          "outputs_hidden": false
        },
        "nteract": {
          "transient": {
            "deleting": false
          }
        },
        "collapsed": false
      }
    },
    {
      "cell_type": "code",
      "source": [
        "# Aggregate the Sales by Customer \r\n",
        "\r\n",
        "# But first, consider an alternative implementation using JUST CosmosDB, and not Spark:\r\n",
        "# 1. Read customers container to get the unique set of customer ids (cross partition)\r\n",
        "# 2. Loop through the customer id list:\r\n",
        "#    - Read all of the sale documents for each customer in the timeframe (cross partition)\r\n",
        "#    - sum the sales item_count and item_count for each customer (memory intensive)\r\n",
        "\r\n",
        "import pyspark.sql.functions as F \r\n",
        "\r\n",
        "df_customer_aggregated = df_sales.groupBy(\"customer_id\") \\\r\n",
        "    .agg(\r\n",
        "        F.first('customer_id').alias('id'), \\\r\n",
        "        F.first('customer_id').alias('pk'), \\\r\n",
        "        F.count(\"customer_id\").alias('order_count'), \\\r\n",
        "        F.sum(\"total_cost\").alias(\"total_dollar_amount\"), \\\r\n",
        "        F.sum(\"item_count\").alias(\"total_item_count\")) \\\r\n",
        "        .sort(\"customer_id\", ascending=True)\r\n",
        "\r\n",
        "print_df_shape(df_customer_aggregated, \"df_customer_aggregated\")\r\n",
        "display(df_customer_aggregated.limit(10))\r\n",
        "df_customer_aggregated.printSchema()\r\n"
      ],
      "outputs": [
        {
          "output_type": "display_data",
          "data": {
            "application/vnd.livy.statement-meta+json": {
              "spark_pool": "sparkpool3m",
              "session_id": "10",
              "statement_id": 6,
              "state": "finished",
              "livy_statement_state": "available",
              "queued_time": "2023-04-24T14:05:13.0061815Z",
              "session_start_time": null,
              "execution_start_time": "2023-04-24T14:05:54.0122971Z",
              "execution_finish_time": "2023-04-24T14:05:59.8361976Z",
              "spark_jobs": null,
              "parent_msg_id": "bd684e04-2bf0-426b-bd07-f40926ac5c8c"
            },
            "text/plain": "StatementMeta(sparkpool3m, 10, 6, Finished, Available)"
          },
          "metadata": {}
        },
        {
          "output_type": "stream",
          "name": "stdout",
          "text": [
            "shape of df df_customer_aggregated - row count: 9532, column count: 6\n"
          ]
        },
        {
          "output_type": "display_data",
          "data": {
            "application/vnd.synapse.widget-view+json": {
              "widget_id": "e76ae269-5fff-44c6-b6ae-93a2cf8ada13",
              "widget_type": "Synapse.DataFrame"
            },
            "text/plain": "SynapseWidget(Synapse.DataFrame, e76ae269-5fff-44c6-b6ae-93a2cf8ada13)"
          },
          "metadata": {}
        },
        {
          "output_type": "stream",
          "name": "stdout",
          "text": [
            "root\n |-- customer_id: integer (nullable = true)\n |-- id: integer (nullable = true)\n |-- pk: integer (nullable = true)\n |-- order_count: long (nullable = false)\n |-- total_dollar_amount: double (nullable = true)\n |-- total_item_count: long (nullable = true)\n\n"
          ]
        }
      ],
      "execution_count": 72,
      "metadata": {
        "jupyter": {
          "source_hidden": false,
          "outputs_hidden": false
        },
        "nteract": {
          "transient": {
            "deleting": false
          }
        },
        "collapsed": false
      }
    },
    {
      "cell_type": "code",
      "source": [
        "df_customer_aggregated.createOrReplaceTempView('agg')\r\n",
        "print('df_customer_aggregated saved to tmp view: agg')\r\n"
      ],
      "outputs": [
        {
          "output_type": "display_data",
          "data": {
            "application/vnd.livy.statement-meta+json": {
              "spark_pool": "sparkpool3m",
              "session_id": "10",
              "statement_id": 7,
              "state": "finished",
              "livy_statement_state": "available",
              "queued_time": "2023-04-24T14:05:13.1583207Z",
              "session_start_time": null,
              "execution_start_time": "2023-04-24T14:06:00.0065162Z",
              "execution_finish_time": "2023-04-24T14:06:20.1067669Z",
              "spark_jobs": null,
              "parent_msg_id": "59e5de11-6a37-4468-8dff-6b98a1a78fb1"
            },
            "text/plain": "StatementMeta(sparkpool3m, 10, 7, Finished, Available)"
          },
          "metadata": {}
        },
        {
          "output_type": "stream",
          "name": "stdout",
          "text": [
            "df_customer_aggregated saved to tmp view: agg\n"
          ]
        }
      ],
      "execution_count": 73,
      "metadata": {
        "jupyter": {
          "source_hidden": false,
          "outputs_hidden": false
        },
        "nteract": {
          "transient": {
            "deleting": false
          }
        }
      }
    },
    {
      "cell_type": "code",
      "source": [
        "%%sql\r\n",
        "\r\n",
        "-- Use the %%sql \"magick\" to toggle into SQL mode and execute a query.\r\n",
        "\r\n",
        "select * from agg limit 3\r\n"
      ],
      "outputs": [
        {
          "output_type": "display_data",
          "data": {
            "application/vnd.livy.statement-meta+json": {
              "spark_pool": "sparkpool3m",
              "session_id": "10",
              "statement_id": 8,
              "state": "finished",
              "livy_statement_state": "available",
              "queued_time": "2023-04-24T14:05:13.3119329Z",
              "session_start_time": null,
              "execution_start_time": "2023-04-24T14:06:20.2826427Z",
              "execution_finish_time": "2023-04-24T14:06:23.1426298Z",
              "spark_jobs": null,
              "parent_msg_id": "9dff5119-750b-4a69-9a58-172b42552704"
            },
            "text/plain": "StatementMeta(sparkpool3m, 10, 8, Finished, Available)"
          },
          "metadata": {}
        },
        {
          "output_type": "execute_result",
          "execution_count": 74,
          "data": {
            "application/vnd.synapse.sparksql-result+json": {
              "schema": {
                "type": "struct",
                "fields": [
                  {
                    "name": "customer_id",
                    "type": "integer",
                    "nullable": true,
                    "metadata": {}
                  },
                  {
                    "name": "id",
                    "type": "integer",
                    "nullable": true,
                    "metadata": {}
                  },
                  {
                    "name": "pk",
                    "type": "integer",
                    "nullable": true,
                    "metadata": {}
                  },
                  {
                    "name": "order_count",
                    "type": "long",
                    "nullable": false,
                    "metadata": {}
                  },
                  {
                    "name": "total_dollar_amount",
                    "type": "double",
                    "nullable": true,
                    "metadata": {}
                  },
                  {
                    "name": "total_item_count",
                    "type": "long",
                    "nullable": true,
                    "metadata": {}
                  }
                ]
              },
              "data": [
                [
                  1,
                  1,
                  1,
                  "1",
                  5984.71,
                  "3"
                ],
                [
                  2,
                  2,
                  2,
                  "4",
                  22182.65,
                  "11"
                ],
                [
                  3,
                  3,
                  3,
                  "3",
                  8428.880000000001,
                  "8"
                ]
              ]
            },
            "text/plain": "<Spark SQL result set with 3 rows and 6 fields>"
          },
          "metadata": {}
        }
      ],
      "execution_count": 74,
      "metadata": {
        "jupyter": {
          "source_hidden": false,
          "outputs_hidden": false
        },
        "nteract": {
          "transient": {
            "deleting": false
          }
        },
        "microsoft": {
          "language": "sparksql"
        },
        "collapsed": false
      }
    },
    {
      "cell_type": "code",
      "source": [
        "%%pyspark\r\n",
        "\r\n",
        "# Use a SQL SELECT to cast the id and pk attributes from ints to Strings.\r\n",
        "\r\n",
        "df_for_cosmos = spark.sql(\"SELECT String(id), String(pk), order_count, total_dollar_amount, total_item_count FROM agg\")\r\n",
        "\r\n",
        "print_df_shape(df_for_cosmos, \"df_for_cosmos\")\r\n",
        "display(df_for_cosmos.limit(10))\r\n",
        "df_for_cosmos.printSchema()\r\n"
      ],
      "outputs": [
        {
          "output_type": "display_data",
          "data": {
            "application/vnd.livy.statement-meta+json": {
              "spark_pool": "sparkpool3m",
              "session_id": "10",
              "statement_id": 9,
              "state": "finished",
              "livy_statement_state": "available",
              "queued_time": "2023-04-24T14:05:13.4226933Z",
              "session_start_time": null,
              "execution_start_time": "2023-04-24T14:06:23.3088292Z",
              "execution_finish_time": "2023-04-24T14:06:26.2587535Z",
              "spark_jobs": null,
              "parent_msg_id": "41abee87-fc3f-4403-aca3-3d71ce9d3287"
            },
            "text/plain": "StatementMeta(sparkpool3m, 10, 9, Finished, Available)"
          },
          "metadata": {}
        },
        {
          "output_type": "stream",
          "name": "stdout",
          "text": [
            "shape of df df_for_cosmos - row count: 9532, column count: 5\n"
          ]
        },
        {
          "output_type": "display_data",
          "data": {
            "application/vnd.synapse.widget-view+json": {
              "widget_id": "dd2c6358-8212-4e6a-ac27-1ae0532bbf84",
              "widget_type": "Synapse.DataFrame"
            },
            "text/plain": "SynapseWidget(Synapse.DataFrame, dd2c6358-8212-4e6a-ac27-1ae0532bbf84)"
          },
          "metadata": {}
        },
        {
          "output_type": "stream",
          "name": "stdout",
          "text": [
            "root\n |-- id: string (nullable = true)\n |-- pk: string (nullable = true)\n |-- order_count: long (nullable = false)\n |-- total_dollar_amount: double (nullable = true)\n |-- total_item_count: long (nullable = true)\n\n"
          ]
        }
      ],
      "execution_count": 75,
      "metadata": {
        "jupyter": {
          "source_hidden": false,
          "outputs_hidden": false
        },
        "nteract": {
          "transient": {
            "deleting": false
          }
        },
        "microsoft": {
          "language": "python"
        },
        "collapsed": false
      }
    },
    {
      "cell_type": "code",
      "source": [
        "\r\n",
        "# Write the Dataframe to Cosmos DB NoSQL API.\r\n",
        "# See https://spark.apache.org/docs/3.2.4/api/python/reference/api/pyspark.sql.DataFrameWriter.mode.html\r\n",
        "\r\n",
        "df_for_cosmos.write.format(\"cosmos.oltp\")\\\r\n",
        "    .option(\"spark.synapse.linkedService\", \"gbbcjcdbnosql_retail_db\")\\\r\n",
        "    .option(\"spark.cosmos.container\", \"views\")\\\r\n",
        "    .mode('append')\\\r\n",
        "    .save()\r\n"
      ],
      "outputs": [
        {
          "output_type": "display_data",
          "data": {
            "application/vnd.livy.statement-meta+json": {
              "spark_pool": "sparkpool3m",
              "session_id": "10",
              "statement_id": 10,
              "state": "finished",
              "livy_statement_state": "available",
              "queued_time": "2023-04-24T14:05:13.4855357Z",
              "session_start_time": null,
              "execution_start_time": "2023-04-24T14:06:26.4394587Z",
              "execution_finish_time": "2023-04-24T14:07:01.9363558Z",
              "spark_jobs": null,
              "parent_msg_id": "7722c70f-9531-4d28-87cb-2d4a42554c36"
            },
            "text/plain": "StatementMeta(sparkpool3m, 10, 10, Finished, Available)"
          },
          "metadata": {}
        }
      ],
      "execution_count": 76,
      "metadata": {
        "jupyter": {
          "source_hidden": false,
          "outputs_hidden": false
        },
        "nteract": {
          "transient": {
            "deleting": false
          }
        }
      }
    },
    {
      "cell_type": "code",
      "source": [
        "%%spark \r\n",
        "\r\n",
        "// Obtain configuration values from spark.conf\r\n",
        "// See https://learn.microsoft.com/en-us/azure/synapse-analytics/spark/apache-spark-azure-create-spark-configuration\r\n",
        "\r\n",
        "val connStr  = spark.conf.get(\"spark.azurepg.jdbc.connstring\")\r\n",
        "val driver   = spark.conf.get(\"spark.azurepg.jdbc.driver\")\r\n",
        "val server   = spark.conf.get(\"spark.azurepg.jdbc.server\")\r\n",
        "val table    = spark.conf.get(\"spark.azurepg.jdbc.table\")\r\n",
        "val user     = spark.conf.get(\"spark.azurepg.jdbc.user\")\r\n",
        "val password = spark.conf.get(\"spark.azurepg.jdbc.pass\")\r\n",
        "\r\n",
        "println(\"driver:   \" + driver)\r\n",
        "println(\"server:   \" + server)\r\n",
        "println(\"table:    \" + table)\r\n",
        "println(\"user:     \" + user)\r\n",
        "//println(\"password: \" + password)\r\n",
        "\r\n",
        "val df_customer_aggregated = spark.read.table(\"agg\")  // Spark SQL table\r\n",
        "\r\n",
        "println(\"df_customer_aggregated row count: \" + df_customer_aggregated.count())\r\n",
        "\r\n",
        "// Using JDBC, write the Dataframe to Azure PostgreSQL\r\n",
        "df_customer_aggregated.write\r\n",
        "  .format(\"jdbc\")\r\n",
        "  .option(\"url\", connStr)\r\n",
        "  .option(\"driver\", driver)\r\n",
        "  .option(\"dbtable\", table)\r\n",
        "  .option(\"user\", user)\r\n",
        "  .option(\"password\", password)\r\n",
        "  .mode(\"overwrite\")\r\n",
        "  .save()\r\n",
        "\r\n",
        "println(\"done\\n\\n\\n\\n\\n\\n\\n\\n\")\r\n"
      ],
      "outputs": [
        {
          "output_type": "display_data",
          "data": {
            "application/vnd.livy.statement-meta+json": {
              "spark_pool": "sparkpool3m",
              "session_id": "10",
              "statement_id": 16,
              "state": "finished",
              "livy_statement_state": "available",
              "queued_time": "2023-04-24T14:23:08.9034298Z",
              "session_start_time": null,
              "execution_start_time": "2023-04-24T14:23:09.0562196Z",
              "execution_finish_time": "2023-04-24T14:23:14.5393396Z",
              "spark_jobs": null,
              "parent_msg_id": "aa853b5f-0a92-41c9-abb8-8780f1bdadae"
            },
            "text/plain": "StatementMeta(sparkpool3m, 10, 16, Finished, Available)"
          },
          "metadata": {}
        },
        {
          "output_type": "stream",
          "name": "stdout",
          "text": [
            "driver:   org.postgresql.Driver\nserver:   gbbcjflexpg.postgres.database.azure.com\ntable:    public.customer_sales\nuser:     chjoakim@gbbcjflexpg.postgres.database.azure.com\ndf_customer_aggregated row count: 9532\ndone\n\n\n\n\n\n\n\n\nconnStr: String = jdbc:postgresql://gbbcjflexpg.postgres.database.azure.com:5432/postgres?user=chjoakim&password=PX58VSv9DWZc&sslmode=require\ndriver: String = org.postgresql.Driver\nserver: String = gbbcjflexpg.postgres.database.azure.com\ntable: String = public.customer_sales\nuser: String = chjoakim@gbbcjflexpg.postgres.database.azure.com\npassword: String = PX58VSv9DWZc\ndf_customer_aggregated: org.apache.spark.sql.DataFrame = [customer_id: int, id: int ... 4 more fields]\n"
          ]
        }
      ],
      "execution_count": 81,
      "metadata": {
        "jupyter": {
          "source_hidden": false,
          "outputs_hidden": false
        },
        "nteract": {
          "transient": {
            "deleting": false
          }
        },
        "microsoft": {
          "language": "scala"
        }
      }
    }
  ],
  "metadata": {
    "kernelspec": {
      "name": "synapse_pyspark",
      "language": "Python",
      "display_name": "Synapse PySpark"
    },
    "language_info": {
      "name": "python"
    },
    "kernel_info": {
      "name": "synapse_pyspark"
    },
    "description": null,
    "save_output": true,
    "synapse_widget": {
      "version": "0.1",
      "state": {
        "0be01b3e-7d7b-4fe1-9cf9-394b697bceeb": {
          "type": "Synapse.DataFrame",
          "sync_state": {
            "table": {
              "rows": [
                {
                  "0": "1-gDAPesnva-WwAAAAAAAA==",
                  "1": "1682280559",
                  "2": "NjQ0NTkwNmY1OWQzMDM3OGIwNDEwZTYz",
                  "3": "\"0200603c-0000-0100-0000-6445906f0000\"",
                  "4": {
                    "objectId": "dE�oY�\u0003x�A\u000ec"
                  },
                  "5": {
                    "string": "6707"
                  },
                  "6": {
                    "int32": 6707
                  },
                  "7": {
                    "string": "line_item"
                  },
                  "8": {
                    "string": "2021-03-31"
                  },
                  "9": {
                    "int32": 3
                  },
                  "10": {
                    "int32": 3853
                  },
                  "11": {
                    "int32": 21
                  },
                  "12": {
                    "string": "0050076137407"
                  },
                  "13": {
                    "float64": 840.4
                  },
                  "14": {
                    "int32": 3
                  },
                  "15": {
                    "float64": 2521.2
                  },
                  "16": {
                    "float64": 1682280559.9863365
                  },
                  "17": {
                    "string": "1-gDAPesnvY="
                  }
                },
                {
                  "0": "1-gDAPesnvbAWwAAAAAAAA==",
                  "1": "1682280559",
                  "2": "NjQ0NTkwNzA1OWQzMDM3OGIwNDEwZTY0",
                  "3": "\"0200613c-0000-0100-0000-6445906f0000\"",
                  "4": {
                    "objectId": "dE�pY�\u0003x�A\u000ed"
                  },
                  "5": {
                    "string": "6707"
                  },
                  "6": {
                    "int32": 6707
                  },
                  "7": {
                    "string": "sale"
                  },
                  "8": {
                    "string": "2021-03-31"
                  },
                  "10": {
                    "int32": 3853
                  },
                  "11": {
                    "int32": 21
                  },
                  "16": {
                    "float64": 1682280560.0161574
                  },
                  "17": {
                    "string": "1-gDAPesnvY="
                  },
                  "18": {
                    "string": "wed"
                  },
                  "19": {
                    "int32": 3
                  },
                  "20": {
                    "float64": 5751.39
                  }
                },
                {
                  "0": "1-gDAPesnvbBWwAAAAAAAA==",
                  "1": "1682280559",
                  "2": "NjQ0NTkwNzA1OWQzMDM3OGIwNDEwZTY1",
                  "3": "\"0200623c-0000-0100-0000-6445906f0000\"",
                  "4": {
                    "objectId": "dE�pY�\u0003x�A\u000ee"
                  },
                  "5": {
                    "string": "6708"
                  },
                  "6": {
                    "int32": 6708
                  },
                  "7": {
                    "string": "line_item"
                  },
                  "8": {
                    "string": "2021-03-31"
                  },
                  "9": {
                    "int32": 1
                  },
                  "10": {
                    "int32": 1540
                  },
                  "11": {
                    "int32": 59
                  },
                  "12": {
                    "string": "1000878380289"
                  },
                  "13": {
                    "float64": 999.79
                  },
                  "14": {
                    "int32": 1
                  },
                  "15": {
                    "float64": 999.79
                  },
                  "16": {
                    "float64": 1682280560.0454323
                  },
                  "17": {
                    "string": "1-gDAPesnvY="
                  }
                },
                {
                  "0": "1-gDAPesnvbCWwAAAAAAAA==",
                  "1": "1682280559",
                  "2": "NjQ0NTkwNzA1OWQzMDM3OGIwNDEwZTY2",
                  "3": "\"0200633c-0000-0100-0000-6445906f0000\"",
                  "4": {
                    "objectId": "dE�pY�\u0003x�A\u000ef"
                  },
                  "5": {
                    "string": "6708"
                  },
                  "6": {
                    "int32": 6708
                  },
                  "7": {
                    "string": "line_item"
                  },
                  "8": {
                    "string": "2021-03-31"
                  },
                  "9": {
                    "int32": 2
                  },
                  "10": {
                    "int32": 1540
                  },
                  "11": {
                    "int32": 59
                  },
                  "12": {
                    "string": "0127971843440"
                  },
                  "13": {
                    "float64": 1388.34
                  },
                  "14": {
                    "int32": 1
                  },
                  "15": {
                    "float64": 1388.34
                  },
                  "16": {
                    "float64": 1682280560.0756402
                  },
                  "17": {
                    "string": "1-gDAPesnvY="
                  }
                },
                {
                  "0": "1-gDAPesnvbDWwAAAAAAAA==",
                  "1": "1682280559",
                  "2": "NjQ0NTkwNzA1OWQzMDM3OGIwNDEwZTY3",
                  "3": "\"0200643c-0000-0100-0000-6445906f0000\"",
                  "4": {
                    "objectId": "dE�pY�\u0003x�A\u000eg"
                  },
                  "5": {
                    "string": "6708"
                  },
                  "6": {
                    "int32": 6708
                  },
                  "7": {
                    "string": "line_item"
                  },
                  "8": {
                    "string": "2021-03-31"
                  },
                  "9": {
                    "int32": 3
                  },
                  "10": {
                    "int32": 1540
                  },
                  "11": {
                    "int32": 59
                  },
                  "12": {
                    "string": "0930580720299"
                  },
                  "13": {
                    "float64": 218.15
                  },
                  "14": {
                    "int32": 3
                  },
                  "15": {
                    "float64": 654.45
                  },
                  "16": {
                    "float64": 1682280560.103832
                  },
                  "17": {
                    "string": "1-gDAPesnvY="
                  }
                },
                {
                  "0": "1-gDAPesnvbEWwAAAAAAAA==",
                  "1": "1682280559",
                  "2": "NjQ0NTkwNzA1OWQzMDM3OGIwNDEwZTY4",
                  "3": "\"0200653c-0000-0100-0000-6445906f0000\"",
                  "4": {
                    "objectId": "dE�pY�\u0003x�A\u000eh"
                  },
                  "5": {
                    "string": "6708"
                  },
                  "6": {
                    "int32": 6708
                  },
                  "7": {
                    "string": "sale"
                  },
                  "8": {
                    "string": "2021-03-31"
                  },
                  "10": {
                    "int32": 1540
                  },
                  "11": {
                    "int32": 59
                  },
                  "16": {
                    "float64": 1682280560.1347237
                  },
                  "17": {
                    "string": "1-gDAPesnvY="
                  },
                  "18": {
                    "string": "wed"
                  },
                  "19": {
                    "int32": 3
                  },
                  "20": {
                    "float64": 3042.58
                  }
                },
                {
                  "0": "1-gDAPesnvbFWwAAAAAAAA==",
                  "1": "1682280559",
                  "2": "NjQ0NTkwNzA1OWQzMDM3OGIwNDEwZTY5",
                  "3": "\"0200663c-0000-0100-0000-6445906f0000\"",
                  "4": {
                    "objectId": "dE�pY�\u0003x�A\u000ei"
                  },
                  "5": {
                    "string": "6709"
                  },
                  "6": {
                    "int32": 6709
                  },
                  "7": {
                    "string": "line_item"
                  },
                  "8": {
                    "string": "2021-03-31"
                  },
                  "9": {
                    "int32": 1
                  },
                  "10": {
                    "int32": 9183
                  },
                  "11": {
                    "int32": 74
                  },
                  "12": {
                    "string": "0053622171818"
                  },
                  "13": {
                    "float64": 737.95
                  },
                  "14": {
                    "int32": 1
                  },
                  "15": {
                    "float64": 737.95
                  },
                  "16": {
                    "float64": 1682280560.1633847
                  },
                  "17": {
                    "string": "1-gDAPesnvY="
                  }
                },
                {
                  "0": "1-gDAPesnvbGWwAAAAAAAA==",
                  "1": "1682280559",
                  "2": "NjQ0NTkwNzA1OWQzMDM3OGIwNDEwZTZh",
                  "3": "\"0200673c-0000-0100-0000-6445906f0000\"",
                  "4": {
                    "objectId": "dE�pY�\u0003x�A\u000ej"
                  },
                  "5": {
                    "string": "6709"
                  },
                  "6": {
                    "int32": 6709
                  },
                  "7": {
                    "string": "line_item"
                  },
                  "8": {
                    "string": "2021-03-31"
                  },
                  "9": {
                    "int32": 2
                  },
                  "10": {
                    "int32": 9183
                  },
                  "11": {
                    "int32": 74
                  },
                  "12": {
                    "string": "0998164163399"
                  },
                  "13": {
                    "float64": 839.45
                  },
                  "14": {
                    "int32": 3
                  },
                  "15": {
                    "float64": 2518.35
                  },
                  "16": {
                    "float64": 1682280560.1930857
                  },
                  "17": {
                    "string": "1-gDAPesnvY="
                  }
                },
                {
                  "0": "1-gDAPesnvbHWwAAAAAAAA==",
                  "1": "1682280559",
                  "2": "NjQ0NTkwNzA1OWQzMDM3OGIwNDEwZTZi",
                  "3": "\"0200683c-0000-0100-0000-6445906f0000\"",
                  "4": {
                    "objectId": "dE�pY�\u0003x�A\u000ek"
                  },
                  "5": {
                    "string": "6709"
                  },
                  "6": {
                    "int32": 6709
                  },
                  "7": {
                    "string": "sale"
                  },
                  "8": {
                    "string": "2021-03-31"
                  },
                  "10": {
                    "int32": 9183
                  },
                  "11": {
                    "int32": 74
                  },
                  "16": {
                    "float64": 1682280560.2221434
                  },
                  "17": {
                    "string": "1-gDAPesnvY="
                  },
                  "18": {
                    "string": "wed"
                  },
                  "19": {
                    "int32": 2
                  },
                  "20": {
                    "float64": 3256.3
                  }
                },
                {
                  "0": "1-gDAPesnvbIWwAAAAAAAA==",
                  "1": "1682280559",
                  "2": "NjQ0NTkwNzA1OWQzMDM3OGIwNDEwZTZj",
                  "3": "\"0200693c-0000-0100-0000-6445906f0000\"",
                  "4": {
                    "objectId": "dE�pY�\u0003x�A\u000el"
                  },
                  "5": {
                    "string": "6710"
                  },
                  "6": {
                    "int32": 6710
                  },
                  "7": {
                    "string": "line_item"
                  },
                  "8": {
                    "string": "2021-03-31"
                  },
                  "9": {
                    "int32": 1
                  },
                  "10": {
                    "int32": 1348
                  },
                  "11": {
                    "int32": 24
                  },
                  "12": {
                    "string": "1070734595003"
                  },
                  "13": {
                    "float64": 500.67
                  },
                  "14": {
                    "int32": 1
                  },
                  "15": {
                    "float64": 500.67
                  },
                  "16": {
                    "float64": 1682280560.2517662
                  },
                  "17": {
                    "string": "1-gDAPesnvY="
                  }
                }
              ],
              "schema": [
                {
                  "key": "0",
                  "name": "_rid",
                  "type": "string"
                },
                {
                  "key": "1",
                  "name": "_ts",
                  "type": "bigint"
                },
                {
                  "key": "2",
                  "name": "id",
                  "type": "string"
                },
                {
                  "key": "3",
                  "name": "_etag",
                  "type": "string"
                },
                {
                  "key": "4",
                  "name": "_id",
                  "type": "StructType(StructField(objectId,StringType,true))"
                },
                {
                  "key": "5",
                  "name": "pk",
                  "type": "StructType(StructField(string,StringType,true))"
                },
                {
                  "key": "6",
                  "name": "sale_id",
                  "type": "StructType(StructField(int32,IntegerType,true))"
                },
                {
                  "key": "7",
                  "name": "doctype",
                  "type": "StructType(StructField(string,StringType,true))"
                },
                {
                  "key": "8",
                  "name": "date",
                  "type": "StructType(StructField(string,StringType,true))"
                },
                {
                  "key": "9",
                  "name": "line_num",
                  "type": "StructType(StructField(int32,IntegerType,true))"
                },
                {
                  "key": "10",
                  "name": "customer_id",
                  "type": "StructType(StructField(int32,IntegerType,true))"
                },
                {
                  "key": "11",
                  "name": "store_id",
                  "type": "StructType(StructField(int32,IntegerType,true))"
                },
                {
                  "key": "12",
                  "name": "upc",
                  "type": "StructType(StructField(string,StringType,true))"
                },
                {
                  "key": "13",
                  "name": "price",
                  "type": "StructType(StructField(float64,DoubleType,true))"
                },
                {
                  "key": "14",
                  "name": "qty",
                  "type": "StructType(StructField(int32,IntegerType,true))"
                },
                {
                  "key": "15",
                  "name": "cost",
                  "type": "StructType(StructField(float64,DoubleType,true))"
                },
                {
                  "key": "16",
                  "name": "epoch",
                  "type": "StructType(StructField(float64,DoubleType,true))"
                },
                {
                  "key": "17",
                  "name": "_partitionKey",
                  "type": "StructType(StructField(string,StringType,true))"
                },
                {
                  "key": "18",
                  "name": "dow",
                  "type": "StructType(StructField(string,StringType,true))"
                },
                {
                  "key": "19",
                  "name": "item_count",
                  "type": "StructType(StructField(int32,IntegerType,true))"
                },
                {
                  "key": "20",
                  "name": "total_cost",
                  "type": "StructType(StructField(float64,DoubleType,true))"
                }
              ],
              "truncated": false
            },
            "isSummary": false,
            "language": "scala"
          },
          "persist_state": {
            "view": {
              "type": "details",
              "tableOptions": {},
              "chartOptions": {
                "chartType": "bar",
                "aggregationType": "sum",
                "categoryFieldKeys": [
                  "0"
                ],
                "seriesFieldKeys": [
                  "1"
                ],
                "isStacked": false
              }
            }
          }
        },
        "487d2a25-2be0-4a47-bd35-223ad0a7ca9b": {
          "type": "Synapse.DataFrame",
          "sync_state": {
            "table": {
              "rows": [
                {
                  "0": "1",
                  "1": "6168",
                  "2": "sale",
                  "3": "2",
                  "4": "1943.65"
                },
                {
                  "0": "2",
                  "1": "3990",
                  "2": "sale",
                  "3": "3",
                  "4": "3462.42"
                },
                {
                  "0": "3",
                  "1": "6681",
                  "2": "sale",
                  "3": "2",
                  "4": "4021.74"
                },
                {
                  "0": "4",
                  "1": "6460",
                  "2": "sale",
                  "3": "2",
                  "4": "3640.88"
                },
                {
                  "0": "5",
                  "1": "4224",
                  "2": "sale",
                  "3": "3",
                  "4": "7582.68"
                },
                {
                  "0": "6",
                  "1": "760",
                  "2": "sale",
                  "3": "3",
                  "4": "5760.16"
                },
                {
                  "0": "7",
                  "1": "7145",
                  "2": "sale",
                  "3": "3",
                  "4": "2910.32"
                },
                {
                  "0": "8",
                  "1": "1816",
                  "2": "sale",
                  "3": "3",
                  "4": "3892.43"
                },
                {
                  "0": "9",
                  "1": "9824",
                  "2": "sale",
                  "3": "3",
                  "4": "5017.09"
                },
                {
                  "0": "10",
                  "1": "6096",
                  "2": "sale",
                  "3": "3",
                  "4": "4587.83"
                }
              ],
              "schema": [
                {
                  "key": "0",
                  "name": "sale_id",
                  "type": "int"
                },
                {
                  "key": "1",
                  "name": "customer_id",
                  "type": "int"
                },
                {
                  "key": "2",
                  "name": "doctype",
                  "type": "string"
                },
                {
                  "key": "3",
                  "name": "item_count",
                  "type": "int"
                },
                {
                  "key": "4",
                  "name": "total_cost",
                  "type": "double"
                }
              ],
              "truncated": false
            },
            "isSummary": false,
            "language": "scala"
          },
          "persist_state": {
            "view": {
              "type": "details",
              "tableOptions": {},
              "chartOptions": {
                "chartType": "bar",
                "aggregationType": "sum",
                "categoryFieldKeys": [
                  "1"
                ],
                "seriesFieldKeys": [
                  "0"
                ],
                "isStacked": false
              }
            }
          }
        },
        "e76ae269-5fff-44c6-b6ae-93a2cf8ada13": {
          "type": "Synapse.DataFrame",
          "sync_state": {
            "table": {
              "rows": [
                {
                  "0": "1",
                  "1": "1",
                  "2": "1",
                  "3": "1",
                  "4": "5984.71",
                  "5": "3"
                },
                {
                  "0": "2",
                  "1": "2",
                  "2": "2",
                  "3": "4",
                  "4": "22182.65",
                  "5": "11"
                },
                {
                  "0": "3",
                  "1": "3",
                  "2": "3",
                  "3": "3",
                  "4": "8428.880000000001",
                  "5": "8"
                },
                {
                  "0": "4",
                  "1": "4",
                  "2": "4",
                  "3": "4",
                  "4": "14669.989999999998",
                  "5": "11"
                },
                {
                  "0": "5",
                  "1": "5",
                  "2": "5",
                  "3": "4",
                  "4": "10641.69",
                  "5": "9"
                },
                {
                  "0": "6",
                  "1": "6",
                  "2": "6",
                  "3": "2",
                  "4": "4027.3",
                  "5": "5"
                },
                {
                  "0": "7",
                  "1": "7",
                  "2": "7",
                  "3": "2",
                  "4": "13669.2",
                  "5": "6"
                },
                {
                  "0": "8",
                  "1": "8",
                  "2": "8",
                  "3": "1",
                  "4": "4535.21",
                  "5": "3"
                },
                {
                  "0": "9",
                  "1": "9",
                  "2": "9",
                  "3": "4",
                  "4": "12844.55",
                  "5": "10"
                },
                {
                  "0": "10",
                  "1": "10",
                  "2": "10",
                  "3": "3",
                  "4": "15692.62",
                  "5": "8"
                }
              ],
              "schema": [
                {
                  "key": "0",
                  "name": "customer_id",
                  "type": "int"
                },
                {
                  "key": "1",
                  "name": "id",
                  "type": "int"
                },
                {
                  "key": "2",
                  "name": "pk",
                  "type": "int"
                },
                {
                  "key": "3",
                  "name": "order_count",
                  "type": "bigint"
                },
                {
                  "key": "4",
                  "name": "total_dollar_amount",
                  "type": "double"
                },
                {
                  "key": "5",
                  "name": "total_item_count",
                  "type": "bigint"
                }
              ],
              "truncated": false
            },
            "isSummary": false,
            "language": "scala"
          },
          "persist_state": {
            "view": {
              "type": "details",
              "tableOptions": {},
              "chartOptions": {
                "chartType": "bar",
                "aggregationType": "sum",
                "categoryFieldKeys": [
                  "1"
                ],
                "seriesFieldKeys": [
                  "0"
                ],
                "isStacked": false
              }
            }
          }
        },
        "dd2c6358-8212-4e6a-ac27-1ae0532bbf84": {
          "type": "Synapse.DataFrame",
          "sync_state": {
            "table": {
              "rows": [
                {
                  "0": "1",
                  "1": "1",
                  "2": "1",
                  "3": "5984.71",
                  "4": "3"
                },
                {
                  "0": "2",
                  "1": "2",
                  "2": "4",
                  "3": "22182.65",
                  "4": "11"
                },
                {
                  "0": "3",
                  "1": "3",
                  "2": "3",
                  "3": "8428.880000000001",
                  "4": "8"
                },
                {
                  "0": "4",
                  "1": "4",
                  "2": "4",
                  "3": "14669.989999999998",
                  "4": "11"
                },
                {
                  "0": "5",
                  "1": "5",
                  "2": "4",
                  "3": "10641.69",
                  "4": "9"
                },
                {
                  "0": "6",
                  "1": "6",
                  "2": "2",
                  "3": "4027.3",
                  "4": "5"
                },
                {
                  "0": "7",
                  "1": "7",
                  "2": "2",
                  "3": "13669.2",
                  "4": "6"
                },
                {
                  "0": "8",
                  "1": "8",
                  "2": "1",
                  "3": "4535.21",
                  "4": "3"
                },
                {
                  "0": "9",
                  "1": "9",
                  "2": "4",
                  "3": "12844.55",
                  "4": "10"
                },
                {
                  "0": "10",
                  "1": "10",
                  "2": "3",
                  "3": "15692.62",
                  "4": "8"
                }
              ],
              "schema": [
                {
                  "key": "0",
                  "name": "id",
                  "type": "string"
                },
                {
                  "key": "1",
                  "name": "pk",
                  "type": "string"
                },
                {
                  "key": "2",
                  "name": "order_count",
                  "type": "bigint"
                },
                {
                  "key": "3",
                  "name": "total_dollar_amount",
                  "type": "double"
                },
                {
                  "key": "4",
                  "name": "total_item_count",
                  "type": "bigint"
                }
              ],
              "truncated": false
            },
            "isSummary": false,
            "language": "scala"
          },
          "persist_state": {
            "view": {
              "type": "details",
              "tableOptions": {},
              "chartOptions": {
                "chartType": "bar",
                "aggregationType": "sum",
                "categoryFieldKeys": [
                  "0"
                ],
                "seriesFieldKeys": [
                  "2"
                ],
                "isStacked": false
              }
            }
          }
        }
      }
    }
  },
  "nbformat": 4,
  "nbformat_minor": 2
}