{
  "cells": [
    {
      "cell_type": "markdown",
      "source": [
        "# Cosmos DB Synapse Sales Processing Spark Notebook\r\n",
        "\r\n",
        "## This Spark/PySpark Notebook demonstrates how to:\r\n",
        "\r\n",
        "- **Read the Synapse Link Analytic Datastore with Spark/PySpark in Azure Synapse**\r\n",
        "- **Source Cosmos DB is the Mongo API**\r\n",
        "- **Aggregating the sales data by customer_id**\r\n",
        "- Displaying the \"shape\" of the dataframes, and observed schema\r\n",
        "- Filter the sales data (by doctype, timestamp)\r\n",
        "- Writing the aggregated \"materialized view\" of sales-by-customer to the Cosmos DB views container\r\n"
      ],
      "metadata": {
        "nteract": {
          "transient": {
            "deleting": false
          }
        }
      }
    },
    {
      "cell_type": "code",
      "source": [
        "# Define common PySpark functions used in this Notebook\r\n",
        "\r\n",
        "def print_df_shape(df, msg):\r\n",
        "    print(\"shape of df {} - row count: {}, column count: {}\".format(\r\n",
        "        msg, str(df.count()), str(len(df.columns)) ))\r\n"
      ],
      "outputs": [
        {
          "output_type": "display_data",
          "data": {
            "application/vnd.livy.statement-meta+json": {
              "spark_pool": "sparkpool3m",
              "session_id": "9",
              "statement_id": 25,
              "state": "finished",
              "livy_statement_state": "available",
              "queued_time": "2023-04-24T12:37:32.6870046Z",
              "session_start_time": null,
              "execution_start_time": "2023-04-24T12:37:32.8373508Z",
              "execution_finish_time": "2023-04-24T12:37:33.0297612Z",
              "spark_jobs": null,
              "parent_msg_id": "888eecb2-6e79-4dc5-a95e-7e510d64fb17"
            },
            "text/plain": "StatementMeta(sparkpool3m, 9, 25, Finished, Available)"
          },
          "metadata": {}
        }
      ],
      "execution_count": 55,
      "metadata": {
        "jupyter": {
          "source_hidden": false,
          "outputs_hidden": false
        },
        "nteract": {
          "transient": {
            "deleting": false
          }
        }
      }
    },
    {
      "cell_type": "code",
      "source": [
        "# Read the Synapse Link Analytic Datastore into a Spark Dataframe\n",
        "\n",
        "from pyspark.sql.functions import col\n",
        "import pyspark.sql.functions as F \n",
        "\n",
        "# initialize variables; these can be computed values\n",
        "# such as for a daily or monthly report.\n",
        "min_doc_timestamp = 1640995200  # 2022-01-01T00:00:00.000Z\n",
        "max_doc_timestamp = 1999999999  # distant future\n",
        "\n",
        "# Note: \"cosmos.olap\" is Synapse Link, \"cosmos.oltp\" is Cosmos DB\n",
        "\n",
        "sales_df = spark.read\\\n",
        "    .format(\"cosmos.olap\")\\\n",
        "    .option(\"spark.synapse.linkedService\", \"gbbcjmongo_retail\")\\\n",
        "    .option(\"spark.cosmos.container\", \"sales\")\\\n",
        "    .load()\\\n",
        "    .filter(col(\"_ts\") >= min_doc_timestamp)\\\n",
        "    .filter(col(\"_ts\") <= max_doc_timestamp)\n",
        "\n",
        "display(sales_df.limit(10))\n"
      ],
      "outputs": [
        {
          "output_type": "display_data",
          "data": {
            "application/vnd.livy.statement-meta+json": {
              "spark_pool": "sparkpool3m",
              "session_id": "9",
              "statement_id": 26,
              "state": "finished",
              "livy_statement_state": "available",
              "queued_time": "2023-04-24T12:37:32.7499976Z",
              "session_start_time": null,
              "execution_start_time": "2023-04-24T12:37:33.1936869Z",
              "execution_finish_time": "2023-04-24T12:37:38.7364934Z",
              "spark_jobs": null,
              "parent_msg_id": "1265ab68-ab4a-4167-b5de-e2129e2a7821"
            },
            "text/plain": "StatementMeta(sparkpool3m, 9, 26, Finished, Available)"
          },
          "metadata": {}
        },
        {
          "output_type": "display_data",
          "data": {
            "application/vnd.synapse.widget-view+json": {
              "widget_id": "97a9c13f-85e3-42bd-ac47-fbaff82e26e5",
              "widget_type": "Synapse.DataFrame"
            },
            "text/plain": "SynapseWidget(Synapse.DataFrame, 97a9c13f-85e3-42bd-ac47-fbaff82e26e5)"
          },
          "metadata": {}
        }
      ],
      "execution_count": 56,
      "metadata": {
        "collapsed": false
      }
    },
    {
      "cell_type": "code",
      "source": [
        "# Display the shape and the schema of the input dataframe\r\n",
        "\r\n",
        "print_df_shape(sales_df, \"sales_df\")\r\n",
        "sales_df.printSchema()\r\n"
      ],
      "outputs": [
        {
          "output_type": "display_data",
          "data": {
            "application/vnd.livy.statement-meta+json": {
              "spark_pool": "sparkpool3m",
              "session_id": "9",
              "statement_id": 27,
              "state": "finished",
              "livy_statement_state": "available",
              "queued_time": "2023-04-24T12:37:32.8206211Z",
              "session_start_time": null,
              "execution_start_time": "2023-04-24T12:37:38.9143309Z",
              "execution_finish_time": "2023-04-24T12:37:39.4930164Z",
              "spark_jobs": null,
              "parent_msg_id": "277a3ad5-a191-498a-9879-d621adcf8b78"
            },
            "text/plain": "StatementMeta(sparkpool3m, 9, 27, Finished, Available)"
          },
          "metadata": {}
        },
        {
          "output_type": "stream",
          "name": "stdout",
          "text": [
            "shape of df sales_df - row count: 108062, column count: 21\nroot\n |-- _rid: string (nullable = true)\n |-- _ts: long (nullable = true)\n |-- id: string (nullable = true)\n |-- _etag: string (nullable = true)\n |-- _id: struct (nullable = true)\n |    |-- objectId: string (nullable = true)\n |-- pk: struct (nullable = true)\n |    |-- string: string (nullable = true)\n |-- sale_id: struct (nullable = true)\n |    |-- int32: integer (nullable = true)\n |-- doctype: struct (nullable = true)\n |    |-- string: string (nullable = true)\n |-- date: struct (nullable = true)\n |    |-- string: string (nullable = true)\n |-- line_num: struct (nullable = true)\n |    |-- int32: integer (nullable = true)\n |-- customer_id: struct (nullable = true)\n |    |-- int32: integer (nullable = true)\n |-- store_id: struct (nullable = true)\n |    |-- int32: integer (nullable = true)\n |-- upc: struct (nullable = true)\n |    |-- string: string (nullable = true)\n |-- price: struct (nullable = true)\n |    |-- float64: double (nullable = true)\n |-- qty: struct (nullable = true)\n |    |-- int32: integer (nullable = true)\n |-- cost: struct (nullable = true)\n |    |-- float64: double (nullable = true)\n |-- epoch: struct (nullable = true)\n |    |-- float64: double (nullable = true)\n |-- _partitionKey: struct (nullable = true)\n |    |-- string: string (nullable = true)\n |-- dow: struct (nullable = true)\n |    |-- string: string (nullable = true)\n |-- item_count: struct (nullable = true)\n |    |-- int32: integer (nullable = true)\n |-- total_cost: struct (nullable = true)\n |    |-- float64: double (nullable = true)\n\n"
          ]
        }
      ],
      "execution_count": 57,
      "metadata": {
        "jupyter": {
          "source_hidden": false,
          "outputs_hidden": false
        },
        "nteract": {
          "transient": {
            "deleting": false
          }
        }
      }
    },
    {
      "cell_type": "code",
      "source": [
        "from pyspark.sql.functions import col\r\n",
        "import pyspark.sql.functions as F \r\n",
        "\r\n",
        "# The input documents look like this; we'll select just a few\r\n",
        "# of these attributes for processing.\r\n",
        "\r\n",
        "# {\r\n",
        "# \t\"_id\" : ObjectId(\"64458d9959d30378b040b2a5\"),\r\n",
        "# \t\"pk\" : \"1\",\r\n",
        "# \t\"id\" : \"051424eb-9de0-4ff4-810a-522cdd9ece07\",\r\n",
        "# \t\"sale_id\" : 1,\r\n",
        "# \t\"doctype\" : \"line_item\",\r\n",
        "# \t\"date\" : \"2021-01-01\",\r\n",
        "# \t\"line_num\" : 1,\r\n",
        "# \t\"customer_id\" : 6168,\r\n",
        "# \t\"store_id\" : 60,\r\n",
        "# \t\"upc\" : \"0760981980837\",\r\n",
        "# \t\"price\" : 84.65,\r\n",
        "# \t\"qty\" : 1,\r\n",
        "# \t\"cost\" : 84.65,\r\n",
        "# \t\"epoch\" : 1682279833.3812423\r\n",
        "# }\r\n",
        "\r\n",
        "sales_df_unpacked = sales_df.select(\r\n",
        "    col('sale_id.*'),\r\n",
        "    col('customer_id.*'),\r\n",
        "    col('doctype.*'),\r\n",
        "    col('item_count.*'),\r\n",
        "    col('total_cost.*'))\r\n",
        "\r\n",
        "# Rename the columns of the unpacked DataFrame to friendly names\r\n",
        "new_column_names = ['sale_id', 'customer_id', 'doctype', 'item_count', 'total_cost']\r\n",
        "df_sales = sales_df_unpacked.toDF(*new_column_names).filter(col(\"doctype\") == \"sale\")\r\n",
        "\r\n",
        "print_df_shape(df_sales, \"df_sales\")\r\n",
        "display(df_sales.limit(10))\r\n",
        "df_sales.printSchema()\r\n"
      ],
      "outputs": [
        {
          "output_type": "display_data",
          "data": {
            "application/vnd.livy.statement-meta+json": {
              "spark_pool": "sparkpool3m",
              "session_id": "9",
              "statement_id": 28,
              "state": "finished",
              "livy_statement_state": "available",
              "queued_time": "2023-04-24T12:37:32.9667186Z",
              "session_start_time": null,
              "execution_start_time": "2023-04-24T12:37:39.6830314Z",
              "execution_finish_time": "2023-04-24T12:37:41.5972078Z",
              "spark_jobs": null,
              "parent_msg_id": "5c860a9d-023f-4fc1-a3fd-39d63bc9f798"
            },
            "text/plain": "StatementMeta(sparkpool3m, 9, 28, Finished, Available)"
          },
          "metadata": {}
        },
        {
          "output_type": "stream",
          "name": "stdout",
          "text": [
            "shape of df df_sales - row count: 30840, column count: 5\n"
          ]
        },
        {
          "output_type": "display_data",
          "data": {
            "application/vnd.synapse.widget-view+json": {
              "widget_id": "399f576c-46dc-4f78-999c-0c5f06952536",
              "widget_type": "Synapse.DataFrame"
            },
            "text/plain": "SynapseWidget(Synapse.DataFrame, 399f576c-46dc-4f78-999c-0c5f06952536)"
          },
          "metadata": {}
        },
        {
          "output_type": "stream",
          "name": "stdout",
          "text": [
            "root\n |-- sale_id: integer (nullable = true)\n |-- customer_id: integer (nullable = true)\n |-- doctype: string (nullable = true)\n |-- item_count: integer (nullable = true)\n |-- total_cost: double (nullable = true)\n\n"
          ]
        }
      ],
      "execution_count": 58,
      "metadata": {
        "jupyter": {
          "source_hidden": false,
          "outputs_hidden": false
        },
        "nteract": {
          "transient": {
            "deleting": false
          }
        },
        "collapsed": false
      }
    },
    {
      "cell_type": "code",
      "source": [
        "# Aggregate Sales by Customer \r\n",
        "\r\n",
        "# But first, consider an alternative implementation using JUST CosmosDB, and not Spark:\r\n",
        "# 1. Read customers container to get the unique set of customer ids (cross partition)\r\n",
        "# 2. Loop through the customer id list:\r\n",
        "#    - Read all of the sale documents for each customer in the timeframe (cross partition)\r\n",
        "#    - sum the sales item_count and item_count for each customer (memory intensive)\r\n",
        "\r\n",
        "import pyspark.sql.functions as F \r\n",
        "\r\n",
        "df_customer_aggregated = df_sales.groupBy(\"customer_id\") \\\r\n",
        "    .agg(\r\n",
        "        F.first('customer_id').alias('id'), \\\r\n",
        "        F.first('customer_id').alias('pk'), \\\r\n",
        "        F.count(\"customer_id\").alias('order_count'), \\\r\n",
        "        F.sum(\"total_cost\").alias(\"total_dollar_amount\"), \\\r\n",
        "        F.sum(\"item_count\").alias(\"total_item_count\")) \\\r\n",
        "        .sort(\"customer_id\", ascending=True)\r\n",
        "\r\n",
        "print_df_shape(df_customer_aggregated, \"df_customer_aggregated\")\r\n",
        "display(df_customer_aggregated.limit(10))\r\n",
        "df_customer_aggregated.printSchema()\r\n"
      ],
      "outputs": [
        {
          "output_type": "display_data",
          "data": {
            "application/vnd.livy.statement-meta+json": {
              "spark_pool": "sparkpool3m",
              "session_id": "9",
              "statement_id": 29,
              "state": "finished",
              "livy_statement_state": "available",
              "queued_time": "2023-04-24T12:37:33.0612379Z",
              "session_start_time": null,
              "execution_start_time": "2023-04-24T12:37:41.7509948Z",
              "execution_finish_time": "2023-04-24T12:37:43.7115221Z",
              "spark_jobs": null,
              "parent_msg_id": "daef03f9-4f1a-453d-aad5-cd1f3cd996b9"
            },
            "text/plain": "StatementMeta(sparkpool3m, 9, 29, Finished, Available)"
          },
          "metadata": {}
        },
        {
          "output_type": "stream",
          "name": "stdout",
          "text": [
            "shape of df df_customer_aggregated - row count: 9532, column count: 6\n"
          ]
        },
        {
          "output_type": "display_data",
          "data": {
            "application/vnd.synapse.widget-view+json": {
              "widget_id": "050f089a-0c94-444f-8812-5a699fce6ab3",
              "widget_type": "Synapse.DataFrame"
            },
            "text/plain": "SynapseWidget(Synapse.DataFrame, 050f089a-0c94-444f-8812-5a699fce6ab3)"
          },
          "metadata": {}
        },
        {
          "output_type": "stream",
          "name": "stdout",
          "text": [
            "root\n |-- customer_id: integer (nullable = true)\n |-- id: integer (nullable = true)\n |-- pk: integer (nullable = true)\n |-- order_count: long (nullable = false)\n |-- total_dollar_amount: double (nullable = true)\n |-- total_item_count: long (nullable = true)\n\n"
          ]
        }
      ],
      "execution_count": 59,
      "metadata": {
        "jupyter": {
          "source_hidden": false,
          "outputs_hidden": false
        },
        "nteract": {
          "transient": {
            "deleting": false
          }
        },
        "collapsed": false
      }
    },
    {
      "cell_type": "code",
      "source": [
        "# Display Installed Packages\r\n",
        "\r\n",
        "import pkg_resources\r\n",
        "pkg_list = list()\r\n",
        "\r\n",
        "for d in sorted(pkg_resources.working_set):\r\n",
        "    pkg_list.append(str(d))\r\n",
        "for p in sorted(pkg_list):\r\n",
        "    pass\r\n",
        "    #print(p)\r\n"
      ],
      "outputs": [
        {
          "output_type": "display_data",
          "data": {
            "application/vnd.livy.statement-meta+json": {
              "spark_pool": "sparkpool3m",
              "session_id": "9",
              "statement_id": 30,
              "state": "finished",
              "livy_statement_state": "available",
              "queued_time": "2023-04-24T12:37:33.1339881Z",
              "session_start_time": null,
              "execution_start_time": "2023-04-24T12:37:43.872455Z",
              "execution_finish_time": "2023-04-24T12:37:44.0748106Z",
              "spark_jobs": null,
              "parent_msg_id": "a3c30576-8b38-4212-84c4-8a61794e078d"
            },
            "text/plain": "StatementMeta(sparkpool3m, 9, 30, Finished, Available)"
          },
          "metadata": {}
        }
      ],
      "execution_count": 60,
      "metadata": {
        "jupyter": {
          "source_hidden": false,
          "outputs_hidden": false
        },
        "nteract": {
          "transient": {
            "deleting": false
          }
        }
      }
    },
    {
      "cell_type": "code",
      "source": [
        "df_customer_aggregated.createOrReplaceTempView('agg')\r\n",
        "print('df_customer_aggregated saved to tmp view: agg')\r\n"
      ],
      "outputs": [
        {
          "output_type": "display_data",
          "data": {
            "application/vnd.livy.statement-meta+json": {
              "spark_pool": "sparkpool3m",
              "session_id": "9",
              "statement_id": 31,
              "state": "finished",
              "livy_statement_state": "available",
              "queued_time": "2023-04-24T12:37:33.2389441Z",
              "session_start_time": null,
              "execution_start_time": "2023-04-24T12:37:44.2466537Z",
              "execution_finish_time": "2023-04-24T12:37:49.7512282Z",
              "spark_jobs": null,
              "parent_msg_id": "a6886c49-f9d3-43e7-b2a7-c096774c1476"
            },
            "text/plain": "StatementMeta(sparkpool3m, 9, 31, Finished, Available)"
          },
          "metadata": {}
        },
        {
          "output_type": "stream",
          "name": "stdout",
          "text": [
            "df_customer_aggregated saved to tmp view: agg\n"
          ]
        }
      ],
      "execution_count": 61,
      "metadata": {
        "jupyter": {
          "source_hidden": false,
          "outputs_hidden": false
        },
        "nteract": {
          "transient": {
            "deleting": false
          }
        }
      }
    },
    {
      "cell_type": "code",
      "source": [
        "%%sql\r\n",
        "\r\n",
        "select * from agg limit 3\r\n"
      ],
      "outputs": [
        {
          "output_type": "display_data",
          "data": {
            "application/vnd.livy.statement-meta+json": {
              "spark_pool": "sparkpool3m",
              "session_id": "9",
              "statement_id": 32,
              "state": "finished",
              "livy_statement_state": "available",
              "queued_time": "2023-04-24T12:37:33.3516181Z",
              "session_start_time": null,
              "execution_start_time": "2023-04-24T12:37:49.9083495Z",
              "execution_finish_time": "2023-04-24T12:37:51.7683657Z",
              "spark_jobs": null,
              "parent_msg_id": "37d79a4b-d2e6-49cd-994d-b7bb342c7858"
            },
            "text/plain": "StatementMeta(sparkpool3m, 9, 32, Finished, Available)"
          },
          "metadata": {}
        },
        {
          "output_type": "execute_result",
          "execution_count": 62,
          "data": {
            "application/vnd.synapse.sparksql-result+json": {
              "schema": {
                "type": "struct",
                "fields": [
                  {
                    "name": "customer_id",
                    "type": "integer",
                    "nullable": true,
                    "metadata": {}
                  },
                  {
                    "name": "id",
                    "type": "integer",
                    "nullable": true,
                    "metadata": {}
                  },
                  {
                    "name": "pk",
                    "type": "integer",
                    "nullable": true,
                    "metadata": {}
                  },
                  {
                    "name": "order_count",
                    "type": "long",
                    "nullable": false,
                    "metadata": {}
                  },
                  {
                    "name": "total_dollar_amount",
                    "type": "double",
                    "nullable": true,
                    "metadata": {}
                  },
                  {
                    "name": "total_item_count",
                    "type": "long",
                    "nullable": true,
                    "metadata": {}
                  }
                ]
              },
              "data": [
                [
                  1,
                  1,
                  1,
                  "1",
                  5984.71,
                  "3"
                ],
                [
                  2,
                  2,
                  2,
                  "4",
                  22182.65,
                  "11"
                ],
                [
                  3,
                  3,
                  3,
                  "3",
                  8428.880000000001,
                  "8"
                ]
              ]
            },
            "text/plain": "<Spark SQL result set with 3 rows and 6 fields>"
          },
          "metadata": {}
        }
      ],
      "execution_count": 62,
      "metadata": {
        "jupyter": {
          "source_hidden": false,
          "outputs_hidden": false
        },
        "nteract": {
          "transient": {
            "deleting": false
          }
        },
        "microsoft": {
          "language": "sparksql"
        },
        "collapsed": false
      }
    },
    {
      "cell_type": "code",
      "source": [
        "%%pyspark\r\n",
        "df_for_cosmos = spark.sql(\"SELECT String(id), String(pk), order_count, total_dollar_amount, total_item_count FROM agg\")\r\n",
        "\r\n",
        "print_df_shape(df_for_cosmos, \"df_for_cosmos\")\r\n",
        "display(df_for_cosmos.limit(10))\r\n",
        "df_for_cosmos.printSchema()\r\n",
        "\r\n"
      ],
      "outputs": [
        {
          "output_type": "display_data",
          "data": {
            "application/vnd.livy.statement-meta+json": {
              "spark_pool": "sparkpool3m",
              "session_id": "9",
              "statement_id": 33,
              "state": "finished",
              "livy_statement_state": "available",
              "queued_time": "2023-04-24T12:37:33.4272276Z",
              "session_start_time": null,
              "execution_start_time": "2023-04-24T12:37:51.9081864Z",
              "execution_finish_time": "2023-04-24T12:37:53.8637787Z",
              "spark_jobs": null,
              "parent_msg_id": "b873679d-70ea-42dd-b95c-e90698900453"
            },
            "text/plain": "StatementMeta(sparkpool3m, 9, 33, Finished, Available)"
          },
          "metadata": {}
        },
        {
          "output_type": "stream",
          "name": "stdout",
          "text": [
            "shape of df df_for_cosmos - row count: 9532, column count: 5\n"
          ]
        },
        {
          "output_type": "display_data",
          "data": {
            "application/vnd.synapse.widget-view+json": {
              "widget_id": "339ea633-a69b-43b3-ac62-91f30bbb139a",
              "widget_type": "Synapse.DataFrame"
            },
            "text/plain": "SynapseWidget(Synapse.DataFrame, 339ea633-a69b-43b3-ac62-91f30bbb139a)"
          },
          "metadata": {}
        },
        {
          "output_type": "stream",
          "name": "stdout",
          "text": [
            "root\n |-- id: string (nullable = true)\n |-- pk: string (nullable = true)\n |-- order_count: long (nullable = false)\n |-- total_dollar_amount: double (nullable = true)\n |-- total_item_count: long (nullable = true)\n\n"
          ]
        }
      ],
      "execution_count": 63,
      "metadata": {
        "jupyter": {
          "source_hidden": false,
          "outputs_hidden": false
        },
        "nteract": {
          "transient": {
            "deleting": false
          }
        },
        "microsoft": {
          "language": "python"
        },
        "collapsed": false
      }
    },
    {
      "cell_type": "code",
      "source": [
        "\r\n",
        "# See https://spark.apache.org/docs/3.2.4/api/python/reference/api/pyspark.sql.DataFrameWriter.mode.html\r\n",
        "\r\n",
        "df_for_cosmos.write.format(\"cosmos.oltp\")\\\r\n",
        "    .option(\"spark.synapse.linkedService\", \"gbbcjcdbnosql_retail_db\")\\\r\n",
        "    .option(\"spark.cosmos.container\", \"views\")\\\r\n",
        "    .mode('append')\\\r\n",
        "    .save()\r\n",
        "\r\n",
        "\r\n"
      ],
      "outputs": [
        {
          "output_type": "display_data",
          "data": {
            "application/vnd.livy.statement-meta+json": {
              "spark_pool": "sparkpool3m",
              "session_id": "9",
              "statement_id": 34,
              "state": "finished",
              "livy_statement_state": "available",
              "queued_time": "2023-04-24T12:37:33.4896095Z",
              "session_start_time": null,
              "execution_start_time": "2023-04-24T12:37:54.0185457Z",
              "execution_finish_time": "2023-04-24T12:38:17.1632786Z",
              "spark_jobs": null,
              "parent_msg_id": "7953fa4a-4459-4b66-a232-dd46a431454d"
            },
            "text/plain": "StatementMeta(sparkpool3m, 9, 34, Finished, Available)"
          },
          "metadata": {}
        }
      ],
      "execution_count": 64,
      "metadata": {
        "jupyter": {
          "source_hidden": false,
          "outputs_hidden": false
        },
        "nteract": {
          "transient": {
            "deleting": false
          }
        }
      }
    },
    {
      "cell_type": "code",
      "source": [
        "%%spark \r\n",
        "\r\n",
        "// Obtain configuration values from spark.conf\r\n",
        "// See https://learn.microsoft.com/en-us/azure/synapse-analytics/spark/apache-spark-azure-create-spark-configuration\r\n",
        "\r\n",
        "val connStr  = spark.conf.get(\"spark.azurepg.jdbc.connstring\")\r\n",
        "val driver   = spark.conf.get(\"spark.azurepg.jdbc.driver\")\r\n",
        "val server   = spark.conf.get(\"spark.azurepg.jdbc.server\")\r\n",
        "val table    = \"public.customer_sales\"\r\n",
        "val user     = spark.conf.get(\"spark.azurepg.jdbc.user\")\r\n",
        "val password = spark.conf.get(\"spark.azurepg.jdbc.pass\")\r\n",
        "\r\n",
        "//println(\"connStr:  \" + server)\r\n",
        "println(\"driver:   \" + driver)\r\n",
        "println(\"server:   \" + server)\r\n",
        "println(\"database: \" + database)\r\n",
        "println(\"table:    \" + table)\r\n",
        "println(\"user:     \" + user)\r\n",
        "println(\"password: \" + password)\r\n",
        "\r\n",
        "val df_customer_aggregated = spark.read.table(\"agg\")\r\n",
        "\r\n",
        "println(\"df_customer_aggregated row count: \" + df_customer_aggregated.count())\r\n",
        "\r\n",
        "// Using JDBC, write the Dataframe to Azure PostgreSQL\r\n",
        "df_customer_aggregated.write\r\n",
        "  .format(\"jdbc\")\r\n",
        "  .option(\"url\", connStr)\r\n",
        "  .option(\"driver\", driver)\r\n",
        "  .option(\"dbtable\", table)\r\n",
        "  .option(\"user\", \"chjoakim\")\r\n",
        "  .option(\"password\", password)\r\n",
        "  .mode(\"overwrite\")\r\n",
        "  .save()\r\n",
        "\r\n",
        "println(\"done\\n\\n\\n\\n\")\r\n"
      ],
      "outputs": [
        {
          "output_type": "display_data",
          "data": {
            "application/vnd.livy.statement-meta+json": {
              "spark_pool": "sparkpool3m",
              "session_id": "9",
              "statement_id": 35,
              "state": "finished",
              "livy_statement_state": "available",
              "queued_time": "2023-04-24T12:37:33.5711224Z",
              "session_start_time": null,
              "execution_start_time": "2023-04-24T12:38:17.3197511Z",
              "execution_finish_time": "2023-04-24T12:38:26.1379864Z",
              "spark_jobs": null,
              "parent_msg_id": "585ed51d-60e3-42f1-90a4-c9fe85903258"
            },
            "text/plain": "StatementMeta(sparkpool3m, 9, 35, Finished, Available)"
          },
          "metadata": {}
        },
        {
          "output_type": "stream",
          "name": "stdout",
          "text": [
            "driver:   org.postgresql.Driver\nserver:   gbbcjflexpg.postgres.database.azure.com\ndatabase: postgres\ntable:    public.customer_sales\nuser:     chjoakim@gbbcjflexpg.postgres.database.azure.com\npassword: PX58VSv9DWZc\ndf_customer_aggregated row count: 9532\ndone\n\n\n\n\nconnStr: String = jdbc:postgresql://gbbcjflexpg.postgres.database.azure.com:5432/postgres?user=chjoakim&password=PX58VSv9DWZc&sslmode=require\ndriver: String = org.postgresql.Driver\nserver: String = gbbcjflexpg.postgres.database.azure.com\ntable: String = public.customer_sales\nuser: String = chjoakim@gbbcjflexpg.postgres.database.azure.com\npassword: String = PX58VSv9DWZc\ndf_customer_aggregated: org.apache.spark.sql.DataFrame = [customer_id: int, id: int ... 4 more fields]\n"
          ]
        }
      ],
      "execution_count": 65,
      "metadata": {
        "jupyter": {
          "source_hidden": false,
          "outputs_hidden": false
        },
        "nteract": {
          "transient": {
            "deleting": false
          }
        },
        "microsoft": {
          "language": "scala"
        }
      }
    }
  ],
  "metadata": {
    "kernelspec": {
      "name": "synapse_pyspark",
      "language": "Python",
      "display_name": "Synapse PySpark"
    },
    "language_info": {
      "name": "python"
    },
    "kernel_info": {
      "name": "synapse_pyspark"
    },
    "description": null,
    "save_output": true,
    "synapse_widget": {
      "version": "0.1",
      "state": {
        "97a9c13f-85e3-42bd-ac47-fbaff82e26e5": {
          "type": "Synapse.DataFrame",
          "sync_state": {
            "table": {
              "rows": [
                {
                  "0": "1-gDAPesnvYBAAAAAAAAAA==",
                  "1": "1682279833",
                  "2": "NjQ0NThkOTk1OWQzMDM3OGIwNDBiMmE1",
                  "3": "\"01009de0-0000-0100-0000-64458d990000\"",
                  "4": {
                    "objectId": "dE��Y�\u0003x�@��"
                  },
                  "5": {
                    "string": "1"
                  },
                  "6": {
                    "int32": 1
                  },
                  "7": {
                    "string": "line_item"
                  },
                  "8": {
                    "string": "2021-01-01"
                  },
                  "9": {
                    "int32": 1
                  },
                  "10": {
                    "int32": 6168
                  },
                  "11": {
                    "int32": 60
                  },
                  "12": {
                    "string": "0760981980837"
                  },
                  "13": {
                    "float64": 84.65
                  },
                  "14": {
                    "int32": 1
                  },
                  "15": {
                    "float64": 84.65
                  },
                  "16": {
                    "float64": 1682279833.3812423
                  },
                  "17": {
                    "string": "1-gDAPesnvY="
                  }
                },
                {
                  "0": "1-gDAPesnvYCAAAAAAAAAA==",
                  "1": "1682279833",
                  "2": "NjQ0NThkOWE1OWQzMDM3OGIwNDBiMmE2",
                  "3": "\"01009ee0-0000-0100-0000-64458d990000\"",
                  "4": {
                    "objectId": "dE��Y�\u0003x�@��"
                  },
                  "5": {
                    "string": "1"
                  },
                  "6": {
                    "int32": 1
                  },
                  "7": {
                    "string": "line_item"
                  },
                  "8": {
                    "string": "2021-01-01"
                  },
                  "9": {
                    "int32": 2
                  },
                  "10": {
                    "int32": 6168
                  },
                  "11": {
                    "int32": 60
                  },
                  "12": {
                    "string": "0011504018811"
                  },
                  "13": {
                    "float64": 929.5
                  },
                  "14": {
                    "int32": 2
                  },
                  "15": {
                    "float64": 1859
                  },
                  "16": {
                    "float64": 1682279834.2524114
                  },
                  "17": {
                    "string": "1-gDAPesnvY="
                  }
                },
                {
                  "0": "1-gDAPesnvYDAAAAAAAAAA==",
                  "1": "1682279833",
                  "2": "NjQ0NThkOWE1OWQzMDM3OGIwNDBiMmE3",
                  "3": "\"01009fe0-0000-0100-0000-64458d990000\"",
                  "4": {
                    "objectId": "dE��Y�\u0003x�@��"
                  },
                  "5": {
                    "string": "1"
                  },
                  "6": {
                    "int32": 1
                  },
                  "7": {
                    "string": "sale"
                  },
                  "8": {
                    "string": "2021-01-01"
                  },
                  "10": {
                    "int32": 6168
                  },
                  "11": {
                    "int32": 60
                  },
                  "16": {
                    "float64": 1682279834.2830074
                  },
                  "17": {
                    "string": "1-gDAPesnvY="
                  },
                  "18": {
                    "string": "fri"
                  },
                  "19": {
                    "int32": 2
                  },
                  "20": {
                    "float64": 1943.65
                  }
                },
                {
                  "0": "1-gDAPesnvYEAAAAAAAAAA==",
                  "1": "1682279834",
                  "2": "NjQ0NThkOWE1OWQzMDM3OGIwNDBiMmE4",
                  "3": "\"0100a0e0-0000-0100-0000-64458d9a0000\"",
                  "4": {
                    "objectId": "dE��Y�\u0003x�@��"
                  },
                  "5": {
                    "string": "2"
                  },
                  "6": {
                    "int32": 2
                  },
                  "7": {
                    "string": "line_item"
                  },
                  "8": {
                    "string": "2021-01-01"
                  },
                  "9": {
                    "int32": 1
                  },
                  "10": {
                    "int32": 3990
                  },
                  "11": {
                    "int32": 89
                  },
                  "12": {
                    "string": "1151696205039"
                  },
                  "13": {
                    "float64": 843.17
                  },
                  "14": {
                    "int32": 2
                  },
                  "15": {
                    "float64": 1686.34
                  },
                  "16": {
                    "float64": 1682279834.3206325
                  },
                  "17": {
                    "string": "1-gDAPesnvY="
                  }
                },
                {
                  "0": "1-gDAPesnvYFAAAAAAAAAA==",
                  "1": "1682279834",
                  "2": "NjQ0NThkOWE1OWQzMDM3OGIwNDBiMmE5",
                  "3": "\"0100a1e0-0000-0100-0000-64458d9a0000\"",
                  "4": {
                    "objectId": "dE��Y�\u0003x�@��"
                  },
                  "5": {
                    "string": "2"
                  },
                  "6": {
                    "int32": 2
                  },
                  "7": {
                    "string": "line_item"
                  },
                  "8": {
                    "string": "2021-01-01"
                  },
                  "9": {
                    "int32": 2
                  },
                  "10": {
                    "int32": 3990
                  },
                  "11": {
                    "int32": 89
                  },
                  "12": {
                    "string": "0202816778597"
                  },
                  "13": {
                    "float64": 9.43
                  },
                  "14": {
                    "int32": 2
                  },
                  "15": {
                    "float64": 18.86
                  },
                  "16": {
                    "float64": 1682279834.353
                  },
                  "17": {
                    "string": "1-gDAPesnvY="
                  }
                },
                {
                  "0": "1-gDAPesnvYGAAAAAAAAAA==",
                  "1": "1682279834",
                  "2": "NjQ0NThkOWE1OWQzMDM3OGIwNDBiMmFh",
                  "3": "\"0100a2e0-0000-0100-0000-64458d9a0000\"",
                  "4": {
                    "objectId": "dE��Y�\u0003x�@��"
                  },
                  "5": {
                    "string": "2"
                  },
                  "6": {
                    "int32": 2
                  },
                  "7": {
                    "string": "line_item"
                  },
                  "8": {
                    "string": "2021-01-01"
                  },
                  "9": {
                    "int32": 3
                  },
                  "10": {
                    "int32": 3990
                  },
                  "11": {
                    "int32": 89
                  },
                  "12": {
                    "string": "0427607827203"
                  },
                  "13": {
                    "float64": 878.61
                  },
                  "14": {
                    "int32": 2
                  },
                  "15": {
                    "float64": 1757.22
                  },
                  "16": {
                    "float64": 1682279834.384531
                  },
                  "17": {
                    "string": "1-gDAPesnvY="
                  }
                },
                {
                  "0": "1-gDAPesnvYHAAAAAAAAAA==",
                  "1": "1682279834",
                  "2": "NjQ0NThkOWE1OWQzMDM3OGIwNDBiMmFi",
                  "3": "\"0100a3e0-0000-0100-0000-64458d9a0000\"",
                  "4": {
                    "objectId": "dE��Y�\u0003x�@��"
                  },
                  "5": {
                    "string": "2"
                  },
                  "6": {
                    "int32": 2
                  },
                  "7": {
                    "string": "sale"
                  },
                  "8": {
                    "string": "2021-01-01"
                  },
                  "10": {
                    "int32": 3990
                  },
                  "11": {
                    "int32": 89
                  },
                  "16": {
                    "float64": 1682279834.4169538
                  },
                  "17": {
                    "string": "1-gDAPesnvY="
                  },
                  "18": {
                    "string": "fri"
                  },
                  "19": {
                    "int32": 3
                  },
                  "20": {
                    "float64": 3462.42
                  }
                },
                {
                  "0": "1-gDAPesnvYIAAAAAAAAAA==",
                  "1": "1682279834",
                  "2": "NjQ0NThkOWE1OWQzMDM3OGIwNDBiMmFj",
                  "3": "\"0100a4e0-0000-0100-0000-64458d9a0000\"",
                  "4": {
                    "objectId": "dE��Y�\u0003x�@��"
                  },
                  "5": {
                    "string": "3"
                  },
                  "6": {
                    "int32": 3
                  },
                  "7": {
                    "string": "line_item"
                  },
                  "8": {
                    "string": "2021-01-01"
                  },
                  "9": {
                    "int32": 1
                  },
                  "10": {
                    "int32": 6681
                  },
                  "11": {
                    "int32": 11
                  },
                  "12": {
                    "string": "0294976712788"
                  },
                  "13": {
                    "float64": 659.17
                  },
                  "14": {
                    "int32": 2
                  },
                  "15": {
                    "float64": 1318.34
                  },
                  "16": {
                    "float64": 1682279834.4475386
                  },
                  "17": {
                    "string": "1-gDAPesnvY="
                  }
                },
                {
                  "0": "1-gDAPesnvYJAAAAAAAAAA==",
                  "1": "1682279834",
                  "2": "NjQ0NThkOWE1OWQzMDM3OGIwNDBiMmFk",
                  "3": "\"0100a5e0-0000-0100-0000-64458d9a0000\"",
                  "4": {
                    "objectId": "dE��Y�\u0003x�@��"
                  },
                  "5": {
                    "string": "3"
                  },
                  "6": {
                    "int32": 3
                  },
                  "7": {
                    "string": "line_item"
                  },
                  "8": {
                    "string": "2021-01-01"
                  },
                  "9": {
                    "int32": 2
                  },
                  "10": {
                    "int32": 6681
                  },
                  "11": {
                    "int32": 11
                  },
                  "12": {
                    "string": "1237901164947"
                  },
                  "13": {
                    "float64": 1351.7
                  },
                  "14": {
                    "int32": 2
                  },
                  "15": {
                    "float64": 2703.4
                  },
                  "16": {
                    "float64": 1682279834.4790175
                  },
                  "17": {
                    "string": "1-gDAPesnvY="
                  }
                },
                {
                  "0": "1-gDAPesnvYKAAAAAAAAAA==",
                  "1": "1682279834",
                  "2": "NjQ0NThkOWE1OWQzMDM3OGIwNDBiMmFl",
                  "3": "\"0100a6e0-0000-0100-0000-64458d9a0000\"",
                  "4": {
                    "objectId": "dE��Y�\u0003x�@��"
                  },
                  "5": {
                    "string": "3"
                  },
                  "6": {
                    "int32": 3
                  },
                  "7": {
                    "string": "sale"
                  },
                  "8": {
                    "string": "2021-01-01"
                  },
                  "10": {
                    "int32": 6681
                  },
                  "11": {
                    "int32": 11
                  },
                  "16": {
                    "float64": 1682279834.5123522
                  },
                  "17": {
                    "string": "1-gDAPesnvY="
                  },
                  "18": {
                    "string": "fri"
                  },
                  "19": {
                    "int32": 2
                  },
                  "20": {
                    "float64": 4021.74
                  }
                }
              ],
              "schema": [
                {
                  "key": "0",
                  "name": "_rid",
                  "type": "string"
                },
                {
                  "key": "1",
                  "name": "_ts",
                  "type": "bigint"
                },
                {
                  "key": "2",
                  "name": "id",
                  "type": "string"
                },
                {
                  "key": "3",
                  "name": "_etag",
                  "type": "string"
                },
                {
                  "key": "4",
                  "name": "_id",
                  "type": "StructType(StructField(objectId,StringType,true))"
                },
                {
                  "key": "5",
                  "name": "pk",
                  "type": "StructType(StructField(string,StringType,true))"
                },
                {
                  "key": "6",
                  "name": "sale_id",
                  "type": "StructType(StructField(int32,IntegerType,true))"
                },
                {
                  "key": "7",
                  "name": "doctype",
                  "type": "StructType(StructField(string,StringType,true))"
                },
                {
                  "key": "8",
                  "name": "date",
                  "type": "StructType(StructField(string,StringType,true))"
                },
                {
                  "key": "9",
                  "name": "line_num",
                  "type": "StructType(StructField(int32,IntegerType,true))"
                },
                {
                  "key": "10",
                  "name": "customer_id",
                  "type": "StructType(StructField(int32,IntegerType,true))"
                },
                {
                  "key": "11",
                  "name": "store_id",
                  "type": "StructType(StructField(int32,IntegerType,true))"
                },
                {
                  "key": "12",
                  "name": "upc",
                  "type": "StructType(StructField(string,StringType,true))"
                },
                {
                  "key": "13",
                  "name": "price",
                  "type": "StructType(StructField(float64,DoubleType,true))"
                },
                {
                  "key": "14",
                  "name": "qty",
                  "type": "StructType(StructField(int32,IntegerType,true))"
                },
                {
                  "key": "15",
                  "name": "cost",
                  "type": "StructType(StructField(float64,DoubleType,true))"
                },
                {
                  "key": "16",
                  "name": "epoch",
                  "type": "StructType(StructField(float64,DoubleType,true))"
                },
                {
                  "key": "17",
                  "name": "_partitionKey",
                  "type": "StructType(StructField(string,StringType,true))"
                },
                {
                  "key": "18",
                  "name": "dow",
                  "type": "StructType(StructField(string,StringType,true))"
                },
                {
                  "key": "19",
                  "name": "item_count",
                  "type": "StructType(StructField(int32,IntegerType,true))"
                },
                {
                  "key": "20",
                  "name": "total_cost",
                  "type": "StructType(StructField(float64,DoubleType,true))"
                }
              ],
              "truncated": false
            },
            "isSummary": false,
            "language": "scala"
          },
          "persist_state": {
            "view": {
              "type": "details",
              "tableOptions": {},
              "chartOptions": {
                "chartType": "bar",
                "aggregationType": "sum",
                "categoryFieldKeys": [
                  "0"
                ],
                "seriesFieldKeys": [
                  "1"
                ],
                "isStacked": false
              }
            }
          }
        },
        "399f576c-46dc-4f78-999c-0c5f06952536": {
          "type": "Synapse.DataFrame",
          "sync_state": {
            "table": {
              "rows": [
                {
                  "0": "6707",
                  "1": "3853",
                  "2": "sale",
                  "3": "3",
                  "4": "5751.39"
                },
                {
                  "0": "6708",
                  "1": "1540",
                  "2": "sale",
                  "3": "3",
                  "4": "3042.58"
                },
                {
                  "0": "6709",
                  "1": "9183",
                  "2": "sale",
                  "3": "2",
                  "4": "3256.3"
                },
                {
                  "0": "6710",
                  "1": "1348",
                  "2": "sale",
                  "3": "2",
                  "4": "4447.47"
                },
                {
                  "0": "6711",
                  "1": "4589",
                  "2": "sale",
                  "3": "3",
                  "4": "5773.68"
                },
                {
                  "0": "6712",
                  "1": "2418",
                  "2": "sale",
                  "3": "3",
                  "4": "8653.58"
                },
                {
                  "0": "6713",
                  "1": "3517",
                  "2": "sale",
                  "3": "2",
                  "4": "2383.77"
                },
                {
                  "0": "6714",
                  "1": "7614",
                  "2": "sale",
                  "3": "3",
                  "4": "4234.46"
                },
                {
                  "0": "6715",
                  "1": "7730",
                  "2": "sale",
                  "3": "2",
                  "4": "3527.18"
                },
                {
                  "0": "6716",
                  "1": "163",
                  "2": "sale",
                  "3": "3",
                  "4": "4688.97"
                }
              ],
              "schema": [
                {
                  "key": "0",
                  "name": "sale_id",
                  "type": "int"
                },
                {
                  "key": "1",
                  "name": "customer_id",
                  "type": "int"
                },
                {
                  "key": "2",
                  "name": "doctype",
                  "type": "string"
                },
                {
                  "key": "3",
                  "name": "item_count",
                  "type": "int"
                },
                {
                  "key": "4",
                  "name": "total_cost",
                  "type": "double"
                }
              ],
              "truncated": false
            },
            "isSummary": false,
            "language": "scala"
          },
          "persist_state": {
            "view": {
              "type": "details",
              "tableOptions": {},
              "chartOptions": {
                "chartType": "bar",
                "aggregationType": "sum",
                "categoryFieldKeys": [
                  "1"
                ],
                "seriesFieldKeys": [
                  "0"
                ],
                "isStacked": false
              }
            }
          }
        },
        "050f089a-0c94-444f-8812-5a699fce6ab3": {
          "type": "Synapse.DataFrame",
          "sync_state": {
            "table": {
              "rows": [
                {
                  "0": "1",
                  "1": "1",
                  "2": "1",
                  "3": "1",
                  "4": "5984.71",
                  "5": "3"
                },
                {
                  "0": "2",
                  "1": "2",
                  "2": "2",
                  "3": "4",
                  "4": "22182.65",
                  "5": "11"
                },
                {
                  "0": "3",
                  "1": "3",
                  "2": "3",
                  "3": "3",
                  "4": "8428.880000000001",
                  "5": "8"
                },
                {
                  "0": "4",
                  "1": "4",
                  "2": "4",
                  "3": "4",
                  "4": "14669.989999999998",
                  "5": "11"
                },
                {
                  "0": "5",
                  "1": "5",
                  "2": "5",
                  "3": "4",
                  "4": "10641.69",
                  "5": "9"
                },
                {
                  "0": "6",
                  "1": "6",
                  "2": "6",
                  "3": "2",
                  "4": "4027.3",
                  "5": "5"
                },
                {
                  "0": "7",
                  "1": "7",
                  "2": "7",
                  "3": "2",
                  "4": "13669.2",
                  "5": "6"
                },
                {
                  "0": "8",
                  "1": "8",
                  "2": "8",
                  "3": "1",
                  "4": "4535.21",
                  "5": "3"
                },
                {
                  "0": "9",
                  "1": "9",
                  "2": "9",
                  "3": "4",
                  "4": "12844.55",
                  "5": "10"
                },
                {
                  "0": "10",
                  "1": "10",
                  "2": "10",
                  "3": "3",
                  "4": "15692.62",
                  "5": "8"
                }
              ],
              "schema": [
                {
                  "key": "0",
                  "name": "customer_id",
                  "type": "int"
                },
                {
                  "key": "1",
                  "name": "id",
                  "type": "int"
                },
                {
                  "key": "2",
                  "name": "pk",
                  "type": "int"
                },
                {
                  "key": "3",
                  "name": "order_count",
                  "type": "bigint"
                },
                {
                  "key": "4",
                  "name": "total_dollar_amount",
                  "type": "double"
                },
                {
                  "key": "5",
                  "name": "total_item_count",
                  "type": "bigint"
                }
              ],
              "truncated": false
            },
            "isSummary": false,
            "language": "scala"
          },
          "persist_state": {
            "view": {
              "type": "details",
              "tableOptions": {},
              "chartOptions": {
                "chartType": "bar",
                "aggregationType": "sum",
                "categoryFieldKeys": [
                  "1"
                ],
                "seriesFieldKeys": [
                  "0"
                ],
                "isStacked": false
              }
            }
          }
        },
        "339ea633-a69b-43b3-ac62-91f30bbb139a": {
          "type": "Synapse.DataFrame",
          "sync_state": {
            "table": {
              "rows": [
                {
                  "0": "1",
                  "1": "1",
                  "2": "1",
                  "3": "5984.71",
                  "4": "3"
                },
                {
                  "0": "2",
                  "1": "2",
                  "2": "4",
                  "3": "22182.65",
                  "4": "11"
                },
                {
                  "0": "3",
                  "1": "3",
                  "2": "3",
                  "3": "8428.880000000001",
                  "4": "8"
                },
                {
                  "0": "4",
                  "1": "4",
                  "2": "4",
                  "3": "14669.989999999998",
                  "4": "11"
                },
                {
                  "0": "5",
                  "1": "5",
                  "2": "4",
                  "3": "10641.69",
                  "4": "9"
                },
                {
                  "0": "6",
                  "1": "6",
                  "2": "2",
                  "3": "4027.3",
                  "4": "5"
                },
                {
                  "0": "7",
                  "1": "7",
                  "2": "2",
                  "3": "13669.2",
                  "4": "6"
                },
                {
                  "0": "8",
                  "1": "8",
                  "2": "1",
                  "3": "4535.21",
                  "4": "3"
                },
                {
                  "0": "9",
                  "1": "9",
                  "2": "4",
                  "3": "12844.55",
                  "4": "10"
                },
                {
                  "0": "10",
                  "1": "10",
                  "2": "3",
                  "3": "15692.62",
                  "4": "8"
                }
              ],
              "schema": [
                {
                  "key": "0",
                  "name": "id",
                  "type": "string"
                },
                {
                  "key": "1",
                  "name": "pk",
                  "type": "string"
                },
                {
                  "key": "2",
                  "name": "order_count",
                  "type": "bigint"
                },
                {
                  "key": "3",
                  "name": "total_dollar_amount",
                  "type": "double"
                },
                {
                  "key": "4",
                  "name": "total_item_count",
                  "type": "bigint"
                }
              ],
              "truncated": false
            },
            "isSummary": false,
            "language": "scala"
          },
          "persist_state": {
            "view": {
              "type": "details",
              "tableOptions": {},
              "chartOptions": {
                "chartType": "bar",
                "aggregationType": "sum",
                "categoryFieldKeys": [
                  "0"
                ],
                "seriesFieldKeys": [
                  "2"
                ],
                "isStacked": false
              }
            }
          }
        }
      }
    }
  },
  "nbformat": 4,
  "nbformat_minor": 2
}