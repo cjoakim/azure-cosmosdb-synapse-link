{
  "nbformat": 4,
  "nbformat_minor": 2,
  "cells": [
    {
      "cell_type": "code",
      "execution_count": 1,
      "outputs": [
        {
          "output_type": "display_data",
          "data": {
            "application/vnd.livy.statement-meta+json": {
              "spark_pool": "poolspark3s",
              "session_id": 5,
              "statement_id": 1,
              "state": "finished",
              "livy_statement_state": "available",
              "queued_time": "2022-01-23T19:35:21.1207338Z",
              "session_start_time": "2022-01-23T19:35:21.1571347Z",
              "execution_start_time": "2022-01-23T19:36:28.2765805Z",
              "execution_finish_time": "2022-01-23T19:36:59.4789342Z"
            },
            "text/plain": "StatementMeta(poolspark3s, 5, 1, Finished, Available)"
          },
          "metadata": {}
        },
        {
          "output_type": "display_data",
          "data": {
            "application/vnd.synapse.widget-view+json": {
              "widget_id": "356a8017-1efb-4a25-94fb-921e36972bdd",
              "widget_type": "Synapse.DataFrame"
            },
            "text/plain": "SynapseWidget(Synapse.DataFrame, 356a8017-1efb-4a25-94fb-921e36972bdd)"
          },
          "metadata": {}
        }
      ],
      "metadata": {
        "collapsed": false
      },
      "source": [
        "# Read from Cosmos DB analytical store into a Spark DataFrame and display 10 rows from the DataFrame\n",
        "# To select a preferred list of regions in a multi-region Cosmos DB account, add .option(\"spark.cosmos.preferredRegions\", \"<Region1>,<Region2>\")\n",
        "\n",
        "df = spark.read\\\n",
        "    .format(\"cosmos.olap\")\\\n",
        "    .option(\"spark.synapse.linkedService\", \"CosmosSqlDemoDB\")\\\n",
        "    .option(\"spark.cosmos.container\", \"stores\")\\\n",
        "    .load()\n",
        "\n",
        "display(df.limit(10))\n",
        ""
      ]
    }
  ],
  "metadata": {
    "description": null,
    "save_output": true,
    "kernelspec": {
      "name": "synapse_pyspark",
      "display_name": "Synapse PySpark"
    },
    "language_info": {
      "name": "python"
    },
    "synapse_widget": {
      "version": "0.1",
      "state": {
        "356a8017-1efb-4a25-94fb-921e36972bdd": {
          "type": "Synapse.DataFrame",
          "sync_state": {
            "table": {
              "rows": [
                {
                  "0": "IAlgAKt3yN0BAAAAAAAAAA==",
                  "1": "1642962926",
                  "2": "16",
                  "3": "Ericland",
                  "4": "824 Jones Mount Apt. 444",
                  "5": "SC",
                  "6": "1642962925327",
                  "7": "2022/01/23-18:35:25",
                  "8": "56e41c03-6120-4eaf-ba3f-5202eafbdfc0",
                  "9": "16",
                  "10": "\"3a003c2c-0000-0100-0000-61ed9fee0000\""
                },
                {
                  "0": "IAlgAKt3yN0CAAAAAAAAAA==",
                  "1": "1642962926",
                  "2": "5",
                  "3": "Marieport",
                  "4": "9250 Escobar Islands Suite 950",
                  "5": "MD",
                  "6": "1642962925327",
                  "7": "2022/01/23-18:35:25",
                  "8": "6ebfc009-b9e5-4760-b61c-1f9c7da6e29d",
                  "9": "5",
                  "10": "\"3a003d2c-0000-0100-0000-61ed9fee0000\""
                },
                {
                  "0": "IAlgAKt3yN0DAAAAAAAAAA==",
                  "1": "1642962926",
                  "2": "12",
                  "3": "Bautistaland",
                  "4": "00080 Seth Course",
                  "5": "DE",
                  "6": "1642962925327",
                  "7": "2022/01/23-18:35:25",
                  "8": "6b4e7186-adbb-4ff2-b82b-40cd22796735",
                  "9": "12",
                  "10": "\"3a003e2c-0000-0100-0000-61ed9fee0000\""
                },
                {
                  "0": "IAlgAKt3yN0EAAAAAAAAAA==",
                  "1": "1642962926",
                  "2": "7",
                  "3": "Port Gary",
                  "4": "824 Deanna Hollow Suite 062",
                  "5": "MI",
                  "6": "1642962925327",
                  "7": "2022/01/23-18:35:25",
                  "8": "66f53093-8ff0-4afa-8064-b3dd6c76341c",
                  "9": "7",
                  "10": "\"3a003f2c-0000-0100-0000-61ed9fee0000\""
                },
                {
                  "0": "IAlgAKt3yN0FAAAAAAAAAA==",
                  "1": "1642962926",
                  "2": "2",
                  "3": "East Kevin",
                  "4": "960 Morris Expressway",
                  "5": "WI",
                  "6": "1642962925327",
                  "7": "2022/01/23-18:35:25",
                  "8": "be2fe84e-652b-4b80-847d-2b2f5827c038",
                  "9": "2",
                  "10": "\"3a00402c-0000-0100-0000-61ed9fee0000\""
                },
                {
                  "0": "IAlgAKt3yN0GAAAAAAAAAA==",
                  "1": "1642962926",
                  "2": "1",
                  "3": "eCommerce",
                  "4": "2048 Peachtree St",
                  "5": "GA",
                  "6": "1642962925241",
                  "7": "2022/01/23-18:35:25",
                  "8": "3db5901d-34c2-4b88-9eaf-17386b45fa86",
                  "9": "1",
                  "10": "\"3a00412c-0000-0100-0000-61ed9fee0000\""
                },
                {
                  "0": "IAlgAKt3yN0HAAAAAAAAAA==",
                  "1": "1642962926",
                  "2": "13",
                  "3": "Lambport",
                  "4": "5821 Heather Pine",
                  "5": "IN",
                  "6": "1642962925327",
                  "7": "2022/01/23-18:35:25",
                  "8": "0e8032c6-2e81-4d0a-8121-6256c19cfab0",
                  "9": "13",
                  "10": "\"3a00422c-0000-0100-0000-61ed9fee0000\""
                },
                {
                  "0": "IAlgAKt3yN0IAAAAAAAAAA==",
                  "1": "1642962926",
                  "2": "22",
                  "3": "Matthewbury",
                  "4": "028 Goodwin Expressway",
                  "5": "OK",
                  "6": "1642962925327",
                  "7": "2022/01/23-18:35:25",
                  "8": "94710da3-1038-4a88-b6fa-a0400abe0efc",
                  "9": "22",
                  "10": "\"3a00432c-0000-0100-0000-61ed9fee0000\""
                },
                {
                  "0": "IAlgAKt3yN0JAAAAAAAAAA==",
                  "1": "1642962926",
                  "2": "15",
                  "3": "Robinside",
                  "4": "009 Kim Mountains Apt. 010",
                  "5": "NM",
                  "6": "1642962925327",
                  "7": "2022/01/23-18:35:25",
                  "8": "3df70c47-4ac6-46b5-b60a-624f4f0788f1",
                  "9": "15",
                  "10": "\"3a00442c-0000-0100-0000-61ed9fee0000\""
                },
                {
                  "0": "IAlgAKt3yN0KAAAAAAAAAA==",
                  "1": "1642962926",
                  "2": "10",
                  "3": "South Nicholas",
                  "4": "64962 Courtney Circles Apt. 858",
                  "5": "CT",
                  "6": "1642962925327",
                  "7": "2022/01/23-18:35:25",
                  "8": "91716a42-9c32-457c-a292-c740af45a93f",
                  "9": "10",
                  "10": "\"3a00452c-0000-0100-0000-61ed9fee0000\""
                }
              ],
              "schema": [
                {
                  "key": "0",
                  "name": "_rid",
                  "type": "string"
                },
                {
                  "key": "1",
                  "name": "_ts",
                  "type": "bigint"
                },
                {
                  "key": "2",
                  "name": "store_id",
                  "type": "bigint"
                },
                {
                  "key": "3",
                  "name": "name",
                  "type": "string"
                },
                {
                  "key": "4",
                  "name": "address",
                  "type": "string"
                },
                {
                  "key": "5",
                  "name": "state",
                  "type": "string"
                },
                {
                  "key": "6",
                  "name": "doc_epoch",
                  "type": "bigint"
                },
                {
                  "key": "7",
                  "name": "doc_time",
                  "type": "string"
                },
                {
                  "key": "8",
                  "name": "id",
                  "type": "string"
                },
                {
                  "key": "9",
                  "name": "pk",
                  "type": "bigint"
                },
                {
                  "key": "10",
                  "name": "_etag",
                  "type": "string"
                }
              ],
              "truncated": false
            },
            "isSummary": false,
            "language": "scala"
          },
          "persist_state": {
            "view": {
              "type": "details",
              "tableOptions": {},
              "chartOptions": {
                "chartType": "bar",
                "aggregationType": "sum",
                "categoryFieldKeys": [
                  "0"
                ],
                "seriesFieldKeys": [
                  "1"
                ],
                "isStacked": false
              }
            }
          }
        }
      }
    }
  }
}