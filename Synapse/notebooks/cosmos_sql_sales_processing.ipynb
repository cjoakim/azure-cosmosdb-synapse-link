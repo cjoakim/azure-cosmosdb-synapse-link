{
  "cells": [
    {
      "cell_type": "code",
      "execution_count": 12,
      "metadata": {
        "collapsed": false
      },
      "outputs": [
        {
          "data": {
            "application/vnd.livy.statement-meta+json": {
              "execution_finish_time": "2022-06-01T17:59:31.0965923Z",
              "execution_start_time": "2022-06-01T17:59:29.2099951Z",
              "livy_statement_state": "available",
              "queued_time": "2022-06-01T17:59:29.0473061Z",
              "session_id": 0,
              "session_start_time": null,
              "spark_pool": "pool3s",
              "state": "finished",
              "statement_id": 13
            },
            "text/plain": [
              "StatementMeta(pool3s, 0, 13, Finished, Available)"
            ]
          },
          "metadata": {},
          "output_type": "display_data"
        },
        {
          "data": {
            "application/vnd.synapse.widget-view+json": {
              "widget_id": "ea4dc6c3-e81f-475a-bd5b-be049fb33c53",
              "widget_type": "Synapse.DataFrame"
            },
            "text/plain": [
              "SynapseWidget(Synapse.DataFrame, ea4dc6c3-e81f-475a-bd5b-be049fb33c53)"
            ]
          },
          "metadata": {},
          "output_type": "display_data"
        }
      ],
      "source": [
        "# Load the SynapseLink Sales Data into a Dataframe.\n",
        "# Select just the \"sale\" document types from the sales container, \n",
        "# which have a minimum _ts (timestamp) value\n",
        "\n",
        "from pyspark.sql.functions import col\n",
        "\n",
        "# initialize variables\n",
        "begin_timestamp = 0 \n",
        "end_timestamp   = 1699999999\n",
        "\n",
        "# read just the doctype \"sales\", not \"line_item\"\n",
        "# \"cosmos.oltp\" = CosmosDB live database\n",
        "# \"cosmos.olap\" = Synapse Link Analytic Datastore\n",
        "\n",
        "df_sales = spark.read\\\n",
        "    .format(\"cosmos.olap\")\\\n",
        "    .option(\"spark.synapse.linkedService\", \"CosmosSqlDemoDB\")\\\n",
        "    .option(\"spark.cosmos.container\", \"sales\")\\\n",
        "    .load().filter(col(\"doctype\") == \"sale\")\\\n",
        "    .filter(col(\"_ts\") > begin_timestamp)\\\n",
        "    .filter(col(\"_ts\") < end_timestamp)\n",
        "\n",
        "display(df_sales.limit(3))"
      ]
    },
    {
      "cell_type": "code",
      "execution_count": 13,
      "metadata": {
        "jupyter": {
          "outputs_hidden": false,
          "source_hidden": false
        },
        "nteract": {
          "transient": {
            "deleting": false
          }
        }
      },
      "outputs": [
        {
          "data": {
            "application/vnd.livy.statement-meta+json": {
              "execution_finish_time": "2022-06-01T17:59:31.7327879Z",
              "execution_start_time": "2022-06-01T17:59:31.241623Z",
              "livy_statement_state": "available",
              "queued_time": "2022-06-01T17:59:29.1000481Z",
              "session_id": 0,
              "session_start_time": null,
              "spark_pool": "pool3s",
              "state": "finished",
              "statement_id": 14
            },
            "text/plain": [
              "StatementMeta(pool3s, 0, 14, Finished, Available)"
            ]
          },
          "metadata": {},
          "output_type": "display_data"
        },
        {
          "name": "stdout",
          "output_type": "stream",
          "text": [
            "df_sales, shape: 31397 x 20\n",
            "root\n",
            " |-- _rid: string (nullable = true)\n",
            " |-- _ts: long (nullable = true)\n",
            " |-- pk: long (nullable = true)\n",
            " |-- id: string (nullable = true)\n",
            " |-- sale_id: long (nullable = true)\n",
            " |-- doctype: string (nullable = true)\n",
            " |-- date: string (nullable = true)\n",
            " |-- line_num: long (nullable = true)\n",
            " |-- customer_id: long (nullable = true)\n",
            " |-- store_id: long (nullable = true)\n",
            " |-- upc: string (nullable = true)\n",
            " |-- price: double (nullable = true)\n",
            " |-- qty: long (nullable = true)\n",
            " |-- cost: double (nullable = true)\n",
            " |-- doc_epoch: long (nullable = true)\n",
            " |-- doc_time: string (nullable = true)\n",
            " |-- _etag: string (nullable = true)\n",
            " |-- dow: string (nullable = true)\n",
            " |-- item_count: long (nullable = true)\n",
            " |-- total_cost: double (nullable = true)"
          ]
        }
      ],
      "source": [
        "# Display the shape and observed schema of the DataFrame\n",
        "\n",
        "print('df_sales, shape: {} x {}'.format(\n",
        "        df_sales.count(), len(df_sales.columns)))\n",
        "        \n",
        "df_sales.printSchema()\n"
      ]
    },
    {
      "cell_type": "code",
      "execution_count": 14,
      "metadata": {
        "collapsed": false,
        "jupyter": {
          "outputs_hidden": false,
          "source_hidden": false
        },
        "nteract": {
          "transient": {
            "deleting": false
          }
        }
      },
      "outputs": [
        {
          "data": {
            "application/vnd.livy.statement-meta+json": {
              "execution_finish_time": "2022-06-01T17:59:33.8615302Z",
              "execution_start_time": "2022-06-01T17:59:31.8414006Z",
              "livy_statement_state": "available",
              "queued_time": "2022-06-01T17:59:29.1886893Z",
              "session_id": 0,
              "session_start_time": null,
              "spark_pool": "pool3s",
              "state": "finished",
              "statement_id": 15
            },
            "text/plain": [
              "StatementMeta(pool3s, 0, 15, Finished, Available)"
            ]
          },
          "metadata": {},
          "output_type": "display_data"
        },
        {
          "data": {
            "application/vnd.synapse.widget-view+json": {
              "widget_id": "3bfe6ef4-2b60-4af0-892b-7b01d1cee251",
              "widget_type": "Synapse.DataFrame"
            },
            "text/plain": [
              "SynapseWidget(Synapse.DataFrame, 3bfe6ef4-2b60-4af0-892b-7b01d1cee251)"
            ]
          },
          "metadata": {},
          "output_type": "display_data"
        }
      ],
      "source": [
        "# Aggregate Sales by Customer \n",
        "\n",
        "import pyspark.sql.functions as F \n",
        "\n",
        "df_customer_aggregated = df_sales.groupBy(\"customer_id\") \\\n",
        "    .agg(\n",
        "        F.first('id').alias('id'), \\\n",
        "        F.first('customer_id').alias('pk'), \\\n",
        "        F.count(\"customer_id\").alias('order_count'), \\\n",
        "        F.sum(\"total_cost\").alias(\"total_dollar_amount\"), \\\n",
        "        F.sum(\"item_count\").alias(\"total_item_count\")) \\\n",
        "        .sort(\"customer_id\", ascending=True)\n",
        "\n",
        "display(df_customer_aggregated.limit(10))\n"
      ]
    },
    {
      "cell_type": "code",
      "execution_count": 15,
      "metadata": {
        "jupyter": {
          "outputs_hidden": false,
          "source_hidden": false
        },
        "nteract": {
          "transient": {
            "deleting": false
          }
        }
      },
      "outputs": [
        {
          "data": {
            "application/vnd.livy.statement-meta+json": {
              "execution_finish_time": "2022-06-01T18:00:08.3182382Z",
              "execution_start_time": "2022-06-01T17:59:34.2574707Z",
              "livy_statement_state": "available",
              "queued_time": "2022-06-01T17:59:29.2878009Z",
              "session_id": 0,
              "session_start_time": null,
              "spark_pool": "pool3s",
              "state": "finished",
              "statement_id": 16
            },
            "text/plain": [
              "StatementMeta(pool3s, 0, 16, Finished, Available)"
            ]
          },
          "metadata": {},
          "output_type": "display_data"
        }
      ],
      "source": [
        "# Write the customer-aggregated DataFrame to the CosmosDB\n",
        "# sales_aggregates container.  The id and pk is the customer ID,\n",
        "# and upserts are enabled.\n",
        "\n",
        "df_customer_aggregated.write.format(\"cosmos.oltp\")\\\n",
        "    .option(\"spark.synapse.linkedService\", \"CosmosSqlDemoDB\")\\\n",
        "    .option(\"spark.cosmos.container\", \"sales_aggregates\")\\\n",
        "    .option(\"spark.cosmos.write.upsertenabled\", \"true\")\\\n",
        "    .mode('append')\\\n",
        "    .save()\n"
      ]
    }
  ],
  "metadata": {
    "description": null,
    "kernel_info": {
      "name": "synapse_pyspark"
    },
    "kernelspec": {
      "display_name": "Synapse PySpark",
      "language": "Python",
      "name": "synapse_pyspark"
    },
    "language_info": {
      "name": "python"
    },
    "save_output": false,
    "synapse_widget": {
      "state": {
        "3bfe6ef4-2b60-4af0-892b-7b01d1cee251": {
          "persist_state": {
            "view": {
              "chartOptions": {
                "aggregationType": "sum",
                "categoryFieldKeys": [
                  "1"
                ],
                "chartType": "bar",
                "isStacked": false,
                "seriesFieldKeys": [
                  "0"
                ]
              },
              "tableOptions": {},
              "type": "details"
            }
          },
          "sync_state": {
            "isSummary": false,
            "language": "scala",
            "table": {
              "rows": [
                {
                  "0": "1",
                  "1": "88ee7b7d-8322-427d-bde3-482dbd11fbf8",
                  "2": "1",
                  "3": "3",
                  "4": "12020.61",
                  "5": "7"
                },
                {
                  "0": "2",
                  "1": "fea406bf-7a9a-472e-8ba7-9775135d41b2",
                  "2": "2",
                  "3": "1",
                  "4": "3978.1",
                  "5": "3"
                },
                {
                  "0": "3",
                  "1": "a427c49a-59b4-427c-a7f5-320c2ea0dff8",
                  "2": "3",
                  "3": "5",
                  "4": "13322.51",
                  "5": "12"
                },
                {
                  "0": "4",
                  "1": "247a5b89-cb71-42f0-aa05-20d5e5ae1d1a",
                  "2": "4",
                  "3": "2",
                  "4": "8909.66",
                  "5": "5"
                },
                {
                  "0": "5",
                  "1": "f6d4bcfd-775b-4d8c-9800-5347a9fec239",
                  "2": "5",
                  "3": "2",
                  "4": "8477.15",
                  "5": "5"
                },
                {
                  "0": "6",
                  "1": "e85f30a2-0f95-4b2d-913a-e49c27c9c0d6",
                  "2": "6",
                  "3": "3",
                  "4": "7818.78",
                  "5": "8"
                },
                {
                  "0": "7",
                  "1": "9b2d2952-5da9-49dd-9910-4c3959a0a12b",
                  "2": "7",
                  "3": "2",
                  "4": "4680.32",
                  "5": "5"
                },
                {
                  "0": "8",
                  "1": "8f61aa6f-f73c-4397-a823-db13050593ee",
                  "2": "8",
                  "3": "4",
                  "4": "9896.73",
                  "5": "8"
                },
                {
                  "0": "9",
                  "1": "13d288d3-f416-461d-ac39-95b8a49c4d4e",
                  "2": "9",
                  "3": "4",
                  "4": "10545.76",
                  "5": "10"
                },
                {
                  "0": "10",
                  "1": "07e140fb-2038-4f1b-8256-5674925ea435",
                  "2": "10",
                  "3": "5",
                  "4": "19615.48",
                  "5": "12"
                }
              ],
              "schema": [
                {
                  "key": "0",
                  "name": "customer_id",
                  "type": "bigint"
                },
                {
                  "key": "1",
                  "name": "id",
                  "type": "string"
                },
                {
                  "key": "2",
                  "name": "pk",
                  "type": "bigint"
                },
                {
                  "key": "3",
                  "name": "order_count",
                  "type": "bigint"
                },
                {
                  "key": "4",
                  "name": "total_dollar_amount",
                  "type": "double"
                },
                {
                  "key": "5",
                  "name": "total_item_count",
                  "type": "bigint"
                }
              ],
              "truncated": false
            }
          },
          "type": "Synapse.DataFrame"
        },
        "ea4dc6c3-e81f-475a-bd5b-be049fb33c53": {
          "persist_state": {
            "view": {
              "chartOptions": {
                "aggregationType": "sum",
                "categoryFieldKeys": [
                  "0"
                ],
                "chartType": "bar",
                "isStacked": false,
                "seriesFieldKeys": [
                  "1"
                ]
              },
              "tableOptions": {},
              "type": "details"
            }
          },
          "sync_state": {
            "isSummary": false,
            "language": "scala",
            "table": {
              "rows": [
                {
                  "0": "OpdUANVwen0CwAAAAAAAAA==",
                  "1": "1644166431",
                  "2": "14072",
                  "3": "e7c4e88c-fd7b-457e-a301-92ffc6728000",
                  "4": "14072",
                  "5": "sale",
                  "6": "2021-07-03",
                  "8": "9084",
                  "9": "51",
                  "14": "1644166430646",
                  "15": "2022/02/06-16:53:50",
                  "16": "\"96055d01-0000-0100-0000-61fffd1f0000\"",
                  "17": "sat",
                  "18": "3",
                  "19": "2120.05"
                },
                {
                  "0": "OpdUANVwen0FwAAAAAAAAA==",
                  "1": "1644166431",
                  "2": "14073",
                  "3": "c27f99e0-c91b-4852-b4a7-7d8cc1e9fcc1",
                  "4": "14073",
                  "5": "sale",
                  "6": "2021-07-03",
                  "8": "8398",
                  "9": "17",
                  "14": "1644166430646",
                  "15": "2022/02/06-16:53:50",
                  "16": "\"96056001-0000-0100-0000-61fffd1f0000\"",
                  "17": "sat",
                  "18": "2",
                  "19": "3525.24"
                },
                {
                  "0": "OpdUANVwen0IwAAAAAAAAA==",
                  "1": "1644166431",
                  "2": "14074",
                  "3": "091f8d51-aa87-4c49-a786-e19b66255ac5",
                  "4": "14074",
                  "5": "sale",
                  "6": "2021-07-03",
                  "8": "636",
                  "9": "39",
                  "14": "1644166430647",
                  "15": "2022/02/06-16:53:50",
                  "16": "\"96056301-0000-0100-0000-61fffd1f0000\"",
                  "17": "sat",
                  "18": "2",
                  "19": "3150.81"
                }
              ],
              "schema": [
                {
                  "key": "0",
                  "name": "_rid",
                  "type": "string"
                },
                {
                  "key": "1",
                  "name": "_ts",
                  "type": "bigint"
                },
                {
                  "key": "2",
                  "name": "pk",
                  "type": "bigint"
                },
                {
                  "key": "3",
                  "name": "id",
                  "type": "string"
                },
                {
                  "key": "4",
                  "name": "sale_id",
                  "type": "bigint"
                },
                {
                  "key": "5",
                  "name": "doctype",
                  "type": "string"
                },
                {
                  "key": "6",
                  "name": "date",
                  "type": "string"
                },
                {
                  "key": "7",
                  "name": "line_num",
                  "type": "bigint"
                },
                {
                  "key": "8",
                  "name": "customer_id",
                  "type": "bigint"
                },
                {
                  "key": "9",
                  "name": "store_id",
                  "type": "bigint"
                },
                {
                  "key": "10",
                  "name": "upc",
                  "type": "string"
                },
                {
                  "key": "11",
                  "name": "price",
                  "type": "double"
                },
                {
                  "key": "12",
                  "name": "qty",
                  "type": "bigint"
                },
                {
                  "key": "13",
                  "name": "cost",
                  "type": "double"
                },
                {
                  "key": "14",
                  "name": "doc_epoch",
                  "type": "bigint"
                },
                {
                  "key": "15",
                  "name": "doc_time",
                  "type": "string"
                },
                {
                  "key": "16",
                  "name": "_etag",
                  "type": "string"
                },
                {
                  "key": "17",
                  "name": "dow",
                  "type": "string"
                },
                {
                  "key": "18",
                  "name": "item_count",
                  "type": "bigint"
                },
                {
                  "key": "19",
                  "name": "total_cost",
                  "type": "double"
                }
              ],
              "truncated": false
            }
          },
          "type": "Synapse.DataFrame"
        }
      },
      "version": "0.1"
    }
  },
  "nbformat": 4,
  "nbformat_minor": 2
}
