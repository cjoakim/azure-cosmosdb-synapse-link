{
  "cells": [
    {
      "cell_type": "code",
      "source": [
        "# Load the SynapseLink Sales Data into a Dataframe.\n",
        "# Select just the \"sale\" document types from the sales container, \n",
        "# which have a minimum _ts (timestamp) value\n",
        "\n",
        "from pyspark.sql.functions import col\n",
        "\n",
        "# initialize variables\n",
        "min_timestamp = 1635168000\n",
        "\n",
        "# read just the doctype \"sales\", not \"line_item\"\n",
        "# \"cosmos.oltp\" = CosmosDB live database\n",
        "# \"cosmos.olap\" = Synapse Link Analytic Datastore\n",
        "\n",
        "df_sales = spark.read\\\n",
        "    .format(\"cosmos.olap\")\\\n",
        "    .option(\"spark.synapse.linkedService\", \"CosmosSqlDemoDB\")\\\n",
        "    .option(\"spark.cosmos.container\", \"sales\")\\\n",
        "    .load().filter(col(\"doctype\") == \"sale\").filter(col(\"_ts\") > min_timestamp) \n",
        "\n",
        "display(df_sales.limit(3))"
      ],
      "outputs": [
        {
          "output_type": "display_data",
          "data": {
            "application/vnd.livy.statement-meta+json": {
              "spark_pool": "pool3s",
              "session_id": 35,
              "statement_id": 13,
              "state": "finished",
              "livy_statement_state": "available",
              "queued_time": "2022-04-05T17:50:49.5415611Z",
              "session_start_time": null,
              "execution_start_time": "2022-04-05T17:50:49.8031276Z",
              "execution_finish_time": "2022-04-05T17:50:52.0206166Z"
            },
            "text/plain": "StatementMeta(pool3s, 35, 13, Finished, Available)"
          },
          "metadata": {}
        },
        {
          "output_type": "display_data",
          "data": {
            "application/vnd.synapse.widget-view+json": {
              "widget_id": "62eb8a51-c3e1-4872-b711-83feded0f2e8",
              "widget_type": "Synapse.DataFrame"
            },
            "text/plain": "SynapseWidget(Synapse.DataFrame, 62eb8a51-c3e1-4872-b711-83feded0f2e8)"
          },
          "metadata": {}
        }
      ],
      "execution_count": 13,
      "metadata": {
        "collapsed": false
      }
    },
    {
      "cell_type": "code",
      "source": [
        "# Display the shape and observed schema of the DataFrame\n",
        "\n",
        "print('df_sales, shape: {} x {}'.format(\n",
        "        df_sales.count(), len(df_sales.columns)))\n",
        "        \n",
        "df_sales.printSchema()\n"
      ],
      "outputs": [
        {
          "output_type": "display_data",
          "data": {
            "application/vnd.livy.statement-meta+json": {
              "spark_pool": "pool3s",
              "session_id": 35,
              "statement_id": 14,
              "state": "finished",
              "livy_statement_state": "available",
              "queued_time": "2022-04-05T17:50:49.575282Z",
              "session_start_time": null,
              "execution_start_time": "2022-04-05T17:50:52.3487329Z",
              "execution_finish_time": "2022-04-05T17:50:53.0179808Z"
            },
            "text/plain": "StatementMeta(pool3s, 35, 14, Finished, Available)"
          },
          "metadata": {}
        },
        {
          "output_type": "stream",
          "name": "stdout",
          "text": [
            "df_sales, shape: 31397 x 20\nroot\n |-- _rid: string (nullable = true)\n |-- _ts: long (nullable = true)\n |-- pk: long (nullable = true)\n |-- id: string (nullable = true)\n |-- sale_id: long (nullable = true)\n |-- doctype: string (nullable = true)\n |-- date: string (nullable = true)\n |-- line_num: long (nullable = true)\n |-- customer_id: long (nullable = true)\n |-- store_id: long (nullable = true)\n |-- upc: string (nullable = true)\n |-- price: double (nullable = true)\n |-- qty: long (nullable = true)\n |-- cost: double (nullable = true)\n |-- doc_epoch: long (nullable = true)\n |-- doc_time: string (nullable = true)\n |-- _etag: string (nullable = true)\n |-- dow: string (nullable = true)\n |-- item_count: long (nullable = true)\n |-- total_cost: double (nullable = true)"
          ]
        }
      ],
      "execution_count": 14,
      "metadata": {
        "jupyter": {
          "source_hidden": false,
          "outputs_hidden": false
        },
        "nteract": {
          "transient": {
            "deleting": false
          }
        }
      }
    },
    {
      "cell_type": "code",
      "source": [
        "# Aggregate Sales by Customer \n",
        "\n",
        "import pyspark.sql.functions as F \n",
        "\n",
        "df_customer_aggregated = df_sales.groupBy(\"customer_id\") \\\n",
        "    .agg(\n",
        "        F.first('id').alias('id'), \\\n",
        "        F.first('customer_id').alias('pk'), \\\n",
        "        F.count(\"customer_id\").alias('order_count'), \\\n",
        "        F.sum(\"total_cost\").alias(\"total_dollar_amount\"), \\\n",
        "        F.sum(\"item_count\").alias(\"total_item_count\")) \\\n",
        "        .sort(\"customer_id\", ascending=True)\n",
        "\n",
        "display(df_customer_aggregated.limit(3))\n"
      ],
      "outputs": [
        {
          "output_type": "display_data",
          "data": {
            "application/vnd.livy.statement-meta+json": {
              "spark_pool": "pool3s",
              "session_id": 35,
              "statement_id": 15,
              "state": "finished",
              "livy_statement_state": "available",
              "queued_time": "2022-04-05T17:50:49.6471998Z",
              "session_start_time": null,
              "execution_start_time": "2022-04-05T17:50:53.1456221Z",
              "execution_finish_time": "2022-04-05T17:50:55.1653151Z"
            },
            "text/plain": "StatementMeta(pool3s, 35, 15, Finished, Available)"
          },
          "metadata": {}
        },
        {
          "output_type": "display_data",
          "data": {
            "application/vnd.synapse.widget-view+json": {
              "widget_id": "b0b138ea-dd5b-449f-be60-4a03a4a0e4dc",
              "widget_type": "Synapse.DataFrame"
            },
            "text/plain": "SynapseWidget(Synapse.DataFrame, b0b138ea-dd5b-449f-be60-4a03a4a0e4dc)"
          },
          "metadata": {}
        }
      ],
      "execution_count": 15,
      "metadata": {
        "jupyter": {
          "source_hidden": false,
          "outputs_hidden": false
        },
        "nteract": {
          "transient": {
            "deleting": false
          }
        },
        "collapsed": false
      }
    },
    {
      "cell_type": "code",
      "source": [
        "# Write the customer-aggregated DataFrame to the CosmosDB\n",
        "# sales_aggregates container.  The id and pk is the customer ID,\n",
        "# and upserts are enabled.\n",
        "\n",
        "df_customer_aggregated.write.format(\"cosmos.oltp\")\\\n",
        "    .option(\"spark.synapse.linkedService\", \"CosmosSqlDemoDB\")\\\n",
        "    .option(\"spark.cosmos.container\", \"sales_aggregates\")\\\n",
        "    .option(\"spak.cosmos.write.upsertenabled\", \"true\")\\\n",
        "    .mode('append')\\\n",
        "    .save()\n"
      ],
      "outputs": [
        {
          "output_type": "display_data",
          "data": {
            "application/vnd.livy.statement-meta+json": {
              "spark_pool": "pool3s",
              "session_id": 35,
              "statement_id": 16,
              "state": "finished",
              "livy_statement_state": "available",
              "queued_time": "2022-04-05T17:50:49.762658Z",
              "session_start_time": null,
              "execution_start_time": "2022-04-05T17:50:55.2993619Z",
              "execution_finish_time": "2022-04-05T17:51:29.8510914Z"
            },
            "text/plain": "StatementMeta(pool3s, 35, 16, Finished, Available)"
          },
          "metadata": {}
        }
      ],
      "execution_count": 16,
      "metadata": {
        "jupyter": {
          "source_hidden": false,
          "outputs_hidden": false
        },
        "nteract": {
          "transient": {
            "deleting": false
          }
        }
      }
    }
  ],
  "metadata": {
    "kernelspec": {
      "name": "synapse_pyspark",
      "language": "Python",
      "display_name": "Synapse PySpark"
    },
    "language_info": {
      "name": "python"
    },
    "kernel_info": {
      "name": "synapse_pyspark"
    },
    "description": null,
    "save_output": false,
    "synapse_widget": {
      "version": "0.1",
      "state": {
        "62eb8a51-c3e1-4872-b711-83feded0f2e8": {
          "type": "Synapse.DataFrame",
          "sync_state": {
            "table": {
              "rows": [
                {
                  "0": "OpdUANVwen0CwAAAAAAAAA==",
                  "1": "1644166431",
                  "2": "14072",
                  "3": "e7c4e88c-fd7b-457e-a301-92ffc6728000",
                  "4": "14072",
                  "5": "sale",
                  "6": "2021-07-03",
                  "8": "9084",
                  "9": "51",
                  "14": "1644166430646",
                  "15": "2022/02/06-16:53:50",
                  "16": "\"96055d01-0000-0100-0000-61fffd1f0000\"",
                  "17": "sat",
                  "18": "3",
                  "19": "2120.05"
                },
                {
                  "0": "OpdUANVwen0FwAAAAAAAAA==",
                  "1": "1644166431",
                  "2": "14073",
                  "3": "c27f99e0-c91b-4852-b4a7-7d8cc1e9fcc1",
                  "4": "14073",
                  "5": "sale",
                  "6": "2021-07-03",
                  "8": "8398",
                  "9": "17",
                  "14": "1644166430646",
                  "15": "2022/02/06-16:53:50",
                  "16": "\"96056001-0000-0100-0000-61fffd1f0000\"",
                  "17": "sat",
                  "18": "2",
                  "19": "3525.24"
                },
                {
                  "0": "OpdUANVwen0IwAAAAAAAAA==",
                  "1": "1644166431",
                  "2": "14074",
                  "3": "091f8d51-aa87-4c49-a786-e19b66255ac5",
                  "4": "14074",
                  "5": "sale",
                  "6": "2021-07-03",
                  "8": "636",
                  "9": "39",
                  "14": "1644166430647",
                  "15": "2022/02/06-16:53:50",
                  "16": "\"96056301-0000-0100-0000-61fffd1f0000\"",
                  "17": "sat",
                  "18": "2",
                  "19": "3150.81"
                }
              ],
              "schema": [
                {
                  "key": "0",
                  "name": "_rid",
                  "type": "string"
                },
                {
                  "key": "1",
                  "name": "_ts",
                  "type": "bigint"
                },
                {
                  "key": "2",
                  "name": "pk",
                  "type": "bigint"
                },
                {
                  "key": "3",
                  "name": "id",
                  "type": "string"
                },
                {
                  "key": "4",
                  "name": "sale_id",
                  "type": "bigint"
                },
                {
                  "key": "5",
                  "name": "doctype",
                  "type": "string"
                },
                {
                  "key": "6",
                  "name": "date",
                  "type": "string"
                },
                {
                  "key": "7",
                  "name": "line_num",
                  "type": "bigint"
                },
                {
                  "key": "8",
                  "name": "customer_id",
                  "type": "bigint"
                },
                {
                  "key": "9",
                  "name": "store_id",
                  "type": "bigint"
                },
                {
                  "key": "10",
                  "name": "upc",
                  "type": "string"
                },
                {
                  "key": "11",
                  "name": "price",
                  "type": "double"
                },
                {
                  "key": "12",
                  "name": "qty",
                  "type": "bigint"
                },
                {
                  "key": "13",
                  "name": "cost",
                  "type": "double"
                },
                {
                  "key": "14",
                  "name": "doc_epoch",
                  "type": "bigint"
                },
                {
                  "key": "15",
                  "name": "doc_time",
                  "type": "string"
                },
                {
                  "key": "16",
                  "name": "_etag",
                  "type": "string"
                },
                {
                  "key": "17",
                  "name": "dow",
                  "type": "string"
                },
                {
                  "key": "18",
                  "name": "item_count",
                  "type": "bigint"
                },
                {
                  "key": "19",
                  "name": "total_cost",
                  "type": "double"
                }
              ],
              "truncated": false
            },
            "isSummary": false,
            "language": "scala"
          },
          "persist_state": {
            "view": {
              "type": "details",
              "tableOptions": {},
              "chartOptions": {
                "chartType": "bar",
                "aggregationType": "sum",
                "categoryFieldKeys": [
                  "0"
                ],
                "seriesFieldKeys": [
                  "1"
                ],
                "isStacked": false
              }
            }
          }
        },
        "b0b138ea-dd5b-449f-be60-4a03a4a0e4dc": {
          "type": "Synapse.DataFrame",
          "sync_state": {
            "table": {
              "rows": [
                {
                  "0": "1",
                  "1": "df9fe496-eff1-4b06-b0c0-46000240eca0",
                  "2": "1",
                  "3": "3",
                  "4": "12020.61",
                  "5": "7"
                },
                {
                  "0": "2",
                  "1": "fea406bf-7a9a-472e-8ba7-9775135d41b2",
                  "2": "2",
                  "3": "1",
                  "4": "3978.1",
                  "5": "3"
                },
                {
                  "0": "3",
                  "1": "76fb6351-c43e-4db9-b7b1-1c0ba3966aa1",
                  "2": "3",
                  "3": "5",
                  "4": "13322.51",
                  "5": "12"
                }
              ],
              "schema": [
                {
                  "key": "0",
                  "name": "customer_id",
                  "type": "bigint"
                },
                {
                  "key": "1",
                  "name": "id",
                  "type": "string"
                },
                {
                  "key": "2",
                  "name": "pk",
                  "type": "bigint"
                },
                {
                  "key": "3",
                  "name": "order_count",
                  "type": "bigint"
                },
                {
                  "key": "4",
                  "name": "total_dollar_amount",
                  "type": "double"
                },
                {
                  "key": "5",
                  "name": "total_item_count",
                  "type": "bigint"
                }
              ],
              "truncated": false
            },
            "isSummary": false,
            "language": "scala"
          },
          "persist_state": {
            "view": {
              "type": "details",
              "tableOptions": {},
              "chartOptions": {
                "chartType": "bar",
                "aggregationType": "sum",
                "categoryFieldKeys": [
                  "1"
                ],
                "seriesFieldKeys": [
                  "0"
                ],
                "isStacked": false
              }
            }
          }
        }
      }
    }
  },
  "nbformat": 4,
  "nbformat_minor": 2
}