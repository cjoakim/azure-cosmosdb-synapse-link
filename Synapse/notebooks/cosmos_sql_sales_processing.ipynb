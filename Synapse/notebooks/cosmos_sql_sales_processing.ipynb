{
  "cells": [
    {
      "cell_type": "code",
      "source": [
        "# Load the SynapseLink Customers and Sales SynapseLink Data into a Dataframes.\n",
        "# Select just the \"sale\" document types from the sales container, which have a\n",
        "# minimum _ts (timestamp) value\n",
        "\n",
        "from pyspark.sql.functions import col\n",
        "\n",
        "# initialize variables\n",
        "min_timestamp = 1635168000\n",
        "\n",
        "# read just the doctype \"sales\", not \"line_item\"\n",
        "df_sales = spark.read\\\n",
        "    .format(\"cosmos.olap\")\\\n",
        "    .option(\"spark.synapse.linkedService\", \"CosmosSqlDemoDB\")\\\n",
        "    .option(\"spark.cosmos.container\", \"sales\")\\\n",
        "    .load().filter(col(\"doctype\") == \"sale\").filter(col(\"_ts\") > min_timestamp) \n",
        "\n",
        "display(df_sales.limit(10))"
      ],
      "outputs": [
        {
          "output_type": "display_data",
          "data": {
            "application/vnd.livy.statement-meta+json": {
              "spark_pool": "pool3s",
              "session_id": 1,
              "statement_id": 3,
              "state": "finished",
              "livy_statement_state": "available",
              "queued_time": "2022-02-06T19:41:36.3474402Z",
              "session_start_time": null,
              "execution_start_time": "2022-02-06T19:41:36.45727Z",
              "execution_finish_time": "2022-02-06T19:41:43.4772814Z"
            },
            "text/plain": "StatementMeta(pool3s, 1, 3, Finished, Available)"
          },
          "metadata": {}
        },
        {
          "output_type": "display_data",
          "data": {
            "application/vnd.synapse.widget-view+json": {
              "widget_id": "15e822bc-279b-498f-914c-38888f4f6024",
              "widget_type": "Synapse.DataFrame"
            },
            "text/plain": "SynapseWidget(Synapse.DataFrame, 15e822bc-279b-498f-914c-38888f4f6024)"
          },
          "metadata": {}
        }
      ],
      "execution_count": 3,
      "metadata": {
        "collapsed": false
      }
    },
    {
      "cell_type": "code",
      "source": [
        "# Display the shape and observed schema of the DataFrame\n",
        "\n",
        "print('df_sales, shape: {} x {}'.format(\n",
        "        df_sales.count(), len(df_sales.columns)))\n",
        "        \n",
        "df_sales.printSchema()\n"
      ],
      "outputs": [
        {
          "output_type": "display_data",
          "data": {
            "application/vnd.livy.statement-meta+json": {
              "spark_pool": "pool3s",
              "session_id": 1,
              "statement_id": 4,
              "state": "finished",
              "livy_statement_state": "available",
              "queued_time": "2022-02-06T19:41:36.4520317Z",
              "session_start_time": null,
              "execution_start_time": "2022-02-06T19:41:43.5895711Z",
              "execution_finish_time": "2022-02-06T19:41:47.1511767Z"
            },
            "text/plain": "StatementMeta(pool3s, 1, 4, Finished, Available)"
          },
          "metadata": {}
        },
        {
          "output_type": "stream",
          "name": "stdout",
          "text": [
            "df_sales, shape: 31397 x 20\nroot\n |-- _rid: string (nullable = true)\n |-- _ts: long (nullable = true)\n |-- pk: long (nullable = true)\n |-- id: string (nullable = true)\n |-- sale_id: long (nullable = true)\n |-- doctype: string (nullable = true)\n |-- date: string (nullable = true)\n |-- line_num: long (nullable = true)\n |-- customer_id: long (nullable = true)\n |-- store_id: long (nullable = true)\n |-- upc: string (nullable = true)\n |-- price: double (nullable = true)\n |-- qty: long (nullable = true)\n |-- cost: double (nullable = true)\n |-- doc_epoch: long (nullable = true)\n |-- doc_time: string (nullable = true)\n |-- _etag: string (nullable = true)\n |-- dow: string (nullable = true)\n |-- item_count: long (nullable = true)\n |-- total_cost: double (nullable = true)"
          ]
        }
      ],
      "execution_count": 4,
      "metadata": {
        "jupyter": {
          "source_hidden": false,
          "outputs_hidden": false
        },
        "nteract": {
          "transient": {
            "deleting": false
          }
        }
      }
    },
    {
      "cell_type": "code",
      "source": [
        "# Aggregate Sales by Customer \n",
        "\n",
        "import pyspark.sql.functions as F \n",
        "\n",
        "df_customer_aggregated = df_sales.groupBy(\"customer_id\") \\\n",
        "    .agg(\n",
        "        F.first('id').alias('id'), \\\n",
        "        F.first('customer_id').alias('pk'), \\\n",
        "        F.count(\"customer_id\").alias('order_count'), \\\n",
        "        F.sum(\"total_cost\").alias(\"total_dollar_amount\"), \\\n",
        "        F.sum(\"item_count\").alias(\"total_item_count\")) \\\n",
        "        .sort(\"customer_id\", ascending=True)\n",
        "\n",
        "display(df_customer_aggregated.limit(4))\n"
      ],
      "outputs": [
        {
          "output_type": "display_data",
          "data": {
            "application/vnd.livy.statement-meta+json": {
              "spark_pool": "pool3s",
              "session_id": 1,
              "statement_id": 5,
              "state": "finished",
              "livy_statement_state": "available",
              "queued_time": "2022-02-06T19:41:36.5475618Z",
              "session_start_time": null,
              "execution_start_time": "2022-02-06T19:41:47.2507323Z",
              "execution_finish_time": "2022-02-06T19:41:59.3711089Z"
            },
            "text/plain": "StatementMeta(pool3s, 1, 5, Finished, Available)"
          },
          "metadata": {}
        },
        {
          "output_type": "display_data",
          "data": {
            "application/vnd.synapse.widget-view+json": {
              "widget_id": "d48b75c3-eec4-4923-948c-f9428c8af6f4",
              "widget_type": "Synapse.DataFrame"
            },
            "text/plain": "SynapseWidget(Synapse.DataFrame, d48b75c3-eec4-4923-948c-f9428c8af6f4)"
          },
          "metadata": {}
        }
      ],
      "execution_count": 5,
      "metadata": {
        "jupyter": {
          "source_hidden": false,
          "outputs_hidden": false
        },
        "nteract": {
          "transient": {
            "deleting": false
          }
        },
        "collapsed": false
      }
    },
    {
      "cell_type": "code",
      "source": [
        "# Write the customer-aggregated DataFrame to the CosmosDB\n",
        "# sales_aggregates container.  The id and pk is the customer ID,\n",
        "# and upserts are enabled.\n",
        "\n",
        "df_customer_aggregated.write.format(\"cosmos.oltp\")\\\n",
        "    .option(\"spark.synapse.linkedService\", \"CosmosSqlDemoDB\")\\\n",
        "    .option(\"spark.cosmos.container\", \"sales_aggregates\")\\\n",
        "    .option(\"spak.cosmos.write.upsertenabled\", \"true\")\\\n",
        "    .mode('append')\\\n",
        "    .save()\n"
      ],
      "outputs": [
        {
          "output_type": "display_data",
          "data": {
            "application/vnd.livy.statement-meta+json": {
              "spark_pool": "pool3s",
              "session_id": 1,
              "statement_id": 6,
              "state": "finished",
              "livy_statement_state": "available",
              "queued_time": "2022-02-06T19:41:36.6059389Z",
              "session_start_time": null,
              "execution_start_time": "2022-02-06T19:41:59.4800462Z",
              "execution_finish_time": "2022-02-06T19:43:06.5979811Z"
            },
            "text/plain": "StatementMeta(pool3s, 1, 6, Finished, Available)"
          },
          "metadata": {}
        }
      ],
      "execution_count": 6,
      "metadata": {
        "jupyter": {
          "source_hidden": false,
          "outputs_hidden": false
        },
        "nteract": {
          "transient": {
            "deleting": false
          }
        }
      }
    }
  ],
  "metadata": {
    "kernelspec": {
      "name": "synapse_pyspark",
      "language": "Python",
      "display_name": "Synapse PySpark"
    },
    "language_info": {
      "name": "python"
    },
    "kernel_info": {
      "name": "synapse_pyspark"
    },
    "description": null,
    "save_output": false,
    "synapse_widget": {
      "version": "0.1",
      "state": {
        "15e822bc-279b-498f-914c-38888f4f6024": {
          "type": "Synapse.DataFrame",
          "sync_state": {
            "table": {
              "rows": [
                {
                  "0": "OpdUANVwen0CwAAAAAAAAA==",
                  "1": "1644166431",
                  "2": "14072",
                  "3": "e7c4e88c-fd7b-457e-a301-92ffc6728000",
                  "4": "14072",
                  "5": "sale",
                  "6": "2021-07-03",
                  "8": "9084",
                  "9": "51",
                  "14": "1644166430646",
                  "15": "2022/02/06-16:53:50",
                  "16": "\"96055d01-0000-0100-0000-61fffd1f0000\"",
                  "17": "sat",
                  "18": "3",
                  "19": "2120.05"
                },
                {
                  "0": "OpdUANVwen0FwAAAAAAAAA==",
                  "1": "1644166431",
                  "2": "14073",
                  "3": "c27f99e0-c91b-4852-b4a7-7d8cc1e9fcc1",
                  "4": "14073",
                  "5": "sale",
                  "6": "2021-07-03",
                  "8": "8398",
                  "9": "17",
                  "14": "1644166430646",
                  "15": "2022/02/06-16:53:50",
                  "16": "\"96056001-0000-0100-0000-61fffd1f0000\"",
                  "17": "sat",
                  "18": "2",
                  "19": "3525.24"
                },
                {
                  "0": "OpdUANVwen0IwAAAAAAAAA==",
                  "1": "1644166431",
                  "2": "14074",
                  "3": "091f8d51-aa87-4c49-a786-e19b66255ac5",
                  "4": "14074",
                  "5": "sale",
                  "6": "2021-07-03",
                  "8": "636",
                  "9": "39",
                  "14": "1644166430647",
                  "15": "2022/02/06-16:53:50",
                  "16": "\"96056301-0000-0100-0000-61fffd1f0000\"",
                  "17": "sat",
                  "18": "2",
                  "19": "3150.81"
                },
                {
                  "0": "OpdUANVwen0MwAAAAAAAAA==",
                  "1": "1644166431",
                  "2": "14075",
                  "3": "bce4046c-8b89-4c56-82c2-1f6bffbee2d7",
                  "4": "14075",
                  "5": "sale",
                  "6": "2021-07-03",
                  "8": "6493",
                  "9": "47",
                  "14": "1644166430647",
                  "15": "2022/02/06-16:53:50",
                  "16": "\"96056701-0000-0100-0000-61fffd1f0000\"",
                  "17": "sat",
                  "18": "3",
                  "19": "5901.9"
                },
                {
                  "0": "OpdUANVwen0PwAAAAAAAAA==",
                  "1": "1644166431",
                  "2": "14076",
                  "3": "f2448e87-456a-4bf0-a241-58a41933cc78",
                  "4": "14076",
                  "5": "sale",
                  "6": "2021-07-03",
                  "8": "3677",
                  "9": "82",
                  "14": "1644166430647",
                  "15": "2022/02/06-16:53:50",
                  "16": "\"96056a01-0000-0100-0000-61fffd1f0000\"",
                  "17": "sat",
                  "18": "2",
                  "19": "1869.98"
                },
                {
                  "0": "OpdUANVwen0SwAAAAAAAAA==",
                  "1": "1644166431",
                  "2": "14077",
                  "3": "fa35e016-b087-489f-9462-809ee873bef6",
                  "4": "14077",
                  "5": "sale",
                  "6": "2021-07-03",
                  "8": "1158",
                  "9": "91",
                  "14": "1644166430656",
                  "15": "2022/02/06-16:53:50",
                  "16": "\"96056d01-0000-0100-0000-61fffd1f0000\"",
                  "17": "sat",
                  "18": "2",
                  "19": "878.64"
                },
                {
                  "0": "OpdUANVwen0VwAAAAAAAAA==",
                  "1": "1644166431",
                  "2": "14078",
                  "3": "e97ceccd-c49b-476a-8d2e-ec5d41478ed3",
                  "4": "14078",
                  "5": "sale",
                  "6": "2021-07-03",
                  "8": "1674",
                  "9": "85",
                  "14": "1644166430663",
                  "15": "2022/02/06-16:53:50",
                  "16": "\"96057001-0000-0100-0000-61fffd1f0000\"",
                  "17": "sat",
                  "18": "2",
                  "19": "1370.09"
                },
                {
                  "0": "OpdUANVwen0YwAAAAAAAAA==",
                  "1": "1644166431",
                  "2": "14079",
                  "3": "0069d879-0d80-4afb-980f-20b96be0525f",
                  "4": "14079",
                  "5": "sale",
                  "6": "2021-07-03",
                  "8": "7576",
                  "9": "12",
                  "14": "1644166430663",
                  "15": "2022/02/06-16:53:50",
                  "16": "\"96057301-0000-0100-0000-61fffd1f0000\"",
                  "17": "sat",
                  "18": "2",
                  "19": "3990.15"
                },
                {
                  "0": "OpdUANVwen0cwAAAAAAAAA==",
                  "1": "1644166431",
                  "2": "14080",
                  "3": "00eea761-7c18-4a3c-bc40-d107a28ebc9e",
                  "4": "14080",
                  "5": "sale",
                  "6": "2021-07-04",
                  "8": "467",
                  "9": "91",
                  "14": "1644166430664",
                  "15": "2022/02/06-16:53:50",
                  "16": "\"96057701-0000-0100-0000-61fffd1f0000\"",
                  "17": "sun",
                  "18": "3",
                  "19": "6245.25"
                },
                {
                  "0": "OpdUANVwen0gwAAAAAAAAA==",
                  "1": "1644166431",
                  "2": "14081",
                  "3": "7f321792-1d98-4a59-8379-460beeb981f8",
                  "4": "14081",
                  "5": "sale",
                  "6": "2021-07-04",
                  "8": "7394",
                  "9": "12",
                  "14": "1644166430664",
                  "15": "2022/02/06-16:53:50",
                  "16": "\"96057b01-0000-0100-0000-61fffd1f0000\"",
                  "17": "sun",
                  "18": "3",
                  "19": "2719.4"
                }
              ],
              "schema": [
                {
                  "key": "0",
                  "name": "_rid",
                  "type": "string"
                },
                {
                  "key": "1",
                  "name": "_ts",
                  "type": "bigint"
                },
                {
                  "key": "2",
                  "name": "pk",
                  "type": "bigint"
                },
                {
                  "key": "3",
                  "name": "id",
                  "type": "string"
                },
                {
                  "key": "4",
                  "name": "sale_id",
                  "type": "bigint"
                },
                {
                  "key": "5",
                  "name": "doctype",
                  "type": "string"
                },
                {
                  "key": "6",
                  "name": "date",
                  "type": "string"
                },
                {
                  "key": "7",
                  "name": "line_num",
                  "type": "bigint"
                },
                {
                  "key": "8",
                  "name": "customer_id",
                  "type": "bigint"
                },
                {
                  "key": "9",
                  "name": "store_id",
                  "type": "bigint"
                },
                {
                  "key": "10",
                  "name": "upc",
                  "type": "string"
                },
                {
                  "key": "11",
                  "name": "price",
                  "type": "double"
                },
                {
                  "key": "12",
                  "name": "qty",
                  "type": "bigint"
                },
                {
                  "key": "13",
                  "name": "cost",
                  "type": "double"
                },
                {
                  "key": "14",
                  "name": "doc_epoch",
                  "type": "bigint"
                },
                {
                  "key": "15",
                  "name": "doc_time",
                  "type": "string"
                },
                {
                  "key": "16",
                  "name": "_etag",
                  "type": "string"
                },
                {
                  "key": "17",
                  "name": "dow",
                  "type": "string"
                },
                {
                  "key": "18",
                  "name": "item_count",
                  "type": "bigint"
                },
                {
                  "key": "19",
                  "name": "total_cost",
                  "type": "double"
                }
              ],
              "truncated": false
            },
            "isSummary": false,
            "language": "scala"
          },
          "persist_state": {
            "view": {
              "type": "details",
              "tableOptions": {},
              "chartOptions": {
                "chartType": "bar",
                "aggregationType": "sum",
                "categoryFieldKeys": [
                  "0"
                ],
                "seriesFieldKeys": [
                  "1"
                ],
                "isStacked": false
              }
            }
          }
        },
        "d48b75c3-eec4-4923-948c-f9428c8af6f4": {
          "type": "Synapse.DataFrame",
          "sync_state": {
            "table": {
              "rows": [
                {
                  "0": "1",
                  "1": "88ee7b7d-8322-427d-bde3-482dbd11fbf8",
                  "2": "1",
                  "3": "3",
                  "4": "12020.61",
                  "5": "7"
                },
                {
                  "0": "2",
                  "1": "fea406bf-7a9a-472e-8ba7-9775135d41b2",
                  "2": "2",
                  "3": "1",
                  "4": "3978.1",
                  "5": "3"
                },
                {
                  "0": "3",
                  "1": "76fb6351-c43e-4db9-b7b1-1c0ba3966aa1",
                  "2": "3",
                  "3": "5",
                  "4": "13322.51",
                  "5": "12"
                },
                {
                  "0": "4",
                  "1": "247a5b89-cb71-42f0-aa05-20d5e5ae1d1a",
                  "2": "4",
                  "3": "2",
                  "4": "8909.66",
                  "5": "5"
                }
              ],
              "schema": [
                {
                  "key": "0",
                  "name": "customer_id",
                  "type": "bigint"
                },
                {
                  "key": "1",
                  "name": "id",
                  "type": "string"
                },
                {
                  "key": "2",
                  "name": "pk",
                  "type": "bigint"
                },
                {
                  "key": "3",
                  "name": "order_count",
                  "type": "bigint"
                },
                {
                  "key": "4",
                  "name": "total_dollar_amount",
                  "type": "double"
                },
                {
                  "key": "5",
                  "name": "total_item_count",
                  "type": "bigint"
                }
              ],
              "truncated": false
            },
            "isSummary": false,
            "language": "scala"
          },
          "persist_state": {
            "view": {
              "type": "details",
              "tableOptions": {},
              "chartOptions": {
                "chartType": "bar",
                "aggregationType": "sum",
                "categoryFieldKeys": [
                  "1"
                ],
                "seriesFieldKeys": [
                  "0"
                ],
                "isStacked": false
              }
            }
          }
        }
      }
    }
  },
  "nbformat": 4,
  "nbformat_minor": 2
}