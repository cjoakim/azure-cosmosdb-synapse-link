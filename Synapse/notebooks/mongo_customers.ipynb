{
  "cells": [
    {
      "cell_type": "code",
      "source": [
        "# Define common PySpark functions used in this Notebook\r\n",
        "\r\n",
        "def print_df_shape(df, msg):\r\n",
        "    print(\"shape of df {} - row count: {}, column count: {}\".format(\r\n",
        "        msg, str(df.count()), str(len(df.columns)) ))\r\n",
        "\r\n",
        "\r\n"
      ],
      "outputs": [],
      "execution_count": null,
      "metadata": {
        "jupyter": {
          "source_hidden": false,
          "outputs_hidden": false
        },
        "nteract": {
          "transient": {
            "deleting": false
          }
        }
      }
    },
    {
      "cell_type": "code",
      "source": [
        "\n",
        "from pyspark.sql.functions import col\n",
        "import pyspark.sql.functions as F \n",
        "\n",
        "# initialize variables\n",
        "min_doc_timestamp = 1640995200  # 2022-01-01T00:00:00.000Z\n",
        "max_doc_timestamp = 1999999999  # distant future\n",
        "\n",
        "\n",
        "customers_df = spark.read\\\n",
        "    .format(\"cosmos.olap\")\\\n",
        "    .option(\"spark.synapse.linkedService\", \"gbbcjmongo_retail\")\\\n",
        "    .option(\"spark.cosmos.container\", \"customers\")\\\n",
        "    .load()\n",
        "\n",
        "display(customers_df.limit(10))\n"
      ],
      "outputs": [],
      "execution_count": null,
      "metadata": {
        "collapsed": false
      }
    },
    {
      "cell_type": "code",
      "source": [
        "# Display the shape and the schema of the input dataframe\r\n",
        "\r\n",
        "print_df_shape(customers_df, \"customers_df\")\r\n",
        "\r\n",
        "customers_df.printSchema()\r\n"
      ],
      "outputs": [],
      "execution_count": null,
      "metadata": {
        "jupyter": {
          "source_hidden": false,
          "outputs_hidden": false
        },
        "nteract": {
          "transient": {
            "deleting": false
          }
        }
      }
    },
    {
      "cell_type": "code",
      "source": [
        "from pyspark.sql.functions import col\r\n",
        "import pyspark.sql.functions as F \r\n",
        "\r\n",
        "customers_df_unpacked = customers_df.select(\r\n",
        "    col('customer_id.*'),\r\n",
        "    col('full_name.*'),\r\n",
        "    col('city.*'),\r\n",
        "    col('state.*'))\r\n",
        "\r\n",
        "print_df_shape(customers_df_unpacked, \"customers_df_unpacked\")\r\n",
        "display(customers_df_unpacked.limit(10))\r\n",
        "customers_df_unpacked.printSchema()"
      ],
      "outputs": [],
      "execution_count": null,
      "metadata": {
        "jupyter": {
          "source_hidden": false,
          "outputs_hidden": false
        },
        "nteract": {
          "transient": {
            "deleting": false
          }
        },
        "collapsed": false
      }
    }
  ],
  "metadata": {
    "language_info": {
      "name": "python"
    },
    "kernelspec": {
      "name": "synapse_pyspark",
      "language": "Python",
      "display_name": "Synapse PySpark"
    },
    "kernel_info": {
      "name": "synapse_pyspark"
    },
    "save_output": true,
    "synapse_widget": {
      "version": "0.1",
      "state": {}
    }
  },
  "nbformat": 4,
  "nbformat_minor": 2
}